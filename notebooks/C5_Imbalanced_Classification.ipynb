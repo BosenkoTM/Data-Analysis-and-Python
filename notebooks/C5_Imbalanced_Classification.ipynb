{
 "cells": [
  {
   "cell_type": "markdown",
   "metadata": {},
   "source": [
    "<div style=\"font-size:18pt; padding-top:20px; text-align:center\">СЕМИНАР. <b>Классификация с несбалансированной выборкой</b></div><hr>\n",
    "<div style=\"text-align:right;\">Папулин С.Ю. <span style=\"font-style: italic;font-weight: bold;\">(papulin.study@yandex.ru)</span></div>"
   ]
  },
  {
   "cell_type": "markdown",
   "metadata": {},
   "source": [
    "<a name=\"0\"></a>\n",
    "<div><span style=\"font-size:14pt; font-weight:bold\">Содержание</span>\n",
    "    <ol>\n",
    "        <li><a href=\"#1\">Загрузка исходных данных</a></li>\n",
    "        <li><a href=\"#2\">Обучение модели и оценка качества</a>\n",
    "            <ol style = \"list-style-type:lower-alpha\">\n",
    "                <li><a href=\"#2a\">Расчет базовой отметки</a></li>\n",
    "                <li><a href=\"#2b\">Логистическая регрессия</a></li>\n",
    "                <li><a href=\"#2c\">Изменение порога предсказания</a></li>\n",
    "                <li><a href=\"#2d\">Логистическая регрессия с весами классов</a></li>\n",
    "            </ol>\n",
    "        </li>\n",
    "        <li><a href=\"#3\">Стратифицированная выборка</a></li>\n",
    "        <li><a href=\"#4\">Задание</a></li>\n",
    "        <li><a href=\"#5\">Источники</a>\n",
    "        </li>\n",
    "    </ol>\n",
    "</div>"
   ]
  },
  {
   "cell_type": "markdown",
   "metadata": {},
   "source": [
    "<p><b>Подключение библиотек</b></p>"
   ]
  },
  {
   "cell_type": "code",
   "execution_count": null,
   "metadata": {},
   "outputs": [],
   "source": [
    "import numpy as np\n",
    "import pandas as pd\n",
    "import matplotlib.pyplot as plt\n",
    "\n",
    "from sklearn.linear_model import LogisticRegression\n",
    "from sklearn.metrics import accuracy_score, roc_curve, roc_auc_score\n",
    "from sklearn.model_selection import (train_test_split, \n",
    "                                     StratifiedKFold, \n",
    "                                     StratifiedShuffleSplit, \n",
    "                                     GridSearchCV, \n",
    "                                     cross_val_score)\n",
    "\n",
    "%matplotlib inline"
   ]
  },
  {
   "cell_type": "code",
   "execution_count": null,
   "metadata": {},
   "outputs": [],
   "source": [
    "import sys\n",
    "sys.path.insert(0, \"../lib/\")\n",
    "from plot_confusion_matrix import plot_confusion_matrix"
   ]
  },
  {
   "cell_type": "markdown",
   "metadata": {},
   "source": [
    "<a name=\"1\"></a>\n",
    "<div style=\"display:table; width:100%; padding-top:10px; padding-bottom:10px; border-bottom:1px solid lightgrey\">\n",
    "    <div style=\"display:table-row\">\n",
    "        <div style=\"display:table-cell; width:80%; font-size:14pt; font-weight:bold\">1. Загрузка исходных данных</div>\n",
    "    \t<div style=\"display:table-cell; width:20%; text-align:center; background-color:whitesmoke; border:1px solid lightgrey\"><a href=\"#0\">К содержанию</a></div>\n",
    "    </div>\n",
    "</div>"
   ]
  },
  {
   "cell_type": "markdown",
   "metadata": {},
   "source": [
    "Набор данных состоит из 10000 наблюдений со следующими признаками:\n",
    "\n",
    "- `default`\n",
    "    \n",
    "    *Yes* указавает на то, что клиент не сможет выплатить долг, *No* если сможет.\n",
    "\n",
    "\n",
    "- `student`\n",
    "    \n",
    "    Является ли клиент студентом (Yes/No)\n",
    "    \n",
    "    \n",
    "- `balance`\n",
    "\n",
    "    Средний баланс кредитной карты перед ежемесячными платежами\n",
    "    \n",
    "    \n",
    "- `income`\n",
    "\n",
    "    Доход клиента"
   ]
  },
  {
   "cell_type": "code",
   "execution_count": null,
   "metadata": {},
   "outputs": [],
   "source": [
    "FILE_PATH = \"../data/Default.csv\"\n",
    "\n",
    "df = pd.read_csv(FILE_PATH)\n",
    "df.head()"
   ]
  },
  {
   "cell_type": "markdown",
   "metadata": {},
   "source": [
    "Конвертация строковых значений в числовые категориальные признаки:"
   ]
  },
  {
   "cell_type": "code",
   "execution_count": null,
   "metadata": {},
   "outputs": [],
   "source": [
    "# converters={\"default\": lambda x: int(x == \"Yes\"), \"student\": lambda x: int(x == \"Yes\")}\n",
    "\n",
    "# Другие варианты\n",
    "# df[\"default\"] = np.where(df[\"default\"]==\"Yes\", 1, 0)\n",
    "# df[\"default\"] = (df[\"default\"] == \"Yes\").astype(\"int\")\n",
    "\n",
    "df[\"default\"] = df[\"default\"].apply(lambda x: int(x == \"Yes\"))\n",
    "df[\"student\"] = df[\"student\"].apply(lambda x: int(x == \"Yes\"))\n",
    "df.head(5)"
   ]
  },
  {
   "cell_type": "markdown",
   "metadata": {},
   "source": [
    "Столбцы признаков и столбец целевых значений:"
   ]
  },
  {
   "cell_type": "code",
   "execution_count": null,
   "metadata": {},
   "outputs": [],
   "source": [
    "TARGET_COLUMN = \"default\"\n",
    "FEATURE_COLUMNS = set(df.columns) - set([TARGET_COLUMN])\n",
    "FEATURE_COLUMNS"
   ]
  },
  {
   "cell_type": "markdown",
   "metadata": {},
   "source": [
    "Количество элементов в каждом целевом классе:"
   ]
  },
  {
   "cell_type": "code",
   "execution_count": null,
   "metadata": {},
   "outputs": [],
   "source": [
    "df[\"default\"].value_counts()"
   ]
  },
  {
   "cell_type": "markdown",
   "metadata": {},
   "source": [
    "<a name=\"2\"></a>\n",
    "<div style=\"display:table; width:100%; padding-top:10px; padding-bottom:10px; border-bottom:1px solid lightgrey\">\n",
    "    <div style=\"display:table-row\">\n",
    "        <div style=\"display:table-cell; width:80%; font-size:14pt; font-weight:bold\">2. Обучение модели и оценка качества</div>\n",
    "    \t<div style=\"display:table-cell; width:20%; text-align:center; background-color:whitesmoke; border:1px solid lightgrey\"><a href=\"#0\">К содержанию</a></div>\n",
    "    </div>\n",
    "</div>"
   ]
  },
  {
   "cell_type": "markdown",
   "metadata": {},
   "source": [
    "Разделение данных на обучающее и тестовое подмножества:"
   ]
  },
  {
   "cell_type": "code",
   "execution_count": null,
   "metadata": {},
   "outputs": [],
   "source": [
    "X_train, X_test, y_train, y_test = train_test_split(df[FEATURE_COLUMNS], df[TARGET_COLUMN],\n",
    "                                                    test_size=0.3, random_state=123)\n",
    "\n",
    "print(\"Обучающее множество:\\n{}\".format(y_train.value_counts()))\n",
    "print(\"\\nТестовое множество:\\n{}\".format(y_test.value_counts()))"
   ]
  },
  {
   "cell_type": "markdown",
   "metadata": {},
   "source": [
    "<a name=\"2a\"></a>\n",
    "<div style=\"display:table; width:100%\">\n",
    "    <div style=\"display:table-row\">\n",
    "        <div style=\"display:table-cell; width:80%; font-style:italic; font-weight:bold; font-size:12pt\">\n",
    "            a. Расчет базовой отметки\n",
    "        </div>\n",
    "        <div style=\"display:table-cell; border:1px solid lightgrey; width:20%\">\n",
    "            <div style=\"display:table-cell; width:10%; text-align:center; background-color:whitesmoke;\">\n",
    "                <a href=\"#2\">Назад</a>\n",
    "            </div>\n",
    "            <div style=\"display:table-cell; width:10%; text-align:center;\">\n",
    "                <a href=\"#2b\">Далее</a>\n",
    "            </div>\n",
    "        </div>\n",
    "    </div>\n",
    "</div>"
   ]
  },
  {
   "cell_type": "code",
   "execution_count": null,
   "metadata": {},
   "outputs": [],
   "source": [
    "y_train_pred = np.zeros(y_train.shape[0])\n",
    "y_test_pred = np.zeros(y_test.shape[0])\n",
    "\n",
    "print(\"Accuracy на обучающем множестве: {}\".format(accuracy_score(y_train, y_train_pred)))\n",
    "print(\"Accuracy на тестовом множестве: {}\".format(accuracy_score(y_test, y_test_pred)))"
   ]
  },
  {
   "cell_type": "markdown",
   "metadata": {},
   "source": [
    "Матрица ошибок:"
   ]
  },
  {
   "cell_type": "code",
   "execution_count": null,
   "metadata": {},
   "outputs": [],
   "source": [
    "# Train\n",
    "plot_confusion_matrix(y_train, \n",
    "                      y_train_pred, \n",
    "                      np.array([\"Non-default\", \"Default\"]))\n",
    "plt.show()"
   ]
  },
  {
   "cell_type": "code",
   "execution_count": null,
   "metadata": {},
   "outputs": [],
   "source": [
    "# Test\n",
    "plot_confusion_matrix(y_test, \n",
    "                      y_test_pred, \n",
    "                      np.array([\"Non-default\", \"Default\"]))\n",
    "plt.show()"
   ]
  },
  {
   "cell_type": "markdown",
   "metadata": {},
   "source": [
    "<a name=\"2b\"></a>\n",
    "<div style=\"display:table; width:100%\">\n",
    "    <div style=\"display:table-row\">\n",
    "        <div style=\"display:table-cell; width:80%; font-style:italic; font-weight:bold; font-size:12pt\">\n",
    "            b. Логистическая регрессия\n",
    "        </div>\n",
    "        <div style=\"display:table-cell; border:1px solid lightgrey; width:20%\">\n",
    "            <div style=\"display:table-cell; width:10%; text-align:center; background-color:whitesmoke;\">\n",
    "                <a href=\"#2a\">Назад</a>\n",
    "            </div>\n",
    "            <div style=\"display:table-cell; width:10%; text-align:center;\">\n",
    "                <a href=\"#2c\">Далее</a>\n",
    "            </div>\n",
    "        </div>\n",
    "    </div>\n",
    "</div>"
   ]
  },
  {
   "cell_type": "code",
   "execution_count": null,
   "metadata": {},
   "outputs": [],
   "source": [
    "logr_model = LogisticRegression(penalty=\"l2\", fit_intercept=True, max_iter=100, C=1e5,\n",
    "                                solver=\"lbfgs\", random_state=12345)\n",
    "logr_model.fit(X_train, y_train)\n",
    "\n",
    "print(\"Accuracy на обучающем множестве: {}\".format(logr_model.score(X_train, y_train)))\n",
    "print(\"Accuracy на тестовом множестве: {}\".format(logr_model.score(X_test, y_test)))"
   ]
  },
  {
   "cell_type": "markdown",
   "metadata": {},
   "source": [
    "Матрица ошибок:"
   ]
  },
  {
   "cell_type": "code",
   "execution_count": null,
   "metadata": {},
   "outputs": [],
   "source": [
    "# Train\n",
    "plot_confusion_matrix(y_train, \n",
    "                      logr_model.predict(X_train), \n",
    "                      np.array([\"Non-default\", \"Default\"]))\n",
    "plt.show()"
   ]
  },
  {
   "cell_type": "code",
   "execution_count": null,
   "metadata": {},
   "outputs": [],
   "source": [
    "# Test\n",
    "plot_confusion_matrix(y_test, \n",
    "                      logr_model.predict(X_test), \n",
    "                      np.array([\"Non-default\", \"Default\"]))\n",
    "plt.show()"
   ]
  },
  {
   "cell_type": "markdown",
   "metadata": {},
   "source": [
    "ROC:"
   ]
  },
  {
   "cell_type": "code",
   "execution_count": null,
   "metadata": {},
   "outputs": [],
   "source": [
    "fpr_train, tpr_train, thresholds_train = roc_curve(y_train, logr_model.predict_proba(X_train)[:,1])\n",
    "fpr_test, tpr_test, thresholds_test = roc_curve(y_test, logr_model.predict_proba(X_test)[:,1])"
   ]
  },
  {
   "cell_type": "code",
   "execution_count": null,
   "metadata": {},
   "outputs": [],
   "source": [
    "plt.figure(1, figsize=[12, 4])\n",
    "\n",
    "plt.subplot(1,2,1)\n",
    "plt.plot([0,1], [0,1], \"--\", color=\"grey\")\n",
    "plt.title(\"ROC for train\")\n",
    "plt.axvline(0, linestyle=\"-\", c=\"black\", lw=1)\n",
    "plt.axvline(1, linestyle=\"--\", c=\"black\", lw=1)\n",
    "plt.axhline(1, linestyle=\"--\", c=\"black\", lw=1)\n",
    "plt.plot(fpr_train, tpr_train, \"-\", c=\"seagreen\", lw=4)\n",
    "plt.grid(True)\n",
    "plt.ylabel(\"True Positive Rate\")\n",
    "plt.xlabel(\"False Positive Rate\")\n",
    "plt.xlim(-0.1, 1.1)\n",
    "plt.ylim(0, 1.1)\n",
    "\n",
    "plt.subplot(1,2,2)\n",
    "plt.plot([0,1], [0,1], \"--\", color=\"grey\")\n",
    "plt.title(\"ROC for test\")\n",
    "plt.axvline(0, linestyle=\"-\", c=\"black\", lw=1)\n",
    "plt.axvline(1, linestyle=\"--\", c=\"black\", lw=1)\n",
    "plt.axhline(1, linestyle=\"--\", c=\"black\", lw=1)\n",
    "plt.plot(fpr_test, tpr_test, \"-\", c=\"seagreen\", lw=4)\n",
    "plt.grid(True)\n",
    "plt.ylabel(\"True Positive Rate\")\n",
    "plt.xlabel(\"False Positive Rate\")\n",
    "plt.xlim(-0.1, 1.1)\n",
    "plt.ylim(0, 1.1)\n",
    "\n",
    "plt.show()"
   ]
  },
  {
   "cell_type": "markdown",
   "metadata": {},
   "source": [
    "ROC AUC:"
   ]
  },
  {
   "cell_type": "code",
   "execution_count": null,
   "metadata": {},
   "outputs": [],
   "source": [
    "roc_auc_train = roc_auc_score(y_train, logr_model.predict_proba(X_train)[:,1])\n",
    "roc_auc_test = roc_auc_score(y_test, logr_model.predict_proba(X_test)[:,1])\n",
    "\n",
    "print(\"ROC AUC на обучающем множестве: {}\".format(roc_auc_train))\n",
    "print(\"ROC AUC на тестовом множестве: {}\".format(roc_auc_test))"
   ]
  },
  {
   "cell_type": "markdown",
   "metadata": {},
   "source": [
    "<a name=\"2c\"></a>\n",
    "<div style=\"display:table; width:100%\">\n",
    "    <div style=\"display:table-row\">\n",
    "        <div style=\"display:table-cell; width:80%; font-style:italic; font-weight:bold; font-size:12pt\">\n",
    "            c. Изменение порога предсказания\n",
    "        </div>\n",
    "        <div style=\"display:table-cell; border:1px solid lightgrey; width:20%\">\n",
    "            <div style=\"display:table-cell; width:10%; text-align:center; background-color:whitesmoke;\">\n",
    "                <a href=\"#2b\">Назад</a>\n",
    "            </div>\n",
    "            <div style=\"display:table-cell; width:10%; text-align:center;\">\n",
    "                <a href=\"#2d\">Далее</a>\n",
    "            </div>\n",
    "        </div>\n",
    "    </div>\n",
    "</div>"
   ]
  },
  {
   "cell_type": "code",
   "execution_count": null,
   "metadata": {},
   "outputs": [],
   "source": [
    "THRESHOLD = thresholds_train[np.argwhere((tpr_train > 0.8) & (tpr_train < 0.9))].mean()\n",
    "THRESHOLD"
   ]
  },
  {
   "cell_type": "code",
   "execution_count": null,
   "metadata": {},
   "outputs": [],
   "source": [
    "def predict_with_threshold(model, threshold, X):\n",
    "    if hasattr(model, \"predict_proba\") and callable(model.predict_proba):\n",
    "        return np.where(logr_model.predict_proba(X)[:,1] >= threshold, 1, 0)\n",
    "    raise Exception(\"This model isn't supported.\")"
   ]
  },
  {
   "cell_type": "code",
   "execution_count": null,
   "metadata": {},
   "outputs": [],
   "source": [
    "y_train_pred = predict_with_threshold(logr_model, THRESHOLD, X_train)\n",
    "y_test_pred = predict_with_threshold(logr_model, THRESHOLD, X_test)\n",
    "\n",
    "print(\"Accuracy на обучающем множестве: {}\".format(accuracy_score(y_train, y_train_pred)))\n",
    "print(\"Accuracy на тестовом множестве: {}\".format(accuracy_score(y_test, y_test_pred)))"
   ]
  },
  {
   "cell_type": "markdown",
   "metadata": {},
   "source": [
    "Матрица ошибок:"
   ]
  },
  {
   "cell_type": "code",
   "execution_count": null,
   "metadata": {},
   "outputs": [],
   "source": [
    "# Train\n",
    "plot_confusion_matrix(y_train, \n",
    "                      y_train_pred, \n",
    "                      np.array([\"Non-default\", \"Default\"]))\n",
    "plt.show()"
   ]
  },
  {
   "cell_type": "code",
   "execution_count": null,
   "metadata": {},
   "outputs": [],
   "source": [
    "# Test\n",
    "plot_confusion_matrix(y_test, \n",
    "                      y_test_pred, \n",
    "                      np.array([\"Non-default\", \"Default\"]))\n",
    "plt.show()"
   ]
  },
  {
   "cell_type": "markdown",
   "metadata": {},
   "source": [
    "<a name=\"2d\"></a>\n",
    "<div style=\"display:table; width:100%\">\n",
    "    <div style=\"display:table-row\">\n",
    "        <div style=\"display:table-cell; width:80%; font-style:italic; font-weight:bold; font-size:12pt\">\n",
    "            d. Логистическая регрессия с весами классов\n",
    "        </div>\n",
    "        <div style=\"display:table-cell; border:1px solid lightgrey; width:20%\">\n",
    "            <div style=\"display:table-cell; width:10%; text-align:center; background-color:whitesmoke;\">\n",
    "                <a href=\"#2с\">Назад</a>\n",
    "            </div>\n",
    "            <div style=\"display:table-cell; width:10%; text-align:center;\">\n",
    "                <a href=\"#3\">Далее</a>\n",
    "            </div>\n",
    "        </div>\n",
    "    </div>\n",
    "</div>"
   ]
  },
  {
   "cell_type": "code",
   "execution_count": null,
   "metadata": {},
   "outputs": [],
   "source": [
    "logr_model = LogisticRegression(penalty=\"l2\", fit_intercept=True, max_iter=100, C=1e5, \n",
    "                                class_weight=\"balanced\",\n",
    "                                solver=\"lbfgs\", random_state=12345)\n",
    "logr_model.fit(X_train, y_train)\n",
    "\n",
    "print(\"Accuracy на обучающем множестве: {}\".format(logr_model.score(X_train, y_train)))\n",
    "print(\"Accuracy на тестовом множестве: {}\".format(logr_model.score(X_test, y_test)))"
   ]
  },
  {
   "cell_type": "markdown",
   "metadata": {},
   "source": [
    "Матрица ошибок:"
   ]
  },
  {
   "cell_type": "code",
   "execution_count": null,
   "metadata": {},
   "outputs": [],
   "source": [
    "# Train\n",
    "plot_confusion_matrix(y_train, \n",
    "                      logr_model.predict(X_train), \n",
    "                      np.array([\"Non-default\", \"Default\"]))\n",
    "plt.show()"
   ]
  },
  {
   "cell_type": "code",
   "execution_count": null,
   "metadata": {},
   "outputs": [],
   "source": [
    "# Test\n",
    "plot_confusion_matrix(y_test, \n",
    "                      logr_model.predict(X_test), \n",
    "                      np.array([\"Non-default\", \"Default\"]))\n",
    "plt.show()"
   ]
  },
  {
   "cell_type": "markdown",
   "metadata": {},
   "source": [
    "ROC:"
   ]
  },
  {
   "cell_type": "code",
   "execution_count": null,
   "metadata": {},
   "outputs": [],
   "source": [
    "fpr_train, tpr_train, thresholds_train = roc_curve(y_train, logr_model.predict_proba(X_train)[:,1])\n",
    "fpr_test, tpr_test, thresholds_test = roc_curve(y_test, logr_model.predict_proba(X_test)[:,1])"
   ]
  },
  {
   "cell_type": "code",
   "execution_count": null,
   "metadata": {},
   "outputs": [],
   "source": [
    "plt.figure(1, figsize=[12, 4])\n",
    "\n",
    "plt.subplot(1,2,1)\n",
    "plt.plot([0,1], [0,1], \"--\", color=\"grey\")\n",
    "plt.title(\"ROC for train\")\n",
    "plt.axvline(0, linestyle=\"-\", c=\"black\", lw=1)\n",
    "plt.axvline(1, linestyle=\"--\", c=\"black\", lw=1)\n",
    "plt.axhline(1, linestyle=\"--\", c=\"black\", lw=1)\n",
    "plt.plot(fpr_train, tpr_train, \"-\", c=\"seagreen\", lw=4)\n",
    "plt.grid(True)\n",
    "plt.ylabel(\"True Positive Rate\")\n",
    "plt.xlabel(\"False Positive Rate\")\n",
    "plt.xlim(-0.1, 1.1)\n",
    "plt.ylim(0, 1.1)\n",
    "\n",
    "plt.subplot(1,2,2)\n",
    "plt.plot([0,1], [0,1], \"--\", color=\"grey\")\n",
    "plt.title(\"ROC for test\")\n",
    "plt.axvline(0, linestyle=\"-\", c=\"black\", lw=1)\n",
    "plt.axvline(1, linestyle=\"--\", c=\"black\", lw=1)\n",
    "plt.axhline(1, linestyle=\"--\", c=\"black\", lw=1)\n",
    "plt.plot(fpr_test, tpr_test, \"-\", c=\"seagreen\", lw=4)\n",
    "plt.grid(True)\n",
    "plt.ylabel(\"True Positive Rate\")\n",
    "plt.xlabel(\"False Positive Rate\")\n",
    "plt.xlim(-0.1, 1.1)\n",
    "plt.ylim(0, 1.1)\n",
    "\n",
    "plt.show()"
   ]
  },
  {
   "cell_type": "markdown",
   "metadata": {},
   "source": [
    "ROC AUC:"
   ]
  },
  {
   "cell_type": "code",
   "execution_count": null,
   "metadata": {},
   "outputs": [],
   "source": [
    "roc_auc_train = roc_auc_score(y_train, logr_model.predict_proba(X_train)[:,1])\n",
    "roc_auc_test = roc_auc_score(y_test, logr_model.predict_proba(X_test)[:,1])\n",
    "\n",
    "print(\"ROC AUC на обучающем множестве: {}\".format(roc_auc_train))\n",
    "print(\"ROC AUC на тестовом множестве: {}\".format(roc_auc_test))"
   ]
  },
  {
   "cell_type": "markdown",
   "metadata": {},
   "source": [
    "Регулирование весов классов:"
   ]
  },
  {
   "cell_type": "code",
   "execution_count": null,
   "metadata": {},
   "outputs": [],
   "source": [
    "logr_model = LogisticRegression(penalty=\"l2\", fit_intercept=True, max_iter=100, C=1e5, \n",
    "                                class_weight={0: 0.1, 1: 0.9},\n",
    "                                solver=\"lbfgs\", random_state=12345)\n",
    "logr_model.fit(X_train, y_train)\n",
    "\n",
    "print(\"Accuracy на обучающем множестве: {}\".format(logr_model.score(X_train, y_train)))\n",
    "print(\"Accuracy на тестовом множестве: {}\".format(logr_model.score(X_test, y_test)))"
   ]
  },
  {
   "cell_type": "code",
   "execution_count": null,
   "metadata": {},
   "outputs": [],
   "source": [
    "plot_confusion_matrix(y_test, \n",
    "                      logr_model.predict(X_test), \n",
    "                      np.array([\"Non-default\", \"Default\"]))\n",
    "plt.show()"
   ]
  },
  {
   "cell_type": "markdown",
   "metadata": {},
   "source": [
    "<a name=\"3\"></a>\n",
    "<div style=\"display:table; width:100%; padding-top:10px; padding-bottom:10px; border-bottom:1px solid lightgrey\">\n",
    "    <div style=\"display:table-row\">\n",
    "        <div style=\"display:table-cell; width:80%; font-size:14pt; font-weight:bold\">3. Стратифицированная выборка</div>\n",
    "    \t<div style=\"display:table-cell; width:20%; text-align:center; background-color:whitesmoke; border:1px solid lightgrey\"><a href=\"#0\">К содержанию</a></div>\n",
    "    </div>\n",
    "</div>"
   ]
  },
  {
   "cell_type": "markdown",
   "metadata": {},
   "source": [
    "Отложенная выборка:"
   ]
  },
  {
   "cell_type": "code",
   "execution_count": null,
   "metadata": {},
   "outputs": [],
   "source": [
    "X_train, X_test, y_train, y_test = train_test_split(df[FEATURE_COLUMNS], df[TARGET_COLUMN],\n",
    "                                                    stratify=df[TARGET_COLUMN],\n",
    "                                                    test_size=0.3, random_state=123)"
   ]
  },
  {
   "cell_type": "markdown",
   "metadata": {},
   "source": [
    "Кросс-валидация с k-Folds:"
   ]
  },
  {
   "cell_type": "code",
   "execution_count": null,
   "metadata": {},
   "outputs": [],
   "source": [
    "skf = StratifiedKFold(n_splits=10, random_state=111)"
   ]
  },
  {
   "cell_type": "code",
   "execution_count": null,
   "metadata": {},
   "outputs": [],
   "source": [
    "for train_index, test_index in skf.split(df[FEATURE_COLUMNS], df[TARGET_COLUMN]):\n",
    "    print(\"Train: {} Test: {}\".format(train_index[:5], test_index[:5]))"
   ]
  },
  {
   "cell_type": "code",
   "execution_count": null,
   "metadata": {},
   "outputs": [],
   "source": [
    "skf = StratifiedShuffleSplit(n_splits=10, random_state=123)"
   ]
  },
  {
   "cell_type": "code",
   "execution_count": null,
   "metadata": {},
   "outputs": [],
   "source": [
    "for train_index, test_index in skf.split(df[FEATURE_COLUMNS], df[TARGET_COLUMN]):\n",
    "    print(\"Train: {} Test: {}\".format(train_index[:5], test_index[:5]))"
   ]
  },
  {
   "cell_type": "markdown",
   "metadata": {},
   "source": [
    "### Пример с логистической регрессией"
   ]
  },
  {
   "cell_type": "code",
   "execution_count": null,
   "metadata": {},
   "outputs": [],
   "source": [
    "logr_model = LogisticRegression(penalty=\"l2\", fit_intercept=True, max_iter=100, C=1e5,\n",
    "                                solver=\"lbfgs\", random_state=12345)"
   ]
  },
  {
   "cell_type": "code",
   "execution_count": null,
   "metadata": {},
   "outputs": [],
   "source": [
    "skf = StratifiedShuffleSplit(n_splits=10, random_state=123)"
   ]
  },
  {
   "cell_type": "markdown",
   "metadata": {},
   "source": [
    "**cross_val_score**"
   ]
  },
  {
   "cell_type": "code",
   "execution_count": null,
   "metadata": {},
   "outputs": [],
   "source": [
    "cross_val_score(logr_model, X_train, y_train, cv=skf, scoring=\"roc_auc\").mean()"
   ]
  },
  {
   "cell_type": "markdown",
   "metadata": {},
   "source": [
    "**GridSearchCV**"
   ]
  },
  {
   "cell_type": "markdown",
   "metadata": {},
   "source": [
    "Определение сетки параметров:"
   ]
  },
  {
   "cell_type": "code",
   "execution_count": null,
   "metadata": {},
   "outputs": [],
   "source": [
    "parameters = {\"class_weight\":({0: 0.5, 1: 0.5}, {0: 0.1, 1: 0.9}, {0: 0.01, 1: 0.99}, \n",
    "                              {0: 0.001, 1: 0.999}, {0: 0.0001, 1: 0.9999},\n",
    "                              {0: 0.00001, 1: 0.99999})}"
   ]
  },
  {
   "cell_type": "markdown",
   "metadata": {},
   "source": [
    "Обучение:"
   ]
  },
  {
   "cell_type": "code",
   "execution_count": null,
   "metadata": {},
   "outputs": [],
   "source": [
    "clf = GridSearchCV(estimator=logr_model, param_grid=parameters, cv=skf, \n",
    "                   scoring=\"balanced_accuracy\", refit=False, return_train_score=True)\n",
    "clf.fit(X_train, y_train)"
   ]
  },
  {
   "cell_type": "markdown",
   "metadata": {},
   "source": [
    "Значения `balanced_accuracy` на валидационном подмножетсве для каждого параметра:"
   ]
  },
  {
   "cell_type": "code",
   "execution_count": null,
   "metadata": {},
   "outputs": [],
   "source": [
    "clf.cv_results_[\"mean_test_score\"]"
   ]
  },
  {
   "cell_type": "markdown",
   "metadata": {},
   "source": [
    "Построение графика `balanced_accuracy` на обучающем и проверочном множествах:"
   ]
  },
  {
   "cell_type": "code",
   "execution_count": null,
   "metadata": {},
   "outputs": [],
   "source": [
    "class_1_weights = [pair[0]/pair[1] for pair in parameters[\"class_weight\"]]\n",
    "\n",
    "plt.figure(figsize=[6, 4])\n",
    "\n",
    "plt.subplot(1,1,1)\n",
    "plt.title(\"balanced_accuracy\")\n",
    "plt.plot(np.log10(class_1_weights), clf.cv_results_[\"mean_test_score\"], \"o-\", label=\"Val\")\n",
    "plt.plot(np.log10(class_1_weights), clf.cv_results_[\"mean_train_score\"], \"o-\", label=\"Train\")\n",
    "plt.xlabel(\"ratio\")\n",
    "plt.ylabel(\"balanced_accuracy\")\n",
    "plt.legend()\n",
    "plt.grid(True)\n",
    "\n",
    "plt.show()"
   ]
  },
  {
   "cell_type": "markdown",
   "metadata": {},
   "source": [
    "Построение модели с выбранным параметром `class_weight` и обучение на (`X_train`, `y_train`):"
   ]
  },
  {
   "cell_type": "code",
   "execution_count": null,
   "metadata": {},
   "outputs": [],
   "source": [
    "# Note: GridSearchCV has already trained on the whole training set if refit=True (default value)\n",
    "logr_model = LogisticRegression(penalty=\"l2\", fit_intercept=True, max_iter=100, C=1e5,\n",
    "                                class_weight={0: 0.1, 1: 0.9},\n",
    "                                solver=\"lbfgs\", random_state=12345)\n",
    "logr_model.fit(X_train, y_train)"
   ]
  },
  {
   "cell_type": "markdown",
   "metadata": {},
   "source": [
    "Отображение матрицы ошибок на тестовом подмножестве:"
   ]
  },
  {
   "cell_type": "code",
   "execution_count": null,
   "metadata": {},
   "outputs": [],
   "source": [
    "plot_confusion_matrix(y_test, \n",
    "                      logr_model.predict(X_test), \n",
    "                      np.array([\"Non-default\", \"Default\"]))\n",
    "plt.show()"
   ]
  },
  {
   "cell_type": "markdown",
   "metadata": {},
   "source": [
    "<a name=\"4\"></a>\n",
    "<div style=\"display:table; width:100%; padding-top:10px; padding-bottom:10px; border-bottom:1px solid lightgrey\">\n",
    "    <div style=\"display:table-row\">\n",
    "        <div style=\"display:table-cell; width:80%; font-size:14pt; font-weight:bold\">4. Задание</div>\n",
    "    \t<div style=\"display:table-cell; width:20%; text-align:center; background-color:whitesmoke; border:1px solid lightgrey\"><a href=\"#0\">К содержанию</a></div>\n",
    "    </div>\n",
    "</div>"
   ]
  },
  {
   "cell_type": "code",
   "execution_count": null,
   "metadata": {},
   "outputs": [],
   "source": []
  },
  {
   "cell_type": "markdown",
   "metadata": {},
   "source": [
    "<a name=\"5\"></a>\n",
    "<div style=\"display:table; width:100%; padding-top:10px; padding-bottom:10px; border-bottom:1px solid lightgrey\">\n",
    "    <div style=\"display:table-row\">\n",
    "        <div style=\"display:table-cell; width:80%; font-size:14pt; font-weight:bold\">5. Источники</div>\n",
    "    \t<div style=\"display:table-cell; width:20%; text-align:center; background-color:whitesmoke; border:1px solid lightgrey\"><a href=\"#0\">К содержанию</a></div>\n",
    "    </div>\n",
    "</div>"
   ]
  },
  {
   "cell_type": "markdown",
   "metadata": {},
   "source": [
    "- [An Introduction to Statistical Learning by Gareth James,\n",
    "Daniela Witten, Trevor Hastie, Robert Tibshir](http://faculty.marshall.usc.edu/gareth-james/ISL/)\n",
    "- [3.1. Cross-validation: evaluating estimator performance](https://scikit-learn.org/stable/modules/cross_validation.html)\n",
    "- [3.3. Metrics and scoring: quantifying the quality of predictions](https://scikit-learn.org/stable/modules/model_evaluation.html)"
   ]
  },
  {
   "cell_type": "code",
   "execution_count": null,
   "metadata": {},
   "outputs": [],
   "source": []
  }
 ],
 "metadata": {
  "kernelspec": {
   "display_name": "Python 3",
   "language": "python",
   "name": "python3"
  },
  "language_info": {
   "codemirror_mode": {
    "name": "ipython",
    "version": 3
   },
   "file_extension": ".py",
   "mimetype": "text/x-python",
   "name": "python",
   "nbconvert_exporter": "python",
   "pygments_lexer": "ipython3",
   "version": "3.7.3"
  }
 },
 "nbformat": 4,
 "nbformat_minor": 2
}