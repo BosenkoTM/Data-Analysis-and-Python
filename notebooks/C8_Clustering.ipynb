{
 "cells": [
  {
   "cell_type": "markdown",
   "metadata": {},
   "source": [
    "<div style=\"font-size:18pt; padding-top:20px; text-align:center\">СЕМИНАР. <b>Кластеризация и </b> <span style=\"font-weight:bold; color:green\">NumPy/SciPy/Sklearn</span></div><hr>\n",
    "<div style=\"text-align:right;\">Папулин С.Ю. <span style=\"font-style: italic;font-weight: bold;\">(papulin.study@yandex.ru)</span></div>"
   ]
  },
  {
   "cell_type": "markdown",
   "metadata": {},
   "source": [
    "<a name=\"0\"></a>\n",
    "<div><span style=\"font-size:14pt; font-weight:bold\">Содержание</span>\n",
    "    <ol>\n",
    "        <li><a href=\"#1\">Метод k-средних (KMeans)</a></li>\n",
    "        <li><a href=\"#2\">Иерархическая кластеризация (Agglomerative Clustering)</a></li>\n",
    "        <li><a href=\"#3\">Кластеризация по плотности (DBSCAN)</a>\n",
    "        <li><a href=\"#4\">Источники</a>\n",
    "        </li>\n",
    "    </ol>\n",
    "</div>"
   ]
  },
  {
   "cell_type": "code",
   "execution_count": null,
   "metadata": {
    "collapsed": false
   },
   "outputs": [],
   "source": [
    "import numpy as np\n",
    "import matplotlib.pyplot as plt\n",
    "\n",
    "from sklearn.cluster import KMeans\n",
    "from sklearn.cluster import AgglomerativeClustering\n",
    "from sklearn.cluster import DBSCAN\n",
    "\n",
    "from sklearn.datasets import make_blobs\n",
    "\n",
    "%matplotlib inline"
   ]
  },
  {
   "cell_type": "code",
   "execution_count": null,
   "metadata": {
    "collapsed": true
   },
   "outputs": [],
   "source": [
    "from matplotlib.colors import ListedColormap"
   ]
  },
  {
   "cell_type": "code",
   "execution_count": null,
   "metadata": {
    "collapsed": true
   },
   "outputs": [],
   "source": [
    "clrMap = ListedColormap([\"blue\", \"red\", \"green\", \"yellow\", \"purple\"])"
   ]
  },
  {
   "cell_type": "markdown",
   "metadata": {},
   "source": [
    "<a name=\"1\"></a>\n",
    "<div style=\"display:table; width:100%; padding-top:10px; padding-bottom:10px; border-bottom:1px solid lightgrey\">\n",
    "    <div style=\"display:table-row\">\n",
    "        <div style=\"display:table-cell; width:80%; font-size:14pt; font-weight:bold\">1. Генерация данных</div>\n",
    "    \t<div style=\"display:table-cell; width:20%; text-align:center; background-color:whitesmoke; border:1px solid lightgrey\"><a href=\"#0\">К содержанию</a></div>\n",
    "    </div>\n",
    "</div>"
   ]
  },
  {
   "cell_type": "code",
   "execution_count": null,
   "metadata": {
    "collapsed": true
   },
   "outputs": [],
   "source": [
    "from sklearn import datasets"
   ]
  },
  {
   "cell_type": "code",
   "execution_count": null,
   "metadata": {
    "collapsed": true
   },
   "outputs": [],
   "source": [
    "n = 500"
   ]
  },
  {
   "cell_type": "code",
   "execution_count": null,
   "metadata": {
    "collapsed": false
   },
   "outputs": [],
   "source": [
    "cl_class = datasets.make_classification(n_samples=n, n_features=2, n_redundant=0,\n",
    "                           n_informative=2, n_clusters_per_class=1, n_classes=3, class_sep=2,\n",
    "                           random_state=1234)"
   ]
  },
  {
   "cell_type": "code",
   "execution_count": null,
   "metadata": {
    "collapsed": false
   },
   "outputs": [],
   "source": [
    "plt.figure(figsize=[10, 4])\n",
    "\n",
    "plt.subplot(1,2,1)\n",
    "plt.title(\"Class\")\n",
    "plt.scatter(cl_class[0][:,0], cl_class[0][:,1])\n",
    "plt.grid(True)\n",
    "\n",
    "plt.subplot(1,2,2)\n",
    "plt.title(\"Class\")\n",
    "plt.scatter(cl_class[0][:,0], cl_class[0][:,1], c=cl_class[1], cmap=clrMap)\n",
    "plt.grid(True)\n",
    "\n",
    "plt.show()"
   ]
  },
  {
   "cell_type": "code",
   "execution_count": null,
   "metadata": {
    "collapsed": false
   },
   "outputs": [],
   "source": [
    "cl_blobs = datasets.make_blobs(n_samples=n, random_state=1000)"
   ]
  },
  {
   "cell_type": "code",
   "execution_count": null,
   "metadata": {
    "collapsed": false
   },
   "outputs": [],
   "source": [
    "plt.figure(figsize=[10, 4])\n",
    "\n",
    "plt.subplot(1,2,1)\n",
    "plt.title(\"Blobs\")\n",
    "plt.scatter(cl_blobs[0][:,0], cl_blobs[0][:,1])\n",
    "plt.grid(True)\n",
    "\n",
    "plt.subplot(1,2,2)\n",
    "plt.title(\"Blobs\")\n",
    "plt.scatter(cl_blobs[0][:,0], cl_blobs[0][:,1], c=cl_blobs[1], cmap=clrMap)\n",
    "plt.grid(True)\n",
    "\n",
    "plt.show()"
   ]
  },
  {
   "cell_type": "code",
   "execution_count": null,
   "metadata": {
    "collapsed": true
   },
   "outputs": [],
   "source": [
    "cl_moons = datasets.make_moons(n_samples=n, noise=0.1)"
   ]
  },
  {
   "cell_type": "code",
   "execution_count": null,
   "metadata": {
    "collapsed": false
   },
   "outputs": [],
   "source": [
    "plt.figure(figsize=[10, 4])\n",
    "\n",
    "plt.subplot(1,2,1)\n",
    "plt.title(\"Circles\")\n",
    "plt.scatter(cl_moons[0][:,0], cl_moons[0][:,1])\n",
    "plt.grid(True)\n",
    "\n",
    "plt.subplot(1,2,2)\n",
    "plt.title(\"Circles\")\n",
    "plt.scatter(cl_moons[0][:,0], cl_moons[0][:,1], c=cl_moons[1], cmap=clrMap)\n",
    "plt.grid(True)\n",
    "\n",
    "plt.show()"
   ]
  },
  {
   "cell_type": "code",
   "execution_count": null,
   "metadata": {
    "collapsed": false
   },
   "outputs": [],
   "source": [
    "cl_circles = datasets.make_circles(n_samples=n, factor=0.1, noise=0.1)"
   ]
  },
  {
   "cell_type": "code",
   "execution_count": null,
   "metadata": {
    "collapsed": false
   },
   "outputs": [],
   "source": [
    "plt.figure(figsize=[10, 4])\n",
    "\n",
    "plt.subplot(1,2,1)\n",
    "plt.title(\"Circles\")\n",
    "plt.scatter(cl_circles[0][:,0], cl_circles[0][:,1])\n",
    "plt.grid(True)\n",
    "\n",
    "plt.subplot(1,2,2)\n",
    "plt.title(\"Circles\")\n",
    "plt.scatter(cl_circles[0][:,0], cl_circles[0][:,1], c=cl_circles[1], cmap=clrMap)\n",
    "plt.grid(True)\n",
    "\n",
    "plt.show()"
   ]
  },
  {
   "cell_type": "code",
   "execution_count": null,
   "metadata": {
    "collapsed": false
   },
   "outputs": [],
   "source": [
    "rand = np.random.rand(n, 2), None"
   ]
  },
  {
   "cell_type": "code",
   "execution_count": null,
   "metadata": {
    "collapsed": false
   },
   "outputs": [],
   "source": [
    "plt.figure(figsize=[10, 4])\n",
    "\n",
    "plt.subplot(1,2,1)\n",
    "plt.title(\"Circles\")\n",
    "plt.scatter(rand[0][:,0], rand[0][:,1])\n",
    "plt.grid(True)\n",
    "\n",
    "plt.subplot(1,2,2)\n",
    "plt.title(\"Circles\")\n",
    "plt.scatter(rand[0][:,0], rand[0][:,1], c=rand[1], cmap=clrMap)\n",
    "plt.grid(True)\n",
    "\n",
    "plt.show()"
   ]
  },
  {
   "cell_type": "markdown",
   "metadata": {},
   "source": [
    "<a name=\"1\"></a>\n",
    "<div style=\"display:table; width:100%; padding-top:10px; padding-bottom:10px; border-bottom:1px solid lightgrey\">\n",
    "    <div style=\"display:table-row\">\n",
    "        <div style=\"display:table-cell; width:80%; font-size:14pt; font-weight:bold\">1. Метод k-средних</div>\n",
    "    \t<div style=\"display:table-cell; width:20%; text-align:center; background-color:whitesmoke; border:1px solid lightgrey\"><a href=\"#0\">К содержанию</a></div>\n",
    "    </div>\n",
    "</div>"
   ]
  },
  {
   "cell_type": "markdown",
   "metadata": {},
   "source": [
    "<p><a href=\"http://scikit-learn.org/stable/modules/generated/sklearn.cluster.KMeans.html\">KMeans</a></p>"
   ]
  },
  {
   "cell_type": "code",
   "execution_count": null,
   "metadata": {
    "collapsed": false
   },
   "outputs": [],
   "source": [
    "n = 1000\n",
    "random_state = 100\n",
    "X, y = make_blobs(n_samples=n, centers=3, cluster_std=1, center_box=(-5, 5), random_state=random_state)"
   ]
  },
  {
   "cell_type": "code",
   "execution_count": null,
   "metadata": {
    "collapsed": false
   },
   "outputs": [],
   "source": [
    "plt.title(\"Initial data\")\n",
    "plt.scatter(X[:, 0], X[:, 1])\n",
    "plt.grid(True)\n",
    "plt.show()"
   ]
  },
  {
   "cell_type": "code",
   "execution_count": null,
   "metadata": {
    "collapsed": true
   },
   "outputs": [],
   "source": [
    "kM_cl = KMeans(n_clusters=3, max_iter=300, init=\"random\", random_state=10, n_init=1)"
   ]
  },
  {
   "cell_type": "code",
   "execution_count": null,
   "metadata": {
    "collapsed": false
   },
   "outputs": [],
   "source": [
    "kM_cl.fit(X)"
   ]
  },
  {
   "cell_type": "code",
   "execution_count": null,
   "metadata": {
    "collapsed": false
   },
   "outputs": [],
   "source": [
    "kM_cl.inertia_"
   ]
  },
  {
   "cell_type": "code",
   "execution_count": null,
   "metadata": {
    "collapsed": true
   },
   "outputs": [],
   "source": [
    "y_pred = kM_cl.predict(X)"
   ]
  },
  {
   "cell_type": "code",
   "execution_count": null,
   "metadata": {
    "collapsed": false
   },
   "outputs": [],
   "source": [
    "plt.title(\"Number of clusters: 3\")\n",
    "plt.scatter(X[:, 0], X[:, 1], c=y_pred, cmap=clrMap)\n",
    "plt.grid(True)\n",
    "plt.show()"
   ]
  },
  {
   "cell_type": "code",
   "execution_count": null,
   "metadata": {
    "collapsed": true
   },
   "outputs": [],
   "source": [
    "y_pred = KMeans(n_clusters=3, max_iter=1, init=\"random\", random_state=100, n_init=1).fit_predict(X)"
   ]
  },
  {
   "cell_type": "code",
   "execution_count": null,
   "metadata": {
    "collapsed": false
   },
   "outputs": [],
   "source": [
    "plt.title(\"Number of clusters: 3\")\n",
    "plt.scatter(X[:, 0], X[:, 1], c=y_pred, cmap=clrMap)\n",
    "plt.grid(True)\n",
    "plt.show()"
   ]
  },
  {
   "cell_type": "code",
   "execution_count": null,
   "metadata": {
    "collapsed": true
   },
   "outputs": [],
   "source": [
    "y_pred = KMeans(n_clusters=2, random_state=10, n_init=1).fit_predict(X)"
   ]
  },
  {
   "cell_type": "code",
   "execution_count": null,
   "metadata": {
    "collapsed": false
   },
   "outputs": [],
   "source": [
    "plt.title(\"Number of clusters: 2\")\n",
    "plt.scatter(X[:, 0], X[:, 1], c=y_pred, cmap=clrMap)\n",
    "plt.grid(True)\n",
    "plt.show()"
   ]
  },
  {
   "cell_type": "code",
   "execution_count": null,
   "metadata": {
    "collapsed": true
   },
   "outputs": [],
   "source": [
    "y_pred = KMeans(n_clusters=5, random_state=10, n_init=1).fit_predict(X)"
   ]
  },
  {
   "cell_type": "code",
   "execution_count": null,
   "metadata": {
    "collapsed": false
   },
   "outputs": [],
   "source": [
    "plt.title(\"Number of clusters: 5\")\n",
    "plt.scatter(X[:, 0], X[:, 1], c=y_pred, cmap=clrMap)\n",
    "plt.grid(True)\n",
    "plt.show()"
   ]
  },
  {
   "cell_type": "markdown",
   "metadata": {},
   "source": [
    "<p>Примеры</p>"
   ]
  },
  {
   "cell_type": "code",
   "execution_count": null,
   "metadata": {
    "collapsed": true
   },
   "outputs": [],
   "source": [
    "n = 500"
   ]
  },
  {
   "cell_type": "code",
   "execution_count": null,
   "metadata": {
    "collapsed": true
   },
   "outputs": [],
   "source": [
    "X, y = datasets.make_classification(n_samples=n, n_features=2, n_redundant=0,\n",
    "                           n_informative=2, n_clusters_per_class=1, n_classes=3, class_sep=2,\n",
    "                           random_state=1234)"
   ]
  },
  {
   "cell_type": "code",
   "execution_count": null,
   "metadata": {
    "collapsed": false
   },
   "outputs": [],
   "source": [
    "plt.figure(figsize=[10, 4])\n",
    "\n",
    "plt.subplot(1,2,1)\n",
    "plt.title(\"Class\")\n",
    "plt.scatter(X[:,0], X[:,1])\n",
    "plt.grid(True)\n",
    "\n",
    "plt.show()"
   ]
  },
  {
   "cell_type": "code",
   "execution_count": null,
   "metadata": {
    "collapsed": true
   },
   "outputs": [],
   "source": [
    "kM_cl = KMeans(n_clusters=3, max_iter=300, init=\"random\", random_state=10, n_init=1)\n",
    "kM_cl.fit(X)\n",
    "y_pred = kM_cl.predict(X)"
   ]
  },
  {
   "cell_type": "code",
   "execution_count": null,
   "metadata": {
    "collapsed": false
   },
   "outputs": [],
   "source": [
    "plt.title(\"Number of clusters: 3\")\n",
    "plt.scatter(X[:, 0], X[:, 1], c=y_pred, cmap=clrMap)\n",
    "plt.grid(True)\n",
    "plt.show()"
   ]
  },
  {
   "cell_type": "code",
   "execution_count": null,
   "metadata": {
    "collapsed": true
   },
   "outputs": [],
   "source": [
    "X, y = datasets.make_blobs(n_samples=n, random_state=1000)"
   ]
  },
  {
   "cell_type": "code",
   "execution_count": null,
   "metadata": {
    "collapsed": false
   },
   "outputs": [],
   "source": [
    "plt.figure(figsize=[10, 4])\n",
    "\n",
    "plt.subplot(1,2,1)\n",
    "plt.title(\"Class\")\n",
    "plt.scatter(X[:,0], X[:,1])\n",
    "plt.grid(True)\n",
    "\n",
    "plt.show()"
   ]
  },
  {
   "cell_type": "code",
   "execution_count": null,
   "metadata": {
    "collapsed": true
   },
   "outputs": [],
   "source": [
    "kM_cl = KMeans(n_clusters=3, max_iter=300, init=\"random\", random_state=10, n_init=1)\n",
    "kM_cl.fit(X)\n",
    "y_pred = kM_cl.predict(X)"
   ]
  },
  {
   "cell_type": "code",
   "execution_count": null,
   "metadata": {
    "collapsed": false
   },
   "outputs": [],
   "source": [
    "plt.title(\"Number of clusters: 3\")\n",
    "plt.scatter(X[:, 0], X[:, 1], c=y_pred, cmap=clrMap)\n",
    "plt.grid(True)\n",
    "plt.show()"
   ]
  },
  {
   "cell_type": "code",
   "execution_count": null,
   "metadata": {
    "collapsed": true
   },
   "outputs": [],
   "source": [
    "X, y = datasets.make_moons(n_samples=n, noise=0.1)"
   ]
  },
  {
   "cell_type": "code",
   "execution_count": null,
   "metadata": {
    "collapsed": false
   },
   "outputs": [],
   "source": [
    "plt.figure(figsize=[10, 4])\n",
    "\n",
    "plt.subplot(1,2,1)\n",
    "plt.title(\"Class\")\n",
    "plt.scatter(X[:,0], X[:,1])\n",
    "plt.grid(True)\n",
    "\n",
    "plt.show()"
   ]
  },
  {
   "cell_type": "code",
   "execution_count": null,
   "metadata": {
    "collapsed": true
   },
   "outputs": [],
   "source": [
    "kM_cl = KMeans(n_clusters=2, max_iter=300, init=\"random\", random_state=10, n_init=1)\n",
    "kM_cl.fit(X)\n",
    "y_pred = kM_cl.predict(X)"
   ]
  },
  {
   "cell_type": "code",
   "execution_count": null,
   "metadata": {
    "collapsed": false
   },
   "outputs": [],
   "source": [
    "plt.title(\"Number of clusters: 2\")\n",
    "plt.scatter(X[:, 0], X[:, 1], c=y_pred, cmap=clrMap)\n",
    "plt.grid(True)\n",
    "plt.show()"
   ]
  },
  {
   "cell_type": "code",
   "execution_count": null,
   "metadata": {
    "collapsed": true
   },
   "outputs": [],
   "source": [
    "X, y = datasets.make_circles(n_samples=n, factor=0.1, noise=0.1)"
   ]
  },
  {
   "cell_type": "code",
   "execution_count": null,
   "metadata": {
    "collapsed": false
   },
   "outputs": [],
   "source": [
    "plt.figure(figsize=[10, 4])\n",
    "\n",
    "plt.subplot(1,2,1)\n",
    "plt.title(\"Class\")\n",
    "plt.scatter(X[:,0], X[:,1])\n",
    "plt.grid(True)\n",
    "\n",
    "plt.show()"
   ]
  },
  {
   "cell_type": "code",
   "execution_count": null,
   "metadata": {
    "collapsed": false
   },
   "outputs": [],
   "source": [
    "kM_cl = KMeans(n_clusters=2, max_iter=300, init=\"random\", random_state=10, n_init=1)\n",
    "kM_cl.fit(X)\n",
    "y_pred = kM_cl.predict(X)"
   ]
  },
  {
   "cell_type": "code",
   "execution_count": null,
   "metadata": {
    "collapsed": false
   },
   "outputs": [],
   "source": [
    "plt.title(\"Number of clusters: 2\")\n",
    "plt.scatter(X[:, 0], X[:, 1], c=y_pred, cmap=clrMap)\n",
    "plt.grid(True)\n",
    "plt.show()"
   ]
  },
  {
   "cell_type": "markdown",
   "metadata": {
    "collapsed": true
   },
   "source": [
    "<a name=\"3\"></a>\n",
    "<div style=\"display:table; width:100%; padding-top:10px; padding-bottom:10px; border-bottom:1px solid lightgrey\">\n",
    "    <div style=\"display:table-row\">\n",
    "        <div style=\"display:table-cell; width:80%; font-size:14pt; font-weight:bold\">3. Иерархическая кластеризация</div>\n",
    "    \t<div style=\"display:table-cell; width:20%; text-align:center; background-color:whitesmoke; border:1px solid lightgrey\"><a href=\"#0\">К содержанию</a></div>\n",
    "    </div>\n",
    "</div>"
   ]
  },
  {
   "cell_type": "markdown",
   "metadata": {},
   "source": [
    "<a href=\"http://scikit-learn.org/stable/modules/generated/sklearn.cluster.AgglomerativeClustering.html\">AgglomerativeClustering</a>"
   ]
  },
  {
   "cell_type": "code",
   "execution_count": null,
   "metadata": {
    "collapsed": true
   },
   "outputs": [],
   "source": [
    "n = 1000\n",
    "random_state = 100\n",
    "X, y = make_blobs(n_samples=n, centers=3, cluster_std=1, center_box=(-5, 5), random_state=random_state)"
   ]
  },
  {
   "cell_type": "code",
   "execution_count": null,
   "metadata": {
    "collapsed": false
   },
   "outputs": [],
   "source": [
    "plt.title(\"Initial data\")\n",
    "plt.scatter(X[:, 0], X[:, 1])\n",
    "plt.grid(True)\n",
    "plt.show()"
   ]
  },
  {
   "cell_type": "code",
   "execution_count": null,
   "metadata": {
    "collapsed": true
   },
   "outputs": [],
   "source": [
    "aggl_avr = AgglomerativeClustering(n_clusters=3, affinity=\"euclidean\", linkage=\"average\")"
   ]
  },
  {
   "cell_type": "code",
   "execution_count": null,
   "metadata": {
    "collapsed": true
   },
   "outputs": [],
   "source": [
    "y_pred = aggl_avr.fit_predict(X)"
   ]
  },
  {
   "cell_type": "code",
   "execution_count": null,
   "metadata": {
    "collapsed": false
   },
   "outputs": [],
   "source": [
    "plt.title(\"Number of clusters: 3\")\n",
    "plt.scatter(X[:, 0], X[:, 1], c=y_pred, cmap=clrMap)\n",
    "plt.grid(True)\n",
    "plt.show()"
   ]
  },
  {
   "cell_type": "markdown",
   "metadata": {},
   "source": [
    "<p>Примеры</p>"
   ]
  },
  {
   "cell_type": "code",
   "execution_count": null,
   "metadata": {
    "collapsed": true
   },
   "outputs": [],
   "source": [
    "X_class, y_class = datasets.make_classification(n_samples=n, n_features=2, n_redundant=0,\n",
    "                           n_informative=2, n_clusters_per_class=1, n_classes=3, class_sep=2,\n",
    "                           random_state=1234)\n",
    "X_blob, y_blob = datasets.make_blobs(n_samples=n, random_state=1000)\n",
    "X_moon, y_moon = datasets.make_moons(n_samples=n, noise=0.1)\n",
    "X_circle, y_circle = datasets.make_circles(n_samples=n, factor=0.1, noise=0.1)\n",
    "X_rand, y_rand = np.random.rand(n, 2), None"
   ]
  },
  {
   "cell_type": "code",
   "execution_count": null,
   "metadata": {
    "collapsed": false
   },
   "outputs": [],
   "source": [
    "plt.figure(figsize=[18, 4])\n",
    "\n",
    "plt.subplot(1,5,1)\n",
    "plt.title(\"Initial data\")\n",
    "plt.scatter(X_class[:, 0], X_class[:, 1])\n",
    "plt.grid(True)\n",
    "\n",
    "plt.subplot(1,5,2)\n",
    "plt.title(\"Initial data\")\n",
    "plt.scatter(X_blob[:, 0], X_blob[:, 1])\n",
    "plt.grid(True)\n",
    "\n",
    "plt.subplot(1,5,3)\n",
    "plt.title(\"Initial data\")\n",
    "plt.scatter(X_moon[:, 0], X_moon[:, 1])\n",
    "plt.grid(True)\n",
    "\n",
    "plt.subplot(1,5,4)\n",
    "plt.title(\"Initial data\")\n",
    "plt.scatter(X_circle[:, 0], X_circle[:, 1])\n",
    "plt.grid(True)\n",
    "\n",
    "plt.subplot(1,5,5)\n",
    "plt.title(\"Initial data\")\n",
    "plt.scatter(X_rand[:, 0], X_rand[:, 1])\n",
    "plt.grid(True)\n",
    "\n",
    "plt.tight_layout()\n",
    "\n",
    "plt.show()"
   ]
  },
  {
   "cell_type": "code",
   "execution_count": null,
   "metadata": {
    "collapsed": true
   },
   "outputs": [],
   "source": [
    "aggl_avr = AgglomerativeClustering(n_clusters=3, affinity=\"euclidean\", linkage=\"average\")\n",
    "\n",
    "y_pred_class = aggl_avr.fit_predict(X_class)\n",
    "y_pred_blob = aggl_avr.fit_predict(X_blob)\n",
    "\n",
    "aggl_avr_2 = AgglomerativeClustering(n_clusters=2, affinity=\"euclidean\", linkage=\"average\")\n",
    "y_pred_moon = aggl_avr_2.fit_predict(X_moon)\n",
    "\n",
    "y_pred_circle = aggl_avr_2.fit_predict(X_circle)\n",
    "y_pred_rand = aggl_avr_2.fit_predict(X_rand)"
   ]
  },
  {
   "cell_type": "code",
   "execution_count": null,
   "metadata": {
    "collapsed": false
   },
   "outputs": [],
   "source": [
    "plt.figure(figsize=[18, 4])\n",
    "\n",
    "plt.subplot(1,5,1)\n",
    "plt.title(\"Initial data\")\n",
    "plt.scatter(X_class[:, 0], X_class[:, 1], c=y_pred_class, cmap=clrMap)\n",
    "plt.grid(True)\n",
    "\n",
    "plt.subplot(1,5,2)\n",
    "plt.title(\"Initial data\")\n",
    "plt.scatter(X_blob[:, 0], X_blob[:, 1], c=y_pred_blob, cmap=clrMap)\n",
    "plt.grid(True)\n",
    "\n",
    "plt.subplot(1,5,3)\n",
    "plt.title(\"Initial data\")\n",
    "plt.scatter(X_moon[:, 0], X_moon[:, 1], c=y_pred_moon, cmap=clrMap)\n",
    "plt.grid(True)\n",
    "\n",
    "plt.subplot(1,5,4)\n",
    "plt.title(\"Initial data\")\n",
    "plt.scatter(X_circle[:, 0], X_circle[:, 1], c=y_pred_circle, cmap=clrMap)\n",
    "plt.grid(True)\n",
    "\n",
    "plt.subplot(1,5,5)\n",
    "plt.title(\"Initial data\")\n",
    "plt.scatter(X_rand[:, 0], X_rand[:, 1], c=y_pred_rand, cmap=clrMap)\n",
    "plt.grid(True)\n",
    "\n",
    "plt.tight_layout()\n",
    "\n",
    "plt.show()"
   ]
  },
  {
   "cell_type": "markdown",
   "metadata": {},
   "source": [
    "<a name=\"4\"></a>\n",
    "<div style=\"display:table; width:100%; padding-top:10px; padding-bottom:10px; border-bottom:1px solid lightgrey\">\n",
    "    <div style=\"display:table-row\">\n",
    "        <div style=\"display:table-cell; width:80%; font-size:14pt; font-weight:bold\">4. Кластеризация по плотности</div>\n",
    "    \t<div style=\"display:table-cell; width:20%; text-align:center; background-color:whitesmoke; border:1px solid lightgrey\"><a href=\"#0\">К содержанию</a></div>\n",
    "    </div>\n",
    "</div>"
   ]
  },
  {
   "cell_type": "markdown",
   "metadata": {},
   "source": [
    "<a href=\"http://scikit-learn.org/stable/modules/generated/sklearn.cluster.DBSCAN.html\">DBSCAN</a>"
   ]
  },
  {
   "cell_type": "code",
   "execution_count": null,
   "metadata": {
    "collapsed": true
   },
   "outputs": [],
   "source": [
    "n = 1000\n",
    "random_state = 100\n",
    "X, y = make_blobs(n_samples=n, centers=3, cluster_std=1, center_box=(-5, 5), random_state=random_state)"
   ]
  },
  {
   "cell_type": "code",
   "execution_count": null,
   "metadata": {
    "collapsed": false
   },
   "outputs": [],
   "source": [
    "plt.title(\"Initial data\")\n",
    "plt.scatter(X[:, 0], X[:, 1])\n",
    "plt.grid(True)\n",
    "plt.show()"
   ]
  },
  {
   "cell_type": "code",
   "execution_count": null,
   "metadata": {
    "collapsed": false
   },
   "outputs": [],
   "source": [
    "dbscan = DBSCAN(min_samples=4, eps=0.5, metric=\"euclidean\")"
   ]
  },
  {
   "cell_type": "code",
   "execution_count": null,
   "metadata": {
    "collapsed": true
   },
   "outputs": [],
   "source": [
    "y_pred = dbscan.fit_predict(X)"
   ]
  },
  {
   "cell_type": "code",
   "execution_count": null,
   "metadata": {
    "collapsed": false
   },
   "outputs": [],
   "source": [
    "plt.title(\"Number of clusters: 3\")\n",
    "plt.scatter(X[:, 0], X[:, 1], c=y_pred, cmap=clrMap)\n",
    "plt.grid(True)\n",
    "plt.show()"
   ]
  },
  {
   "cell_type": "markdown",
   "metadata": {},
   "source": [
    "<p>Пример</p>"
   ]
  },
  {
   "cell_type": "code",
   "execution_count": null,
   "metadata": {
    "collapsed": true
   },
   "outputs": [],
   "source": [
    "X_class, y_class = datasets.make_classification(n_samples=n, n_features=2, n_redundant=0,\n",
    "                           n_informative=2, n_clusters_per_class=1, n_classes=3, class_sep=2,\n",
    "                           random_state=1234)\n",
    "X_blob, y_blob = datasets.make_blobs(n_samples=n, random_state=1000)\n",
    "X_moon, y_moon = datasets.make_moons(n_samples=n, noise=0.1)\n",
    "X_circle, y_circle = datasets.make_circles(n_samples=n, factor=0.1, noise=0.1)\n",
    "X_rand, y_rand = np.random.rand(n, 2), None"
   ]
  },
  {
   "cell_type": "code",
   "execution_count": null,
   "metadata": {
    "collapsed": false
   },
   "outputs": [],
   "source": [
    "plt.figure(figsize=[18, 4])\n",
    "\n",
    "plt.subplot(1,5,1)\n",
    "plt.title(\"Initial data\")\n",
    "plt.scatter(X_class[:, 0], X_class[:, 1])\n",
    "plt.grid(True)\n",
    "\n",
    "plt.subplot(1,5,2)\n",
    "plt.title(\"Initial data\")\n",
    "plt.scatter(X_blob[:, 0], X_blob[:, 1])\n",
    "plt.grid(True)\n",
    "\n",
    "plt.subplot(1,5,3)\n",
    "plt.title(\"Initial data\")\n",
    "plt.scatter(X_moon[:, 0], X_moon[:, 1])\n",
    "plt.grid(True)\n",
    "\n",
    "plt.subplot(1,5,4)\n",
    "plt.title(\"Initial data\")\n",
    "plt.scatter(X_circle[:, 0], X_circle[:, 1])\n",
    "plt.grid(True)\n",
    "\n",
    "plt.subplot(1,5,5)\n",
    "plt.title(\"Initial data\")\n",
    "plt.scatter(X_rand[:, 0], X_rand[:, 1])\n",
    "plt.grid(True)\n",
    "\n",
    "plt.tight_layout()\n",
    "\n",
    "plt.show()"
   ]
  },
  {
   "cell_type": "code",
   "execution_count": null,
   "metadata": {
    "collapsed": false
   },
   "outputs": [],
   "source": [
    "dbscan_avr = DBSCAN(min_samples=15, eps=0.6, metric=\"euclidean\")\n",
    "\n",
    "y_pred_class = dbscan_avr.fit_predict(X_class)\n",
    "y_pred_blob = dbscan_avr.fit_predict(X_blob)\n",
    "\n",
    "dbscan_avr_2 = DBSCAN(min_samples=20, eps=0.2, metric=\"euclidean\")\n",
    "y_pred_moon = dbscan_avr_2.fit_predict(X_moon)\n",
    "\n",
    "y_pred_circle = dbscan_avr_2.fit_predict(X_circle)\n",
    "y_pred_rand = dbscan_avr_2.fit_predict(X_rand)"
   ]
  },
  {
   "cell_type": "code",
   "execution_count": null,
   "metadata": {
    "collapsed": false
   },
   "outputs": [],
   "source": [
    "plt.figure(figsize=[18, 4])\n",
    "\n",
    "plt.subplot(1,5,1)\n",
    "plt.title(\"Initial data\")\n",
    "plt.scatter(X_class[:, 0], X_class[:, 1], c=y_pred_class, cmap=clrMap)\n",
    "plt.grid(True)\n",
    "\n",
    "plt.subplot(1,5,2)\n",
    "plt.title(\"Initial data\")\n",
    "plt.scatter(X_blob[:, 0], X_blob[:, 1], c=y_pred_blob, cmap=clrMap)\n",
    "plt.grid(True)\n",
    "\n",
    "plt.subplot(1,5,3)\n",
    "plt.title(\"Initial data\")\n",
    "plt.scatter(X_moon[:, 0], X_moon[:, 1], c=y_pred_moon, cmap=clrMap)\n",
    "plt.grid(True)\n",
    "\n",
    "plt.subplot(1,5,4)\n",
    "plt.title(\"Initial data\")\n",
    "plt.scatter(X_circle[:, 0], X_circle[:, 1], c=y_pred_circle, cmap=clrMap)\n",
    "plt.grid(True)\n",
    "\n",
    "plt.subplot(1,5,5)\n",
    "plt.title(\"Initial data\")\n",
    "plt.scatter(X_rand[:, 0], X_rand[:, 1], c=y_pred_rand, cmap=clrMap)\n",
    "plt.grid(True)\n",
    "\n",
    "plt.tight_layout()\n",
    "\n",
    "plt.show()"
   ]
  },
  {
   "cell_type": "code",
   "execution_count": null,
   "metadata": {
    "collapsed": true
   },
   "outputs": [],
   "source": []
  },
  {
   "cell_type": "code",
   "execution_count": null,
   "metadata": {
    "collapsed": true
   },
   "outputs": [],
   "source": []
  }
 ],
 "metadata": {
  "kernelspec": {
   "display_name": "Python 3",
   "language": "python",
   "name": "python3"
  },
  "language_info": {
   "codemirror_mode": {
    "name": "ipython",
    "version": 3
   },
   "file_extension": ".py",
   "mimetype": "text/x-python",
   "name": "python",
   "nbconvert_exporter": "python",
   "pygments_lexer": "ipython3",
   "version": "3.5.2"
  }
 },
 "nbformat": 4,
 "nbformat_minor": 0
}
