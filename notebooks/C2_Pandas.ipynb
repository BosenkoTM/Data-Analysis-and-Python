{
 "cells": [
  {
   "cell_type": "markdown",
   "metadata": {},
   "source": [
    "<div style=\"font-size:18pt; padding-top:20px; text-align:center\">СЕМИНАР. <b>Введение в </b> <span style=\"font-weight:bold; color:green\">Pandas</span></div><hr>\n",
    "<div style=\"text-align:right;\">Папулин С.Ю. <span style=\"font-style: italic;font-weight: bold;\">(papulin.study@yandex.ru)</span></div>"
   ]
  },
  {
   "cell_type": "markdown",
   "metadata": {},
   "source": [
    "<a name=\"0\"></a>\n",
    "<div><span style=\"font-size:14pt; font-weight:bold\">Содержание</span>\n",
    "    <ol>\n",
    "        <li><a href=\"#1\">Основные типы данных в Pandas</a></li>\n",
    "            <ol style = \"list-style-type:lower-alpha\">\n",
    "                <li><a href=\"#1a\">Последовательность</a></li>\n",
    "                <li><a href=\"#1b\">Табличная структура данных (DataFrame)</a></li>\n",
    "                <li><a href=\"#1c\">Панель (Panel)</a></li>\n",
    "            </ol>\n",
    "        <li><a href=\"#2\">Первые шаги с DataFrame</a></li>\n",
    "            <ol style = \"list-style-type:lower-alpha\">\n",
    "                <li><a href=\"#2a\">Создание DataFrame</a></li>\n",
    "                <li><a href=\"#2b\">Обращение к элементам</a></li>\n",
    "                <li><a href=\"#2c\">Запись содержания DataFrame во внешний файл</a></li>\n",
    "                <li><a href=\"#2d\">Загрузка внешних данных в DataFrame</a></li>\n",
    "            </ol>\n",
    "        <li><a href=\"#3\">Манипулирование DataFrame'ми</a></li>\n",
    "            <ol style = \"list-style-type:lower-alpha\">\n",
    "                <li><a href=\"#3a\">Столбцы</a></li>\n",
    "                <li><a href=\"#3b\">Строки</a></li>\n",
    "                <li><a href=\"#3c\">Значения ячеек</a></li>\n",
    "                <li><a href=\"#3d\">Группировка</a></li>\n",
    "                <li><a href=\"#3e\">Сортировка</a></li>\n",
    "                <li><a href=\"#3f\">Сложные индексы</a></li>\n",
    "                <li><a href=\"#3g\">Объединение DataFrame'ов: <i>append, concat, merge, join</i></a></li>\n",
    "                <li><a href=\"#3h\">Методы <i>iterrows</i>, <i>map</i>, <i>apply</i>, <i>applymap</i></a></li>\n",
    "            </ol>\n",
    "        <li><a href=\"#4\">Математическая поддержка</a></li>\n",
    "            <ol style = \"list-style-type:lower-alpha\">\n",
    "                <li><a href=\"#4a\">Операции со столбцами</a></li>\n",
    "                <li><a href=\"#4b\">Специальные методы</a></li>\n",
    "            </ol>\n",
    "        <li><a href=\"#5\">Визуализация данных</a></li>\n",
    "            <ol style = \"list-style-type:lower-alpha\">\n",
    "                <li><a href=\"#5a\">График (plot)</a></li>\n",
    "                <li><a href=\"#5b\">Гистограмма</a></li>\n",
    "            </ol>\n",
    "        <li><a href=\"#6\">Источники</a></li>\n",
    "    </ol>\n",
    "</div>"
   ]
  },
  {
   "cell_type": "markdown",
   "metadata": {},
   "source": [
    "Подключение стилей оформления"
   ]
  },
  {
   "cell_type": "code",
   "execution_count": null,
   "metadata": {},
   "outputs": [],
   "source": [
    "%%html\n",
    "<link href=\"css/style.css\" rel=\"stylesheet\" type=\"text/css\">"
   ]
  },
  {
   "cell_type": "markdown",
   "metadata": {},
   "source": [
    "<a name=\"1\"></a>\n",
    "<div style=\"display:table; width:100%; padding-top:10px; padding-bottom:10px; border-bottom:1px solid lightgrey\">\n",
    "    <div style=\"display:table-row\">\n",
    "        <div style=\"display:table-cell; width:80%; font-size:14pt; font-weight:bold\">1. Основные типы данных в <span style=\"font-weight:bold; color:green\">Pandas</span></div>\n",
    "    \t<div style=\"display:table-cell; width:20%; text-align:center; background-color:whitesmoke; border:1px solid lightgrey\"><a href=\"#0\">К содержанию</a></div>\n",
    "    </div>\n",
    "</div>"
   ]
  },
  {
   "cell_type": "markdown",
   "metadata": {},
   "source": [
    "<div>\n",
    "<p><b>Рассматриваемые вопросы:</b></p>\n",
    "<p style=\"line-height:20pt\">\n",
    "a) последовательность <span style=\"font-weight:bold; color:green\">Series</span><br> \n",
    "b) табличная структура <span style=\"font-weight:bold; color:green\">DataFrame</span><br> \n",
    "c) панель <span style=\"font-weight:bold; color:green\">Panel</span><br>\n",
    "</div>"
   ]
  },
  {
   "cell_type": "code",
   "execution_count": 1,
   "metadata": {},
   "outputs": [],
   "source": [
    "import pandas as pnd\n",
    "import numpy as np"
   ]
  },
  {
   "cell_type": "markdown",
   "metadata": {},
   "source": [
    "<a name=\"1a\"></a>\n",
    "<div style=\"padding-top:10px;\">\n",
    "    <div style=\"display: inline-block; font-style:italic; font-weight:bold; font-size:12pt\">a. Последовательность (<span style=\"font-weight:bold; color:green\">Series</span>)</div>\n",
    "    <div style=\"display: inline-block; float:right; width:20%; text-align:center; border:1px solid lightgrey\">\n",
    "        <div style=\"display: inline-block; text-align:center; width:50%; background-color:whitesmoke;\"><a href=\"#1\">Назад</a></div><div style=\"display: inline-block; text-align:center; width:50%;\"><a href=\"#1b\">Далее</a></div>\n",
    "    </div>\n",
    "</div>"
   ]
  },
  {
   "cell_type": "markdown",
   "metadata": {},
   "source": [
    "<p>Последовательность <span style=\"font-weight:bold; color:green\">Series</span> - одномерный массив с метками (индексами) для хранения различных типов данных: целых (integer), действительных чисел (float), строк (string), объектов Python</p>"
   ]
  },
  {
   "cell_type": "code",
   "execution_count": null,
   "metadata": {},
   "outputs": [],
   "source": [
    "s = pnd.Series(data=[\"Dima\", \"Sveta\",\"Alex\", \"Ivan\", \"Kate\", \"Maria\"], index=list(range(1,7)), name=\"Name\")\n",
    "s"
   ]
  },
  {
   "cell_type": "code",
   "execution_count": null,
   "metadata": {},
   "outputs": [],
   "source": [
    "l_num = [-2.011894, 0.098981, 0.693385, 1.055508, 0.640023]\n",
    "l_num"
   ]
  },
  {
   "cell_type": "code",
   "execution_count": null,
   "metadata": {},
   "outputs": [],
   "source": [
    "s2 = pnd.Series(data=l_num, index=['a', 'b', 'c', 'd', 'e'], name=\"Number\")\n",
    "s2"
   ]
  },
  {
   "cell_type": "code",
   "execution_count": null,
   "metadata": {},
   "outputs": [],
   "source": [
    "l_num = [-2.0, 0.0, 0.0, 1.0, 0.0]\n",
    "l_num"
   ]
  },
  {
   "cell_type": "code",
   "execution_count": null,
   "metadata": {},
   "outputs": [],
   "source": [
    "s3 = pnd.Series(data=l_num, index=['a', 'b', 'c', 'd', 'e'], name=\"Number\", dtype='int32')\n",
    "s3"
   ]
  },
  {
   "cell_type": "markdown",
   "metadata": {},
   "source": [
    "<p>Вывод первых (<i>head</i>) и последних (<i>tail</i>) $n$ значений</p>"
   ]
  },
  {
   "cell_type": "code",
   "execution_count": null,
   "metadata": {},
   "outputs": [],
   "source": [
    "s.head(2)"
   ]
  },
  {
   "cell_type": "code",
   "execution_count": null,
   "metadata": {},
   "outputs": [],
   "source": [
    "s.tail(2)"
   ]
  },
  {
   "cell_type": "markdown",
   "metadata": {},
   "source": [
    "<p>Обращение к элементам <span style=\"font-weight:bold; color:green\">Series</span></p>"
   ]
  },
  {
   "cell_type": "code",
   "execution_count": null,
   "metadata": {},
   "outputs": [],
   "source": [
    "s[3]"
   ]
  },
  {
   "cell_type": "code",
   "execution_count": null,
   "metadata": {},
   "outputs": [],
   "source": [
    "s2['b']"
   ]
  },
  {
   "cell_type": "code",
   "execution_count": null,
   "metadata": {},
   "outputs": [],
   "source": [
    "s[3] = \"NewAlex\"\n",
    "s"
   ]
  },
  {
   "cell_type": "markdown",
   "metadata": {},
   "source": [
    "<a name=\"1b\"></a>\n",
    "<div style=\"padding-top:10px;\">\n",
    "    <div style=\"display: inline-block; font-style:italic; font-weight:bold; font-size:12pt\">b. Табличная структура данных (<span style=\"font-weight:bold; color:green\">DataFrame</span>)</div>\n",
    "    <div style=\"display: inline-block; float:right; width:20%; text-align:center; border:1px solid lightgrey\">\n",
    "        <div style=\"display: inline-block; text-align:center; width:50%; background-color:whitesmoke;\"><a href=\"#1a\">Назад</a></div><div style=\"display: inline-block; text-align:center; width:50%;\"><a href=\"#1c\">Далее</a></div>\n",
    "    </div>\n",
    "</div>"
   ]
  },
  {
   "cell_type": "markdown",
   "metadata": {},
   "source": [
    "<p>Табличная структура <span style=\"font-weight:bold; color:green\">DataFrame</span> - двумерный массив с метками</p>"
   ]
  },
  {
   "cell_type": "code",
   "execution_count": null,
   "metadata": {},
   "outputs": [],
   "source": [
    "rand_matrix = np.random.randn(4,3)\n",
    "rand_matrix"
   ]
  },
  {
   "cell_type": "code",
   "execution_count": null,
   "metadata": {},
   "outputs": [],
   "source": [
    "cmls = [\"Column_1\", \"Column_2\", \"Column_3\"]\n",
    "cmls"
   ]
  },
  {
   "cell_type": "code",
   "execution_count": null,
   "metadata": {},
   "outputs": [],
   "source": [
    "df = pnd.DataFrame(data=rand_matrix, columns=cmls)\n",
    "df"
   ]
  },
  {
   "cell_type": "code",
   "execution_count": null,
   "metadata": {},
   "outputs": [],
   "source": [
    "df2 = pnd.DataFrame(data=rand_matrix, columns=cmls, index=['a','b','c','d'])\n",
    "df2"
   ]
  },
  {
   "cell_type": "markdown",
   "metadata": {},
   "source": [
    "<p>Вывод первых и последних $n$ значений</p>"
   ]
  },
  {
   "cell_type": "code",
   "execution_count": null,
   "metadata": {},
   "outputs": [],
   "source": [
    "df2.head(2)"
   ]
  },
  {
   "cell_type": "code",
   "execution_count": null,
   "metadata": {},
   "outputs": [],
   "source": [
    "df2.tail(2)"
   ]
  },
  {
   "cell_type": "markdown",
   "metadata": {},
   "source": [
    "<p>Способы обращения к столбцам, строкам и ячейкам <span style=\"font-weight:bold; color:green\">DataFrame</span>'а рассматриваются в следующих разделах</p>"
   ]
  },
  {
   "cell_type": "markdown",
   "metadata": {},
   "source": [
    "<a name=\"1c\"></a>\n",
    "<div style=\"padding-top:10px;\">\n",
    "    <div style=\"display: inline-block; font-style:italic; font-weight:bold; font-size:12pt\">с. Панель (<span style=\"font-weight:bold; color:green\">Panel</span>)</div>\n",
    "    <div style=\"display: inline-block; float:right; width:20%; text-align:center; border:1px solid lightgrey\">\n",
    "        <div style=\"display: inline-block; text-align:center; width:50%; background-color:whitesmoke;\"><a href=\"#1b\">Назад</a></div><div style=\"display: inline-block; text-align:center; width:50%;\"><a href=\"#2\">Далее</a></div>\n",
    "    </div>\n",
    "</div>"
   ]
  },
  {
   "cell_type": "markdown",
   "metadata": {},
   "source": [
    "<div class=\"msg-block msg-imp\">\n",
    "    <div class=\"msg-text-imp\">\n",
    "        Panel были удалены в pandas 0.25.0\n",
    "    </div>\n",
    "</div>"
   ]
  },
  {
   "cell_type": "markdown",
   "metadata": {
    "collapsed": true
   },
   "source": [
    "<p>Панель <span style=\"font-weight:bold; color:green\">Panel</span> - контейнер для трехмерных данных</p>"
   ]
  },
  {
   "cell_type": "markdown",
   "metadata": {},
   "source": [
    "<p>Создание панели с использованием списков</p>"
   ]
  },
  {
   "cell_type": "code",
   "execution_count": null,
   "metadata": {},
   "outputs": [],
   "source": [
    "data_3d = [[[\"TV\", 100, 40],\n",
    "            [\"Smartphone\", 50, 10], \n",
    "            [\"Pendrive\", 10, 10]],\n",
    "           [[\"TV\", 90, 48],\n",
    "            [\"Smartphone\", 45, 12], \n",
    "            [\"Pendrive\", 12, 8]]]\n",
    "data_3d"
   ]
  },
  {
   "cell_type": "code",
   "execution_count": null,
   "metadata": {},
   "outputs": [],
   "source": [
    "p = pnd.Panel(data=data_3d, \n",
    "              items=[\"Jan\",\"Feb\"], \n",
    "              major_axis=list(range(3)), \n",
    "              minor_axis=[\"Item_Name\",\"Item_Price\",\"Item_Total\"])\n",
    "p"
   ]
  },
  {
   "cell_type": "markdown",
   "metadata": {},
   "source": [
    "<p>Создание панели через словарь</p>"
   ]
  },
  {
   "cell_type": "code",
   "execution_count": null,
   "metadata": {},
   "outputs": [],
   "source": [
    "data_3d = {\"Jan\": {\"Item_Name\":[\"TV\", \"Smartphone\", \"Pendrive\"],\n",
    "                    \"Item_Price\":[100, 50, 10], \n",
    "                    \"Item_Total\": [40, 10, 10]}, \n",
    "            \"Feb\": {\"Item_Name\":[\"TV\", \"Smartphone\", \"Pendrive\"],\n",
    "                    \"Item_Price\":[90, 45, 12], \n",
    "                    \"Item_Total\": [48, 12, 8]}}\n",
    "data_3d"
   ]
  },
  {
   "cell_type": "code",
   "execution_count": null,
   "metadata": {},
   "outputs": [],
   "source": [
    "p2 = pnd.Panel(data=data_3d)\n",
    "p2"
   ]
  },
  {
   "cell_type": "markdown",
   "metadata": {},
   "source": [
    "<p>Обращение к таблицам <span style=\"font-weight:bold; color:green\">Panel</span></p>"
   ]
  },
  {
   "cell_type": "code",
   "execution_count": null,
   "metadata": {},
   "outputs": [],
   "source": [
    "p['Jan']"
   ]
  },
  {
   "cell_type": "code",
   "execution_count": null,
   "metadata": {},
   "outputs": [],
   "source": [
    "p2['Jan']"
   ]
  },
  {
   "cell_type": "code",
   "execution_count": null,
   "metadata": {},
   "outputs": [],
   "source": [
    "p['Feb']"
   ]
  },
  {
   "cell_type": "code",
   "execution_count": null,
   "metadata": {},
   "outputs": [],
   "source": [
    "p2['Feb']"
   ]
  },
  {
   "cell_type": "markdown",
   "metadata": {},
   "source": [
    "<a name=\"2\"></a>\n",
    "<div style=\"display:table; width:100%; padding-top:10px; padding-bottom:10px; border-bottom:1px solid lightgrey\">\n",
    "    <div style=\"display:table-row\">\n",
    "        <div style=\"display:table-cell; width:80%; font-size:14pt; font-weight:bold\">2. Первые шаги с <span style=\"font-weight:bold; color:green\">DataFrame</span></div>\n",
    "    \t<div style=\"display:table-cell; width:20%; text-align:center; background-color:whitesmoke; border:1px solid lightgrey\"><a href=\"#0\">К содержанию</a></div>\n",
    "    </div>\n",
    "</div>"
   ]
  },
  {
   "cell_type": "markdown",
   "metadata": {},
   "source": [
    "<div>\n",
    "<p><b>Рассматриваемые вопросы:</b></p>\n",
    "<p style=\"line-height:20pt\">\n",
    "a) создание <span style=\"font-weight:bold; color:green\">DataFrame</span>'а: <i>с использованием матрицы, списков, словаря, последовательностей</i><br> \n",
    "b) обращение к элементам<br> \n",
    "c) запись содержания <span style=\"font-weight:bold; color:green\">DataFrame</span>'а во внешний файл: <i><b>csv</b> формат данных</i><br> \n",
    "d) загрузка внешних данных в <span style=\"font-weight:bold; color:green\">DataFrame</span>: <i>обращение к ячейкам, изменение значений</i><br>\n",
    "</div>"
   ]
  },
  {
   "cell_type": "markdown",
   "metadata": {},
   "source": [
    "<a name=\"2a\"></a>\n",
    "<div style=\"padding-top:10px;\">\n",
    "    <div style=\"display: inline-block; font-style:italic; font-weight:bold; font-size:12pt\">a. Создание <span style=\"font-weight:bold; color:green\">DataFrame</span>'а</div>\n",
    "    <div style=\"display: inline-block; float:right; width:20%; text-align:center; border:1px solid lightgrey\">\n",
    "        <div style=\"display: inline-block; text-align:center; width:50%; background-color:whitesmoke;\"><a href=\"#2\">Назад</a></div><div style=\"display: inline-block; text-align:center; width:50%;\"><a href=\"#2b\">Далее</a></div>\n",
    "    </div>\n",
    "</div>"
   ]
  },
  {
   "cell_type": "markdown",
   "metadata": {},
   "source": [
    "<p>Создание <span style=\"font-weight:bold; color:green\">DataFrame</span>'а с использованием <i>матрицы</i></p>"
   ]
  },
  {
   "cell_type": "code",
   "execution_count": 2,
   "metadata": {},
   "outputs": [
    {
     "data": {
      "text/plain": [
       "[['Dima', 'Moscow', 1988, 4, 'm'],\n",
       " ['Sveta', 'Kiev', 1999, 4, 'f'],\n",
       " ['Alex', 'Minsk', 1954, nan, 'm'],\n",
       " ['Ivan', 'St.Petersburg', 2005, 6, 'm'],\n",
       " ['Kate', 'London', 2001, nan, 'f'],\n",
       " ['Maria', 'New York', 1997, 7, 'f']]"
      ]
     },
     "execution_count": 2,
     "metadata": {},
     "output_type": "execute_result"
    }
   ],
   "source": [
    "matrix = [['Dima', 'Moscow', 1988, 4, 'm'],\n",
    " ['Sveta', 'Kiev', 1999, 4, 'f'],\n",
    " ['Alex', 'Minsk', 1954, np.NaN, 'm'],\n",
    " ['Ivan', 'St.Petersburg', 2005, 6, 'm'],\n",
    " ['Kate', 'London', 2001, np.NaN, 'f'],\n",
    " ['Maria', 'New York', 1997, 7, 'f']]\n",
    "matrix"
   ]
  },
  {
   "cell_type": "code",
   "execution_count": 3,
   "metadata": {},
   "outputs": [
    {
     "data": {
      "text/html": [
       "<div>\n",
       "<style scoped>\n",
       "    .dataframe tbody tr th:only-of-type {\n",
       "        vertical-align: middle;\n",
       "    }\n",
       "\n",
       "    .dataframe tbody tr th {\n",
       "        vertical-align: top;\n",
       "    }\n",
       "\n",
       "    .dataframe thead th {\n",
       "        text-align: right;\n",
       "    }\n",
       "</style>\n",
       "<table border=\"1\" class=\"dataframe\">\n",
       "  <thead>\n",
       "    <tr style=\"text-align: right;\">\n",
       "      <th></th>\n",
       "      <th>Name</th>\n",
       "      <th>City</th>\n",
       "      <th>Year</th>\n",
       "      <th>Grade</th>\n",
       "      <th>Gender</th>\n",
       "    </tr>\n",
       "  </thead>\n",
       "  <tbody>\n",
       "    <tr>\n",
       "      <td>0</td>\n",
       "      <td>Dima</td>\n",
       "      <td>Moscow</td>\n",
       "      <td>1988</td>\n",
       "      <td>4.0</td>\n",
       "      <td>m</td>\n",
       "    </tr>\n",
       "    <tr>\n",
       "      <td>1</td>\n",
       "      <td>Sveta</td>\n",
       "      <td>Kiev</td>\n",
       "      <td>1999</td>\n",
       "      <td>4.0</td>\n",
       "      <td>f</td>\n",
       "    </tr>\n",
       "    <tr>\n",
       "      <td>2</td>\n",
       "      <td>Alex</td>\n",
       "      <td>Minsk</td>\n",
       "      <td>1954</td>\n",
       "      <td>NaN</td>\n",
       "      <td>m</td>\n",
       "    </tr>\n",
       "    <tr>\n",
       "      <td>3</td>\n",
       "      <td>Ivan</td>\n",
       "      <td>St.Petersburg</td>\n",
       "      <td>2005</td>\n",
       "      <td>6.0</td>\n",
       "      <td>m</td>\n",
       "    </tr>\n",
       "    <tr>\n",
       "      <td>4</td>\n",
       "      <td>Kate</td>\n",
       "      <td>London</td>\n",
       "      <td>2001</td>\n",
       "      <td>NaN</td>\n",
       "      <td>f</td>\n",
       "    </tr>\n",
       "    <tr>\n",
       "      <td>5</td>\n",
       "      <td>Maria</td>\n",
       "      <td>New York</td>\n",
       "      <td>1997</td>\n",
       "      <td>7.0</td>\n",
       "      <td>f</td>\n",
       "    </tr>\n",
       "  </tbody>\n",
       "</table>\n",
       "</div>"
      ],
      "text/plain": [
       "    Name           City  Year  Grade Gender\n",
       "0   Dima         Moscow  1988    4.0      m\n",
       "1  Sveta           Kiev  1999    4.0      f\n",
       "2   Alex          Minsk  1954    NaN      m\n",
       "3   Ivan  St.Petersburg  2005    6.0      m\n",
       "4   Kate         London  2001    NaN      f\n",
       "5  Maria       New York  1997    7.0      f"
      ]
     },
     "execution_count": 3,
     "metadata": {},
     "output_type": "execute_result"
    }
   ],
   "source": [
    "df = pnd.DataFrame(data=matrix, columns=[\"Name\", \"City\", \"Year\", \"Grade\", \"Gender\"])\n",
    "df"
   ]
  },
  {
   "cell_type": "code",
   "execution_count": 4,
   "metadata": {},
   "outputs": [],
   "source": [
    "def init_df():\n",
    "    return pnd.DataFrame(data=matrix, columns=[\"Name\", \"City\", \"Year\", \"Grade\", \"Gender\"])"
   ]
  },
  {
   "cell_type": "markdown",
   "metadata": {},
   "source": [
    "<p>Создание <span style=\"font-weight:bold; color:green\">DataFrame</span>'а с использованием <i>списков</i> и <b>zip()</b></p>"
   ]
  },
  {
   "cell_type": "code",
   "execution_count": null,
   "metadata": {},
   "outputs": [],
   "source": [
    "names = [\"Dima\", \"Sveta\",\"Alex\", \"Ivan\", \"Kate\", \"Maria\"]\n",
    "cities = [\"Moscow\", \"Kiev\", \"Minsk\", \"St.Petersburg\", \"London\", \"New York\"]\n",
    "year = [1988, 1999, 1954, 2005, 2001, 1997]\n",
    "grades = [4, 4, np.NaN, 6, np.NaN, 7]\n",
    "gender = [\"m\", \"f\", \"m\", \"m\", \"f\", \"f\"]\n",
    "\n",
    "rows = list(zip(names, cities, year, grades, gender))\n",
    "rows"
   ]
  },
  {
   "cell_type": "code",
   "execution_count": null,
   "metadata": {},
   "outputs": [],
   "source": [
    "df = pnd.DataFrame(data=rows, columns=[\"Name\", \"City\", \"Year\", \"Grade\", \"Gender\"])\n",
    "df"
   ]
  },
  {
   "cell_type": "markdown",
   "metadata": {},
   "source": [
    "<p>Создание <span style=\"font-weight:bold; color:green\">DataFrame</span>'а с использованием <i>списков</i> и <i>словаря</i></p>"
   ]
  },
  {
   "cell_type": "code",
   "execution_count": null,
   "metadata": {},
   "outputs": [],
   "source": [
    "d_data = {\"Name\":[\"Dima\", \"Sveta\",\"Alex\", \"Ivan\", \"Kate\", \"Maria\"],\n",
    "          \"City\":[\"Moscow\", \"Kiev\", \"Minsk\", \"St.Petersburg\", \"London\", \"New York\"],\n",
    "          \"Year\":[1988, 1999, 1954, 2005, 2001, 1997],\n",
    "          \"Grade\":[4, 4, np.NaN, 6, np.NaN, 7],\n",
    "          \"Gender\":[\"m\", \"f\", \"m\", \"m\", \"f\", \"f\"]}\n",
    "d_data"
   ]
  },
  {
   "cell_type": "code",
   "execution_count": null,
   "metadata": {},
   "outputs": [],
   "source": [
    "df = pnd.DataFrame(data=d_data)\n",
    "df"
   ]
  },
  {
   "cell_type": "markdown",
   "metadata": {},
   "source": [
    "<p>Чтобы указать последовательность столбцов, следует воспользоваться параметром <i>columns</i></p>"
   ]
  },
  {
   "cell_type": "code",
   "execution_count": null,
   "metadata": {},
   "outputs": [],
   "source": [
    "df = pnd.DataFrame(data=d_data, columns = [\"Name\", \"Year\", \"City\", \"Grade\", \"Gender\"])\n",
    "df"
   ]
  },
  {
   "cell_type": "markdown",
   "metadata": {},
   "source": [
    "<p>Создание <span style=\"font-weight:bold; color:green\">DataFrame</span>'а с использованием <i>последовательностей</i></p>"
   ]
  },
  {
   "cell_type": "code",
   "execution_count": null,
   "metadata": {},
   "outputs": [],
   "source": [
    "s1 = pnd.Series(data=[\"Dima\", \"Sveta\", \"Alex\", \"Ivan\", \"Kate\", \"Maria\"], name=\"Name\")\n",
    "s2 = pnd.Series(data=[\"Moscow\", \"Kiev\", \"Minsk\", \"St.Petersburg\", \"London\", \"New York\"], name=\"City\")\n",
    "s3 = pnd.Series(data=[1988, 1999, 1954, 2005, 2001, 1997], name=\"Year\")\n",
    "s4 = pnd.Series(data=[4, 4, np.NaN, 6, np.NaN, 7], name=\"Grade\")\n",
    "s5 = pnd.Series(data=['m', 'f', 'm', 'm', 'f', 'f'], name=\"Gender\")\n",
    "\n",
    "df1 = pnd.DataFrame([s1,s2,s3,s4,s5])\n",
    "df1"
   ]
  },
  {
   "cell_type": "code",
   "execution_count": null,
   "metadata": {},
   "outputs": [],
   "source": [
    "df1 = df1.T\n",
    "df1"
   ]
  },
  {
   "cell_type": "code",
   "execution_count": null,
   "metadata": {},
   "outputs": [],
   "source": [
    "df2 = pnd.DataFrame({\"Name\": s1.values, \"City\": s2.values, \"Year\": s3.values})\n",
    "df2"
   ]
  },
  {
   "cell_type": "markdown",
   "metadata": {},
   "source": [
    "Чтобы изменить стандартную индексацию от 0, можно воспользоваться следующим выражением"
   ]
  },
  {
   "cell_type": "code",
   "execution_count": null,
   "metadata": {},
   "outputs": [],
   "source": [
    "df.index = df.index + 1  # индексация будет от 1\n",
    "df"
   ]
  },
  {
   "cell_type": "markdown",
   "metadata": {},
   "source": [
    "<p>Доступ к индексам</p>"
   ]
  },
  {
   "cell_type": "code",
   "execution_count": null,
   "metadata": {},
   "outputs": [],
   "source": [
    "df.index"
   ]
  },
  {
   "cell_type": "markdown",
   "metadata": {},
   "source": [
    "<p>Доступ к именам столбцов</p>"
   ]
  },
  {
   "cell_type": "code",
   "execution_count": null,
   "metadata": {},
   "outputs": [],
   "source": [
    "df.columns"
   ]
  },
  {
   "cell_type": "markdown",
   "metadata": {},
   "source": [
    "<a name=\"2b\"></a>\n",
    "<div style=\"padding-top:10px;\">\n",
    "    <div style=\"display: inline-block; font-style:italic; font-weight:bold; font-size:12pt\">b. Обращение к элементам <span style=\"font-weight:bold; color:green\">DataFrame</span></div>\n",
    "    <div style=\"display: inline-block; float:right; width:20%; text-align:center; border:1px solid lightgrey\">\n",
    "        <div style=\"display: inline-block; text-align:center; width:50%; background-color:whitesmoke;\"><a href=\"#2a\">Назад</a></div><div style=\"display: inline-block; text-align:center; width:50%;\"><a href=\"#2c\">Далее</a></div>\n",
    "    </div>\n",
    "</div>"
   ]
  },
  {
   "cell_type": "markdown",
   "metadata": {},
   "source": [
    "<p>Обращение к элементу по <b>индексу</b> строки и имени столбца</p>"
   ]
  },
  {
   "cell_type": "code",
   "execution_count": null,
   "metadata": {},
   "outputs": [],
   "source": [
    "df.loc[2,\"City\"]"
   ]
  },
  {
   "cell_type": "markdown",
   "metadata": {},
   "source": [
    "<p>Обращение к элементу по <b>номеру</b> строки и номеру столбца</p>"
   ]
  },
  {
   "cell_type": "code",
   "execution_count": null,
   "metadata": {},
   "outputs": [],
   "source": [
    "df.iloc[2,2]"
   ]
  },
  {
   "cell_type": "markdown",
   "metadata": {},
   "source": [
    "<a name=\"2c\"></a>\n",
    "<div style=\"padding-top:10px;\">\n",
    "    <div style=\"display: inline-block; font-style:italic; font-weight:bold; font-size:12pt\">c. Запись содержания <span style=\"font-weight:bold; color:green\">DataFrame</span> во внешний файл</div>\n",
    "    <div style=\"display: inline-block; float:right; width:20%; text-align:center; border:1px solid lightgrey\">\n",
    "        <div style=\"display: inline-block; text-align:center; width:50%; background-color:whitesmoke;\"><a href=\"#2b\">Назад</a></div><div style=\"display: inline-block; text-align:center; width:50%;\"><a href=\"#2d\">Далее</a></div>\n",
    "    </div>\n",
    "</div>"
   ]
  },
  {
   "cell_type": "markdown",
   "metadata": {},
   "source": [
    "<p>Pandas позволяет работать с различными форматами файлов, такими как csv, excel, xml, json и др. Более подробно <a href=\"https://pandas.pydata.org/pandas-docs/stable/user_guide/io.html\">здесь</a></p>\n",
    "<p>В качестве примера далее рассматривается небольшой пример того, как значения <span style=\"font-weight:bold; color:green\">DataFrame</span>'а записать во внешний файл csv, а затем загрузить из него данные обратно в <span style=\"font-weight:bold; color:green\">DataFrame</span></p>"
   ]
  },
  {
   "cell_type": "markdown",
   "metadata": {},
   "source": [
    "<p>Запись данных в файл <i>csv</i></p>"
   ]
  },
  {
   "cell_type": "code",
   "execution_count": null,
   "metadata": {},
   "outputs": [],
   "source": [
    "df.to_csv(\"testFile.csv\", index=False, header=True)"
   ]
  },
  {
   "cell_type": "markdown",
   "metadata": {},
   "source": [
    "<a name=\"2d\"></a>\n",
    "<div style=\"padding-top:10px;\">\n",
    "    <div style=\"display: inline-block; font-style:italic; font-weight:bold; font-size:12pt\">d. Загрузка внешних данных в <span style=\"font-weight:bold; color:green\">DataFrame</span></div>\n",
    "    <div style=\"display: inline-block; float:right; width:20%; text-align:center; border:1px solid lightgrey\">\n",
    "        <div style=\"display: inline-block; text-align:center; width:50%; background-color:whitesmoke;\"><a href=\"#2c\">Назад</a></div><div style=\"display: inline-block; text-align:center; width:50%;\"><a href=\"#3\">Далее</a></div>\n",
    "    </div>\n",
    "</div>"
   ]
  },
  {
   "cell_type": "code",
   "execution_count": null,
   "metadata": {},
   "outputs": [],
   "source": [
    "df1 = pnd.read_csv(\"testFile.csv\")\n",
    "df1"
   ]
  },
  {
   "cell_type": "markdown",
   "metadata": {},
   "source": [
    "<a name=\"3\"></a>\n",
    "<div style=\"padding-top:10px;\">\n",
    "    <div style=\"display: inline-block; font-size:14pt; font-weight:bold\">3. Манипулирование <span style=\"font-weight:bold; color:green\">DataFrame</span>'ми</div>\n",
    "    <div style=\"display: inline-block; float:right; width:20%; text-align:center; background-color:whitesmoke; border:1px solid lightgrey\"><a href=\"#0\">К содержанию</a></div>\n",
    "</div>\n",
    "\n",
    "<div style=\"padding-bottom:10px; border-bottom:1px solid lightgrey\"></div>"
   ]
  },
  {
   "cell_type": "markdown",
   "metadata": {},
   "source": [
    "<div>\n",
    "<p><b>Рассматриваемые вопросы:</b></p>\n",
    "<p style=\"line-height:20pt\">\n",
    "a) работа со столбцами: <i>выбор данных по столбцам, добавление/удаление столбца</i><br> \n",
    "b) работа со строками: <i>выбор строк по индексу, использование условий, добавление/удаление строк</i><br> \n",
    "c) работа с ячейками: <i>обращение к ячейкам, изменение значений</i><br>\n",
    "d) использованием метода groupby для группировки<br>\n",
    "e) сортировка строк<br>\n",
    "f) формирование сложных индексов<br>\n",
    "g) объединение нескольких <span style=\"font-weight:bold; color:green\">DataFrame</span>'ов: <i>append</i>, <i>concat</i>, <i>merge</i>, <i>join</i><br>\n",
    "h) методы iterrows, map, apply, applymap\n",
    "</p>\n",
    "</div>"
   ]
  },
  {
   "cell_type": "markdown",
   "metadata": {},
   "source": [
    "<a name=\"3a\"></a>\n",
    "<div style=\"padding-top:10px;\">\n",
    "    <div style=\"display: inline-block; font-style:italic; font-weight:bold; font-size:12pt\">a. Столбцы</div>\n",
    "    <div style=\"display: inline-block; float:right; width:20%; text-align:center; border:1px solid lightgrey\">\n",
    "        <div style=\"display: inline-block; text-align:center; width:50%; background-color:whitesmoke;\"><a href=\"#3\">Назад</a></div><div style=\"display: inline-block; text-align:center; width:50%;\"><a href=\"#3b\">Далее</a></div>\n",
    "    </div>\n",
    "</div>"
   ]
  },
  {
   "cell_type": "markdown",
   "metadata": {},
   "source": [
    "<p>Исходный <span style=\"font-weight:bold; color:green\">DataFrame</span></p>"
   ]
  },
  {
   "cell_type": "code",
   "execution_count": null,
   "metadata": {},
   "outputs": [],
   "source": [
    "df"
   ]
  },
  {
   "cell_type": "markdown",
   "metadata": {},
   "source": [
    "<p>Получение последовательности по имени столбца</p>"
   ]
  },
  {
   "cell_type": "code",
   "execution_count": null,
   "metadata": {},
   "outputs": [],
   "source": [
    "s_name = df[\"Name\"]\n",
    "s_name"
   ]
  },
  {
   "cell_type": "code",
   "execution_count": null,
   "metadata": {},
   "outputs": [],
   "source": [
    "s_name = df.Name\n",
    "s_name"
   ]
  },
  {
   "cell_type": "code",
   "execution_count": null,
   "metadata": {},
   "outputs": [],
   "source": [
    "type(s_name)"
   ]
  },
  {
   "cell_type": "markdown",
   "metadata": {},
   "source": [
    "<p>Получение DataFrame по столбцу</p>"
   ]
  },
  {
   "cell_type": "code",
   "execution_count": null,
   "metadata": {},
   "outputs": [],
   "source": [
    "df_name = df[[\"Name\"]]  # обращение по имени столбца\n",
    "df_name"
   ]
  },
  {
   "cell_type": "code",
   "execution_count": null,
   "metadata": {},
   "outputs": [],
   "source": [
    "df_name = df[[df.columns[0]]]  # обращение по индексу столбца\n",
    "df_name"
   ]
  },
  {
   "cell_type": "code",
   "execution_count": null,
   "metadata": {},
   "outputs": [],
   "source": [
    "type(df_name)"
   ]
  },
  {
   "cell_type": "markdown",
   "metadata": {},
   "source": [
    "<p>Использование нескольких столбцов для выбора данных</p>"
   ]
  },
  {
   "cell_type": "code",
   "execution_count": null,
   "metadata": {},
   "outputs": [],
   "source": [
    "df_select = df[[\"Name\", \"City\"]]\n",
    "df_select"
   ]
  },
  {
   "cell_type": "markdown",
   "metadata": {},
   "source": [
    "Получение уникальных значений столбца"
   ]
  },
  {
   "cell_type": "code",
   "execution_count": null,
   "metadata": {},
   "outputs": [],
   "source": [
    "df.Name.unique()"
   ]
  },
  {
   "cell_type": "code",
   "execution_count": null,
   "metadata": {},
   "outputs": [],
   "source": [
    "df.Gender.unique()"
   ]
  },
  {
   "cell_type": "markdown",
   "metadata": {},
   "source": [
    "<p>Добавление/изменение столбца</p>"
   ]
  },
  {
   "cell_type": "code",
   "execution_count": null,
   "metadata": {},
   "outputs": [],
   "source": [
    "df[\"NewColumn\"] = [4, 5, 7, 3, 2, 6]  # добавление\n",
    "df"
   ]
  },
  {
   "cell_type": "code",
   "execution_count": null,
   "metadata": {},
   "outputs": [],
   "source": [
    "df[\"Grade\"] = [1, 1, 1, 1, 1, 1]  # изменение\n",
    "df"
   ]
  },
  {
   "cell_type": "code",
   "execution_count": null,
   "metadata": {},
   "outputs": [],
   "source": [
    "df[\"Grade\"] = [4, 4, np.NaN, 6, np.NaN, 7]\n",
    "df"
   ]
  },
  {
   "cell_type": "code",
   "execution_count": null,
   "metadata": {},
   "outputs": [],
   "source": [
    "if \"NewColumn2\" not in df.columns:\n",
    "    df.insert(loc=1, value=[10,40,50,30,70,49], column=\"NewColumn2\")  # loc - позиция столбца\n",
    "df"
   ]
  },
  {
   "cell_type": "markdown",
   "metadata": {},
   "source": [
    "<p>Создание из исходного <i>df</i> нового <span style=\"font-weight:bold; color:green\">DataFrame</span>'а <i>df2</i> без столбца <i>NewColumn</i> </p>"
   ]
  },
  {
   "cell_type": "code",
   "execution_count": null,
   "metadata": {},
   "outputs": [],
   "source": [
    "df2 = df.drop('NewColumn', axis=1, inplace=False)  # axis = 1 - удаление столбца\n",
    "df2"
   ]
  },
  {
   "cell_type": "code",
   "execution_count": null,
   "metadata": {},
   "outputs": [],
   "source": [
    "df"
   ]
  },
  {
   "cell_type": "markdown",
   "metadata": {},
   "source": [
    "<p>Удаление столбцов из исходного <span style=\"font-weight:bold; color:green\">DataFrame</span>'а</p>"
   ]
  },
  {
   "cell_type": "code",
   "execution_count": null,
   "metadata": {},
   "outputs": [],
   "source": [
    "df.drop([\"NewColumn\", \"NewColumn2\"], axis=1, inplace=True)  # удаление нескольких столбцов\n",
    "df"
   ]
  },
  {
   "cell_type": "markdown",
   "metadata": {},
   "source": [
    "<a name=\"3b\"></a>\n",
    "<div style=\"padding-top:10px;\">\n",
    "    <div style=\"display: inline-block; font-style:italic; font-weight:bold; font-size:12pt\">b. Строки</div>\n",
    "    <div style=\"display: inline-block; float:right; width:20%; text-align:center; border:1px solid lightgrey\">\n",
    "        <div style=\"display: inline-block; text-align:center; width:50%; background-color:whitesmoke;\"><a href=\"#3a\">Назад</a></div><div style=\"display: inline-block; text-align:center; width:50%;\"><a href=\"#3c\">Далее</a></div>\n",
    "    </div>\n",
    "</div>"
   ]
  },
  {
   "cell_type": "markdown",
   "metadata": {},
   "source": [
    "<p>Исходный <span style=\"font-weight:bold; color:green\">DataFrame</span></p>"
   ]
  },
  {
   "cell_type": "code",
   "execution_count": null,
   "metadata": {},
   "outputs": [],
   "source": [
    "df"
   ]
  },
  {
   "cell_type": "markdown",
   "metadata": {},
   "source": [
    "<p>Выбор строк по <b>индексу</b></p>"
   ]
  },
  {
   "cell_type": "code",
   "execution_count": null,
   "metadata": {},
   "outputs": [],
   "source": [
    "df.loc[2] "
   ]
  },
  {
   "cell_type": "markdown",
   "metadata": {},
   "source": [
    "<p>Выбор строк по <b>позиции</b> (номер строки начиная с 0)</p>"
   ]
  },
  {
   "cell_type": "code",
   "execution_count": null,
   "metadata": {},
   "outputs": [],
   "source": [
    "df.iloc[2]"
   ]
  },
  {
   "cell_type": "markdown",
   "metadata": {},
   "source": [
    "Использование диапазона позиций"
   ]
  },
  {
   "cell_type": "code",
   "execution_count": null,
   "metadata": {},
   "outputs": [],
   "source": [
    "df[:3]"
   ]
  },
  {
   "cell_type": "code",
   "execution_count": null,
   "metadata": {},
   "outputs": [],
   "source": [
    "df[1:4]"
   ]
  },
  {
   "cell_type": "markdown",
   "metadata": {},
   "source": [
    "<p>Использование условий</p>"
   ]
  },
  {
   "cell_type": "code",
   "execution_count": null,
   "metadata": {},
   "outputs": [],
   "source": [
    "df[df.Name==\"Dima\"]"
   ]
  },
  {
   "cell_type": "code",
   "execution_count": null,
   "metadata": {},
   "outputs": [],
   "source": [
    "df[df[\"Grade\"]>=5]"
   ]
  },
  {
   "cell_type": "code",
   "execution_count": null,
   "metadata": {},
   "outputs": [],
   "source": [
    "df[df.Grade>=5]"
   ]
  },
  {
   "cell_type": "code",
   "execution_count": null,
   "metadata": {},
   "outputs": [],
   "source": [
    "df[(df.Grade>=5) & (df.Gender==\"f\")]  # операция \"И\""
   ]
  },
  {
   "cell_type": "code",
   "execution_count": null,
   "metadata": {},
   "outputs": [],
   "source": [
    "df[(df.Grade==4) | (df.Grade==6)]  # операция \"ИЛИ\""
   ]
  },
  {
   "cell_type": "code",
   "execution_count": null,
   "metadata": {},
   "outputs": [],
   "source": [
    "cond = (df.Grade==4) | (df.Grade==6)"
   ]
  },
  {
   "cell_type": "code",
   "execution_count": null,
   "metadata": {},
   "outputs": [],
   "source": [
    "df[cond]"
   ]
  },
  {
   "cell_type": "code",
   "execution_count": null,
   "metadata": {},
   "outputs": [],
   "source": [
    "df[np.isnan(df.Grade)]  # строки с неопредленным значнием Grade"
   ]
  },
  {
   "cell_type": "markdown",
   "metadata": {},
   "source": [
    "<p>Применение метода <b>isin()</b> для вывода строк, в которых значение заданного столбца содержится в списке</p>"
   ]
  },
  {
   "cell_type": "code",
   "execution_count": null,
   "metadata": {},
   "outputs": [],
   "source": [
    "l_cities = [\"Moscow\", \"Minsk\"]\n",
    "df2 = df[df.City.isin(l_cities)]\n",
    "df2"
   ]
  },
  {
   "cell_type": "markdown",
   "metadata": {},
   "source": [
    "<p>Добавление/изменение строки</p>"
   ]
  },
  {
   "cell_type": "code",
   "execution_count": null,
   "metadata": {},
   "outputs": [],
   "source": [
    "df.loc[10] = [\"NewName\", \"NewCity\", 2016, 1, \"f\"]  # добавление строки с указанием индекса\n",
    "df"
   ]
  },
  {
   "cell_type": "code",
   "execution_count": null,
   "metadata": {},
   "outputs": [],
   "source": [
    "df.loc[4] = [\"ChangedIvan\", \"St.Petersburg\", 2005, 6, \"m\"]  # изменение строки с указанием её номера\n",
    "df"
   ]
  },
  {
   "cell_type": "code",
   "execution_count": null,
   "metadata": {},
   "outputs": [],
   "source": [
    "df.iloc[0] = [\"Changed\", \"Changed\", 2000, 10, \"m\"]  # изменение строки по индексу строки\n",
    "df"
   ]
  },
  {
   "cell_type": "markdown",
   "metadata": {},
   "source": [
    "Метод <b>fillna()</b> заполняет пустые ячейки значением аргумента "
   ]
  },
  {
   "cell_type": "code",
   "execution_count": null,
   "metadata": {},
   "outputs": [],
   "source": [
    "df4 = df[\"Grade\"].fillna(-1)  # возвращает новый DataFrame\n",
    "pnd.DataFrame(df4)"
   ]
  },
  {
   "cell_type": "markdown",
   "metadata": {},
   "source": [
    "<p>Удаление строки</p>"
   ]
  },
  {
   "cell_type": "code",
   "execution_count": null,
   "metadata": {},
   "outputs": [],
   "source": [
    "# Удаление по номеру строки, axis = 0 - строки, inplace = True - удаляет в df\n",
    "df.drop(df.index[6], axis=0, inplace=True)\n",
    "df"
   ]
  },
  {
   "cell_type": "code",
   "execution_count": null,
   "metadata": {},
   "outputs": [],
   "source": [
    "df.drop(df.index[df.index==10], axis = 0, inplace = True)  # удаление по индексу строки\n",
    "df"
   ]
  },
  {
   "cell_type": "code",
   "execution_count": null,
   "metadata": {},
   "outputs": [],
   "source": [
    "df2 = df.drop(df.index[df.index==1], axis = 0, inplace = False)\n",
    "df2"
   ]
  },
  {
   "cell_type": "code",
   "execution_count": null,
   "metadata": {},
   "outputs": [],
   "source": [
    "df"
   ]
  },
  {
   "cell_type": "markdown",
   "metadata": {},
   "source": [
    "<p>Удаление всех строк, в которых есть неопределенное значение (NaN)</p>"
   ]
  },
  {
   "cell_type": "code",
   "execution_count": null,
   "metadata": {},
   "outputs": [],
   "source": [
    "df.dropna()  # возвращает новый DataFrame"
   ]
  },
  {
   "cell_type": "markdown",
   "metadata": {},
   "source": [
    "<a name=\"3c\"></a>\n",
    "<div style=\"padding-top:10px;\">\n",
    "    <div style=\"display: inline-block; font-style:italic; font-weight:bold; font-size:12pt\">c. Значения ячеек</div>\n",
    "    <div style=\"display: inline-block; float:right; width:20%; text-align:center; border:1px solid lightgrey\">\n",
    "        <div style=\"display: inline-block; text-align:center; width:50%; background-color:whitesmoke;\"><a href=\"#3b\">Назад</a></div><div style=\"display: inline-block; text-align:center; width:50%;\"><a href=\"#3d\">Далее</a></div>\n",
    "    </div>\n",
    "</div>"
   ]
  },
  {
   "cell_type": "markdown",
   "metadata": {},
   "source": [
    "<p>Обращение по <b>индексу</b> строки</p>"
   ]
  },
  {
   "cell_type": "code",
   "execution_count": null,
   "metadata": {},
   "outputs": [],
   "source": [
    "df.loc[2, \"City\"]"
   ]
  },
  {
   "cell_type": "markdown",
   "metadata": {},
   "source": [
    "<p>Обращение по <b>позиции</b> (номеру) строки</p>"
   ]
  },
  {
   "cell_type": "code",
   "execution_count": null,
   "metadata": {},
   "outputs": [],
   "source": [
    "df.iloc[2, 1]"
   ]
  },
  {
   "cell_type": "markdown",
   "metadata": {},
   "source": [
    "<p>Пример использования с циклом <i>for</i></p>"
   ]
  },
  {
   "cell_type": "code",
   "execution_count": null,
   "metadata": {},
   "outputs": [],
   "source": [
    "#Изменение значений в столбце Grade на +10\n",
    "for i in range(len(df)):\n",
    "    df.iloc[i, 3] += 10\n",
    "df"
   ]
  },
  {
   "cell_type": "markdown",
   "metadata": {},
   "source": [
    "<p>Срезы по строкам</p>"
   ]
  },
  {
   "cell_type": "code",
   "execution_count": null,
   "metadata": {},
   "outputs": [],
   "source": [
    "df.loc[:,\"City\"]"
   ]
  },
  {
   "cell_type": "code",
   "execution_count": null,
   "metadata": {},
   "outputs": [],
   "source": [
    "df.iloc[1:4, 1]"
   ]
  },
  {
   "cell_type": "markdown",
   "metadata": {},
   "source": [
    "<p>Срезы по строкам и столбцам</p>"
   ]
  },
  {
   "cell_type": "code",
   "execution_count": null,
   "metadata": {},
   "outputs": [],
   "source": [
    "df.loc[1:4,\"Name\":\"City\"]"
   ]
  },
  {
   "cell_type": "code",
   "execution_count": null,
   "metadata": {},
   "outputs": [],
   "source": [
    "df"
   ]
  },
  {
   "cell_type": "markdown",
   "metadata": {},
   "source": [
    "<p>Изменение значения ячейки. Если нет указанного индекса в <span style=\"font-weight:bold; color:green\">DataFrame</span>'е, то добавляется новая строка</p>"
   ]
  },
  {
   "cell_type": "code",
   "execution_count": null,
   "metadata": {},
   "outputs": [],
   "source": [
    "df.at[10, \"Name\"] = \"NewName\"\n",
    "df"
   ]
  },
  {
   "cell_type": "code",
   "execution_count": null,
   "metadata": {},
   "outputs": [],
   "source": [
    "df.iat[2, 0] = \"NewName\"\n",
    "df"
   ]
  },
  {
   "cell_type": "code",
   "execution_count": null,
   "metadata": {},
   "outputs": [],
   "source": [
    "df.drop(df.index[df.index==10], axis = 0, inplace = True) # удаление по индексу строки\n",
    "df"
   ]
  },
  {
   "cell_type": "markdown",
   "metadata": {},
   "source": [
    "<a name=\"3d\"></a>\n",
    "<div style=\"padding-top:10px;\">\n",
    "    <div style=\"display: inline-block; font-style:italic; font-weight:bold; font-size:12pt\">d. Группировка</div>\n",
    "    <div style=\"display: inline-block; float:right; width:20%; text-align:center; border:1px solid lightgrey\">\n",
    "        <div style=\"display: inline-block; text-align:center; width:50%; background-color:whitesmoke;\"><a href=\"#3c\">Назад</a></div><div style=\"display: inline-block; text-align:center; width:50%;\"><a href=\"#3e\">Далее</a></div>\n",
    "    </div>\n",
    "</div>"
   ]
  },
  {
   "cell_type": "code",
   "execution_count": null,
   "metadata": {},
   "outputs": [],
   "source": [
    "df = init_df()\n",
    "df"
   ]
  },
  {
   "cell_type": "code",
   "execution_count": null,
   "metadata": {},
   "outputs": [],
   "source": [
    "salary = [10, 40, 50, 30, 70, 49]\n",
    "marital_status = [True, False, True, True, True, False]\n",
    "df_group = df.copy()\n",
    "df_group[\"Salary\"] = salary\n",
    "df_group[\"Marriage\"] = marital_status\n",
    "df_group"
   ]
  },
  {
   "cell_type": "markdown",
   "metadata": {},
   "source": [
    "<p>Итеративный объект с группами по значению столбца</p>"
   ]
  },
  {
   "cell_type": "code",
   "execution_count": null,
   "metadata": {},
   "outputs": [],
   "source": [
    "groupby = df_group.groupby(\"Gender\")\n",
    "groupby"
   ]
  },
  {
   "cell_type": "markdown",
   "metadata": {},
   "source": [
    "<p>Использование цикла <i>for</i> для доступа к группам</p>"
   ]
  },
  {
   "cell_type": "code",
   "execution_count": null,
   "metadata": {},
   "outputs": [],
   "source": [
    "for i, group in groupby:\n",
    "    print(i)\n",
    "    print(group)"
   ]
  },
  {
   "cell_type": "markdown",
   "metadata": {},
   "source": [
    "<p>Количество строк в каждой группе</p>"
   ]
  },
  {
   "cell_type": "code",
   "execution_count": null,
   "metadata": {},
   "outputs": [],
   "source": [
    "groupby.size()"
   ]
  },
  {
   "cell_type": "markdown",
   "metadata": {},
   "source": [
    "<p>Группировка по нескольким столбцам</p>"
   ]
  },
  {
   "cell_type": "code",
   "execution_count": null,
   "metadata": {},
   "outputs": [],
   "source": [
    "groupby_2 = df_group.groupby([\"Gender\",\"Marriage\"])\n",
    "groupby_2"
   ]
  },
  {
   "cell_type": "code",
   "execution_count": null,
   "metadata": {},
   "outputs": [],
   "source": [
    "for i, group in groupby_2:\n",
    "    print(i)\n",
    "    print(group)"
   ]
  },
  {
   "cell_type": "markdown",
   "metadata": {},
   "source": [
    "<p>Получение <span style=\"font-weight:bold; color:green\">DataFrame</span>'а группы по значению</p>"
   ]
  },
  {
   "cell_type": "code",
   "execution_count": null,
   "metadata": {},
   "outputs": [],
   "source": [
    "df2 = groupby.get_group(\"f\")\n",
    "df2"
   ]
  },
  {
   "cell_type": "code",
   "execution_count": null,
   "metadata": {},
   "outputs": [],
   "source": [
    "groupby_2.get_group(('f', False))"
   ]
  },
  {
   "cell_type": "markdown",
   "metadata": {},
   "source": [
    "<p>Фильтр для групп</p>"
   ]
  },
  {
   "cell_type": "code",
   "execution_count": null,
   "metadata": {},
   "outputs": [],
   "source": [
    "# Возвращает DataFrame с группами, в которых сумма Grade > 10\n",
    "df_group.groupby(\"Gender\").filter(lambda group: group.Grade.sum() > 10)"
   ]
  },
  {
   "cell_type": "markdown",
   "metadata": {},
   "source": [
    "<p>Агрегирование в группах</p>"
   ]
  },
  {
   "cell_type": "code",
   "execution_count": null,
   "metadata": {},
   "outputs": [],
   "source": [
    "df2 = df_group[[\"Gender\", \"Grade\", \"Salary\"]]\n",
    "df2"
   ]
  },
  {
   "cell_type": "code",
   "execution_count": null,
   "metadata": {},
   "outputs": [],
   "source": [
    "df2.groupby(\"Gender\").aggregate(lambda group: group.sum())"
   ]
  },
  {
   "cell_type": "markdown",
   "metadata": {},
   "source": [
    "<p>Трансформация выполняется для элементов отдельных столбцов каждой группы</p>"
   ]
  },
  {
   "cell_type": "code",
   "execution_count": null,
   "metadata": {},
   "outputs": [],
   "source": [
    "v = np.array([1,2,3])\n",
    "v - v.mean()"
   ]
  },
  {
   "cell_type": "code",
   "execution_count": null,
   "metadata": {},
   "outputs": [],
   "source": [
    "df2"
   ]
  },
  {
   "cell_type": "code",
   "execution_count": null,
   "metadata": {},
   "outputs": [],
   "source": [
    "# Значение элемента минус среднее значение в столбце группы\n",
    "# [1,2,3]-2 = [-1,0,1]\n",
    "df2.groupby(\"Gender\").transform(lambda x: x - x.mean())"
   ]
  },
  {
   "cell_type": "markdown",
   "metadata": {},
   "source": [
    "<p>Группировка данных по диапазонам значений</p>"
   ]
  },
  {
   "cell_type": "code",
   "execution_count": null,
   "metadata": {},
   "outputs": [],
   "source": [
    "sal = pnd.cut(df_group.Salary, bins=[0, 30, 50, 80])\n",
    "sal"
   ]
  },
  {
   "cell_type": "code",
   "execution_count": null,
   "metadata": {},
   "outputs": [],
   "source": [
    "interval = pnd.Interval(left=30, right=50, closed=\"right\")"
   ]
  },
  {
   "cell_type": "code",
   "execution_count": null,
   "metadata": {},
   "outputs": [],
   "source": [
    "gr3 = df_group.groupby(sal)\n",
    "gr3.get_group(interval)"
   ]
  },
  {
   "cell_type": "code",
   "execution_count": null,
   "metadata": {},
   "outputs": [],
   "source": [
    "sal2 = pnd.cut(df_group.Salary, bins=[0, 30, 50, 80], labels=[\"bad\", \"medium\", \"good\"])\n",
    "sal2"
   ]
  },
  {
   "cell_type": "code",
   "execution_count": null,
   "metadata": {},
   "outputs": [],
   "source": [
    "gr3 = df_group.groupby(sal2)\n",
    "gr3.get_group(\"medium\")"
   ]
  },
  {
   "cell_type": "code",
   "execution_count": null,
   "metadata": {},
   "outputs": [],
   "source": [
    "sal3 = pnd.cut(df_group.Salary, np.arange(0, 100, 10))\n",
    "sal3"
   ]
  },
  {
   "cell_type": "code",
   "execution_count": null,
   "metadata": {},
   "outputs": [],
   "source": [
    "sal4 = pnd.cut(df_group.Salary, 3, labels=[\"bad\",\"medium\",\"good\"])\n",
    "sal4"
   ]
  },
  {
   "cell_type": "markdown",
   "metadata": {},
   "source": [
    "<a name=\"3e\"></a>\n",
    "<div style=\"padding-top:10px;\">\n",
    "    <div style=\"display: inline-block; font-style:italic; font-weight:bold; font-size:12pt\">e. Сортировка</div>\n",
    "    <div style=\"display: inline-block; float:right; width:20%; text-align:center; border:1px solid lightgrey\">\n",
    "        <div style=\"display: inline-block; text-align:center; width:50%; background-color:whitesmoke;\"><a href=\"#3d\">Назад</a></div><div style=\"display: inline-block; text-align:center; width:50%;\"><a href=\"#3f\">Далее</a></div>\n",
    "    </div>\n",
    "</div>"
   ]
  },
  {
   "cell_type": "markdown",
   "metadata": {},
   "source": [
    "<p>Сортировка по одному столбцу</p>"
   ]
  },
  {
   "cell_type": "code",
   "execution_count": null,
   "metadata": {},
   "outputs": [],
   "source": [
    "df.sort_values(\"Year\", ascending=1)  # по возрастанию"
   ]
  },
  {
   "cell_type": "code",
   "execution_count": null,
   "metadata": {},
   "outputs": [],
   "source": [
    "df.sort_values(\"Year\", ascending=0)  # по убыванию"
   ]
  },
  {
   "cell_type": "markdown",
   "metadata": {},
   "source": [
    "<p>Сортировка по нескольким столбцам</p>"
   ]
  },
  {
   "cell_type": "code",
   "execution_count": null,
   "metadata": {},
   "outputs": [],
   "source": [
    "df.sort_values([\"Gender\", \"Year\"], ascending=[1, 0])"
   ]
  },
  {
   "cell_type": "markdown",
   "metadata": {},
   "source": [
    "<a name=\"3f\"></a>\n",
    "<div style=\"padding-top:10px;\">\n",
    "    <div style=\"display: inline-block; font-style:italic; font-weight:bold; font-size:12pt\">f. Сложные индексы</div>\n",
    "    <div style=\"display: inline-block; float:right; width:20%; text-align:center; border:1px solid lightgrey\">\n",
    "        <div style=\"display: inline-block; text-align:center; width:50%; background-color:whitesmoke;\"><a href=\"#3e\">Назад</a></div><div style=\"display: inline-block; text-align:center; width:50%;\"><a href=\"#3g\">Далее</a></div>\n",
    "    </div>\n",
    "</div>"
   ]
  },
  {
   "cell_type": "code",
   "execution_count": null,
   "metadata": {},
   "outputs": [],
   "source": [
    "data =  np.random.randint(low=0, high=101, size=(4,3))\n",
    "data"
   ]
  },
  {
   "cell_type": "code",
   "execution_count": null,
   "metadata": {},
   "outputs": [],
   "source": [
    "index2 = [\"Working Days\", \"Weekend\", \"Working Days\", \"Weekend\"]  # второй индекс\n",
    "index1 = [\"Week1\", \"Week1\", \"Week2\", \"Week2\"]  # первый индекс\n",
    "\n",
    "df = pnd.DataFrame(data=data, columns=[\"TV\", \"Smartphone\", \"Pendrive\"], index=[index1, index2])\n",
    "df"
   ]
  },
  {
   "cell_type": "markdown",
   "metadata": {},
   "source": [
    "<p>Доступ к данный по индексам</p>"
   ]
  },
  {
   "cell_type": "code",
   "execution_count": null,
   "metadata": {},
   "outputs": [],
   "source": [
    "df.loc[\"Week1\"]"
   ]
  },
  {
   "cell_type": "code",
   "execution_count": null,
   "metadata": {},
   "outputs": [],
   "source": [
    "df.loc[(\"Week1\", \"Weekend\")]"
   ]
  },
  {
   "cell_type": "markdown",
   "metadata": {},
   "source": [
    "<p>Пример с суммой</p>"
   ]
  },
  {
   "cell_type": "code",
   "execution_count": null,
   "metadata": {},
   "outputs": [],
   "source": [
    "df.sum()  # сумма по столбцам для всех индексов"
   ]
  },
  {
   "cell_type": "code",
   "execution_count": null,
   "metadata": {},
   "outputs": [],
   "source": [
    "df.loc[\"Week1\"].sum()  # сумма по столбцам для Week1"
   ]
  },
  {
   "cell_type": "code",
   "execution_count": null,
   "metadata": {},
   "outputs": [],
   "source": [
    "# Сумма по столбцам за Weekend для Week1 и Week2\n",
    "df.loc[[(\"Week1\", \"Weekend\"),(\"Week2\", \"Weekend\")]].sum()"
   ]
  },
  {
   "cell_type": "markdown",
   "metadata": {},
   "source": [
    "<a name=\"3g\"></a>\n",
    "<div style=\"padding-top:10px;\">\n",
    "    <div style=\"display: inline-block; font-style:italic; font-weight:bold; font-size:12pt\">g. Объединение DataFrame'ов</div>\n",
    "    <div style=\"display: inline-block; float:right; width:20%; text-align:center; border:1px solid lightgrey\">\n",
    "        <div style=\"display: inline-block; text-align:center; width:50%; background-color:whitesmoke;\"><a href=\"#3f\">Назад</a></div><div style=\"display: inline-block; text-align:center; width:50%;\"><a href=\"#3h\">Далее</a></div>\n",
    "    </div>\n",
    "</div>"
   ]
  },
  {
   "cell_type": "markdown",
   "metadata": {},
   "source": [
    "<p>Слияние таблиц</p>"
   ]
  },
  {
   "cell_type": "markdown",
   "metadata": {},
   "source": [
    "<p><b>Метод <i>append()</i></b> - объединение строк таблиц</p>"
   ]
  },
  {
   "cell_type": "code",
   "execution_count": 9,
   "metadata": {},
   "outputs": [
    {
     "data": {
      "text/html": [
       "<div>\n",
       "<style scoped>\n",
       "    .dataframe tbody tr th:only-of-type {\n",
       "        vertical-align: middle;\n",
       "    }\n",
       "\n",
       "    .dataframe tbody tr th {\n",
       "        vertical-align: top;\n",
       "    }\n",
       "\n",
       "    .dataframe thead th {\n",
       "        text-align: right;\n",
       "    }\n",
       "</style>\n",
       "<table border=\"1\" class=\"dataframe\">\n",
       "  <thead>\n",
       "    <tr style=\"text-align: right;\">\n",
       "      <th></th>\n",
       "      <th>Name</th>\n",
       "      <th>City</th>\n",
       "      <th>Year</th>\n",
       "      <th>Grade</th>\n",
       "      <th>Gender</th>\n",
       "    </tr>\n",
       "  </thead>\n",
       "  <tbody>\n",
       "    <tr>\n",
       "      <td>0</td>\n",
       "      <td>Dima</td>\n",
       "      <td>Moscow</td>\n",
       "      <td>1988</td>\n",
       "      <td>4.0</td>\n",
       "      <td>m</td>\n",
       "    </tr>\n",
       "    <tr>\n",
       "      <td>1</td>\n",
       "      <td>Sveta</td>\n",
       "      <td>Kiev</td>\n",
       "      <td>1999</td>\n",
       "      <td>4.0</td>\n",
       "      <td>f</td>\n",
       "    </tr>\n",
       "    <tr>\n",
       "      <td>2</td>\n",
       "      <td>Alex</td>\n",
       "      <td>Minsk</td>\n",
       "      <td>1954</td>\n",
       "      <td>NaN</td>\n",
       "      <td>m</td>\n",
       "    </tr>\n",
       "    <tr>\n",
       "      <td>3</td>\n",
       "      <td>Ivan</td>\n",
       "      <td>St.Petersburg</td>\n",
       "      <td>2005</td>\n",
       "      <td>6.0</td>\n",
       "      <td>m</td>\n",
       "    </tr>\n",
       "    <tr>\n",
       "      <td>4</td>\n",
       "      <td>Kate</td>\n",
       "      <td>London</td>\n",
       "      <td>2001</td>\n",
       "      <td>NaN</td>\n",
       "      <td>f</td>\n",
       "    </tr>\n",
       "    <tr>\n",
       "      <td>5</td>\n",
       "      <td>Maria</td>\n",
       "      <td>New York</td>\n",
       "      <td>1997</td>\n",
       "      <td>7.0</td>\n",
       "      <td>f</td>\n",
       "    </tr>\n",
       "  </tbody>\n",
       "</table>\n",
       "</div>"
      ],
      "text/plain": [
       "    Name           City  Year  Grade Gender\n",
       "0   Dima         Moscow  1988    4.0      m\n",
       "1  Sveta           Kiev  1999    4.0      f\n",
       "2   Alex          Minsk  1954    NaN      m\n",
       "3   Ivan  St.Petersburg  2005    6.0      m\n",
       "4   Kate         London  2001    NaN      f\n",
       "5  Maria       New York  1997    7.0      f"
      ]
     },
     "execution_count": 9,
     "metadata": {},
     "output_type": "execute_result"
    }
   ],
   "source": [
    "# Загрузка начальной версии df\n",
    "df = init_df()\n",
    "df"
   ]
  },
  {
   "cell_type": "markdown",
   "metadata": {},
   "source": [
    "<p>Использование списка словарей</p>"
   ]
  },
  {
   "cell_type": "code",
   "execution_count": 10,
   "metadata": {},
   "outputs": [
    {
     "data": {
      "text/plain": [
       "[{'Name': 'Petr', 'City': 'Bryansk', 'Year': 1990, 'Grade': 8},\n",
       " {'Name': 'Ann', 'City': 'Tehran'}]"
      ]
     },
     "execution_count": 10,
     "metadata": {},
     "output_type": "execute_result"
    }
   ],
   "source": [
    "dict_new = [{\"Name\":\"Petr\", \"City\":\"Bryansk\", \"Year\":1990, \"Grade\":8}, {\"Name\":\"Ann\", \"City\":\"Tehran\"}]\n",
    "dict_new"
   ]
  },
  {
   "cell_type": "code",
   "execution_count": 11,
   "metadata": {},
   "outputs": [
    {
     "data": {
      "text/html": [
       "<div>\n",
       "<style scoped>\n",
       "    .dataframe tbody tr th:only-of-type {\n",
       "        vertical-align: middle;\n",
       "    }\n",
       "\n",
       "    .dataframe tbody tr th {\n",
       "        vertical-align: top;\n",
       "    }\n",
       "\n",
       "    .dataframe thead th {\n",
       "        text-align: right;\n",
       "    }\n",
       "</style>\n",
       "<table border=\"1\" class=\"dataframe\">\n",
       "  <thead>\n",
       "    <tr style=\"text-align: right;\">\n",
       "      <th></th>\n",
       "      <th>Name</th>\n",
       "      <th>City</th>\n",
       "      <th>Year</th>\n",
       "      <th>Grade</th>\n",
       "      <th>Gender</th>\n",
       "    </tr>\n",
       "  </thead>\n",
       "  <tbody>\n",
       "    <tr>\n",
       "      <td>0</td>\n",
       "      <td>Dima</td>\n",
       "      <td>Moscow</td>\n",
       "      <td>1988.0</td>\n",
       "      <td>4.0</td>\n",
       "      <td>m</td>\n",
       "    </tr>\n",
       "    <tr>\n",
       "      <td>1</td>\n",
       "      <td>Sveta</td>\n",
       "      <td>Kiev</td>\n",
       "      <td>1999.0</td>\n",
       "      <td>4.0</td>\n",
       "      <td>f</td>\n",
       "    </tr>\n",
       "    <tr>\n",
       "      <td>2</td>\n",
       "      <td>Alex</td>\n",
       "      <td>Minsk</td>\n",
       "      <td>1954.0</td>\n",
       "      <td>NaN</td>\n",
       "      <td>m</td>\n",
       "    </tr>\n",
       "    <tr>\n",
       "      <td>3</td>\n",
       "      <td>Ivan</td>\n",
       "      <td>St.Petersburg</td>\n",
       "      <td>2005.0</td>\n",
       "      <td>6.0</td>\n",
       "      <td>m</td>\n",
       "    </tr>\n",
       "    <tr>\n",
       "      <td>4</td>\n",
       "      <td>Kate</td>\n",
       "      <td>London</td>\n",
       "      <td>2001.0</td>\n",
       "      <td>NaN</td>\n",
       "      <td>f</td>\n",
       "    </tr>\n",
       "    <tr>\n",
       "      <td>5</td>\n",
       "      <td>Maria</td>\n",
       "      <td>New York</td>\n",
       "      <td>1997.0</td>\n",
       "      <td>7.0</td>\n",
       "      <td>f</td>\n",
       "    </tr>\n",
       "    <tr>\n",
       "      <td>6</td>\n",
       "      <td>Petr</td>\n",
       "      <td>Bryansk</td>\n",
       "      <td>1990.0</td>\n",
       "      <td>8.0</td>\n",
       "      <td>NaN</td>\n",
       "    </tr>\n",
       "    <tr>\n",
       "      <td>7</td>\n",
       "      <td>Ann</td>\n",
       "      <td>Tehran</td>\n",
       "      <td>NaN</td>\n",
       "      <td>NaN</td>\n",
       "      <td>NaN</td>\n",
       "    </tr>\n",
       "  </tbody>\n",
       "</table>\n",
       "</div>"
      ],
      "text/plain": [
       "    Name           City    Year  Grade Gender\n",
       "0   Dima         Moscow  1988.0    4.0      m\n",
       "1  Sveta           Kiev  1999.0    4.0      f\n",
       "2   Alex          Minsk  1954.0    NaN      m\n",
       "3   Ivan  St.Petersburg  2005.0    6.0      m\n",
       "4   Kate         London  2001.0    NaN      f\n",
       "5  Maria       New York  1997.0    7.0      f\n",
       "6   Petr        Bryansk  1990.0    8.0    NaN\n",
       "7    Ann         Tehran     NaN    NaN    NaN"
      ]
     },
     "execution_count": 11,
     "metadata": {},
     "output_type": "execute_result"
    }
   ],
   "source": [
    "# ignore_index = True - в новом DataFrame будет стандартная индексация от 0.\n",
    "df2 = df.append(dict_new, ignore_index=True)\n",
    "df2"
   ]
  },
  {
   "cell_type": "markdown",
   "metadata": {},
   "source": [
    "<p>Последовательность</p>"
   ]
  },
  {
   "cell_type": "code",
   "execution_count": 12,
   "metadata": {},
   "outputs": [],
   "source": [
    "s1 = pnd.Series(data=[\"Petr\", \"Bryansk\", 1978, 5, \"m\"], index=[\"Name\", \"City\", \"Year\", \"Grade\", \"Gender\"])\n",
    "s2 = pnd.Series(data=[\"Ann\", \"Tehran\", 1997, 7, \"f\"], index=[\"Name\", \"City\", \"Year\", \"Grade\", \"Gender\"])"
   ]
  },
  {
   "cell_type": "code",
   "execution_count": 13,
   "metadata": {},
   "outputs": [
    {
     "data": {
      "text/html": [
       "<div>\n",
       "<style scoped>\n",
       "    .dataframe tbody tr th:only-of-type {\n",
       "        vertical-align: middle;\n",
       "    }\n",
       "\n",
       "    .dataframe tbody tr th {\n",
       "        vertical-align: top;\n",
       "    }\n",
       "\n",
       "    .dataframe thead th {\n",
       "        text-align: right;\n",
       "    }\n",
       "</style>\n",
       "<table border=\"1\" class=\"dataframe\">\n",
       "  <thead>\n",
       "    <tr style=\"text-align: right;\">\n",
       "      <th></th>\n",
       "      <th>Name</th>\n",
       "      <th>City</th>\n",
       "      <th>Year</th>\n",
       "      <th>Grade</th>\n",
       "      <th>Gender</th>\n",
       "    </tr>\n",
       "  </thead>\n",
       "  <tbody>\n",
       "    <tr>\n",
       "      <td>0</td>\n",
       "      <td>Dima</td>\n",
       "      <td>Moscow</td>\n",
       "      <td>1988</td>\n",
       "      <td>4.0</td>\n",
       "      <td>m</td>\n",
       "    </tr>\n",
       "    <tr>\n",
       "      <td>1</td>\n",
       "      <td>Sveta</td>\n",
       "      <td>Kiev</td>\n",
       "      <td>1999</td>\n",
       "      <td>4.0</td>\n",
       "      <td>f</td>\n",
       "    </tr>\n",
       "    <tr>\n",
       "      <td>2</td>\n",
       "      <td>Alex</td>\n",
       "      <td>Minsk</td>\n",
       "      <td>1954</td>\n",
       "      <td>NaN</td>\n",
       "      <td>m</td>\n",
       "    </tr>\n",
       "    <tr>\n",
       "      <td>3</td>\n",
       "      <td>Ivan</td>\n",
       "      <td>St.Petersburg</td>\n",
       "      <td>2005</td>\n",
       "      <td>6.0</td>\n",
       "      <td>m</td>\n",
       "    </tr>\n",
       "    <tr>\n",
       "      <td>4</td>\n",
       "      <td>Kate</td>\n",
       "      <td>London</td>\n",
       "      <td>2001</td>\n",
       "      <td>NaN</td>\n",
       "      <td>f</td>\n",
       "    </tr>\n",
       "    <tr>\n",
       "      <td>5</td>\n",
       "      <td>Maria</td>\n",
       "      <td>New York</td>\n",
       "      <td>1997</td>\n",
       "      <td>7.0</td>\n",
       "      <td>f</td>\n",
       "    </tr>\n",
       "    <tr>\n",
       "      <td>6</td>\n",
       "      <td>Petr</td>\n",
       "      <td>Bryansk</td>\n",
       "      <td>1978</td>\n",
       "      <td>5.0</td>\n",
       "      <td>m</td>\n",
       "    </tr>\n",
       "    <tr>\n",
       "      <td>7</td>\n",
       "      <td>Ann</td>\n",
       "      <td>Tehran</td>\n",
       "      <td>1997</td>\n",
       "      <td>7.0</td>\n",
       "      <td>f</td>\n",
       "    </tr>\n",
       "  </tbody>\n",
       "</table>\n",
       "</div>"
      ],
      "text/plain": [
       "    Name           City  Year  Grade Gender\n",
       "0   Dima         Moscow  1988    4.0      m\n",
       "1  Sveta           Kiev  1999    4.0      f\n",
       "2   Alex          Minsk  1954    NaN      m\n",
       "3   Ivan  St.Petersburg  2005    6.0      m\n",
       "4   Kate         London  2001    NaN      f\n",
       "5  Maria       New York  1997    7.0      f\n",
       "6   Petr        Bryansk  1978    5.0      m\n",
       "7    Ann         Tehran  1997    7.0      f"
      ]
     },
     "execution_count": 13,
     "metadata": {},
     "output_type": "execute_result"
    }
   ],
   "source": [
    "df2 = df.append([s1,s2], ignore_index=True)\n",
    "df2"
   ]
  },
  {
   "cell_type": "markdown",
   "metadata": {},
   "source": [
    "<p><b>Функция <i>concat()</i></b></p>"
   ]
  },
  {
   "cell_type": "markdown",
   "metadata": {},
   "source": [
    "<p>Объединение строк</p>"
   ]
  },
  {
   "cell_type": "code",
   "execution_count": 14,
   "metadata": {},
   "outputs": [
    {
     "data": {
      "text/plain": [
       "[['Petr', 'Bryansk', 1978, 5, 'm'], ['Ann', 'Tehran', 1997, 7, 'f']]"
      ]
     },
     "execution_count": 14,
     "metadata": {},
     "output_type": "execute_result"
    }
   ],
   "source": [
    "rows_new = [[\"Petr\", \"Bryansk\", 1978, 5, \"m\"], [\"Ann\", \"Tehran\", 1997, 7, \"f\"]]\n",
    "rows_new"
   ]
  },
  {
   "cell_type": "code",
   "execution_count": 15,
   "metadata": {},
   "outputs": [
    {
     "data": {
      "text/html": [
       "<div>\n",
       "<style scoped>\n",
       "    .dataframe tbody tr th:only-of-type {\n",
       "        vertical-align: middle;\n",
       "    }\n",
       "\n",
       "    .dataframe tbody tr th {\n",
       "        vertical-align: top;\n",
       "    }\n",
       "\n",
       "    .dataframe thead th {\n",
       "        text-align: right;\n",
       "    }\n",
       "</style>\n",
       "<table border=\"1\" class=\"dataframe\">\n",
       "  <thead>\n",
       "    <tr style=\"text-align: right;\">\n",
       "      <th></th>\n",
       "      <th>Name</th>\n",
       "      <th>City</th>\n",
       "      <th>Year</th>\n",
       "      <th>Grade</th>\n",
       "      <th>Gender</th>\n",
       "    </tr>\n",
       "  </thead>\n",
       "  <tbody>\n",
       "    <tr>\n",
       "      <td>0</td>\n",
       "      <td>Petr</td>\n",
       "      <td>Bryansk</td>\n",
       "      <td>1978</td>\n",
       "      <td>5</td>\n",
       "      <td>m</td>\n",
       "    </tr>\n",
       "    <tr>\n",
       "      <td>1</td>\n",
       "      <td>Ann</td>\n",
       "      <td>Tehran</td>\n",
       "      <td>1997</td>\n",
       "      <td>7</td>\n",
       "      <td>f</td>\n",
       "    </tr>\n",
       "  </tbody>\n",
       "</table>\n",
       "</div>"
      ],
      "text/plain": [
       "   Name     City  Year  Grade Gender\n",
       "0  Petr  Bryansk  1978      5      m\n",
       "1   Ann   Tehran  1997      7      f"
      ]
     },
     "execution_count": 15,
     "metadata": {},
     "output_type": "execute_result"
    }
   ],
   "source": [
    "df2 = pnd.DataFrame(data=rows_new, columns=[\"Name\",\"City\",\"Year\",\"Grade\",\"Gender\"])\n",
    "df2"
   ]
  },
  {
   "cell_type": "code",
   "execution_count": 16,
   "metadata": {},
   "outputs": [
    {
     "data": {
      "text/html": [
       "<div>\n",
       "<style scoped>\n",
       "    .dataframe tbody tr th:only-of-type {\n",
       "        vertical-align: middle;\n",
       "    }\n",
       "\n",
       "    .dataframe tbody tr th {\n",
       "        vertical-align: top;\n",
       "    }\n",
       "\n",
       "    .dataframe thead th {\n",
       "        text-align: right;\n",
       "    }\n",
       "</style>\n",
       "<table border=\"1\" class=\"dataframe\">\n",
       "  <thead>\n",
       "    <tr style=\"text-align: right;\">\n",
       "      <th></th>\n",
       "      <th>Name</th>\n",
       "      <th>City</th>\n",
       "      <th>Year</th>\n",
       "      <th>Grade</th>\n",
       "      <th>Gender</th>\n",
       "    </tr>\n",
       "  </thead>\n",
       "  <tbody>\n",
       "    <tr>\n",
       "      <td>0</td>\n",
       "      <td>Dima</td>\n",
       "      <td>Moscow</td>\n",
       "      <td>1988</td>\n",
       "      <td>4.0</td>\n",
       "      <td>m</td>\n",
       "    </tr>\n",
       "    <tr>\n",
       "      <td>1</td>\n",
       "      <td>Sveta</td>\n",
       "      <td>Kiev</td>\n",
       "      <td>1999</td>\n",
       "      <td>4.0</td>\n",
       "      <td>f</td>\n",
       "    </tr>\n",
       "    <tr>\n",
       "      <td>2</td>\n",
       "      <td>Alex</td>\n",
       "      <td>Minsk</td>\n",
       "      <td>1954</td>\n",
       "      <td>NaN</td>\n",
       "      <td>m</td>\n",
       "    </tr>\n",
       "    <tr>\n",
       "      <td>3</td>\n",
       "      <td>Ivan</td>\n",
       "      <td>St.Petersburg</td>\n",
       "      <td>2005</td>\n",
       "      <td>6.0</td>\n",
       "      <td>m</td>\n",
       "    </tr>\n",
       "    <tr>\n",
       "      <td>4</td>\n",
       "      <td>Kate</td>\n",
       "      <td>London</td>\n",
       "      <td>2001</td>\n",
       "      <td>NaN</td>\n",
       "      <td>f</td>\n",
       "    </tr>\n",
       "    <tr>\n",
       "      <td>5</td>\n",
       "      <td>Maria</td>\n",
       "      <td>New York</td>\n",
       "      <td>1997</td>\n",
       "      <td>7.0</td>\n",
       "      <td>f</td>\n",
       "    </tr>\n",
       "    <tr>\n",
       "      <td>0</td>\n",
       "      <td>Petr</td>\n",
       "      <td>Bryansk</td>\n",
       "      <td>1978</td>\n",
       "      <td>5.0</td>\n",
       "      <td>m</td>\n",
       "    </tr>\n",
       "    <tr>\n",
       "      <td>1</td>\n",
       "      <td>Ann</td>\n",
       "      <td>Tehran</td>\n",
       "      <td>1997</td>\n",
       "      <td>7.0</td>\n",
       "      <td>f</td>\n",
       "    </tr>\n",
       "  </tbody>\n",
       "</table>\n",
       "</div>"
      ],
      "text/plain": [
       "    Name           City  Year  Grade Gender\n",
       "0   Dima         Moscow  1988    4.0      m\n",
       "1  Sveta           Kiev  1999    4.0      f\n",
       "2   Alex          Minsk  1954    NaN      m\n",
       "3   Ivan  St.Petersburg  2005    6.0      m\n",
       "4   Kate         London  2001    NaN      f\n",
       "5  Maria       New York  1997    7.0      f\n",
       "0   Petr        Bryansk  1978    5.0      m\n",
       "1    Ann         Tehran  1997    7.0      f"
      ]
     },
     "execution_count": 16,
     "metadata": {},
     "output_type": "execute_result"
    }
   ],
   "source": [
    "df3 = pnd.concat([df, df2], ignore_index=False)\n",
    "df3"
   ]
  },
  {
   "cell_type": "code",
   "execution_count": 17,
   "metadata": {},
   "outputs": [
    {
     "data": {
      "text/html": [
       "<div>\n",
       "<style scoped>\n",
       "    .dataframe tbody tr th:only-of-type {\n",
       "        vertical-align: middle;\n",
       "    }\n",
       "\n",
       "    .dataframe tbody tr th {\n",
       "        vertical-align: top;\n",
       "    }\n",
       "\n",
       "    .dataframe thead th {\n",
       "        text-align: right;\n",
       "    }\n",
       "</style>\n",
       "<table border=\"1\" class=\"dataframe\">\n",
       "  <thead>\n",
       "    <tr style=\"text-align: right;\">\n",
       "      <th></th>\n",
       "      <th>Name</th>\n",
       "      <th>City</th>\n",
       "      <th>Year</th>\n",
       "      <th>Grade</th>\n",
       "      <th>Gender</th>\n",
       "    </tr>\n",
       "  </thead>\n",
       "  <tbody>\n",
       "    <tr>\n",
       "      <td>1</td>\n",
       "      <td>Sveta</td>\n",
       "      <td>Kiev</td>\n",
       "      <td>1999</td>\n",
       "      <td>4.0</td>\n",
       "      <td>f</td>\n",
       "    </tr>\n",
       "    <tr>\n",
       "      <td>1</td>\n",
       "      <td>Ann</td>\n",
       "      <td>Tehran</td>\n",
       "      <td>1997</td>\n",
       "      <td>7.0</td>\n",
       "      <td>f</td>\n",
       "    </tr>\n",
       "  </tbody>\n",
       "</table>\n",
       "</div>"
      ],
      "text/plain": [
       "    Name    City  Year  Grade Gender\n",
       "1  Sveta    Kiev  1999    4.0      f\n",
       "1    Ann  Tehran  1997    7.0      f"
      ]
     },
     "execution_count": 17,
     "metadata": {},
     "output_type": "execute_result"
    }
   ],
   "source": [
    "df3.loc[1]"
   ]
  },
  {
   "cell_type": "code",
   "execution_count": 18,
   "metadata": {},
   "outputs": [
    {
     "data": {
      "text/html": [
       "<div>\n",
       "<style scoped>\n",
       "    .dataframe tbody tr th:only-of-type {\n",
       "        vertical-align: middle;\n",
       "    }\n",
       "\n",
       "    .dataframe tbody tr th {\n",
       "        vertical-align: top;\n",
       "    }\n",
       "\n",
       "    .dataframe thead th {\n",
       "        text-align: right;\n",
       "    }\n",
       "</style>\n",
       "<table border=\"1\" class=\"dataframe\">\n",
       "  <thead>\n",
       "    <tr style=\"text-align: right;\">\n",
       "      <th></th>\n",
       "      <th>Name</th>\n",
       "      <th>City</th>\n",
       "      <th>Year</th>\n",
       "      <th>Grade</th>\n",
       "      <th>Gender</th>\n",
       "    </tr>\n",
       "  </thead>\n",
       "  <tbody>\n",
       "    <tr>\n",
       "      <td>0</td>\n",
       "      <td>Dima</td>\n",
       "      <td>Moscow</td>\n",
       "      <td>1988</td>\n",
       "      <td>4.0</td>\n",
       "      <td>m</td>\n",
       "    </tr>\n",
       "    <tr>\n",
       "      <td>1</td>\n",
       "      <td>Sveta</td>\n",
       "      <td>Kiev</td>\n",
       "      <td>1999</td>\n",
       "      <td>4.0</td>\n",
       "      <td>f</td>\n",
       "    </tr>\n",
       "    <tr>\n",
       "      <td>2</td>\n",
       "      <td>Alex</td>\n",
       "      <td>Minsk</td>\n",
       "      <td>1954</td>\n",
       "      <td>NaN</td>\n",
       "      <td>m</td>\n",
       "    </tr>\n",
       "    <tr>\n",
       "      <td>3</td>\n",
       "      <td>Ivan</td>\n",
       "      <td>St.Petersburg</td>\n",
       "      <td>2005</td>\n",
       "      <td>6.0</td>\n",
       "      <td>m</td>\n",
       "    </tr>\n",
       "    <tr>\n",
       "      <td>4</td>\n",
       "      <td>Kate</td>\n",
       "      <td>London</td>\n",
       "      <td>2001</td>\n",
       "      <td>NaN</td>\n",
       "      <td>f</td>\n",
       "    </tr>\n",
       "    <tr>\n",
       "      <td>5</td>\n",
       "      <td>Maria</td>\n",
       "      <td>New York</td>\n",
       "      <td>1997</td>\n",
       "      <td>7.0</td>\n",
       "      <td>f</td>\n",
       "    </tr>\n",
       "    <tr>\n",
       "      <td>6</td>\n",
       "      <td>Petr</td>\n",
       "      <td>Bryansk</td>\n",
       "      <td>1978</td>\n",
       "      <td>5.0</td>\n",
       "      <td>m</td>\n",
       "    </tr>\n",
       "    <tr>\n",
       "      <td>7</td>\n",
       "      <td>Ann</td>\n",
       "      <td>Tehran</td>\n",
       "      <td>1997</td>\n",
       "      <td>7.0</td>\n",
       "      <td>f</td>\n",
       "    </tr>\n",
       "  </tbody>\n",
       "</table>\n",
       "</div>"
      ],
      "text/plain": [
       "    Name           City  Year  Grade Gender\n",
       "0   Dima         Moscow  1988    4.0      m\n",
       "1  Sveta           Kiev  1999    4.0      f\n",
       "2   Alex          Minsk  1954    NaN      m\n",
       "3   Ivan  St.Petersburg  2005    6.0      m\n",
       "4   Kate         London  2001    NaN      f\n",
       "5  Maria       New York  1997    7.0      f\n",
       "6   Petr        Bryansk  1978    5.0      m\n",
       "7    Ann         Tehran  1997    7.0      f"
      ]
     },
     "execution_count": 18,
     "metadata": {},
     "output_type": "execute_result"
    }
   ],
   "source": [
    "df3 = pnd.concat([df, df2], ignore_index=True)\n",
    "df3"
   ]
  },
  {
   "cell_type": "markdown",
   "metadata": {},
   "source": [
    "<p>Добавление ключа/индекса</p>"
   ]
  },
  {
   "cell_type": "code",
   "execution_count": 19,
   "metadata": {},
   "outputs": [
    {
     "data": {
      "text/html": [
       "<div>\n",
       "<style scoped>\n",
       "    .dataframe tbody tr th:only-of-type {\n",
       "        vertical-align: middle;\n",
       "    }\n",
       "\n",
       "    .dataframe tbody tr th {\n",
       "        vertical-align: top;\n",
       "    }\n",
       "\n",
       "    .dataframe thead th {\n",
       "        text-align: right;\n",
       "    }\n",
       "</style>\n",
       "<table border=\"1\" class=\"dataframe\">\n",
       "  <thead>\n",
       "    <tr style=\"text-align: right;\">\n",
       "      <th></th>\n",
       "      <th></th>\n",
       "      <th>Name</th>\n",
       "      <th>City</th>\n",
       "      <th>Year</th>\n",
       "      <th>Grade</th>\n",
       "      <th>Gender</th>\n",
       "    </tr>\n",
       "  </thead>\n",
       "  <tbody>\n",
       "    <tr>\n",
       "      <td rowspan=\"6\" valign=\"top\">Table1</td>\n",
       "      <td>0</td>\n",
       "      <td>Dima</td>\n",
       "      <td>Moscow</td>\n",
       "      <td>1988</td>\n",
       "      <td>4.0</td>\n",
       "      <td>m</td>\n",
       "    </tr>\n",
       "    <tr>\n",
       "      <td>1</td>\n",
       "      <td>Sveta</td>\n",
       "      <td>Kiev</td>\n",
       "      <td>1999</td>\n",
       "      <td>4.0</td>\n",
       "      <td>f</td>\n",
       "    </tr>\n",
       "    <tr>\n",
       "      <td>2</td>\n",
       "      <td>Alex</td>\n",
       "      <td>Minsk</td>\n",
       "      <td>1954</td>\n",
       "      <td>NaN</td>\n",
       "      <td>m</td>\n",
       "    </tr>\n",
       "    <tr>\n",
       "      <td>3</td>\n",
       "      <td>Ivan</td>\n",
       "      <td>St.Petersburg</td>\n",
       "      <td>2005</td>\n",
       "      <td>6.0</td>\n",
       "      <td>m</td>\n",
       "    </tr>\n",
       "    <tr>\n",
       "      <td>4</td>\n",
       "      <td>Kate</td>\n",
       "      <td>London</td>\n",
       "      <td>2001</td>\n",
       "      <td>NaN</td>\n",
       "      <td>f</td>\n",
       "    </tr>\n",
       "    <tr>\n",
       "      <td>5</td>\n",
       "      <td>Maria</td>\n",
       "      <td>New York</td>\n",
       "      <td>1997</td>\n",
       "      <td>7.0</td>\n",
       "      <td>f</td>\n",
       "    </tr>\n",
       "    <tr>\n",
       "      <td rowspan=\"2\" valign=\"top\">Table2</td>\n",
       "      <td>0</td>\n",
       "      <td>Petr</td>\n",
       "      <td>Bryansk</td>\n",
       "      <td>1978</td>\n",
       "      <td>5.0</td>\n",
       "      <td>m</td>\n",
       "    </tr>\n",
       "    <tr>\n",
       "      <td>1</td>\n",
       "      <td>Ann</td>\n",
       "      <td>Tehran</td>\n",
       "      <td>1997</td>\n",
       "      <td>7.0</td>\n",
       "      <td>f</td>\n",
       "    </tr>\n",
       "  </tbody>\n",
       "</table>\n",
       "</div>"
      ],
      "text/plain": [
       "           Name           City  Year  Grade Gender\n",
       "Table1 0   Dima         Moscow  1988    4.0      m\n",
       "       1  Sveta           Kiev  1999    4.0      f\n",
       "       2   Alex          Minsk  1954    NaN      m\n",
       "       3   Ivan  St.Petersburg  2005    6.0      m\n",
       "       4   Kate         London  2001    NaN      f\n",
       "       5  Maria       New York  1997    7.0      f\n",
       "Table2 0   Petr        Bryansk  1978    5.0      m\n",
       "       1    Ann         Tehran  1997    7.0      f"
      ]
     },
     "execution_count": 19,
     "metadata": {},
     "output_type": "execute_result"
    }
   ],
   "source": [
    "df3 = pnd.concat([df, df2], keys=[\"Table1\", \"Table2\"])\n",
    "df3"
   ]
  },
  {
   "cell_type": "code",
   "execution_count": 20,
   "metadata": {},
   "outputs": [
    {
     "data": {
      "text/html": [
       "<div>\n",
       "<style scoped>\n",
       "    .dataframe tbody tr th:only-of-type {\n",
       "        vertical-align: middle;\n",
       "    }\n",
       "\n",
       "    .dataframe tbody tr th {\n",
       "        vertical-align: top;\n",
       "    }\n",
       "\n",
       "    .dataframe thead th {\n",
       "        text-align: right;\n",
       "    }\n",
       "</style>\n",
       "<table border=\"1\" class=\"dataframe\">\n",
       "  <thead>\n",
       "    <tr style=\"text-align: right;\">\n",
       "      <th></th>\n",
       "      <th>Name</th>\n",
       "      <th>City</th>\n",
       "      <th>Year</th>\n",
       "      <th>Grade</th>\n",
       "      <th>Gender</th>\n",
       "    </tr>\n",
       "  </thead>\n",
       "  <tbody>\n",
       "    <tr>\n",
       "      <td>0</td>\n",
       "      <td>Dima</td>\n",
       "      <td>Moscow</td>\n",
       "      <td>1988</td>\n",
       "      <td>4.0</td>\n",
       "      <td>m</td>\n",
       "    </tr>\n",
       "    <tr>\n",
       "      <td>1</td>\n",
       "      <td>Sveta</td>\n",
       "      <td>Kiev</td>\n",
       "      <td>1999</td>\n",
       "      <td>4.0</td>\n",
       "      <td>f</td>\n",
       "    </tr>\n",
       "    <tr>\n",
       "      <td>2</td>\n",
       "      <td>Alex</td>\n",
       "      <td>Minsk</td>\n",
       "      <td>1954</td>\n",
       "      <td>NaN</td>\n",
       "      <td>m</td>\n",
       "    </tr>\n",
       "    <tr>\n",
       "      <td>3</td>\n",
       "      <td>Ivan</td>\n",
       "      <td>St.Petersburg</td>\n",
       "      <td>2005</td>\n",
       "      <td>6.0</td>\n",
       "      <td>m</td>\n",
       "    </tr>\n",
       "    <tr>\n",
       "      <td>4</td>\n",
       "      <td>Kate</td>\n",
       "      <td>London</td>\n",
       "      <td>2001</td>\n",
       "      <td>NaN</td>\n",
       "      <td>f</td>\n",
       "    </tr>\n",
       "    <tr>\n",
       "      <td>5</td>\n",
       "      <td>Maria</td>\n",
       "      <td>New York</td>\n",
       "      <td>1997</td>\n",
       "      <td>7.0</td>\n",
       "      <td>f</td>\n",
       "    </tr>\n",
       "  </tbody>\n",
       "</table>\n",
       "</div>"
      ],
      "text/plain": [
       "    Name           City  Year  Grade Gender\n",
       "0   Dima         Moscow  1988    4.0      m\n",
       "1  Sveta           Kiev  1999    4.0      f\n",
       "2   Alex          Minsk  1954    NaN      m\n",
       "3   Ivan  St.Petersburg  2005    6.0      m\n",
       "4   Kate         London  2001    NaN      f\n",
       "5  Maria       New York  1997    7.0      f"
      ]
     },
     "execution_count": 20,
     "metadata": {},
     "output_type": "execute_result"
    }
   ],
   "source": [
    "df3.loc[\"Table1\"]"
   ]
  },
  {
   "cell_type": "code",
   "execution_count": 21,
   "metadata": {},
   "outputs": [
    {
     "data": {
      "text/plain": [
       "Name      Sveta\n",
       "City       Kiev\n",
       "Year       1999\n",
       "Grade         4\n",
       "Gender        f\n",
       "Name: (Table1, 1), dtype: object"
      ]
     },
     "execution_count": 21,
     "metadata": {},
     "output_type": "execute_result"
    }
   ],
   "source": [
    "df3.loc[(\"Table1\", 1)]"
   ]
  },
  {
   "cell_type": "markdown",
   "metadata": {},
   "source": [
    "<p>Слияние таблиц по столбцам</p>"
   ]
  },
  {
   "cell_type": "code",
   "execution_count": 22,
   "metadata": {},
   "outputs": [
    {
     "data": {
      "text/html": [
       "<div>\n",
       "<style scoped>\n",
       "    .dataframe tbody tr th:only-of-type {\n",
       "        vertical-align: middle;\n",
       "    }\n",
       "\n",
       "    .dataframe tbody tr th {\n",
       "        vertical-align: top;\n",
       "    }\n",
       "\n",
       "    .dataframe thead th {\n",
       "        text-align: right;\n",
       "    }\n",
       "</style>\n",
       "<table border=\"1\" class=\"dataframe\">\n",
       "  <thead>\n",
       "    <tr style=\"text-align: right;\">\n",
       "      <th></th>\n",
       "      <th>Name</th>\n",
       "      <th>City</th>\n",
       "      <th>Year</th>\n",
       "      <th>Grade</th>\n",
       "      <th>Gender</th>\n",
       "    </tr>\n",
       "  </thead>\n",
       "  <tbody>\n",
       "    <tr>\n",
       "      <td>0</td>\n",
       "      <td>Dima</td>\n",
       "      <td>Moscow</td>\n",
       "      <td>1988</td>\n",
       "      <td>4.0</td>\n",
       "      <td>m</td>\n",
       "    </tr>\n",
       "    <tr>\n",
       "      <td>1</td>\n",
       "      <td>Sveta</td>\n",
       "      <td>Kiev</td>\n",
       "      <td>1999</td>\n",
       "      <td>4.0</td>\n",
       "      <td>f</td>\n",
       "    </tr>\n",
       "    <tr>\n",
       "      <td>2</td>\n",
       "      <td>Alex</td>\n",
       "      <td>Minsk</td>\n",
       "      <td>1954</td>\n",
       "      <td>NaN</td>\n",
       "      <td>m</td>\n",
       "    </tr>\n",
       "    <tr>\n",
       "      <td>3</td>\n",
       "      <td>Ivan</td>\n",
       "      <td>St.Petersburg</td>\n",
       "      <td>2005</td>\n",
       "      <td>6.0</td>\n",
       "      <td>m</td>\n",
       "    </tr>\n",
       "    <tr>\n",
       "      <td>4</td>\n",
       "      <td>Kate</td>\n",
       "      <td>London</td>\n",
       "      <td>2001</td>\n",
       "      <td>NaN</td>\n",
       "      <td>f</td>\n",
       "    </tr>\n",
       "    <tr>\n",
       "      <td>5</td>\n",
       "      <td>Maria</td>\n",
       "      <td>New York</td>\n",
       "      <td>1997</td>\n",
       "      <td>7.0</td>\n",
       "      <td>f</td>\n",
       "    </tr>\n",
       "  </tbody>\n",
       "</table>\n",
       "</div>"
      ],
      "text/plain": [
       "    Name           City  Year  Grade Gender\n",
       "0   Dima         Moscow  1988    4.0      m\n",
       "1  Sveta           Kiev  1999    4.0      f\n",
       "2   Alex          Minsk  1954    NaN      m\n",
       "3   Ivan  St.Petersburg  2005    6.0      m\n",
       "4   Kate         London  2001    NaN      f\n",
       "5  Maria       New York  1997    7.0      f"
      ]
     },
     "execution_count": 22,
     "metadata": {},
     "output_type": "execute_result"
    }
   ],
   "source": [
    "df"
   ]
  },
  {
   "cell_type": "code",
   "execution_count": 23,
   "metadata": {},
   "outputs": [
    {
     "data": {
      "text/html": [
       "<div>\n",
       "<style scoped>\n",
       "    .dataframe tbody tr th:only-of-type {\n",
       "        vertical-align: middle;\n",
       "    }\n",
       "\n",
       "    .dataframe tbody tr th {\n",
       "        vertical-align: top;\n",
       "    }\n",
       "\n",
       "    .dataframe thead th {\n",
       "        text-align: right;\n",
       "    }\n",
       "</style>\n",
       "<table border=\"1\" class=\"dataframe\">\n",
       "  <thead>\n",
       "    <tr style=\"text-align: right;\">\n",
       "      <th></th>\n",
       "      <th>Marriage_status</th>\n",
       "      <th>Salary</th>\n",
       "    </tr>\n",
       "  </thead>\n",
       "  <tbody>\n",
       "    <tr>\n",
       "      <td>0</td>\n",
       "      <td>True</td>\n",
       "      <td>12</td>\n",
       "    </tr>\n",
       "    <tr>\n",
       "      <td>1</td>\n",
       "      <td>False</td>\n",
       "      <td>40</td>\n",
       "    </tr>\n",
       "    <tr>\n",
       "      <td>2</td>\n",
       "      <td>True</td>\n",
       "      <td>53</td>\n",
       "    </tr>\n",
       "    <tr>\n",
       "      <td>3</td>\n",
       "      <td>False</td>\n",
       "      <td>25</td>\n",
       "    </tr>\n",
       "  </tbody>\n",
       "</table>\n",
       "</div>"
      ],
      "text/plain": [
       "   Marriage_status  Salary\n",
       "0             True      12\n",
       "1            False      40\n",
       "2             True      53\n",
       "3            False      25"
      ]
     },
     "execution_count": 23,
     "metadata": {},
     "output_type": "execute_result"
    }
   ],
   "source": [
    "dict_new = {\"Marriage_status\":[True, False, True, False],\n",
    "            \"Salary\":[12, 40, 53, 25]}\n",
    "\n",
    "df_right_1 = pnd.DataFrame(data=dict_new)\n",
    "df_right_1"
   ]
  },
  {
   "cell_type": "markdown",
   "metadata": {},
   "source": [
    "<p>Внешнее соединение (<b>outer join</b>) таблиц по индексу</p>"
   ]
  },
  {
   "cell_type": "code",
   "execution_count": 24,
   "metadata": {},
   "outputs": [
    {
     "data": {
      "text/html": [
       "<div>\n",
       "<style scoped>\n",
       "    .dataframe tbody tr th:only-of-type {\n",
       "        vertical-align: middle;\n",
       "    }\n",
       "\n",
       "    .dataframe tbody tr th {\n",
       "        vertical-align: top;\n",
       "    }\n",
       "\n",
       "    .dataframe thead th {\n",
       "        text-align: right;\n",
       "    }\n",
       "</style>\n",
       "<table border=\"1\" class=\"dataframe\">\n",
       "  <thead>\n",
       "    <tr style=\"text-align: right;\">\n",
       "      <th></th>\n",
       "      <th>Name</th>\n",
       "      <th>City</th>\n",
       "      <th>Year</th>\n",
       "      <th>Grade</th>\n",
       "      <th>Gender</th>\n",
       "      <th>Marriage_status</th>\n",
       "      <th>Salary</th>\n",
       "    </tr>\n",
       "  </thead>\n",
       "  <tbody>\n",
       "    <tr>\n",
       "      <td>0</td>\n",
       "      <td>Dima</td>\n",
       "      <td>Moscow</td>\n",
       "      <td>1988</td>\n",
       "      <td>4.0</td>\n",
       "      <td>m</td>\n",
       "      <td>True</td>\n",
       "      <td>12.0</td>\n",
       "    </tr>\n",
       "    <tr>\n",
       "      <td>1</td>\n",
       "      <td>Sveta</td>\n",
       "      <td>Kiev</td>\n",
       "      <td>1999</td>\n",
       "      <td>4.0</td>\n",
       "      <td>f</td>\n",
       "      <td>False</td>\n",
       "      <td>40.0</td>\n",
       "    </tr>\n",
       "    <tr>\n",
       "      <td>2</td>\n",
       "      <td>Alex</td>\n",
       "      <td>Minsk</td>\n",
       "      <td>1954</td>\n",
       "      <td>NaN</td>\n",
       "      <td>m</td>\n",
       "      <td>True</td>\n",
       "      <td>53.0</td>\n",
       "    </tr>\n",
       "    <tr>\n",
       "      <td>3</td>\n",
       "      <td>Ivan</td>\n",
       "      <td>St.Petersburg</td>\n",
       "      <td>2005</td>\n",
       "      <td>6.0</td>\n",
       "      <td>m</td>\n",
       "      <td>False</td>\n",
       "      <td>25.0</td>\n",
       "    </tr>\n",
       "    <tr>\n",
       "      <td>4</td>\n",
       "      <td>Kate</td>\n",
       "      <td>London</td>\n",
       "      <td>2001</td>\n",
       "      <td>NaN</td>\n",
       "      <td>f</td>\n",
       "      <td>NaN</td>\n",
       "      <td>NaN</td>\n",
       "    </tr>\n",
       "    <tr>\n",
       "      <td>5</td>\n",
       "      <td>Maria</td>\n",
       "      <td>New York</td>\n",
       "      <td>1997</td>\n",
       "      <td>7.0</td>\n",
       "      <td>f</td>\n",
       "      <td>NaN</td>\n",
       "      <td>NaN</td>\n",
       "    </tr>\n",
       "  </tbody>\n",
       "</table>\n",
       "</div>"
      ],
      "text/plain": [
       "    Name           City  Year  Grade Gender Marriage_status  Salary\n",
       "0   Dima         Moscow  1988    4.0      m            True    12.0\n",
       "1  Sveta           Kiev  1999    4.0      f           False    40.0\n",
       "2   Alex          Minsk  1954    NaN      m            True    53.0\n",
       "3   Ivan  St.Petersburg  2005    6.0      m           False    25.0\n",
       "4   Kate         London  2001    NaN      f             NaN     NaN\n",
       "5  Maria       New York  1997    7.0      f             NaN     NaN"
      ]
     },
     "execution_count": 24,
     "metadata": {},
     "output_type": "execute_result"
    }
   ],
   "source": [
    "# axis = 1 указывает на то, что будет объединение столбцов\n",
    "df3 = pnd.concat([df, df_right_1], axis=1, join=\"outer\")\n",
    "df3"
   ]
  },
  {
   "cell_type": "markdown",
   "metadata": {},
   "source": [
    "<p>Внутреннее соединение (<b>inner join</b>) таблиц по индексу</p>"
   ]
  },
  {
   "cell_type": "code",
   "execution_count": 25,
   "metadata": {},
   "outputs": [
    {
     "data": {
      "text/html": [
       "<div>\n",
       "<style scoped>\n",
       "    .dataframe tbody tr th:only-of-type {\n",
       "        vertical-align: middle;\n",
       "    }\n",
       "\n",
       "    .dataframe tbody tr th {\n",
       "        vertical-align: top;\n",
       "    }\n",
       "\n",
       "    .dataframe thead th {\n",
       "        text-align: right;\n",
       "    }\n",
       "</style>\n",
       "<table border=\"1\" class=\"dataframe\">\n",
       "  <thead>\n",
       "    <tr style=\"text-align: right;\">\n",
       "      <th></th>\n",
       "      <th>Name</th>\n",
       "      <th>City</th>\n",
       "      <th>Year</th>\n",
       "      <th>Grade</th>\n",
       "      <th>Gender</th>\n",
       "      <th>Marriage_status</th>\n",
       "      <th>Salary</th>\n",
       "    </tr>\n",
       "  </thead>\n",
       "  <tbody>\n",
       "    <tr>\n",
       "      <td>0</td>\n",
       "      <td>Dima</td>\n",
       "      <td>Moscow</td>\n",
       "      <td>1988</td>\n",
       "      <td>4.0</td>\n",
       "      <td>m</td>\n",
       "      <td>True</td>\n",
       "      <td>12</td>\n",
       "    </tr>\n",
       "    <tr>\n",
       "      <td>1</td>\n",
       "      <td>Sveta</td>\n",
       "      <td>Kiev</td>\n",
       "      <td>1999</td>\n",
       "      <td>4.0</td>\n",
       "      <td>f</td>\n",
       "      <td>False</td>\n",
       "      <td>40</td>\n",
       "    </tr>\n",
       "    <tr>\n",
       "      <td>2</td>\n",
       "      <td>Alex</td>\n",
       "      <td>Minsk</td>\n",
       "      <td>1954</td>\n",
       "      <td>NaN</td>\n",
       "      <td>m</td>\n",
       "      <td>True</td>\n",
       "      <td>53</td>\n",
       "    </tr>\n",
       "    <tr>\n",
       "      <td>3</td>\n",
       "      <td>Ivan</td>\n",
       "      <td>St.Petersburg</td>\n",
       "      <td>2005</td>\n",
       "      <td>6.0</td>\n",
       "      <td>m</td>\n",
       "      <td>False</td>\n",
       "      <td>25</td>\n",
       "    </tr>\n",
       "  </tbody>\n",
       "</table>\n",
       "</div>"
      ],
      "text/plain": [
       "    Name           City  Year  Grade Gender  Marriage_status  Salary\n",
       "0   Dima         Moscow  1988    4.0      m             True      12\n",
       "1  Sveta           Kiev  1999    4.0      f            False      40\n",
       "2   Alex          Minsk  1954    NaN      m             True      53\n",
       "3   Ivan  St.Petersburg  2005    6.0      m            False      25"
      ]
     },
     "execution_count": 25,
     "metadata": {},
     "output_type": "execute_result"
    }
   ],
   "source": [
    "# join = \"inner\" - объединяет столбцы по совпадающим индексам строк\n",
    "df3 = pnd.concat([df, df_right_1], axis=1, join=\"inner\")\n",
    "df3"
   ]
  },
  {
   "cell_type": "markdown",
   "metadata": {},
   "source": [
    "<p><b>Функция <i>merge()</i></b></p>"
   ]
  },
  {
   "cell_type": "markdown",
   "metadata": {},
   "source": [
    "<p>Внешнее соединение (<b>outer join</b>) таблиц по индексу</p>"
   ]
  },
  {
   "cell_type": "code",
   "execution_count": 26,
   "metadata": {},
   "outputs": [
    {
     "data": {
      "text/html": [
       "<div>\n",
       "<style scoped>\n",
       "    .dataframe tbody tr th:only-of-type {\n",
       "        vertical-align: middle;\n",
       "    }\n",
       "\n",
       "    .dataframe tbody tr th {\n",
       "        vertical-align: top;\n",
       "    }\n",
       "\n",
       "    .dataframe thead th {\n",
       "        text-align: right;\n",
       "    }\n",
       "</style>\n",
       "<table border=\"1\" class=\"dataframe\">\n",
       "  <thead>\n",
       "    <tr style=\"text-align: right;\">\n",
       "      <th></th>\n",
       "      <th>Name</th>\n",
       "      <th>City</th>\n",
       "      <th>Year</th>\n",
       "      <th>Grade</th>\n",
       "      <th>Gender</th>\n",
       "      <th>Marriage_status</th>\n",
       "      <th>Salary</th>\n",
       "    </tr>\n",
       "  </thead>\n",
       "  <tbody>\n",
       "    <tr>\n",
       "      <td>0</td>\n",
       "      <td>Dima</td>\n",
       "      <td>Moscow</td>\n",
       "      <td>1988</td>\n",
       "      <td>4.0</td>\n",
       "      <td>m</td>\n",
       "      <td>True</td>\n",
       "      <td>12.0</td>\n",
       "    </tr>\n",
       "    <tr>\n",
       "      <td>1</td>\n",
       "      <td>Sveta</td>\n",
       "      <td>Kiev</td>\n",
       "      <td>1999</td>\n",
       "      <td>4.0</td>\n",
       "      <td>f</td>\n",
       "      <td>False</td>\n",
       "      <td>40.0</td>\n",
       "    </tr>\n",
       "    <tr>\n",
       "      <td>2</td>\n",
       "      <td>Alex</td>\n",
       "      <td>Minsk</td>\n",
       "      <td>1954</td>\n",
       "      <td>NaN</td>\n",
       "      <td>m</td>\n",
       "      <td>True</td>\n",
       "      <td>53.0</td>\n",
       "    </tr>\n",
       "    <tr>\n",
       "      <td>3</td>\n",
       "      <td>Ivan</td>\n",
       "      <td>St.Petersburg</td>\n",
       "      <td>2005</td>\n",
       "      <td>6.0</td>\n",
       "      <td>m</td>\n",
       "      <td>False</td>\n",
       "      <td>25.0</td>\n",
       "    </tr>\n",
       "    <tr>\n",
       "      <td>4</td>\n",
       "      <td>Kate</td>\n",
       "      <td>London</td>\n",
       "      <td>2001</td>\n",
       "      <td>NaN</td>\n",
       "      <td>f</td>\n",
       "      <td>NaN</td>\n",
       "      <td>NaN</td>\n",
       "    </tr>\n",
       "    <tr>\n",
       "      <td>5</td>\n",
       "      <td>Maria</td>\n",
       "      <td>New York</td>\n",
       "      <td>1997</td>\n",
       "      <td>7.0</td>\n",
       "      <td>f</td>\n",
       "      <td>NaN</td>\n",
       "      <td>NaN</td>\n",
       "    </tr>\n",
       "  </tbody>\n",
       "</table>\n",
       "</div>"
      ],
      "text/plain": [
       "    Name           City  Year  Grade Gender Marriage_status  Salary\n",
       "0   Dima         Moscow  1988    4.0      m            True    12.0\n",
       "1  Sveta           Kiev  1999    4.0      f           False    40.0\n",
       "2   Alex          Minsk  1954    NaN      m            True    53.0\n",
       "3   Ivan  St.Petersburg  2005    6.0      m           False    25.0\n",
       "4   Kate         London  2001    NaN      f             NaN     NaN\n",
       "5  Maria       New York  1997    7.0      f             NaN     NaN"
      ]
     },
     "execution_count": 26,
     "metadata": {},
     "output_type": "execute_result"
    }
   ],
   "source": [
    "df3 = pnd.merge(df, df_right_1, left_index=True, right_index=True, how=\"outer\")\n",
    "df3"
   ]
  },
  {
   "cell_type": "markdown",
   "metadata": {},
   "source": [
    "<p>Внешнее соединение (<b>outer join</b>) таблиц по значениям в столбцах</p>"
   ]
  },
  {
   "cell_type": "code",
   "execution_count": 27,
   "metadata": {},
   "outputs": [
    {
     "data": {
      "text/html": [
       "<div>\n",
       "<style scoped>\n",
       "    .dataframe tbody tr th:only-of-type {\n",
       "        vertical-align: middle;\n",
       "    }\n",
       "\n",
       "    .dataframe tbody tr th {\n",
       "        vertical-align: top;\n",
       "    }\n",
       "\n",
       "    .dataframe thead th {\n",
       "        text-align: right;\n",
       "    }\n",
       "</style>\n",
       "<table border=\"1\" class=\"dataframe\">\n",
       "  <thead>\n",
       "    <tr style=\"text-align: right;\">\n",
       "      <th></th>\n",
       "      <th>Name</th>\n",
       "      <th>Device</th>\n",
       "    </tr>\n",
       "  </thead>\n",
       "  <tbody>\n",
       "    <tr>\n",
       "      <td>0</td>\n",
       "      <td>Sveta</td>\n",
       "      <td>TV</td>\n",
       "    </tr>\n",
       "    <tr>\n",
       "      <td>1</td>\n",
       "      <td>Sveta</td>\n",
       "      <td>Smartphone</td>\n",
       "    </tr>\n",
       "    <tr>\n",
       "      <td>2</td>\n",
       "      <td>Alex</td>\n",
       "      <td>TV</td>\n",
       "    </tr>\n",
       "    <tr>\n",
       "      <td>3</td>\n",
       "      <td>Alex</td>\n",
       "      <td>Pendrive</td>\n",
       "    </tr>\n",
       "    <tr>\n",
       "      <td>4</td>\n",
       "      <td>Kate</td>\n",
       "      <td>TV</td>\n",
       "    </tr>\n",
       "    <tr>\n",
       "      <td>5</td>\n",
       "      <td>Vlad</td>\n",
       "      <td>TV</td>\n",
       "    </tr>\n",
       "    <tr>\n",
       "      <td>6</td>\n",
       "      <td>Alice</td>\n",
       "      <td>PC</td>\n",
       "    </tr>\n",
       "  </tbody>\n",
       "</table>\n",
       "</div>"
      ],
      "text/plain": [
       "    Name      Device\n",
       "0  Sveta          TV\n",
       "1  Sveta  Smartphone\n",
       "2   Alex          TV\n",
       "3   Alex    Pendrive\n",
       "4   Kate          TV\n",
       "5   Vlad          TV\n",
       "6  Alice          PC"
      ]
     },
     "execution_count": 27,
     "metadata": {},
     "output_type": "execute_result"
    }
   ],
   "source": [
    "dict_new_2 = {\"Name\":[\"Sveta\", \"Sveta\", \"Alex\", \"Alex\", \"Kate\", \"Vlad\", \"Alice\"],\n",
    "            \"Device\":[\"TV\", \"Smartphone\", \"TV\", \"Pendrive\", \"TV\", \"TV\", \"PC\"]}\n",
    "\n",
    "df_right_2 = pnd.DataFrame(data=dict_new_2)\n",
    "df_right_2"
   ]
  },
  {
   "cell_type": "code",
   "execution_count": 28,
   "metadata": {},
   "outputs": [
    {
     "data": {
      "text/html": [
       "<div>\n",
       "<style scoped>\n",
       "    .dataframe tbody tr th:only-of-type {\n",
       "        vertical-align: middle;\n",
       "    }\n",
       "\n",
       "    .dataframe tbody tr th {\n",
       "        vertical-align: top;\n",
       "    }\n",
       "\n",
       "    .dataframe thead th {\n",
       "        text-align: right;\n",
       "    }\n",
       "</style>\n",
       "<table border=\"1\" class=\"dataframe\">\n",
       "  <thead>\n",
       "    <tr style=\"text-align: right;\">\n",
       "      <th></th>\n",
       "      <th>Name</th>\n",
       "      <th>City</th>\n",
       "      <th>Year</th>\n",
       "      <th>Grade</th>\n",
       "      <th>Gender</th>\n",
       "      <th>Device</th>\n",
       "    </tr>\n",
       "  </thead>\n",
       "  <tbody>\n",
       "    <tr>\n",
       "      <td>0</td>\n",
       "      <td>Dima</td>\n",
       "      <td>Moscow</td>\n",
       "      <td>1988.0</td>\n",
       "      <td>4.0</td>\n",
       "      <td>m</td>\n",
       "      <td>NaN</td>\n",
       "    </tr>\n",
       "    <tr>\n",
       "      <td>1</td>\n",
       "      <td>Sveta</td>\n",
       "      <td>Kiev</td>\n",
       "      <td>1999.0</td>\n",
       "      <td>4.0</td>\n",
       "      <td>f</td>\n",
       "      <td>TV</td>\n",
       "    </tr>\n",
       "    <tr>\n",
       "      <td>2</td>\n",
       "      <td>Sveta</td>\n",
       "      <td>Kiev</td>\n",
       "      <td>1999.0</td>\n",
       "      <td>4.0</td>\n",
       "      <td>f</td>\n",
       "      <td>Smartphone</td>\n",
       "    </tr>\n",
       "    <tr>\n",
       "      <td>3</td>\n",
       "      <td>Alex</td>\n",
       "      <td>Minsk</td>\n",
       "      <td>1954.0</td>\n",
       "      <td>NaN</td>\n",
       "      <td>m</td>\n",
       "      <td>TV</td>\n",
       "    </tr>\n",
       "    <tr>\n",
       "      <td>4</td>\n",
       "      <td>Alex</td>\n",
       "      <td>Minsk</td>\n",
       "      <td>1954.0</td>\n",
       "      <td>NaN</td>\n",
       "      <td>m</td>\n",
       "      <td>Pendrive</td>\n",
       "    </tr>\n",
       "    <tr>\n",
       "      <td>5</td>\n",
       "      <td>Ivan</td>\n",
       "      <td>St.Petersburg</td>\n",
       "      <td>2005.0</td>\n",
       "      <td>6.0</td>\n",
       "      <td>m</td>\n",
       "      <td>NaN</td>\n",
       "    </tr>\n",
       "    <tr>\n",
       "      <td>6</td>\n",
       "      <td>Kate</td>\n",
       "      <td>London</td>\n",
       "      <td>2001.0</td>\n",
       "      <td>NaN</td>\n",
       "      <td>f</td>\n",
       "      <td>TV</td>\n",
       "    </tr>\n",
       "    <tr>\n",
       "      <td>7</td>\n",
       "      <td>Maria</td>\n",
       "      <td>New York</td>\n",
       "      <td>1997.0</td>\n",
       "      <td>7.0</td>\n",
       "      <td>f</td>\n",
       "      <td>NaN</td>\n",
       "    </tr>\n",
       "    <tr>\n",
       "      <td>8</td>\n",
       "      <td>Vlad</td>\n",
       "      <td>NaN</td>\n",
       "      <td>NaN</td>\n",
       "      <td>NaN</td>\n",
       "      <td>NaN</td>\n",
       "      <td>TV</td>\n",
       "    </tr>\n",
       "    <tr>\n",
       "      <td>9</td>\n",
       "      <td>Alice</td>\n",
       "      <td>NaN</td>\n",
       "      <td>NaN</td>\n",
       "      <td>NaN</td>\n",
       "      <td>NaN</td>\n",
       "      <td>PC</td>\n",
       "    </tr>\n",
       "  </tbody>\n",
       "</table>\n",
       "</div>"
      ],
      "text/plain": [
       "    Name           City    Year  Grade Gender      Device\n",
       "0   Dima         Moscow  1988.0    4.0      m         NaN\n",
       "1  Sveta           Kiev  1999.0    4.0      f          TV\n",
       "2  Sveta           Kiev  1999.0    4.0      f  Smartphone\n",
       "3   Alex          Minsk  1954.0    NaN      m          TV\n",
       "4   Alex          Minsk  1954.0    NaN      m    Pendrive\n",
       "5   Ivan  St.Petersburg  2005.0    6.0      m         NaN\n",
       "6   Kate         London  2001.0    NaN      f          TV\n",
       "7  Maria       New York  1997.0    7.0      f         NaN\n",
       "8   Vlad            NaN     NaN    NaN    NaN          TV\n",
       "9  Alice            NaN     NaN    NaN    NaN          PC"
      ]
     },
     "execution_count": 28,
     "metadata": {},
     "output_type": "execute_result"
    }
   ],
   "source": [
    "df3 = pnd.merge(df, df_right_2, on=[\"Name\"], how=\"outer\")\n",
    "df3"
   ]
  },
  {
   "cell_type": "markdown",
   "metadata": {},
   "source": [
    "<p>Внешнее соединение (<b>outer join</b>) таблиц по значениям столбцов одной таблицы и индексам другой</p>"
   ]
  },
  {
   "cell_type": "code",
   "execution_count": 33,
   "metadata": {},
   "outputs": [
    {
     "data": {
      "text/html": [
       "<div>\n",
       "<style scoped>\n",
       "    .dataframe tbody tr th:only-of-type {\n",
       "        vertical-align: middle;\n",
       "    }\n",
       "\n",
       "    .dataframe tbody tr th {\n",
       "        vertical-align: top;\n",
       "    }\n",
       "\n",
       "    .dataframe thead th {\n",
       "        text-align: right;\n",
       "    }\n",
       "</style>\n",
       "<table border=\"1\" class=\"dataframe\">\n",
       "  <thead>\n",
       "    <tr style=\"text-align: right;\">\n",
       "      <th></th>\n",
       "      <th>key</th>\n",
       "      <th>Device</th>\n",
       "    </tr>\n",
       "  </thead>\n",
       "  <tbody>\n",
       "    <tr>\n",
       "      <td>0</td>\n",
       "      <td>2</td>\n",
       "      <td>TV</td>\n",
       "    </tr>\n",
       "    <tr>\n",
       "      <td>1</td>\n",
       "      <td>2</td>\n",
       "      <td>Smartphone</td>\n",
       "    </tr>\n",
       "    <tr>\n",
       "      <td>2</td>\n",
       "      <td>3</td>\n",
       "      <td>TV</td>\n",
       "    </tr>\n",
       "    <tr>\n",
       "      <td>3</td>\n",
       "      <td>3</td>\n",
       "      <td>Pendrive</td>\n",
       "    </tr>\n",
       "    <tr>\n",
       "      <td>4</td>\n",
       "      <td>4</td>\n",
       "      <td>TV</td>\n",
       "    </tr>\n",
       "    <tr>\n",
       "      <td>5</td>\n",
       "      <td>4</td>\n",
       "      <td>TV</td>\n",
       "    </tr>\n",
       "    <tr>\n",
       "      <td>6</td>\n",
       "      <td>10</td>\n",
       "      <td>PC</td>\n",
       "    </tr>\n",
       "  </tbody>\n",
       "</table>\n",
       "</div>"
      ],
      "text/plain": [
       "   key      Device\n",
       "0    2          TV\n",
       "1    2  Smartphone\n",
       "2    3          TV\n",
       "3    3    Pendrive\n",
       "4    4          TV\n",
       "5    4          TV\n",
       "6   10          PC"
      ]
     },
     "execution_count": 33,
     "metadata": {},
     "output_type": "execute_result"
    }
   ],
   "source": [
    "dict_new_3 = {\"key\":[2, 2, 3, 3, 4, 4, 10],\n",
    "            \"Device\":[\"TV\", \"Smartphone\", \"TV\", \"Pendrive\", \"TV\", \"TV\", \"PC\"]}\n",
    "\n",
    "df_left = pnd.DataFrame(data=dict_new_3)\n",
    "df_left"
   ]
  },
  {
   "cell_type": "code",
   "execution_count": 34,
   "metadata": {},
   "outputs": [
    {
     "data": {
      "text/html": [
       "<div>\n",
       "<style scoped>\n",
       "    .dataframe tbody tr th:only-of-type {\n",
       "        vertical-align: middle;\n",
       "    }\n",
       "\n",
       "    .dataframe tbody tr th {\n",
       "        vertical-align: top;\n",
       "    }\n",
       "\n",
       "    .dataframe thead th {\n",
       "        text-align: right;\n",
       "    }\n",
       "</style>\n",
       "<table border=\"1\" class=\"dataframe\">\n",
       "  <thead>\n",
       "    <tr style=\"text-align: right;\">\n",
       "      <th></th>\n",
       "      <th>key</th>\n",
       "      <th>Device</th>\n",
       "      <th>Name</th>\n",
       "      <th>City</th>\n",
       "      <th>Year</th>\n",
       "      <th>Grade</th>\n",
       "      <th>Gender</th>\n",
       "    </tr>\n",
       "  </thead>\n",
       "  <tbody>\n",
       "    <tr>\n",
       "      <td>0.0</td>\n",
       "      <td>2</td>\n",
       "      <td>TV</td>\n",
       "      <td>Alex</td>\n",
       "      <td>Minsk</td>\n",
       "      <td>1954.0</td>\n",
       "      <td>NaN</td>\n",
       "      <td>m</td>\n",
       "    </tr>\n",
       "    <tr>\n",
       "      <td>1.0</td>\n",
       "      <td>2</td>\n",
       "      <td>Smartphone</td>\n",
       "      <td>Alex</td>\n",
       "      <td>Minsk</td>\n",
       "      <td>1954.0</td>\n",
       "      <td>NaN</td>\n",
       "      <td>m</td>\n",
       "    </tr>\n",
       "    <tr>\n",
       "      <td>2.0</td>\n",
       "      <td>3</td>\n",
       "      <td>TV</td>\n",
       "      <td>Ivan</td>\n",
       "      <td>St.Petersburg</td>\n",
       "      <td>2005.0</td>\n",
       "      <td>6.0</td>\n",
       "      <td>m</td>\n",
       "    </tr>\n",
       "    <tr>\n",
       "      <td>3.0</td>\n",
       "      <td>3</td>\n",
       "      <td>Pendrive</td>\n",
       "      <td>Ivan</td>\n",
       "      <td>St.Petersburg</td>\n",
       "      <td>2005.0</td>\n",
       "      <td>6.0</td>\n",
       "      <td>m</td>\n",
       "    </tr>\n",
       "    <tr>\n",
       "      <td>4.0</td>\n",
       "      <td>4</td>\n",
       "      <td>TV</td>\n",
       "      <td>Kate</td>\n",
       "      <td>London</td>\n",
       "      <td>2001.0</td>\n",
       "      <td>NaN</td>\n",
       "      <td>f</td>\n",
       "    </tr>\n",
       "    <tr>\n",
       "      <td>5.0</td>\n",
       "      <td>4</td>\n",
       "      <td>TV</td>\n",
       "      <td>Kate</td>\n",
       "      <td>London</td>\n",
       "      <td>2001.0</td>\n",
       "      <td>NaN</td>\n",
       "      <td>f</td>\n",
       "    </tr>\n",
       "    <tr>\n",
       "      <td>6.0</td>\n",
       "      <td>10</td>\n",
       "      <td>PC</td>\n",
       "      <td>NaN</td>\n",
       "      <td>NaN</td>\n",
       "      <td>NaN</td>\n",
       "      <td>NaN</td>\n",
       "      <td>NaN</td>\n",
       "    </tr>\n",
       "    <tr>\n",
       "      <td>NaN</td>\n",
       "      <td>0</td>\n",
       "      <td>NaN</td>\n",
       "      <td>Dima</td>\n",
       "      <td>Moscow</td>\n",
       "      <td>1988.0</td>\n",
       "      <td>4.0</td>\n",
       "      <td>m</td>\n",
       "    </tr>\n",
       "    <tr>\n",
       "      <td>NaN</td>\n",
       "      <td>1</td>\n",
       "      <td>NaN</td>\n",
       "      <td>Sveta</td>\n",
       "      <td>Kiev</td>\n",
       "      <td>1999.0</td>\n",
       "      <td>4.0</td>\n",
       "      <td>f</td>\n",
       "    </tr>\n",
       "    <tr>\n",
       "      <td>NaN</td>\n",
       "      <td>5</td>\n",
       "      <td>NaN</td>\n",
       "      <td>Maria</td>\n",
       "      <td>New York</td>\n",
       "      <td>1997.0</td>\n",
       "      <td>7.0</td>\n",
       "      <td>f</td>\n",
       "    </tr>\n",
       "  </tbody>\n",
       "</table>\n",
       "</div>"
      ],
      "text/plain": [
       "     key      Device   Name           City    Year  Grade Gender\n",
       "0.0    2          TV   Alex          Minsk  1954.0    NaN      m\n",
       "1.0    2  Smartphone   Alex          Minsk  1954.0    NaN      m\n",
       "2.0    3          TV   Ivan  St.Petersburg  2005.0    6.0      m\n",
       "3.0    3    Pendrive   Ivan  St.Petersburg  2005.0    6.0      m\n",
       "4.0    4          TV   Kate         London  2001.0    NaN      f\n",
       "5.0    4          TV   Kate         London  2001.0    NaN      f\n",
       "6.0   10          PC    NaN            NaN     NaN    NaN    NaN\n",
       "NaN    0         NaN   Dima         Moscow  1988.0    4.0      m\n",
       "NaN    1         NaN  Sveta           Kiev  1999.0    4.0      f\n",
       "NaN    5         NaN  Maria       New York  1997.0    7.0      f"
      ]
     },
     "execution_count": 34,
     "metadata": {},
     "output_type": "execute_result"
    }
   ],
   "source": [
    "df3 = pnd.merge(df_left, df, left_on=\"key\", right_index=True, how=\"outer\")\n",
    "df3"
   ]
  },
  {
   "cell_type": "markdown",
   "metadata": {},
   "source": [
    "<p>Левое внешнее соединение (<b>left outer join</b>) таблиц по индексу</p>"
   ]
  },
  {
   "cell_type": "code",
   "execution_count": 35,
   "metadata": {},
   "outputs": [
    {
     "data": {
      "text/html": [
       "<div>\n",
       "<style scoped>\n",
       "    .dataframe tbody tr th:only-of-type {\n",
       "        vertical-align: middle;\n",
       "    }\n",
       "\n",
       "    .dataframe tbody tr th {\n",
       "        vertical-align: top;\n",
       "    }\n",
       "\n",
       "    .dataframe thead th {\n",
       "        text-align: right;\n",
       "    }\n",
       "</style>\n",
       "<table border=\"1\" class=\"dataframe\">\n",
       "  <thead>\n",
       "    <tr style=\"text-align: right;\">\n",
       "      <th></th>\n",
       "      <th>Name</th>\n",
       "      <th>City</th>\n",
       "      <th>Year</th>\n",
       "      <th>Grade</th>\n",
       "      <th>Gender</th>\n",
       "      <th>Marriage_status</th>\n",
       "      <th>Salary</th>\n",
       "    </tr>\n",
       "  </thead>\n",
       "  <tbody>\n",
       "    <tr>\n",
       "      <td>0</td>\n",
       "      <td>Dima</td>\n",
       "      <td>Moscow</td>\n",
       "      <td>1988</td>\n",
       "      <td>4.0</td>\n",
       "      <td>m</td>\n",
       "      <td>True</td>\n",
       "      <td>12.0</td>\n",
       "    </tr>\n",
       "    <tr>\n",
       "      <td>1</td>\n",
       "      <td>Sveta</td>\n",
       "      <td>Kiev</td>\n",
       "      <td>1999</td>\n",
       "      <td>4.0</td>\n",
       "      <td>f</td>\n",
       "      <td>False</td>\n",
       "      <td>40.0</td>\n",
       "    </tr>\n",
       "    <tr>\n",
       "      <td>2</td>\n",
       "      <td>Alex</td>\n",
       "      <td>Minsk</td>\n",
       "      <td>1954</td>\n",
       "      <td>NaN</td>\n",
       "      <td>m</td>\n",
       "      <td>True</td>\n",
       "      <td>53.0</td>\n",
       "    </tr>\n",
       "    <tr>\n",
       "      <td>3</td>\n",
       "      <td>Ivan</td>\n",
       "      <td>St.Petersburg</td>\n",
       "      <td>2005</td>\n",
       "      <td>6.0</td>\n",
       "      <td>m</td>\n",
       "      <td>False</td>\n",
       "      <td>25.0</td>\n",
       "    </tr>\n",
       "    <tr>\n",
       "      <td>4</td>\n",
       "      <td>Kate</td>\n",
       "      <td>London</td>\n",
       "      <td>2001</td>\n",
       "      <td>NaN</td>\n",
       "      <td>f</td>\n",
       "      <td>NaN</td>\n",
       "      <td>NaN</td>\n",
       "    </tr>\n",
       "    <tr>\n",
       "      <td>5</td>\n",
       "      <td>Maria</td>\n",
       "      <td>New York</td>\n",
       "      <td>1997</td>\n",
       "      <td>7.0</td>\n",
       "      <td>f</td>\n",
       "      <td>NaN</td>\n",
       "      <td>NaN</td>\n",
       "    </tr>\n",
       "  </tbody>\n",
       "</table>\n",
       "</div>"
      ],
      "text/plain": [
       "    Name           City  Year  Grade Gender Marriage_status  Salary\n",
       "0   Dima         Moscow  1988    4.0      m            True    12.0\n",
       "1  Sveta           Kiev  1999    4.0      f           False    40.0\n",
       "2   Alex          Minsk  1954    NaN      m            True    53.0\n",
       "3   Ivan  St.Petersburg  2005    6.0      m           False    25.0\n",
       "4   Kate         London  2001    NaN      f             NaN     NaN\n",
       "5  Maria       New York  1997    7.0      f             NaN     NaN"
      ]
     },
     "execution_count": 35,
     "metadata": {},
     "output_type": "execute_result"
    }
   ],
   "source": [
    "df3 = pnd.merge(df, df_right_1, left_index=True, right_index=True, how=\"left\")\n",
    "df3"
   ]
  },
  {
   "cell_type": "markdown",
   "metadata": {},
   "source": [
    "<p>Левое внешнее соединение (<b>left outer join</b>) таблиц по значениям в столбцах</p>"
   ]
  },
  {
   "cell_type": "code",
   "execution_count": 36,
   "metadata": {},
   "outputs": [
    {
     "data": {
      "text/html": [
       "<div>\n",
       "<style scoped>\n",
       "    .dataframe tbody tr th:only-of-type {\n",
       "        vertical-align: middle;\n",
       "    }\n",
       "\n",
       "    .dataframe tbody tr th {\n",
       "        vertical-align: top;\n",
       "    }\n",
       "\n",
       "    .dataframe thead th {\n",
       "        text-align: right;\n",
       "    }\n",
       "</style>\n",
       "<table border=\"1\" class=\"dataframe\">\n",
       "  <thead>\n",
       "    <tr style=\"text-align: right;\">\n",
       "      <th></th>\n",
       "      <th>Name</th>\n",
       "      <th>City</th>\n",
       "      <th>Year</th>\n",
       "      <th>Grade</th>\n",
       "      <th>Gender</th>\n",
       "      <th>Device</th>\n",
       "    </tr>\n",
       "  </thead>\n",
       "  <tbody>\n",
       "    <tr>\n",
       "      <td>0</td>\n",
       "      <td>Dima</td>\n",
       "      <td>Moscow</td>\n",
       "      <td>1988</td>\n",
       "      <td>4.0</td>\n",
       "      <td>m</td>\n",
       "      <td>NaN</td>\n",
       "    </tr>\n",
       "    <tr>\n",
       "      <td>1</td>\n",
       "      <td>Sveta</td>\n",
       "      <td>Kiev</td>\n",
       "      <td>1999</td>\n",
       "      <td>4.0</td>\n",
       "      <td>f</td>\n",
       "      <td>TV</td>\n",
       "    </tr>\n",
       "    <tr>\n",
       "      <td>2</td>\n",
       "      <td>Sveta</td>\n",
       "      <td>Kiev</td>\n",
       "      <td>1999</td>\n",
       "      <td>4.0</td>\n",
       "      <td>f</td>\n",
       "      <td>Smartphone</td>\n",
       "    </tr>\n",
       "    <tr>\n",
       "      <td>3</td>\n",
       "      <td>Alex</td>\n",
       "      <td>Minsk</td>\n",
       "      <td>1954</td>\n",
       "      <td>NaN</td>\n",
       "      <td>m</td>\n",
       "      <td>TV</td>\n",
       "    </tr>\n",
       "    <tr>\n",
       "      <td>4</td>\n",
       "      <td>Alex</td>\n",
       "      <td>Minsk</td>\n",
       "      <td>1954</td>\n",
       "      <td>NaN</td>\n",
       "      <td>m</td>\n",
       "      <td>Pendrive</td>\n",
       "    </tr>\n",
       "    <tr>\n",
       "      <td>5</td>\n",
       "      <td>Ivan</td>\n",
       "      <td>St.Petersburg</td>\n",
       "      <td>2005</td>\n",
       "      <td>6.0</td>\n",
       "      <td>m</td>\n",
       "      <td>NaN</td>\n",
       "    </tr>\n",
       "    <tr>\n",
       "      <td>6</td>\n",
       "      <td>Kate</td>\n",
       "      <td>London</td>\n",
       "      <td>2001</td>\n",
       "      <td>NaN</td>\n",
       "      <td>f</td>\n",
       "      <td>TV</td>\n",
       "    </tr>\n",
       "    <tr>\n",
       "      <td>7</td>\n",
       "      <td>Maria</td>\n",
       "      <td>New York</td>\n",
       "      <td>1997</td>\n",
       "      <td>7.0</td>\n",
       "      <td>f</td>\n",
       "      <td>NaN</td>\n",
       "    </tr>\n",
       "  </tbody>\n",
       "</table>\n",
       "</div>"
      ],
      "text/plain": [
       "    Name           City  Year  Grade Gender      Device\n",
       "0   Dima         Moscow  1988    4.0      m         NaN\n",
       "1  Sveta           Kiev  1999    4.0      f          TV\n",
       "2  Sveta           Kiev  1999    4.0      f  Smartphone\n",
       "3   Alex          Minsk  1954    NaN      m          TV\n",
       "4   Alex          Minsk  1954    NaN      m    Pendrive\n",
       "5   Ivan  St.Petersburg  2005    6.0      m         NaN\n",
       "6   Kate         London  2001    NaN      f          TV\n",
       "7  Maria       New York  1997    7.0      f         NaN"
      ]
     },
     "execution_count": 36,
     "metadata": {},
     "output_type": "execute_result"
    }
   ],
   "source": [
    "df3 = pnd.merge(df, df_right_2, on=[\"Name\"], how=\"left\")\n",
    "df3"
   ]
  },
  {
   "cell_type": "markdown",
   "metadata": {},
   "source": [
    "<p>Внешнее левое соединение (<b>left outer join</b>) таблиц по значениям столбцов одной таблицы и индексам другой</p>"
   ]
  },
  {
   "cell_type": "code",
   "execution_count": 37,
   "metadata": {},
   "outputs": [
    {
     "data": {
      "text/html": [
       "<div>\n",
       "<style scoped>\n",
       "    .dataframe tbody tr th:only-of-type {\n",
       "        vertical-align: middle;\n",
       "    }\n",
       "\n",
       "    .dataframe tbody tr th {\n",
       "        vertical-align: top;\n",
       "    }\n",
       "\n",
       "    .dataframe thead th {\n",
       "        text-align: right;\n",
       "    }\n",
       "</style>\n",
       "<table border=\"1\" class=\"dataframe\">\n",
       "  <thead>\n",
       "    <tr style=\"text-align: right;\">\n",
       "      <th></th>\n",
       "      <th>key</th>\n",
       "      <th>Device</th>\n",
       "      <th>Name</th>\n",
       "      <th>City</th>\n",
       "      <th>Year</th>\n",
       "      <th>Grade</th>\n",
       "      <th>Gender</th>\n",
       "    </tr>\n",
       "  </thead>\n",
       "  <tbody>\n",
       "    <tr>\n",
       "      <td>0</td>\n",
       "      <td>2</td>\n",
       "      <td>TV</td>\n",
       "      <td>Alex</td>\n",
       "      <td>Minsk</td>\n",
       "      <td>1954.0</td>\n",
       "      <td>NaN</td>\n",
       "      <td>m</td>\n",
       "    </tr>\n",
       "    <tr>\n",
       "      <td>1</td>\n",
       "      <td>2</td>\n",
       "      <td>Smartphone</td>\n",
       "      <td>Alex</td>\n",
       "      <td>Minsk</td>\n",
       "      <td>1954.0</td>\n",
       "      <td>NaN</td>\n",
       "      <td>m</td>\n",
       "    </tr>\n",
       "    <tr>\n",
       "      <td>2</td>\n",
       "      <td>3</td>\n",
       "      <td>TV</td>\n",
       "      <td>Ivan</td>\n",
       "      <td>St.Petersburg</td>\n",
       "      <td>2005.0</td>\n",
       "      <td>6.0</td>\n",
       "      <td>m</td>\n",
       "    </tr>\n",
       "    <tr>\n",
       "      <td>3</td>\n",
       "      <td>3</td>\n",
       "      <td>Pendrive</td>\n",
       "      <td>Ivan</td>\n",
       "      <td>St.Petersburg</td>\n",
       "      <td>2005.0</td>\n",
       "      <td>6.0</td>\n",
       "      <td>m</td>\n",
       "    </tr>\n",
       "    <tr>\n",
       "      <td>4</td>\n",
       "      <td>4</td>\n",
       "      <td>TV</td>\n",
       "      <td>Kate</td>\n",
       "      <td>London</td>\n",
       "      <td>2001.0</td>\n",
       "      <td>NaN</td>\n",
       "      <td>f</td>\n",
       "    </tr>\n",
       "    <tr>\n",
       "      <td>5</td>\n",
       "      <td>4</td>\n",
       "      <td>TV</td>\n",
       "      <td>Kate</td>\n",
       "      <td>London</td>\n",
       "      <td>2001.0</td>\n",
       "      <td>NaN</td>\n",
       "      <td>f</td>\n",
       "    </tr>\n",
       "    <tr>\n",
       "      <td>6</td>\n",
       "      <td>10</td>\n",
       "      <td>PC</td>\n",
       "      <td>NaN</td>\n",
       "      <td>NaN</td>\n",
       "      <td>NaN</td>\n",
       "      <td>NaN</td>\n",
       "      <td>NaN</td>\n",
       "    </tr>\n",
       "  </tbody>\n",
       "</table>\n",
       "</div>"
      ],
      "text/plain": [
       "   key      Device  Name           City    Year  Grade Gender\n",
       "0    2          TV  Alex          Minsk  1954.0    NaN      m\n",
       "1    2  Smartphone  Alex          Minsk  1954.0    NaN      m\n",
       "2    3          TV  Ivan  St.Petersburg  2005.0    6.0      m\n",
       "3    3    Pendrive  Ivan  St.Petersburg  2005.0    6.0      m\n",
       "4    4          TV  Kate         London  2001.0    NaN      f\n",
       "5    4          TV  Kate         London  2001.0    NaN      f\n",
       "6   10          PC   NaN            NaN     NaN    NaN    NaN"
      ]
     },
     "execution_count": 37,
     "metadata": {},
     "output_type": "execute_result"
    }
   ],
   "source": [
    "df3 = pnd.merge(dfLeft, df, left_on=\"key\", right_index=True, how=\"left\")\n",
    "df3"
   ]
  },
  {
   "cell_type": "markdown",
   "metadata": {},
   "source": [
    "<p>Правое внешнее соединение (<b>right outer join</b>) таблиц по индексу</p>"
   ]
  },
  {
   "cell_type": "code",
   "execution_count": 38,
   "metadata": {},
   "outputs": [
    {
     "data": {
      "text/html": [
       "<div>\n",
       "<style scoped>\n",
       "    .dataframe tbody tr th:only-of-type {\n",
       "        vertical-align: middle;\n",
       "    }\n",
       "\n",
       "    .dataframe tbody tr th {\n",
       "        vertical-align: top;\n",
       "    }\n",
       "\n",
       "    .dataframe thead th {\n",
       "        text-align: right;\n",
       "    }\n",
       "</style>\n",
       "<table border=\"1\" class=\"dataframe\">\n",
       "  <thead>\n",
       "    <tr style=\"text-align: right;\">\n",
       "      <th></th>\n",
       "      <th>Name</th>\n",
       "      <th>City</th>\n",
       "      <th>Year</th>\n",
       "      <th>Grade</th>\n",
       "      <th>Gender</th>\n",
       "      <th>Marriage_status</th>\n",
       "      <th>Salary</th>\n",
       "    </tr>\n",
       "  </thead>\n",
       "  <tbody>\n",
       "    <tr>\n",
       "      <td>0</td>\n",
       "      <td>Dima</td>\n",
       "      <td>Moscow</td>\n",
       "      <td>1988</td>\n",
       "      <td>4.0</td>\n",
       "      <td>m</td>\n",
       "      <td>True</td>\n",
       "      <td>12</td>\n",
       "    </tr>\n",
       "    <tr>\n",
       "      <td>1</td>\n",
       "      <td>Sveta</td>\n",
       "      <td>Kiev</td>\n",
       "      <td>1999</td>\n",
       "      <td>4.0</td>\n",
       "      <td>f</td>\n",
       "      <td>False</td>\n",
       "      <td>40</td>\n",
       "    </tr>\n",
       "    <tr>\n",
       "      <td>2</td>\n",
       "      <td>Alex</td>\n",
       "      <td>Minsk</td>\n",
       "      <td>1954</td>\n",
       "      <td>NaN</td>\n",
       "      <td>m</td>\n",
       "      <td>True</td>\n",
       "      <td>53</td>\n",
       "    </tr>\n",
       "    <tr>\n",
       "      <td>3</td>\n",
       "      <td>Ivan</td>\n",
       "      <td>St.Petersburg</td>\n",
       "      <td>2005</td>\n",
       "      <td>6.0</td>\n",
       "      <td>m</td>\n",
       "      <td>False</td>\n",
       "      <td>25</td>\n",
       "    </tr>\n",
       "  </tbody>\n",
       "</table>\n",
       "</div>"
      ],
      "text/plain": [
       "    Name           City  Year  Grade Gender  Marriage_status  Salary\n",
       "0   Dima         Moscow  1988    4.0      m             True      12\n",
       "1  Sveta           Kiev  1999    4.0      f            False      40\n",
       "2   Alex          Minsk  1954    NaN      m             True      53\n",
       "3   Ivan  St.Petersburg  2005    6.0      m            False      25"
      ]
     },
     "execution_count": 38,
     "metadata": {},
     "output_type": "execute_result"
    }
   ],
   "source": [
    "df3 = pnd.merge(df, df_right_1, left_index=True, right_index=True, how=\"right\")\n",
    "df3"
   ]
  },
  {
   "cell_type": "markdown",
   "metadata": {},
   "source": [
    "<p>Правое внешнее соединение (<b>right outer join</b>) таблиц по значениям в столбцах</p>"
   ]
  },
  {
   "cell_type": "code",
   "execution_count": 39,
   "metadata": {},
   "outputs": [
    {
     "data": {
      "text/html": [
       "<div>\n",
       "<style scoped>\n",
       "    .dataframe tbody tr th:only-of-type {\n",
       "        vertical-align: middle;\n",
       "    }\n",
       "\n",
       "    .dataframe tbody tr th {\n",
       "        vertical-align: top;\n",
       "    }\n",
       "\n",
       "    .dataframe thead th {\n",
       "        text-align: right;\n",
       "    }\n",
       "</style>\n",
       "<table border=\"1\" class=\"dataframe\">\n",
       "  <thead>\n",
       "    <tr style=\"text-align: right;\">\n",
       "      <th></th>\n",
       "      <th>Name</th>\n",
       "      <th>City</th>\n",
       "      <th>Year</th>\n",
       "      <th>Grade</th>\n",
       "      <th>Gender</th>\n",
       "      <th>Device</th>\n",
       "    </tr>\n",
       "  </thead>\n",
       "  <tbody>\n",
       "    <tr>\n",
       "      <td>0</td>\n",
       "      <td>Sveta</td>\n",
       "      <td>Kiev</td>\n",
       "      <td>1999.0</td>\n",
       "      <td>4.0</td>\n",
       "      <td>f</td>\n",
       "      <td>TV</td>\n",
       "    </tr>\n",
       "    <tr>\n",
       "      <td>1</td>\n",
       "      <td>Sveta</td>\n",
       "      <td>Kiev</td>\n",
       "      <td>1999.0</td>\n",
       "      <td>4.0</td>\n",
       "      <td>f</td>\n",
       "      <td>Smartphone</td>\n",
       "    </tr>\n",
       "    <tr>\n",
       "      <td>2</td>\n",
       "      <td>Alex</td>\n",
       "      <td>Minsk</td>\n",
       "      <td>1954.0</td>\n",
       "      <td>NaN</td>\n",
       "      <td>m</td>\n",
       "      <td>TV</td>\n",
       "    </tr>\n",
       "    <tr>\n",
       "      <td>3</td>\n",
       "      <td>Alex</td>\n",
       "      <td>Minsk</td>\n",
       "      <td>1954.0</td>\n",
       "      <td>NaN</td>\n",
       "      <td>m</td>\n",
       "      <td>Pendrive</td>\n",
       "    </tr>\n",
       "    <tr>\n",
       "      <td>4</td>\n",
       "      <td>Kate</td>\n",
       "      <td>London</td>\n",
       "      <td>2001.0</td>\n",
       "      <td>NaN</td>\n",
       "      <td>f</td>\n",
       "      <td>TV</td>\n",
       "    </tr>\n",
       "    <tr>\n",
       "      <td>5</td>\n",
       "      <td>Vlad</td>\n",
       "      <td>NaN</td>\n",
       "      <td>NaN</td>\n",
       "      <td>NaN</td>\n",
       "      <td>NaN</td>\n",
       "      <td>TV</td>\n",
       "    </tr>\n",
       "    <tr>\n",
       "      <td>6</td>\n",
       "      <td>Alice</td>\n",
       "      <td>NaN</td>\n",
       "      <td>NaN</td>\n",
       "      <td>NaN</td>\n",
       "      <td>NaN</td>\n",
       "      <td>PC</td>\n",
       "    </tr>\n",
       "  </tbody>\n",
       "</table>\n",
       "</div>"
      ],
      "text/plain": [
       "    Name    City    Year  Grade Gender      Device\n",
       "0  Sveta    Kiev  1999.0    4.0      f          TV\n",
       "1  Sveta    Kiev  1999.0    4.0      f  Smartphone\n",
       "2   Alex   Minsk  1954.0    NaN      m          TV\n",
       "3   Alex   Minsk  1954.0    NaN      m    Pendrive\n",
       "4   Kate  London  2001.0    NaN      f          TV\n",
       "5   Vlad     NaN     NaN    NaN    NaN          TV\n",
       "6  Alice     NaN     NaN    NaN    NaN          PC"
      ]
     },
     "execution_count": 39,
     "metadata": {},
     "output_type": "execute_result"
    }
   ],
   "source": [
    "df3 = pnd.merge(df, df_right_2, on=[\"Name\"], how=\"right\")\n",
    "df3"
   ]
  },
  {
   "cell_type": "code",
   "execution_count": 40,
   "metadata": {},
   "outputs": [
    {
     "data": {
      "text/html": [
       "<div>\n",
       "<style scoped>\n",
       "    .dataframe tbody tr th:only-of-type {\n",
       "        vertical-align: middle;\n",
       "    }\n",
       "\n",
       "    .dataframe tbody tr th {\n",
       "        vertical-align: top;\n",
       "    }\n",
       "\n",
       "    .dataframe thead th {\n",
       "        text-align: right;\n",
       "    }\n",
       "</style>\n",
       "<table border=\"1\" class=\"dataframe\">\n",
       "  <thead>\n",
       "    <tr style=\"text-align: right;\">\n",
       "      <th></th>\n",
       "      <th>Name</th>\n",
       "      <th>City</th>\n",
       "      <th>Year</th>\n",
       "      <th>Grade</th>\n",
       "      <th>Gender</th>\n",
       "      <th>Device</th>\n",
       "    </tr>\n",
       "  </thead>\n",
       "  <tbody>\n",
       "    <tr>\n",
       "      <td>0</td>\n",
       "      <td>Sveta</td>\n",
       "      <td>Kiev</td>\n",
       "      <td>1999.0</td>\n",
       "      <td>4.0</td>\n",
       "      <td>f</td>\n",
       "      <td>TV</td>\n",
       "    </tr>\n",
       "    <tr>\n",
       "      <td>1</td>\n",
       "      <td>Sveta</td>\n",
       "      <td>Kiev</td>\n",
       "      <td>1999.0</td>\n",
       "      <td>4.0</td>\n",
       "      <td>f</td>\n",
       "      <td>Smartphone</td>\n",
       "    </tr>\n",
       "    <tr>\n",
       "      <td>2</td>\n",
       "      <td>Alex</td>\n",
       "      <td>Minsk</td>\n",
       "      <td>1954.0</td>\n",
       "      <td>NaN</td>\n",
       "      <td>m</td>\n",
       "      <td>TV</td>\n",
       "    </tr>\n",
       "    <tr>\n",
       "      <td>3</td>\n",
       "      <td>Alex</td>\n",
       "      <td>Minsk</td>\n",
       "      <td>1954.0</td>\n",
       "      <td>NaN</td>\n",
       "      <td>m</td>\n",
       "      <td>Pendrive</td>\n",
       "    </tr>\n",
       "    <tr>\n",
       "      <td>4</td>\n",
       "      <td>Kate</td>\n",
       "      <td>London</td>\n",
       "      <td>2001.0</td>\n",
       "      <td>NaN</td>\n",
       "      <td>f</td>\n",
       "      <td>TV</td>\n",
       "    </tr>\n",
       "    <tr>\n",
       "      <td>5</td>\n",
       "      <td>Vlad</td>\n",
       "      <td>NaN</td>\n",
       "      <td>NaN</td>\n",
       "      <td>NaN</td>\n",
       "      <td>NaN</td>\n",
       "      <td>TV</td>\n",
       "    </tr>\n",
       "    <tr>\n",
       "      <td>6</td>\n",
       "      <td>Alice</td>\n",
       "      <td>NaN</td>\n",
       "      <td>NaN</td>\n",
       "      <td>NaN</td>\n",
       "      <td>NaN</td>\n",
       "      <td>PC</td>\n",
       "    </tr>\n",
       "  </tbody>\n",
       "</table>\n",
       "</div>"
      ],
      "text/plain": [
       "    Name    City    Year  Grade Gender      Device\n",
       "0  Sveta    Kiev  1999.0    4.0      f          TV\n",
       "1  Sveta    Kiev  1999.0    4.0      f  Smartphone\n",
       "2   Alex   Minsk  1954.0    NaN      m          TV\n",
       "3   Alex   Minsk  1954.0    NaN      m    Pendrive\n",
       "4   Kate  London  2001.0    NaN      f          TV\n",
       "5   Vlad     NaN     NaN    NaN    NaN          TV\n",
       "6  Alice     NaN     NaN    NaN    NaN          PC"
      ]
     },
     "execution_count": 40,
     "metadata": {},
     "output_type": "execute_result"
    }
   ],
   "source": [
    "df3 = pnd.merge(df, df_right_2, on=[\"Name\"], how=\"right\")\n",
    "df3"
   ]
  },
  {
   "cell_type": "markdown",
   "metadata": {},
   "source": [
    "<p>Внешнее правое соединение (<b>right outer join</b>) таблиц по значениям столбцов одной таблицы и индексам другой</p>"
   ]
  },
  {
   "cell_type": "code",
   "execution_count": 41,
   "metadata": {},
   "outputs": [
    {
     "data": {
      "text/html": [
       "<div>\n",
       "<style scoped>\n",
       "    .dataframe tbody tr th:only-of-type {\n",
       "        vertical-align: middle;\n",
       "    }\n",
       "\n",
       "    .dataframe tbody tr th {\n",
       "        vertical-align: top;\n",
       "    }\n",
       "\n",
       "    .dataframe thead th {\n",
       "        text-align: right;\n",
       "    }\n",
       "</style>\n",
       "<table border=\"1\" class=\"dataframe\">\n",
       "  <thead>\n",
       "    <tr style=\"text-align: right;\">\n",
       "      <th></th>\n",
       "      <th>key</th>\n",
       "      <th>Device</th>\n",
       "      <th>Name</th>\n",
       "      <th>City</th>\n",
       "      <th>Year</th>\n",
       "      <th>Grade</th>\n",
       "      <th>Gender</th>\n",
       "    </tr>\n",
       "  </thead>\n",
       "  <tbody>\n",
       "    <tr>\n",
       "      <td>0.0</td>\n",
       "      <td>2</td>\n",
       "      <td>TV</td>\n",
       "      <td>Alex</td>\n",
       "      <td>Minsk</td>\n",
       "      <td>1954</td>\n",
       "      <td>NaN</td>\n",
       "      <td>m</td>\n",
       "    </tr>\n",
       "    <tr>\n",
       "      <td>1.0</td>\n",
       "      <td>2</td>\n",
       "      <td>Smartphone</td>\n",
       "      <td>Alex</td>\n",
       "      <td>Minsk</td>\n",
       "      <td>1954</td>\n",
       "      <td>NaN</td>\n",
       "      <td>m</td>\n",
       "    </tr>\n",
       "    <tr>\n",
       "      <td>2.0</td>\n",
       "      <td>3</td>\n",
       "      <td>TV</td>\n",
       "      <td>Ivan</td>\n",
       "      <td>St.Petersburg</td>\n",
       "      <td>2005</td>\n",
       "      <td>6.0</td>\n",
       "      <td>m</td>\n",
       "    </tr>\n",
       "    <tr>\n",
       "      <td>3.0</td>\n",
       "      <td>3</td>\n",
       "      <td>Pendrive</td>\n",
       "      <td>Ivan</td>\n",
       "      <td>St.Petersburg</td>\n",
       "      <td>2005</td>\n",
       "      <td>6.0</td>\n",
       "      <td>m</td>\n",
       "    </tr>\n",
       "    <tr>\n",
       "      <td>4.0</td>\n",
       "      <td>4</td>\n",
       "      <td>TV</td>\n",
       "      <td>Kate</td>\n",
       "      <td>London</td>\n",
       "      <td>2001</td>\n",
       "      <td>NaN</td>\n",
       "      <td>f</td>\n",
       "    </tr>\n",
       "    <tr>\n",
       "      <td>5.0</td>\n",
       "      <td>4</td>\n",
       "      <td>TV</td>\n",
       "      <td>Kate</td>\n",
       "      <td>London</td>\n",
       "      <td>2001</td>\n",
       "      <td>NaN</td>\n",
       "      <td>f</td>\n",
       "    </tr>\n",
       "    <tr>\n",
       "      <td>NaN</td>\n",
       "      <td>0</td>\n",
       "      <td>NaN</td>\n",
       "      <td>Dima</td>\n",
       "      <td>Moscow</td>\n",
       "      <td>1988</td>\n",
       "      <td>4.0</td>\n",
       "      <td>m</td>\n",
       "    </tr>\n",
       "    <tr>\n",
       "      <td>NaN</td>\n",
       "      <td>1</td>\n",
       "      <td>NaN</td>\n",
       "      <td>Sveta</td>\n",
       "      <td>Kiev</td>\n",
       "      <td>1999</td>\n",
       "      <td>4.0</td>\n",
       "      <td>f</td>\n",
       "    </tr>\n",
       "    <tr>\n",
       "      <td>NaN</td>\n",
       "      <td>5</td>\n",
       "      <td>NaN</td>\n",
       "      <td>Maria</td>\n",
       "      <td>New York</td>\n",
       "      <td>1997</td>\n",
       "      <td>7.0</td>\n",
       "      <td>f</td>\n",
       "    </tr>\n",
       "  </tbody>\n",
       "</table>\n",
       "</div>"
      ],
      "text/plain": [
       "     key      Device   Name           City  Year  Grade Gender\n",
       "0.0    2          TV   Alex          Minsk  1954    NaN      m\n",
       "1.0    2  Smartphone   Alex          Minsk  1954    NaN      m\n",
       "2.0    3          TV   Ivan  St.Petersburg  2005    6.0      m\n",
       "3.0    3    Pendrive   Ivan  St.Petersburg  2005    6.0      m\n",
       "4.0    4          TV   Kate         London  2001    NaN      f\n",
       "5.0    4          TV   Kate         London  2001    NaN      f\n",
       "NaN    0         NaN   Dima         Moscow  1988    4.0      m\n",
       "NaN    1         NaN  Sveta           Kiev  1999    4.0      f\n",
       "NaN    5         NaN  Maria       New York  1997    7.0      f"
      ]
     },
     "execution_count": 41,
     "metadata": {},
     "output_type": "execute_result"
    }
   ],
   "source": [
    "df3 = pnd.merge(df_left, df, left_on=\"key\", right_index=True, how=\"right\")\n",
    "df3"
   ]
  },
  {
   "cell_type": "markdown",
   "metadata": {},
   "source": [
    "<p>Внутреннее соединение (<b>inner join</b>) таблиц по индексу</p>"
   ]
  },
  {
   "cell_type": "code",
   "execution_count": 42,
   "metadata": {},
   "outputs": [
    {
     "data": {
      "text/html": [
       "<div>\n",
       "<style scoped>\n",
       "    .dataframe tbody tr th:only-of-type {\n",
       "        vertical-align: middle;\n",
       "    }\n",
       "\n",
       "    .dataframe tbody tr th {\n",
       "        vertical-align: top;\n",
       "    }\n",
       "\n",
       "    .dataframe thead th {\n",
       "        text-align: right;\n",
       "    }\n",
       "</style>\n",
       "<table border=\"1\" class=\"dataframe\">\n",
       "  <thead>\n",
       "    <tr style=\"text-align: right;\">\n",
       "      <th></th>\n",
       "      <th>Name</th>\n",
       "      <th>City</th>\n",
       "      <th>Year</th>\n",
       "      <th>Grade</th>\n",
       "      <th>Gender</th>\n",
       "      <th>Marriage_status</th>\n",
       "      <th>Salary</th>\n",
       "    </tr>\n",
       "  </thead>\n",
       "  <tbody>\n",
       "    <tr>\n",
       "      <td>0</td>\n",
       "      <td>Dima</td>\n",
       "      <td>Moscow</td>\n",
       "      <td>1988</td>\n",
       "      <td>4.0</td>\n",
       "      <td>m</td>\n",
       "      <td>True</td>\n",
       "      <td>12</td>\n",
       "    </tr>\n",
       "    <tr>\n",
       "      <td>1</td>\n",
       "      <td>Sveta</td>\n",
       "      <td>Kiev</td>\n",
       "      <td>1999</td>\n",
       "      <td>4.0</td>\n",
       "      <td>f</td>\n",
       "      <td>False</td>\n",
       "      <td>40</td>\n",
       "    </tr>\n",
       "    <tr>\n",
       "      <td>2</td>\n",
       "      <td>Alex</td>\n",
       "      <td>Minsk</td>\n",
       "      <td>1954</td>\n",
       "      <td>NaN</td>\n",
       "      <td>m</td>\n",
       "      <td>True</td>\n",
       "      <td>53</td>\n",
       "    </tr>\n",
       "    <tr>\n",
       "      <td>3</td>\n",
       "      <td>Ivan</td>\n",
       "      <td>St.Petersburg</td>\n",
       "      <td>2005</td>\n",
       "      <td>6.0</td>\n",
       "      <td>m</td>\n",
       "      <td>False</td>\n",
       "      <td>25</td>\n",
       "    </tr>\n",
       "  </tbody>\n",
       "</table>\n",
       "</div>"
      ],
      "text/plain": [
       "    Name           City  Year  Grade Gender  Marriage_status  Salary\n",
       "0   Dima         Moscow  1988    4.0      m             True      12\n",
       "1  Sveta           Kiev  1999    4.0      f            False      40\n",
       "2   Alex          Minsk  1954    NaN      m             True      53\n",
       "3   Ivan  St.Petersburg  2005    6.0      m            False      25"
      ]
     },
     "execution_count": 42,
     "metadata": {},
     "output_type": "execute_result"
    }
   ],
   "source": [
    "df3 = pnd.merge(df, df_right_1, left_index=True, right_index=True, how=\"inner\")\n",
    "df3"
   ]
  },
  {
   "cell_type": "markdown",
   "metadata": {},
   "source": [
    "<p>Внутреннее соединение (<b>inner join</b>) таблиц по значениям в столбцах</p>"
   ]
  },
  {
   "cell_type": "code",
   "execution_count": 43,
   "metadata": {},
   "outputs": [
    {
     "data": {
      "text/html": [
       "<div>\n",
       "<style scoped>\n",
       "    .dataframe tbody tr th:only-of-type {\n",
       "        vertical-align: middle;\n",
       "    }\n",
       "\n",
       "    .dataframe tbody tr th {\n",
       "        vertical-align: top;\n",
       "    }\n",
       "\n",
       "    .dataframe thead th {\n",
       "        text-align: right;\n",
       "    }\n",
       "</style>\n",
       "<table border=\"1\" class=\"dataframe\">\n",
       "  <thead>\n",
       "    <tr style=\"text-align: right;\">\n",
       "      <th></th>\n",
       "      <th>Name</th>\n",
       "      <th>City</th>\n",
       "      <th>Year</th>\n",
       "      <th>Grade</th>\n",
       "      <th>Gender</th>\n",
       "      <th>Device</th>\n",
       "    </tr>\n",
       "  </thead>\n",
       "  <tbody>\n",
       "    <tr>\n",
       "      <td>0</td>\n",
       "      <td>Sveta</td>\n",
       "      <td>Kiev</td>\n",
       "      <td>1999</td>\n",
       "      <td>4.0</td>\n",
       "      <td>f</td>\n",
       "      <td>TV</td>\n",
       "    </tr>\n",
       "    <tr>\n",
       "      <td>1</td>\n",
       "      <td>Sveta</td>\n",
       "      <td>Kiev</td>\n",
       "      <td>1999</td>\n",
       "      <td>4.0</td>\n",
       "      <td>f</td>\n",
       "      <td>Smartphone</td>\n",
       "    </tr>\n",
       "    <tr>\n",
       "      <td>2</td>\n",
       "      <td>Alex</td>\n",
       "      <td>Minsk</td>\n",
       "      <td>1954</td>\n",
       "      <td>NaN</td>\n",
       "      <td>m</td>\n",
       "      <td>TV</td>\n",
       "    </tr>\n",
       "    <tr>\n",
       "      <td>3</td>\n",
       "      <td>Alex</td>\n",
       "      <td>Minsk</td>\n",
       "      <td>1954</td>\n",
       "      <td>NaN</td>\n",
       "      <td>m</td>\n",
       "      <td>Pendrive</td>\n",
       "    </tr>\n",
       "    <tr>\n",
       "      <td>4</td>\n",
       "      <td>Kate</td>\n",
       "      <td>London</td>\n",
       "      <td>2001</td>\n",
       "      <td>NaN</td>\n",
       "      <td>f</td>\n",
       "      <td>TV</td>\n",
       "    </tr>\n",
       "  </tbody>\n",
       "</table>\n",
       "</div>"
      ],
      "text/plain": [
       "    Name    City  Year  Grade Gender      Device\n",
       "0  Sveta    Kiev  1999    4.0      f          TV\n",
       "1  Sveta    Kiev  1999    4.0      f  Smartphone\n",
       "2   Alex   Minsk  1954    NaN      m          TV\n",
       "3   Alex   Minsk  1954    NaN      m    Pendrive\n",
       "4   Kate  London  2001    NaN      f          TV"
      ]
     },
     "execution_count": 43,
     "metadata": {},
     "output_type": "execute_result"
    }
   ],
   "source": [
    "df3 = pnd.merge(df, df_right_2, on = [\"Name\"], how = \"inner\")\n",
    "df3"
   ]
  },
  {
   "cell_type": "markdown",
   "metadata": {},
   "source": [
    "<p>Внутреннее соединение (<b>inner join</b>) таблиц по значениям столбцов одной таблицы и индексам другой</p>"
   ]
  },
  {
   "cell_type": "code",
   "execution_count": 44,
   "metadata": {},
   "outputs": [
    {
     "data": {
      "text/html": [
       "<div>\n",
       "<style scoped>\n",
       "    .dataframe tbody tr th:only-of-type {\n",
       "        vertical-align: middle;\n",
       "    }\n",
       "\n",
       "    .dataframe tbody tr th {\n",
       "        vertical-align: top;\n",
       "    }\n",
       "\n",
       "    .dataframe thead th {\n",
       "        text-align: right;\n",
       "    }\n",
       "</style>\n",
       "<table border=\"1\" class=\"dataframe\">\n",
       "  <thead>\n",
       "    <tr style=\"text-align: right;\">\n",
       "      <th></th>\n",
       "      <th>key</th>\n",
       "      <th>Device</th>\n",
       "      <th>Name</th>\n",
       "      <th>City</th>\n",
       "      <th>Year</th>\n",
       "      <th>Grade</th>\n",
       "      <th>Gender</th>\n",
       "    </tr>\n",
       "  </thead>\n",
       "  <tbody>\n",
       "    <tr>\n",
       "      <td>0</td>\n",
       "      <td>2</td>\n",
       "      <td>TV</td>\n",
       "      <td>Alex</td>\n",
       "      <td>Minsk</td>\n",
       "      <td>1954</td>\n",
       "      <td>NaN</td>\n",
       "      <td>m</td>\n",
       "    </tr>\n",
       "    <tr>\n",
       "      <td>1</td>\n",
       "      <td>2</td>\n",
       "      <td>Smartphone</td>\n",
       "      <td>Alex</td>\n",
       "      <td>Minsk</td>\n",
       "      <td>1954</td>\n",
       "      <td>NaN</td>\n",
       "      <td>m</td>\n",
       "    </tr>\n",
       "    <tr>\n",
       "      <td>2</td>\n",
       "      <td>3</td>\n",
       "      <td>TV</td>\n",
       "      <td>Ivan</td>\n",
       "      <td>St.Petersburg</td>\n",
       "      <td>2005</td>\n",
       "      <td>6.0</td>\n",
       "      <td>m</td>\n",
       "    </tr>\n",
       "    <tr>\n",
       "      <td>3</td>\n",
       "      <td>3</td>\n",
       "      <td>Pendrive</td>\n",
       "      <td>Ivan</td>\n",
       "      <td>St.Petersburg</td>\n",
       "      <td>2005</td>\n",
       "      <td>6.0</td>\n",
       "      <td>m</td>\n",
       "    </tr>\n",
       "    <tr>\n",
       "      <td>4</td>\n",
       "      <td>4</td>\n",
       "      <td>TV</td>\n",
       "      <td>Kate</td>\n",
       "      <td>London</td>\n",
       "      <td>2001</td>\n",
       "      <td>NaN</td>\n",
       "      <td>f</td>\n",
       "    </tr>\n",
       "    <tr>\n",
       "      <td>5</td>\n",
       "      <td>4</td>\n",
       "      <td>TV</td>\n",
       "      <td>Kate</td>\n",
       "      <td>London</td>\n",
       "      <td>2001</td>\n",
       "      <td>NaN</td>\n",
       "      <td>f</td>\n",
       "    </tr>\n",
       "  </tbody>\n",
       "</table>\n",
       "</div>"
      ],
      "text/plain": [
       "   key      Device  Name           City  Year  Grade Gender\n",
       "0    2          TV  Alex          Minsk  1954    NaN      m\n",
       "1    2  Smartphone  Alex          Minsk  1954    NaN      m\n",
       "2    3          TV  Ivan  St.Petersburg  2005    6.0      m\n",
       "3    3    Pendrive  Ivan  St.Petersburg  2005    6.0      m\n",
       "4    4          TV  Kate         London  2001    NaN      f\n",
       "5    4          TV  Kate         London  2001    NaN      f"
      ]
     },
     "execution_count": 44,
     "metadata": {},
     "output_type": "execute_result"
    }
   ],
   "source": [
    "df3 = pnd.merge(df_left, df, left_on=\"key\", right_index=True, how=\"inner\")\n",
    "df3"
   ]
  },
  {
   "cell_type": "markdown",
   "metadata": {},
   "source": [
    "<p><b>Метод <i>join()</i></b></p>"
   ]
  },
  {
   "cell_type": "markdown",
   "metadata": {},
   "source": [
    "<p>Внешнее соединение (<b>outer join</b>) таблиц по индексу</p>"
   ]
  },
  {
   "cell_type": "code",
   "execution_count": 45,
   "metadata": {},
   "outputs": [
    {
     "data": {
      "text/html": [
       "<div>\n",
       "<style scoped>\n",
       "    .dataframe tbody tr th:only-of-type {\n",
       "        vertical-align: middle;\n",
       "    }\n",
       "\n",
       "    .dataframe tbody tr th {\n",
       "        vertical-align: top;\n",
       "    }\n",
       "\n",
       "    .dataframe thead th {\n",
       "        text-align: right;\n",
       "    }\n",
       "</style>\n",
       "<table border=\"1\" class=\"dataframe\">\n",
       "  <thead>\n",
       "    <tr style=\"text-align: right;\">\n",
       "      <th></th>\n",
       "      <th>Name</th>\n",
       "      <th>City</th>\n",
       "      <th>Year</th>\n",
       "      <th>Grade</th>\n",
       "      <th>Gender</th>\n",
       "    </tr>\n",
       "  </thead>\n",
       "  <tbody>\n",
       "    <tr>\n",
       "      <td>0</td>\n",
       "      <td>Dima</td>\n",
       "      <td>Moscow</td>\n",
       "      <td>1988</td>\n",
       "      <td>4.0</td>\n",
       "      <td>m</td>\n",
       "    </tr>\n",
       "    <tr>\n",
       "      <td>1</td>\n",
       "      <td>Sveta</td>\n",
       "      <td>Kiev</td>\n",
       "      <td>1999</td>\n",
       "      <td>4.0</td>\n",
       "      <td>f</td>\n",
       "    </tr>\n",
       "    <tr>\n",
       "      <td>2</td>\n",
       "      <td>Alex</td>\n",
       "      <td>Minsk</td>\n",
       "      <td>1954</td>\n",
       "      <td>NaN</td>\n",
       "      <td>m</td>\n",
       "    </tr>\n",
       "    <tr>\n",
       "      <td>3</td>\n",
       "      <td>Ivan</td>\n",
       "      <td>St.Petersburg</td>\n",
       "      <td>2005</td>\n",
       "      <td>6.0</td>\n",
       "      <td>m</td>\n",
       "    </tr>\n",
       "    <tr>\n",
       "      <td>4</td>\n",
       "      <td>Kate</td>\n",
       "      <td>London</td>\n",
       "      <td>2001</td>\n",
       "      <td>NaN</td>\n",
       "      <td>f</td>\n",
       "    </tr>\n",
       "    <tr>\n",
       "      <td>5</td>\n",
       "      <td>Maria</td>\n",
       "      <td>New York</td>\n",
       "      <td>1997</td>\n",
       "      <td>7.0</td>\n",
       "      <td>f</td>\n",
       "    </tr>\n",
       "  </tbody>\n",
       "</table>\n",
       "</div>"
      ],
      "text/plain": [
       "    Name           City  Year  Grade Gender\n",
       "0   Dima         Moscow  1988    4.0      m\n",
       "1  Sveta           Kiev  1999    4.0      f\n",
       "2   Alex          Minsk  1954    NaN      m\n",
       "3   Ivan  St.Petersburg  2005    6.0      m\n",
       "4   Kate         London  2001    NaN      f\n",
       "5  Maria       New York  1997    7.0      f"
      ]
     },
     "execution_count": 45,
     "metadata": {},
     "output_type": "execute_result"
    }
   ],
   "source": [
    "df"
   ]
  },
  {
   "cell_type": "code",
   "execution_count": 46,
   "metadata": {},
   "outputs": [
    {
     "data": {
      "text/html": [
       "<div>\n",
       "<style scoped>\n",
       "    .dataframe tbody tr th:only-of-type {\n",
       "        vertical-align: middle;\n",
       "    }\n",
       "\n",
       "    .dataframe tbody tr th {\n",
       "        vertical-align: top;\n",
       "    }\n",
       "\n",
       "    .dataframe thead th {\n",
       "        text-align: right;\n",
       "    }\n",
       "</style>\n",
       "<table border=\"1\" class=\"dataframe\">\n",
       "  <thead>\n",
       "    <tr style=\"text-align: right;\">\n",
       "      <th></th>\n",
       "      <th>Name</th>\n",
       "      <th>City</th>\n",
       "      <th>Year</th>\n",
       "      <th>Grade</th>\n",
       "      <th>Gender</th>\n",
       "    </tr>\n",
       "  </thead>\n",
       "  <tbody>\n",
       "    <tr>\n",
       "      <td>0</td>\n",
       "      <td>Petr</td>\n",
       "      <td>Bryansk</td>\n",
       "      <td>1978</td>\n",
       "      <td>5</td>\n",
       "      <td>m</td>\n",
       "    </tr>\n",
       "    <tr>\n",
       "      <td>1</td>\n",
       "      <td>Ann</td>\n",
       "      <td>Tehran</td>\n",
       "      <td>1997</td>\n",
       "      <td>7</td>\n",
       "      <td>f</td>\n",
       "    </tr>\n",
       "  </tbody>\n",
       "</table>\n",
       "</div>"
      ],
      "text/plain": [
       "   Name     City  Year  Grade Gender\n",
       "0  Petr  Bryansk  1978      5      m\n",
       "1   Ann   Tehran  1997      7      f"
      ]
     },
     "execution_count": 46,
     "metadata": {},
     "output_type": "execute_result"
    }
   ],
   "source": [
    "df2"
   ]
  },
  {
   "cell_type": "code",
   "execution_count": 47,
   "metadata": {},
   "outputs": [
    {
     "data": {
      "text/html": [
       "<div>\n",
       "<style scoped>\n",
       "    .dataframe tbody tr th:only-of-type {\n",
       "        vertical-align: middle;\n",
       "    }\n",
       "\n",
       "    .dataframe tbody tr th {\n",
       "        vertical-align: top;\n",
       "    }\n",
       "\n",
       "    .dataframe thead th {\n",
       "        text-align: right;\n",
       "    }\n",
       "</style>\n",
       "<table border=\"1\" class=\"dataframe\">\n",
       "  <thead>\n",
       "    <tr style=\"text-align: right;\">\n",
       "      <th></th>\n",
       "      <th>Name</th>\n",
       "      <th>City</th>\n",
       "      <th>Year</th>\n",
       "      <th>Grade</th>\n",
       "      <th>Gender</th>\n",
       "      <th>Marriage_status</th>\n",
       "      <th>Salary</th>\n",
       "    </tr>\n",
       "  </thead>\n",
       "  <tbody>\n",
       "    <tr>\n",
       "      <td>0</td>\n",
       "      <td>Dima</td>\n",
       "      <td>Moscow</td>\n",
       "      <td>1988</td>\n",
       "      <td>4.0</td>\n",
       "      <td>m</td>\n",
       "      <td>True</td>\n",
       "      <td>12.0</td>\n",
       "    </tr>\n",
       "    <tr>\n",
       "      <td>1</td>\n",
       "      <td>Sveta</td>\n",
       "      <td>Kiev</td>\n",
       "      <td>1999</td>\n",
       "      <td>4.0</td>\n",
       "      <td>f</td>\n",
       "      <td>False</td>\n",
       "      <td>40.0</td>\n",
       "    </tr>\n",
       "    <tr>\n",
       "      <td>2</td>\n",
       "      <td>Alex</td>\n",
       "      <td>Minsk</td>\n",
       "      <td>1954</td>\n",
       "      <td>NaN</td>\n",
       "      <td>m</td>\n",
       "      <td>True</td>\n",
       "      <td>53.0</td>\n",
       "    </tr>\n",
       "    <tr>\n",
       "      <td>3</td>\n",
       "      <td>Ivan</td>\n",
       "      <td>St.Petersburg</td>\n",
       "      <td>2005</td>\n",
       "      <td>6.0</td>\n",
       "      <td>m</td>\n",
       "      <td>False</td>\n",
       "      <td>25.0</td>\n",
       "    </tr>\n",
       "    <tr>\n",
       "      <td>4</td>\n",
       "      <td>Kate</td>\n",
       "      <td>London</td>\n",
       "      <td>2001</td>\n",
       "      <td>NaN</td>\n",
       "      <td>f</td>\n",
       "      <td>NaN</td>\n",
       "      <td>NaN</td>\n",
       "    </tr>\n",
       "    <tr>\n",
       "      <td>5</td>\n",
       "      <td>Maria</td>\n",
       "      <td>New York</td>\n",
       "      <td>1997</td>\n",
       "      <td>7.0</td>\n",
       "      <td>f</td>\n",
       "      <td>NaN</td>\n",
       "      <td>NaN</td>\n",
       "    </tr>\n",
       "  </tbody>\n",
       "</table>\n",
       "</div>"
      ],
      "text/plain": [
       "    Name           City  Year  Grade Gender Marriage_status  Salary\n",
       "0   Dima         Moscow  1988    4.0      m            True    12.0\n",
       "1  Sveta           Kiev  1999    4.0      f           False    40.0\n",
       "2   Alex          Minsk  1954    NaN      m            True    53.0\n",
       "3   Ivan  St.Petersburg  2005    6.0      m           False    25.0\n",
       "4   Kate         London  2001    NaN      f             NaN     NaN\n",
       "5  Maria       New York  1997    7.0      f             NaN     NaN"
      ]
     },
     "execution_count": 47,
     "metadata": {},
     "output_type": "execute_result"
    }
   ],
   "source": [
    "df3 = df.join(df_right_1, how=\"outer\")\n",
    "df3"
   ]
  },
  {
   "cell_type": "markdown",
   "metadata": {},
   "source": [
    "<p>Внешнее соединение (<b>outer join</b>) таблиц по значениям столбцов одной таблицы и индексам другой</p>"
   ]
  },
  {
   "cell_type": "code",
   "execution_count": 48,
   "metadata": {},
   "outputs": [
    {
     "data": {
      "text/html": [
       "<div>\n",
       "<style scoped>\n",
       "    .dataframe tbody tr th:only-of-type {\n",
       "        vertical-align: middle;\n",
       "    }\n",
       "\n",
       "    .dataframe tbody tr th {\n",
       "        vertical-align: top;\n",
       "    }\n",
       "\n",
       "    .dataframe thead th {\n",
       "        text-align: right;\n",
       "    }\n",
       "</style>\n",
       "<table border=\"1\" class=\"dataframe\">\n",
       "  <thead>\n",
       "    <tr style=\"text-align: right;\">\n",
       "      <th></th>\n",
       "      <th>key</th>\n",
       "      <th>Device</th>\n",
       "    </tr>\n",
       "  </thead>\n",
       "  <tbody>\n",
       "    <tr>\n",
       "      <td>0</td>\n",
       "      <td>2</td>\n",
       "      <td>TV</td>\n",
       "    </tr>\n",
       "    <tr>\n",
       "      <td>1</td>\n",
       "      <td>2</td>\n",
       "      <td>Smartphone</td>\n",
       "    </tr>\n",
       "    <tr>\n",
       "      <td>2</td>\n",
       "      <td>3</td>\n",
       "      <td>TV</td>\n",
       "    </tr>\n",
       "    <tr>\n",
       "      <td>3</td>\n",
       "      <td>3</td>\n",
       "      <td>Pendrive</td>\n",
       "    </tr>\n",
       "    <tr>\n",
       "      <td>4</td>\n",
       "      <td>4</td>\n",
       "      <td>TV</td>\n",
       "    </tr>\n",
       "    <tr>\n",
       "      <td>5</td>\n",
       "      <td>4</td>\n",
       "      <td>TV</td>\n",
       "    </tr>\n",
       "    <tr>\n",
       "      <td>6</td>\n",
       "      <td>10</td>\n",
       "      <td>PC</td>\n",
       "    </tr>\n",
       "  </tbody>\n",
       "</table>\n",
       "</div>"
      ],
      "text/plain": [
       "   key      Device\n",
       "0    2          TV\n",
       "1    2  Smartphone\n",
       "2    3          TV\n",
       "3    3    Pendrive\n",
       "4    4          TV\n",
       "5    4          TV\n",
       "6   10          PC"
      ]
     },
     "execution_count": 48,
     "metadata": {},
     "output_type": "execute_result"
    }
   ],
   "source": [
    "dict_new_3 = {\"key\":[2, 2, 3, 3, 4, 4, 10],\n",
    "              \"Device\":[\"TV\", \"Smartphone\", \"TV\", \"Pendrive\", \"TV\", \"TV\", \"PC\"]}\n",
    "\n",
    "df_left = pnd.DataFrame(data=dict_new_3)\n",
    "df_left"
   ]
  },
  {
   "cell_type": "code",
   "execution_count": 49,
   "metadata": {},
   "outputs": [
    {
     "data": {
      "text/html": [
       "<div>\n",
       "<style scoped>\n",
       "    .dataframe tbody tr th:only-of-type {\n",
       "        vertical-align: middle;\n",
       "    }\n",
       "\n",
       "    .dataframe tbody tr th {\n",
       "        vertical-align: top;\n",
       "    }\n",
       "\n",
       "    .dataframe thead th {\n",
       "        text-align: right;\n",
       "    }\n",
       "</style>\n",
       "<table border=\"1\" class=\"dataframe\">\n",
       "  <thead>\n",
       "    <tr style=\"text-align: right;\">\n",
       "      <th></th>\n",
       "      <th>key</th>\n",
       "      <th>Device</th>\n",
       "      <th>Name</th>\n",
       "      <th>City</th>\n",
       "      <th>Year</th>\n",
       "      <th>Grade</th>\n",
       "      <th>Gender</th>\n",
       "    </tr>\n",
       "  </thead>\n",
       "  <tbody>\n",
       "    <tr>\n",
       "      <td>0.0</td>\n",
       "      <td>2</td>\n",
       "      <td>TV</td>\n",
       "      <td>Alex</td>\n",
       "      <td>Minsk</td>\n",
       "      <td>1954.0</td>\n",
       "      <td>NaN</td>\n",
       "      <td>m</td>\n",
       "    </tr>\n",
       "    <tr>\n",
       "      <td>1.0</td>\n",
       "      <td>2</td>\n",
       "      <td>Smartphone</td>\n",
       "      <td>Alex</td>\n",
       "      <td>Minsk</td>\n",
       "      <td>1954.0</td>\n",
       "      <td>NaN</td>\n",
       "      <td>m</td>\n",
       "    </tr>\n",
       "    <tr>\n",
       "      <td>2.0</td>\n",
       "      <td>3</td>\n",
       "      <td>TV</td>\n",
       "      <td>Ivan</td>\n",
       "      <td>St.Petersburg</td>\n",
       "      <td>2005.0</td>\n",
       "      <td>6.0</td>\n",
       "      <td>m</td>\n",
       "    </tr>\n",
       "    <tr>\n",
       "      <td>3.0</td>\n",
       "      <td>3</td>\n",
       "      <td>Pendrive</td>\n",
       "      <td>Ivan</td>\n",
       "      <td>St.Petersburg</td>\n",
       "      <td>2005.0</td>\n",
       "      <td>6.0</td>\n",
       "      <td>m</td>\n",
       "    </tr>\n",
       "    <tr>\n",
       "      <td>4.0</td>\n",
       "      <td>4</td>\n",
       "      <td>TV</td>\n",
       "      <td>Kate</td>\n",
       "      <td>London</td>\n",
       "      <td>2001.0</td>\n",
       "      <td>NaN</td>\n",
       "      <td>f</td>\n",
       "    </tr>\n",
       "    <tr>\n",
       "      <td>5.0</td>\n",
       "      <td>4</td>\n",
       "      <td>TV</td>\n",
       "      <td>Kate</td>\n",
       "      <td>London</td>\n",
       "      <td>2001.0</td>\n",
       "      <td>NaN</td>\n",
       "      <td>f</td>\n",
       "    </tr>\n",
       "    <tr>\n",
       "      <td>6.0</td>\n",
       "      <td>10</td>\n",
       "      <td>PC</td>\n",
       "      <td>NaN</td>\n",
       "      <td>NaN</td>\n",
       "      <td>NaN</td>\n",
       "      <td>NaN</td>\n",
       "      <td>NaN</td>\n",
       "    </tr>\n",
       "    <tr>\n",
       "      <td>NaN</td>\n",
       "      <td>0</td>\n",
       "      <td>NaN</td>\n",
       "      <td>Dima</td>\n",
       "      <td>Moscow</td>\n",
       "      <td>1988.0</td>\n",
       "      <td>4.0</td>\n",
       "      <td>m</td>\n",
       "    </tr>\n",
       "    <tr>\n",
       "      <td>NaN</td>\n",
       "      <td>1</td>\n",
       "      <td>NaN</td>\n",
       "      <td>Sveta</td>\n",
       "      <td>Kiev</td>\n",
       "      <td>1999.0</td>\n",
       "      <td>4.0</td>\n",
       "      <td>f</td>\n",
       "    </tr>\n",
       "    <tr>\n",
       "      <td>NaN</td>\n",
       "      <td>5</td>\n",
       "      <td>NaN</td>\n",
       "      <td>Maria</td>\n",
       "      <td>New York</td>\n",
       "      <td>1997.0</td>\n",
       "      <td>7.0</td>\n",
       "      <td>f</td>\n",
       "    </tr>\n",
       "  </tbody>\n",
       "</table>\n",
       "</div>"
      ],
      "text/plain": [
       "     key      Device   Name           City    Year  Grade Gender\n",
       "0.0    2          TV   Alex          Minsk  1954.0    NaN      m\n",
       "1.0    2  Smartphone   Alex          Minsk  1954.0    NaN      m\n",
       "2.0    3          TV   Ivan  St.Petersburg  2005.0    6.0      m\n",
       "3.0    3    Pendrive   Ivan  St.Petersburg  2005.0    6.0      m\n",
       "4.0    4          TV   Kate         London  2001.0    NaN      f\n",
       "5.0    4          TV   Kate         London  2001.0    NaN      f\n",
       "6.0   10          PC    NaN            NaN     NaN    NaN    NaN\n",
       "NaN    0         NaN   Dima         Moscow  1988.0    4.0      m\n",
       "NaN    1         NaN  Sveta           Kiev  1999.0    4.0      f\n",
       "NaN    5         NaN  Maria       New York  1997.0    7.0      f"
      ]
     },
     "execution_count": 49,
     "metadata": {},
     "output_type": "execute_result"
    }
   ],
   "source": [
    "df3 = df_left.join(df, on=\"key\", how=\"outer\")\n",
    "df3"
   ]
  },
  {
   "cell_type": "markdown",
   "metadata": {},
   "source": [
    "<p>Левое внешнее соединение (<b>left outer join</b>) таблиц по индексу</p>"
   ]
  },
  {
   "cell_type": "code",
   "execution_count": 50,
   "metadata": {},
   "outputs": [
    {
     "data": {
      "text/html": [
       "<div>\n",
       "<style scoped>\n",
       "    .dataframe tbody tr th:only-of-type {\n",
       "        vertical-align: middle;\n",
       "    }\n",
       "\n",
       "    .dataframe tbody tr th {\n",
       "        vertical-align: top;\n",
       "    }\n",
       "\n",
       "    .dataframe thead th {\n",
       "        text-align: right;\n",
       "    }\n",
       "</style>\n",
       "<table border=\"1\" class=\"dataframe\">\n",
       "  <thead>\n",
       "    <tr style=\"text-align: right;\">\n",
       "      <th></th>\n",
       "      <th>Name</th>\n",
       "      <th>City</th>\n",
       "      <th>Year</th>\n",
       "      <th>Grade</th>\n",
       "      <th>Gender</th>\n",
       "      <th>Marriage_status</th>\n",
       "      <th>Salary</th>\n",
       "    </tr>\n",
       "  </thead>\n",
       "  <tbody>\n",
       "    <tr>\n",
       "      <td>0</td>\n",
       "      <td>Dima</td>\n",
       "      <td>Moscow</td>\n",
       "      <td>1988</td>\n",
       "      <td>4.0</td>\n",
       "      <td>m</td>\n",
       "      <td>True</td>\n",
       "      <td>12.0</td>\n",
       "    </tr>\n",
       "    <tr>\n",
       "      <td>1</td>\n",
       "      <td>Sveta</td>\n",
       "      <td>Kiev</td>\n",
       "      <td>1999</td>\n",
       "      <td>4.0</td>\n",
       "      <td>f</td>\n",
       "      <td>False</td>\n",
       "      <td>40.0</td>\n",
       "    </tr>\n",
       "    <tr>\n",
       "      <td>2</td>\n",
       "      <td>Alex</td>\n",
       "      <td>Minsk</td>\n",
       "      <td>1954</td>\n",
       "      <td>NaN</td>\n",
       "      <td>m</td>\n",
       "      <td>True</td>\n",
       "      <td>53.0</td>\n",
       "    </tr>\n",
       "    <tr>\n",
       "      <td>3</td>\n",
       "      <td>Ivan</td>\n",
       "      <td>St.Petersburg</td>\n",
       "      <td>2005</td>\n",
       "      <td>6.0</td>\n",
       "      <td>m</td>\n",
       "      <td>False</td>\n",
       "      <td>25.0</td>\n",
       "    </tr>\n",
       "    <tr>\n",
       "      <td>4</td>\n",
       "      <td>Kate</td>\n",
       "      <td>London</td>\n",
       "      <td>2001</td>\n",
       "      <td>NaN</td>\n",
       "      <td>f</td>\n",
       "      <td>NaN</td>\n",
       "      <td>NaN</td>\n",
       "    </tr>\n",
       "    <tr>\n",
       "      <td>5</td>\n",
       "      <td>Maria</td>\n",
       "      <td>New York</td>\n",
       "      <td>1997</td>\n",
       "      <td>7.0</td>\n",
       "      <td>f</td>\n",
       "      <td>NaN</td>\n",
       "      <td>NaN</td>\n",
       "    </tr>\n",
       "  </tbody>\n",
       "</table>\n",
       "</div>"
      ],
      "text/plain": [
       "    Name           City  Year  Grade Gender Marriage_status  Salary\n",
       "0   Dima         Moscow  1988    4.0      m            True    12.0\n",
       "1  Sveta           Kiev  1999    4.0      f           False    40.0\n",
       "2   Alex          Minsk  1954    NaN      m            True    53.0\n",
       "3   Ivan  St.Petersburg  2005    6.0      m           False    25.0\n",
       "4   Kate         London  2001    NaN      f             NaN     NaN\n",
       "5  Maria       New York  1997    7.0      f             NaN     NaN"
      ]
     },
     "execution_count": 50,
     "metadata": {},
     "output_type": "execute_result"
    }
   ],
   "source": [
    "df3 = df.join(df_right_1, how=\"left\")\n",
    "df3"
   ]
  },
  {
   "cell_type": "markdown",
   "metadata": {},
   "source": [
    "<p>Внешнее левое соединение (<b>left outer join</b>) таблиц по значениям столбцов одной таблицы и индексам другой</p>"
   ]
  },
  {
   "cell_type": "code",
   "execution_count": 51,
   "metadata": {},
   "outputs": [
    {
     "data": {
      "text/html": [
       "<div>\n",
       "<style scoped>\n",
       "    .dataframe tbody tr th:only-of-type {\n",
       "        vertical-align: middle;\n",
       "    }\n",
       "\n",
       "    .dataframe tbody tr th {\n",
       "        vertical-align: top;\n",
       "    }\n",
       "\n",
       "    .dataframe thead th {\n",
       "        text-align: right;\n",
       "    }\n",
       "</style>\n",
       "<table border=\"1\" class=\"dataframe\">\n",
       "  <thead>\n",
       "    <tr style=\"text-align: right;\">\n",
       "      <th></th>\n",
       "      <th>key</th>\n",
       "      <th>Device</th>\n",
       "      <th>Name</th>\n",
       "      <th>City</th>\n",
       "      <th>Year</th>\n",
       "      <th>Grade</th>\n",
       "      <th>Gender</th>\n",
       "    </tr>\n",
       "  </thead>\n",
       "  <tbody>\n",
       "    <tr>\n",
       "      <td>0</td>\n",
       "      <td>2</td>\n",
       "      <td>TV</td>\n",
       "      <td>Alex</td>\n",
       "      <td>Minsk</td>\n",
       "      <td>1954.0</td>\n",
       "      <td>NaN</td>\n",
       "      <td>m</td>\n",
       "    </tr>\n",
       "    <tr>\n",
       "      <td>1</td>\n",
       "      <td>2</td>\n",
       "      <td>Smartphone</td>\n",
       "      <td>Alex</td>\n",
       "      <td>Minsk</td>\n",
       "      <td>1954.0</td>\n",
       "      <td>NaN</td>\n",
       "      <td>m</td>\n",
       "    </tr>\n",
       "    <tr>\n",
       "      <td>2</td>\n",
       "      <td>3</td>\n",
       "      <td>TV</td>\n",
       "      <td>Ivan</td>\n",
       "      <td>St.Petersburg</td>\n",
       "      <td>2005.0</td>\n",
       "      <td>6.0</td>\n",
       "      <td>m</td>\n",
       "    </tr>\n",
       "    <tr>\n",
       "      <td>3</td>\n",
       "      <td>3</td>\n",
       "      <td>Pendrive</td>\n",
       "      <td>Ivan</td>\n",
       "      <td>St.Petersburg</td>\n",
       "      <td>2005.0</td>\n",
       "      <td>6.0</td>\n",
       "      <td>m</td>\n",
       "    </tr>\n",
       "    <tr>\n",
       "      <td>4</td>\n",
       "      <td>4</td>\n",
       "      <td>TV</td>\n",
       "      <td>Kate</td>\n",
       "      <td>London</td>\n",
       "      <td>2001.0</td>\n",
       "      <td>NaN</td>\n",
       "      <td>f</td>\n",
       "    </tr>\n",
       "    <tr>\n",
       "      <td>5</td>\n",
       "      <td>4</td>\n",
       "      <td>TV</td>\n",
       "      <td>Kate</td>\n",
       "      <td>London</td>\n",
       "      <td>2001.0</td>\n",
       "      <td>NaN</td>\n",
       "      <td>f</td>\n",
       "    </tr>\n",
       "    <tr>\n",
       "      <td>6</td>\n",
       "      <td>10</td>\n",
       "      <td>PC</td>\n",
       "      <td>NaN</td>\n",
       "      <td>NaN</td>\n",
       "      <td>NaN</td>\n",
       "      <td>NaN</td>\n",
       "      <td>NaN</td>\n",
       "    </tr>\n",
       "  </tbody>\n",
       "</table>\n",
       "</div>"
      ],
      "text/plain": [
       "   key      Device  Name           City    Year  Grade Gender\n",
       "0    2          TV  Alex          Minsk  1954.0    NaN      m\n",
       "1    2  Smartphone  Alex          Minsk  1954.0    NaN      m\n",
       "2    3          TV  Ivan  St.Petersburg  2005.0    6.0      m\n",
       "3    3    Pendrive  Ivan  St.Petersburg  2005.0    6.0      m\n",
       "4    4          TV  Kate         London  2001.0    NaN      f\n",
       "5    4          TV  Kate         London  2001.0    NaN      f\n",
       "6   10          PC   NaN            NaN     NaN    NaN    NaN"
      ]
     },
     "execution_count": 51,
     "metadata": {},
     "output_type": "execute_result"
    }
   ],
   "source": [
    "df3 = df_left.join(df, on=\"key\", how=\"left\")\n",
    "df3"
   ]
  },
  {
   "cell_type": "markdown",
   "metadata": {},
   "source": [
    "<p>Правое внешнее соединение (<b>right outer join</b>) таблиц по индексу</p>"
   ]
  },
  {
   "cell_type": "code",
   "execution_count": 52,
   "metadata": {},
   "outputs": [
    {
     "data": {
      "text/html": [
       "<div>\n",
       "<style scoped>\n",
       "    .dataframe tbody tr th:only-of-type {\n",
       "        vertical-align: middle;\n",
       "    }\n",
       "\n",
       "    .dataframe tbody tr th {\n",
       "        vertical-align: top;\n",
       "    }\n",
       "\n",
       "    .dataframe thead th {\n",
       "        text-align: right;\n",
       "    }\n",
       "</style>\n",
       "<table border=\"1\" class=\"dataframe\">\n",
       "  <thead>\n",
       "    <tr style=\"text-align: right;\">\n",
       "      <th></th>\n",
       "      <th>Name</th>\n",
       "      <th>City</th>\n",
       "      <th>Year</th>\n",
       "      <th>Grade</th>\n",
       "      <th>Gender</th>\n",
       "      <th>Marriage_status</th>\n",
       "      <th>Salary</th>\n",
       "    </tr>\n",
       "  </thead>\n",
       "  <tbody>\n",
       "    <tr>\n",
       "      <td>0</td>\n",
       "      <td>Dima</td>\n",
       "      <td>Moscow</td>\n",
       "      <td>1988</td>\n",
       "      <td>4.0</td>\n",
       "      <td>m</td>\n",
       "      <td>True</td>\n",
       "      <td>12</td>\n",
       "    </tr>\n",
       "    <tr>\n",
       "      <td>1</td>\n",
       "      <td>Sveta</td>\n",
       "      <td>Kiev</td>\n",
       "      <td>1999</td>\n",
       "      <td>4.0</td>\n",
       "      <td>f</td>\n",
       "      <td>False</td>\n",
       "      <td>40</td>\n",
       "    </tr>\n",
       "    <tr>\n",
       "      <td>2</td>\n",
       "      <td>Alex</td>\n",
       "      <td>Minsk</td>\n",
       "      <td>1954</td>\n",
       "      <td>NaN</td>\n",
       "      <td>m</td>\n",
       "      <td>True</td>\n",
       "      <td>53</td>\n",
       "    </tr>\n",
       "    <tr>\n",
       "      <td>3</td>\n",
       "      <td>Ivan</td>\n",
       "      <td>St.Petersburg</td>\n",
       "      <td>2005</td>\n",
       "      <td>6.0</td>\n",
       "      <td>m</td>\n",
       "      <td>False</td>\n",
       "      <td>25</td>\n",
       "    </tr>\n",
       "  </tbody>\n",
       "</table>\n",
       "</div>"
      ],
      "text/plain": [
       "    Name           City  Year  Grade Gender  Marriage_status  Salary\n",
       "0   Dima         Moscow  1988    4.0      m             True      12\n",
       "1  Sveta           Kiev  1999    4.0      f            False      40\n",
       "2   Alex          Minsk  1954    NaN      m             True      53\n",
       "3   Ivan  St.Petersburg  2005    6.0      m            False      25"
      ]
     },
     "execution_count": 52,
     "metadata": {},
     "output_type": "execute_result"
    }
   ],
   "source": [
    "df3 = df.join(df_right_1, how=\"right\")\n",
    "df3"
   ]
  },
  {
   "cell_type": "markdown",
   "metadata": {},
   "source": [
    "<p>Внешнее правое соединение (<b>right outer join</b>) таблиц по значениям столбцов одной таблицы и индексам другой</p>"
   ]
  },
  {
   "cell_type": "code",
   "execution_count": 53,
   "metadata": {},
   "outputs": [
    {
     "data": {
      "text/html": [
       "<div>\n",
       "<style scoped>\n",
       "    .dataframe tbody tr th:only-of-type {\n",
       "        vertical-align: middle;\n",
       "    }\n",
       "\n",
       "    .dataframe tbody tr th {\n",
       "        vertical-align: top;\n",
       "    }\n",
       "\n",
       "    .dataframe thead th {\n",
       "        text-align: right;\n",
       "    }\n",
       "</style>\n",
       "<table border=\"1\" class=\"dataframe\">\n",
       "  <thead>\n",
       "    <tr style=\"text-align: right;\">\n",
       "      <th></th>\n",
       "      <th>key</th>\n",
       "      <th>Device</th>\n",
       "      <th>Name</th>\n",
       "      <th>City</th>\n",
       "      <th>Year</th>\n",
       "      <th>Grade</th>\n",
       "      <th>Gender</th>\n",
       "    </tr>\n",
       "  </thead>\n",
       "  <tbody>\n",
       "    <tr>\n",
       "      <td>0.0</td>\n",
       "      <td>2</td>\n",
       "      <td>TV</td>\n",
       "      <td>Alex</td>\n",
       "      <td>Minsk</td>\n",
       "      <td>1954</td>\n",
       "      <td>NaN</td>\n",
       "      <td>m</td>\n",
       "    </tr>\n",
       "    <tr>\n",
       "      <td>1.0</td>\n",
       "      <td>2</td>\n",
       "      <td>Smartphone</td>\n",
       "      <td>Alex</td>\n",
       "      <td>Minsk</td>\n",
       "      <td>1954</td>\n",
       "      <td>NaN</td>\n",
       "      <td>m</td>\n",
       "    </tr>\n",
       "    <tr>\n",
       "      <td>2.0</td>\n",
       "      <td>3</td>\n",
       "      <td>TV</td>\n",
       "      <td>Ivan</td>\n",
       "      <td>St.Petersburg</td>\n",
       "      <td>2005</td>\n",
       "      <td>6.0</td>\n",
       "      <td>m</td>\n",
       "    </tr>\n",
       "    <tr>\n",
       "      <td>3.0</td>\n",
       "      <td>3</td>\n",
       "      <td>Pendrive</td>\n",
       "      <td>Ivan</td>\n",
       "      <td>St.Petersburg</td>\n",
       "      <td>2005</td>\n",
       "      <td>6.0</td>\n",
       "      <td>m</td>\n",
       "    </tr>\n",
       "    <tr>\n",
       "      <td>4.0</td>\n",
       "      <td>4</td>\n",
       "      <td>TV</td>\n",
       "      <td>Kate</td>\n",
       "      <td>London</td>\n",
       "      <td>2001</td>\n",
       "      <td>NaN</td>\n",
       "      <td>f</td>\n",
       "    </tr>\n",
       "    <tr>\n",
       "      <td>5.0</td>\n",
       "      <td>4</td>\n",
       "      <td>TV</td>\n",
       "      <td>Kate</td>\n",
       "      <td>London</td>\n",
       "      <td>2001</td>\n",
       "      <td>NaN</td>\n",
       "      <td>f</td>\n",
       "    </tr>\n",
       "    <tr>\n",
       "      <td>NaN</td>\n",
       "      <td>0</td>\n",
       "      <td>NaN</td>\n",
       "      <td>Dima</td>\n",
       "      <td>Moscow</td>\n",
       "      <td>1988</td>\n",
       "      <td>4.0</td>\n",
       "      <td>m</td>\n",
       "    </tr>\n",
       "    <tr>\n",
       "      <td>NaN</td>\n",
       "      <td>1</td>\n",
       "      <td>NaN</td>\n",
       "      <td>Sveta</td>\n",
       "      <td>Kiev</td>\n",
       "      <td>1999</td>\n",
       "      <td>4.0</td>\n",
       "      <td>f</td>\n",
       "    </tr>\n",
       "    <tr>\n",
       "      <td>NaN</td>\n",
       "      <td>5</td>\n",
       "      <td>NaN</td>\n",
       "      <td>Maria</td>\n",
       "      <td>New York</td>\n",
       "      <td>1997</td>\n",
       "      <td>7.0</td>\n",
       "      <td>f</td>\n",
       "    </tr>\n",
       "  </tbody>\n",
       "</table>\n",
       "</div>"
      ],
      "text/plain": [
       "     key      Device   Name           City  Year  Grade Gender\n",
       "0.0    2          TV   Alex          Minsk  1954    NaN      m\n",
       "1.0    2  Smartphone   Alex          Minsk  1954    NaN      m\n",
       "2.0    3          TV   Ivan  St.Petersburg  2005    6.0      m\n",
       "3.0    3    Pendrive   Ivan  St.Petersburg  2005    6.0      m\n",
       "4.0    4          TV   Kate         London  2001    NaN      f\n",
       "5.0    4          TV   Kate         London  2001    NaN      f\n",
       "NaN    0         NaN   Dima         Moscow  1988    4.0      m\n",
       "NaN    1         NaN  Sveta           Kiev  1999    4.0      f\n",
       "NaN    5         NaN  Maria       New York  1997    7.0      f"
      ]
     },
     "execution_count": 53,
     "metadata": {},
     "output_type": "execute_result"
    }
   ],
   "source": [
    "df3 = df_left.join(df, on=\"key\", how=\"right\")\n",
    "df3"
   ]
  },
  {
   "cell_type": "markdown",
   "metadata": {},
   "source": [
    "<p>Внутреннее соединение (<b>inner join</b>) таблиц по индексу</p>"
   ]
  },
  {
   "cell_type": "code",
   "execution_count": 54,
   "metadata": {},
   "outputs": [
    {
     "data": {
      "text/html": [
       "<div>\n",
       "<style scoped>\n",
       "    .dataframe tbody tr th:only-of-type {\n",
       "        vertical-align: middle;\n",
       "    }\n",
       "\n",
       "    .dataframe tbody tr th {\n",
       "        vertical-align: top;\n",
       "    }\n",
       "\n",
       "    .dataframe thead th {\n",
       "        text-align: right;\n",
       "    }\n",
       "</style>\n",
       "<table border=\"1\" class=\"dataframe\">\n",
       "  <thead>\n",
       "    <tr style=\"text-align: right;\">\n",
       "      <th></th>\n",
       "      <th>Name</th>\n",
       "      <th>City</th>\n",
       "      <th>Year</th>\n",
       "      <th>Grade</th>\n",
       "      <th>Gender</th>\n",
       "      <th>Marriage_status</th>\n",
       "      <th>Salary</th>\n",
       "    </tr>\n",
       "  </thead>\n",
       "  <tbody>\n",
       "    <tr>\n",
       "      <td>0</td>\n",
       "      <td>Dima</td>\n",
       "      <td>Moscow</td>\n",
       "      <td>1988</td>\n",
       "      <td>4.0</td>\n",
       "      <td>m</td>\n",
       "      <td>True</td>\n",
       "      <td>12</td>\n",
       "    </tr>\n",
       "    <tr>\n",
       "      <td>1</td>\n",
       "      <td>Sveta</td>\n",
       "      <td>Kiev</td>\n",
       "      <td>1999</td>\n",
       "      <td>4.0</td>\n",
       "      <td>f</td>\n",
       "      <td>False</td>\n",
       "      <td>40</td>\n",
       "    </tr>\n",
       "    <tr>\n",
       "      <td>2</td>\n",
       "      <td>Alex</td>\n",
       "      <td>Minsk</td>\n",
       "      <td>1954</td>\n",
       "      <td>NaN</td>\n",
       "      <td>m</td>\n",
       "      <td>True</td>\n",
       "      <td>53</td>\n",
       "    </tr>\n",
       "    <tr>\n",
       "      <td>3</td>\n",
       "      <td>Ivan</td>\n",
       "      <td>St.Petersburg</td>\n",
       "      <td>2005</td>\n",
       "      <td>6.0</td>\n",
       "      <td>m</td>\n",
       "      <td>False</td>\n",
       "      <td>25</td>\n",
       "    </tr>\n",
       "  </tbody>\n",
       "</table>\n",
       "</div>"
      ],
      "text/plain": [
       "    Name           City  Year  Grade Gender  Marriage_status  Salary\n",
       "0   Dima         Moscow  1988    4.0      m             True      12\n",
       "1  Sveta           Kiev  1999    4.0      f            False      40\n",
       "2   Alex          Minsk  1954    NaN      m             True      53\n",
       "3   Ivan  St.Petersburg  2005    6.0      m            False      25"
      ]
     },
     "execution_count": 54,
     "metadata": {},
     "output_type": "execute_result"
    }
   ],
   "source": [
    "df3 = df.join(df_right_1, how=\"inner\")\n",
    "df3"
   ]
  },
  {
   "cell_type": "markdown",
   "metadata": {},
   "source": [
    "<p>Внутреннее соединение (<b>inner join</b>) таблиц по значениям столбцов одной таблицы и индексам другой</p>"
   ]
  },
  {
   "cell_type": "code",
   "execution_count": 55,
   "metadata": {},
   "outputs": [
    {
     "data": {
      "text/html": [
       "<div>\n",
       "<style scoped>\n",
       "    .dataframe tbody tr th:only-of-type {\n",
       "        vertical-align: middle;\n",
       "    }\n",
       "\n",
       "    .dataframe tbody tr th {\n",
       "        vertical-align: top;\n",
       "    }\n",
       "\n",
       "    .dataframe thead th {\n",
       "        text-align: right;\n",
       "    }\n",
       "</style>\n",
       "<table border=\"1\" class=\"dataframe\">\n",
       "  <thead>\n",
       "    <tr style=\"text-align: right;\">\n",
       "      <th></th>\n",
       "      <th>key</th>\n",
       "      <th>Device</th>\n",
       "      <th>Name</th>\n",
       "      <th>City</th>\n",
       "      <th>Year</th>\n",
       "      <th>Grade</th>\n",
       "      <th>Gender</th>\n",
       "    </tr>\n",
       "  </thead>\n",
       "  <tbody>\n",
       "    <tr>\n",
       "      <td>0</td>\n",
       "      <td>2</td>\n",
       "      <td>TV</td>\n",
       "      <td>Alex</td>\n",
       "      <td>Minsk</td>\n",
       "      <td>1954</td>\n",
       "      <td>NaN</td>\n",
       "      <td>m</td>\n",
       "    </tr>\n",
       "    <tr>\n",
       "      <td>1</td>\n",
       "      <td>2</td>\n",
       "      <td>Smartphone</td>\n",
       "      <td>Alex</td>\n",
       "      <td>Minsk</td>\n",
       "      <td>1954</td>\n",
       "      <td>NaN</td>\n",
       "      <td>m</td>\n",
       "    </tr>\n",
       "    <tr>\n",
       "      <td>2</td>\n",
       "      <td>3</td>\n",
       "      <td>TV</td>\n",
       "      <td>Ivan</td>\n",
       "      <td>St.Petersburg</td>\n",
       "      <td>2005</td>\n",
       "      <td>6.0</td>\n",
       "      <td>m</td>\n",
       "    </tr>\n",
       "    <tr>\n",
       "      <td>3</td>\n",
       "      <td>3</td>\n",
       "      <td>Pendrive</td>\n",
       "      <td>Ivan</td>\n",
       "      <td>St.Petersburg</td>\n",
       "      <td>2005</td>\n",
       "      <td>6.0</td>\n",
       "      <td>m</td>\n",
       "    </tr>\n",
       "    <tr>\n",
       "      <td>4</td>\n",
       "      <td>4</td>\n",
       "      <td>TV</td>\n",
       "      <td>Kate</td>\n",
       "      <td>London</td>\n",
       "      <td>2001</td>\n",
       "      <td>NaN</td>\n",
       "      <td>f</td>\n",
       "    </tr>\n",
       "    <tr>\n",
       "      <td>5</td>\n",
       "      <td>4</td>\n",
       "      <td>TV</td>\n",
       "      <td>Kate</td>\n",
       "      <td>London</td>\n",
       "      <td>2001</td>\n",
       "      <td>NaN</td>\n",
       "      <td>f</td>\n",
       "    </tr>\n",
       "  </tbody>\n",
       "</table>\n",
       "</div>"
      ],
      "text/plain": [
       "   key      Device  Name           City  Year  Grade Gender\n",
       "0    2          TV  Alex          Minsk  1954    NaN      m\n",
       "1    2  Smartphone  Alex          Minsk  1954    NaN      m\n",
       "2    3          TV  Ivan  St.Petersburg  2005    6.0      m\n",
       "3    3    Pendrive  Ivan  St.Petersburg  2005    6.0      m\n",
       "4    4          TV  Kate         London  2001    NaN      f\n",
       "5    4          TV  Kate         London  2001    NaN      f"
      ]
     },
     "execution_count": 55,
     "metadata": {},
     "output_type": "execute_result"
    }
   ],
   "source": [
    "df3 = df_left.join(df, on=\"key\", how=\"inner\")\n",
    "df3"
   ]
  },
  {
   "cell_type": "markdown",
   "metadata": {},
   "source": [
    "<a name=\"3h\"></a>\n",
    "<div style=\"padding-top:10px;\">\n",
    "    <div style=\"display: inline-block; font-style:italic; font-weight:bold; font-size:12pt\">h. Методы <i>iterrows</i>, <i>map</i>, <i>apply</i>, <i>applymap</i></div>\n",
    "    <div style=\"display: inline-block; float:right; width:20%; text-align:center; border:1px solid lightgrey\">\n",
    "        <div style=\"display: inline-block; text-align:center; width:50%; background-color:whitesmoke;\"><a href=\"#3g\">Назад</a></div><div style=\"display: inline-block; text-align:center; width:50%;\"><a href=\"#4\">Далее</a></div>\n",
    "    </div>\n",
    "</div>"
   ]
  },
  {
   "cell_type": "markdown",
   "metadata": {},
   "source": [
    "<p>Использование итератора по строкам - метод <b>iterrows()</b></p>"
   ]
  },
  {
   "cell_type": "code",
   "execution_count": 56,
   "metadata": {},
   "outputs": [
    {
     "name": "stdout",
     "output_type": "stream",
     "text": [
      "0\n",
      "Name        Dima\n",
      "City      Moscow\n",
      "Year        1988\n",
      "Grade          4\n",
      "Gender         m\n",
      "Name: 0, dtype: object\n",
      "1\n",
      "Name      Sveta\n",
      "City       Kiev\n",
      "Year       1999\n",
      "Grade         4\n",
      "Gender        f\n",
      "Name: 1, dtype: object\n",
      "2\n",
      "Name       Alex\n",
      "City      Minsk\n",
      "Year       1954\n",
      "Grade       NaN\n",
      "Gender        m\n",
      "Name: 2, dtype: object\n",
      "3\n",
      "Name               Ivan\n",
      "City      St.Petersburg\n",
      "Year               2005\n",
      "Grade                 6\n",
      "Gender                m\n",
      "Name: 3, dtype: object\n",
      "4\n",
      "Name        Kate\n",
      "City      London\n",
      "Year        2001\n",
      "Grade        NaN\n",
      "Gender         f\n",
      "Name: 4, dtype: object\n",
      "5\n",
      "Name         Maria\n",
      "City      New York\n",
      "Year          1997\n",
      "Grade            7\n",
      "Gender           f\n",
      "Name: 5, dtype: object\n"
     ]
    }
   ],
   "source": [
    "for i, row in df.iterrows():\n",
    "    print(i)\n",
    "    print(row)"
   ]
  },
  {
   "cell_type": "markdown",
   "metadata": {},
   "source": [
    "<p>Пример</p>"
   ]
  },
  {
   "cell_type": "code",
   "execution_count": 57,
   "metadata": {},
   "outputs": [
    {
     "data": {
      "text/html": [
       "<div>\n",
       "<style scoped>\n",
       "    .dataframe tbody tr th:only-of-type {\n",
       "        vertical-align: middle;\n",
       "    }\n",
       "\n",
       "    .dataframe tbody tr th {\n",
       "        vertical-align: top;\n",
       "    }\n",
       "\n",
       "    .dataframe thead th {\n",
       "        text-align: right;\n",
       "    }\n",
       "</style>\n",
       "<table border=\"1\" class=\"dataframe\">\n",
       "  <thead>\n",
       "    <tr style=\"text-align: right;\">\n",
       "      <th></th>\n",
       "      <th>Name</th>\n",
       "      <th>City</th>\n",
       "      <th>Year</th>\n",
       "      <th>Grade</th>\n",
       "      <th>Gender</th>\n",
       "    </tr>\n",
       "  </thead>\n",
       "  <tbody>\n",
       "    <tr>\n",
       "      <td>0</td>\n",
       "      <td>Dima</td>\n",
       "      <td>Moscow</td>\n",
       "      <td>1988</td>\n",
       "      <td>4.0</td>\n",
       "      <td>m</td>\n",
       "    </tr>\n",
       "    <tr>\n",
       "      <td>2</td>\n",
       "      <td>Alex</td>\n",
       "      <td>Minsk</td>\n",
       "      <td>1954</td>\n",
       "      <td>NaN</td>\n",
       "      <td>m</td>\n",
       "    </tr>\n",
       "  </tbody>\n",
       "</table>\n",
       "</div>"
      ],
      "text/plain": [
       "   Name    City  Year  Grade Gender\n",
       "0  Dima  Moscow  1988    4.0      m\n",
       "2  Alex   Minsk  1954    NaN      m"
      ]
     },
     "execution_count": 57,
     "metadata": {},
     "output_type": "execute_result"
    }
   ],
   "source": [
    "df2 = pnd.DataFrame(columns=df.columns)  # новый DataFrame со схемой (столбцами) df\n",
    "for i, row in df.iterrows():\n",
    "    # Если City есть Moscow или Minsk, строка row добавляется в df2\n",
    "    if row.City in [\"Moscow\", \"Minsk\"]:\n",
    "        df2.loc[i] = row\n",
    "        \n",
    "df2"
   ]
  },
  {
   "cell_type": "markdown",
   "metadata": {},
   "source": [
    "<p>Выбор/фильтрация строк посредством методов <b>apply()</b> и <b>map()</b></p>"
   ]
  },
  {
   "cell_type": "code",
   "execution_count": 58,
   "metadata": {},
   "outputs": [
    {
     "data": {
      "text/html": [
       "<div>\n",
       "<style scoped>\n",
       "    .dataframe tbody tr th:only-of-type {\n",
       "        vertical-align: middle;\n",
       "    }\n",
       "\n",
       "    .dataframe tbody tr th {\n",
       "        vertical-align: top;\n",
       "    }\n",
       "\n",
       "    .dataframe thead th {\n",
       "        text-align: right;\n",
       "    }\n",
       "</style>\n",
       "<table border=\"1\" class=\"dataframe\">\n",
       "  <thead>\n",
       "    <tr style=\"text-align: right;\">\n",
       "      <th></th>\n",
       "      <th>Name</th>\n",
       "      <th>City</th>\n",
       "      <th>Year</th>\n",
       "      <th>Grade</th>\n",
       "      <th>Gender</th>\n",
       "    </tr>\n",
       "  </thead>\n",
       "  <tbody>\n",
       "    <tr>\n",
       "      <td>0</td>\n",
       "      <td>Dima</td>\n",
       "      <td>Moscow</td>\n",
       "      <td>1988</td>\n",
       "      <td>4.0</td>\n",
       "      <td>m</td>\n",
       "    </tr>\n",
       "    <tr>\n",
       "      <td>2</td>\n",
       "      <td>Alex</td>\n",
       "      <td>Minsk</td>\n",
       "      <td>1954</td>\n",
       "      <td>NaN</td>\n",
       "      <td>m</td>\n",
       "    </tr>\n",
       "  </tbody>\n",
       "</table>\n",
       "</div>"
      ],
      "text/plain": [
       "   Name    City  Year  Grade Gender\n",
       "0  Dima  Moscow  1988    4.0      m\n",
       "2  Alex   Minsk  1954    NaN      m"
      ]
     },
     "execution_count": 58,
     "metadata": {},
     "output_type": "execute_result"
    }
   ],
   "source": [
    "df2 = df[df[\"City\"].apply(lambda c: c in [\"Moscow\", \"Minsk\"])]\n",
    "df2"
   ]
  },
  {
   "cell_type": "code",
   "execution_count": 59,
   "metadata": {},
   "outputs": [
    {
     "data": {
      "text/html": [
       "<div>\n",
       "<style scoped>\n",
       "    .dataframe tbody tr th:only-of-type {\n",
       "        vertical-align: middle;\n",
       "    }\n",
       "\n",
       "    .dataframe tbody tr th {\n",
       "        vertical-align: top;\n",
       "    }\n",
       "\n",
       "    .dataframe thead th {\n",
       "        text-align: right;\n",
       "    }\n",
       "</style>\n",
       "<table border=\"1\" class=\"dataframe\">\n",
       "  <thead>\n",
       "    <tr style=\"text-align: right;\">\n",
       "      <th></th>\n",
       "      <th>Name</th>\n",
       "      <th>City</th>\n",
       "      <th>Year</th>\n",
       "      <th>Grade</th>\n",
       "      <th>Gender</th>\n",
       "    </tr>\n",
       "  </thead>\n",
       "  <tbody>\n",
       "    <tr>\n",
       "      <td>0</td>\n",
       "      <td>Dima</td>\n",
       "      <td>Moscow</td>\n",
       "      <td>1988</td>\n",
       "      <td>4.0</td>\n",
       "      <td>m</td>\n",
       "    </tr>\n",
       "    <tr>\n",
       "      <td>2</td>\n",
       "      <td>Alex</td>\n",
       "      <td>Minsk</td>\n",
       "      <td>1954</td>\n",
       "      <td>NaN</td>\n",
       "      <td>m</td>\n",
       "    </tr>\n",
       "  </tbody>\n",
       "</table>\n",
       "</div>"
      ],
      "text/plain": [
       "   Name    City  Year  Grade Gender\n",
       "0  Dima  Moscow  1988    4.0      m\n",
       "2  Alex   Minsk  1954    NaN      m"
      ]
     },
     "execution_count": 59,
     "metadata": {},
     "output_type": "execute_result"
    }
   ],
   "source": [
    "# Через функцию (без lambda)\n",
    "def func(city):\n",
    "    if city in [\"Moscow\", \"Minsk\"]:\n",
    "        return True\n",
    "    return False\n",
    "\n",
    "df2 = df[df.City.apply(func)]\n",
    "df2"
   ]
  },
  {
   "cell_type": "markdown",
   "metadata": {},
   "source": [
    "<p>Выбор строк без нулевых значений</p>"
   ]
  },
  {
   "cell_type": "code",
   "execution_count": 60,
   "metadata": {},
   "outputs": [
    {
     "data": {
      "text/html": [
       "<div>\n",
       "<style scoped>\n",
       "    .dataframe tbody tr th:only-of-type {\n",
       "        vertical-align: middle;\n",
       "    }\n",
       "\n",
       "    .dataframe tbody tr th {\n",
       "        vertical-align: top;\n",
       "    }\n",
       "\n",
       "    .dataframe thead th {\n",
       "        text-align: right;\n",
       "    }\n",
       "</style>\n",
       "<table border=\"1\" class=\"dataframe\">\n",
       "  <thead>\n",
       "    <tr style=\"text-align: right;\">\n",
       "      <th></th>\n",
       "      <th>Name</th>\n",
       "      <th>City</th>\n",
       "      <th>Year</th>\n",
       "      <th>Grade</th>\n",
       "      <th>Gender</th>\n",
       "    </tr>\n",
       "  </thead>\n",
       "  <tbody>\n",
       "    <tr>\n",
       "      <td>0</td>\n",
       "      <td>Dima</td>\n",
       "      <td>Moscow</td>\n",
       "      <td>1988</td>\n",
       "      <td>4.0</td>\n",
       "      <td>m</td>\n",
       "    </tr>\n",
       "    <tr>\n",
       "      <td>1</td>\n",
       "      <td>Sveta</td>\n",
       "      <td>Kiev</td>\n",
       "      <td>1999</td>\n",
       "      <td>4.0</td>\n",
       "      <td>f</td>\n",
       "    </tr>\n",
       "    <tr>\n",
       "      <td>3</td>\n",
       "      <td>Ivan</td>\n",
       "      <td>St.Petersburg</td>\n",
       "      <td>2005</td>\n",
       "      <td>6.0</td>\n",
       "      <td>m</td>\n",
       "    </tr>\n",
       "    <tr>\n",
       "      <td>5</td>\n",
       "      <td>Maria</td>\n",
       "      <td>New York</td>\n",
       "      <td>1997</td>\n",
       "      <td>7.0</td>\n",
       "      <td>f</td>\n",
       "    </tr>\n",
       "  </tbody>\n",
       "</table>\n",
       "</div>"
      ],
      "text/plain": [
       "    Name           City  Year  Grade Gender\n",
       "0   Dima         Moscow  1988    4.0      m\n",
       "1  Sveta           Kiev  1999    4.0      f\n",
       "3   Ivan  St.Petersburg  2005    6.0      m\n",
       "5  Maria       New York  1997    7.0      f"
      ]
     },
     "execution_count": 60,
     "metadata": {},
     "output_type": "execute_result"
    }
   ],
   "source": [
    "df[df.Grade.notnull()]"
   ]
  },
  {
   "cell_type": "code",
   "execution_count": 61,
   "metadata": {},
   "outputs": [
    {
     "data": {
      "text/html": [
       "<div>\n",
       "<style scoped>\n",
       "    .dataframe tbody tr th:only-of-type {\n",
       "        vertical-align: middle;\n",
       "    }\n",
       "\n",
       "    .dataframe tbody tr th {\n",
       "        vertical-align: top;\n",
       "    }\n",
       "\n",
       "    .dataframe thead th {\n",
       "        text-align: right;\n",
       "    }\n",
       "</style>\n",
       "<table border=\"1\" class=\"dataframe\">\n",
       "  <thead>\n",
       "    <tr style=\"text-align: right;\">\n",
       "      <th></th>\n",
       "      <th>Name</th>\n",
       "      <th>City</th>\n",
       "      <th>Year</th>\n",
       "      <th>Grade</th>\n",
       "      <th>Gender</th>\n",
       "    </tr>\n",
       "  </thead>\n",
       "  <tbody>\n",
       "    <tr>\n",
       "      <td>0</td>\n",
       "      <td>Dima</td>\n",
       "      <td>Moscow</td>\n",
       "      <td>1988</td>\n",
       "      <td>4.0</td>\n",
       "      <td>m</td>\n",
       "    </tr>\n",
       "    <tr>\n",
       "      <td>1</td>\n",
       "      <td>Sveta</td>\n",
       "      <td>Kiev</td>\n",
       "      <td>1999</td>\n",
       "      <td>4.0</td>\n",
       "      <td>f</td>\n",
       "    </tr>\n",
       "    <tr>\n",
       "      <td>3</td>\n",
       "      <td>Ivan</td>\n",
       "      <td>St.Petersburg</td>\n",
       "      <td>2005</td>\n",
       "      <td>6.0</td>\n",
       "      <td>m</td>\n",
       "    </tr>\n",
       "    <tr>\n",
       "      <td>5</td>\n",
       "      <td>Maria</td>\n",
       "      <td>New York</td>\n",
       "      <td>1997</td>\n",
       "      <td>7.0</td>\n",
       "      <td>f</td>\n",
       "    </tr>\n",
       "  </tbody>\n",
       "</table>\n",
       "</div>"
      ],
      "text/plain": [
       "    Name           City  Year  Grade Gender\n",
       "0   Dima         Moscow  1988    4.0      m\n",
       "1  Sveta           Kiev  1999    4.0      f\n",
       "3   Ivan  St.Petersburg  2005    6.0      m\n",
       "5  Maria       New York  1997    7.0      f"
      ]
     },
     "execution_count": 61,
     "metadata": {},
     "output_type": "execute_result"
    }
   ],
   "source": [
    "df[df.Grade.apply(lambda x: not np.isnan(x))]"
   ]
  },
  {
   "cell_type": "markdown",
   "metadata": {},
   "source": [
    "<p>Выбор строк с условием Year > 2000</p>"
   ]
  },
  {
   "cell_type": "code",
   "execution_count": 62,
   "metadata": {},
   "outputs": [
    {
     "data": {
      "text/html": [
       "<div>\n",
       "<style scoped>\n",
       "    .dataframe tbody tr th:only-of-type {\n",
       "        vertical-align: middle;\n",
       "    }\n",
       "\n",
       "    .dataframe tbody tr th {\n",
       "        vertical-align: top;\n",
       "    }\n",
       "\n",
       "    .dataframe thead th {\n",
       "        text-align: right;\n",
       "    }\n",
       "</style>\n",
       "<table border=\"1\" class=\"dataframe\">\n",
       "  <thead>\n",
       "    <tr style=\"text-align: right;\">\n",
       "      <th></th>\n",
       "      <th>Name</th>\n",
       "      <th>City</th>\n",
       "      <th>Year</th>\n",
       "      <th>Grade</th>\n",
       "      <th>Gender</th>\n",
       "    </tr>\n",
       "  </thead>\n",
       "  <tbody>\n",
       "    <tr>\n",
       "      <td>3</td>\n",
       "      <td>Ivan</td>\n",
       "      <td>St.Petersburg</td>\n",
       "      <td>2005</td>\n",
       "      <td>6.0</td>\n",
       "      <td>m</td>\n",
       "    </tr>\n",
       "    <tr>\n",
       "      <td>4</td>\n",
       "      <td>Kate</td>\n",
       "      <td>London</td>\n",
       "      <td>2001</td>\n",
       "      <td>NaN</td>\n",
       "      <td>f</td>\n",
       "    </tr>\n",
       "  </tbody>\n",
       "</table>\n",
       "</div>"
      ],
      "text/plain": [
       "   Name           City  Year  Grade Gender\n",
       "3  Ivan  St.Petersburg  2005    6.0      m\n",
       "4  Kate         London  2001    NaN      f"
      ]
     },
     "execution_count": 62,
     "metadata": {},
     "output_type": "execute_result"
    }
   ],
   "source": [
    "df[df[\"Year\"]>=2000]"
   ]
  },
  {
   "cell_type": "code",
   "execution_count": 63,
   "metadata": {},
   "outputs": [
    {
     "data": {
      "text/html": [
       "<div>\n",
       "<style scoped>\n",
       "    .dataframe tbody tr th:only-of-type {\n",
       "        vertical-align: middle;\n",
       "    }\n",
       "\n",
       "    .dataframe tbody tr th {\n",
       "        vertical-align: top;\n",
       "    }\n",
       "\n",
       "    .dataframe thead th {\n",
       "        text-align: right;\n",
       "    }\n",
       "</style>\n",
       "<table border=\"1\" class=\"dataframe\">\n",
       "  <thead>\n",
       "    <tr style=\"text-align: right;\">\n",
       "      <th></th>\n",
       "      <th>Name</th>\n",
       "      <th>City</th>\n",
       "      <th>Year</th>\n",
       "      <th>Grade</th>\n",
       "      <th>Gender</th>\n",
       "    </tr>\n",
       "  </thead>\n",
       "  <tbody>\n",
       "    <tr>\n",
       "      <td>3</td>\n",
       "      <td>Ivan</td>\n",
       "      <td>St.Petersburg</td>\n",
       "      <td>2005</td>\n",
       "      <td>6.0</td>\n",
       "      <td>m</td>\n",
       "    </tr>\n",
       "    <tr>\n",
       "      <td>4</td>\n",
       "      <td>Kate</td>\n",
       "      <td>London</td>\n",
       "      <td>2001</td>\n",
       "      <td>NaN</td>\n",
       "      <td>f</td>\n",
       "    </tr>\n",
       "  </tbody>\n",
       "</table>\n",
       "</div>"
      ],
      "text/plain": [
       "   Name           City  Year  Grade Gender\n",
       "3  Ivan  St.Petersburg  2005    6.0      m\n",
       "4  Kate         London  2001    NaN      f"
      ]
     },
     "execution_count": 63,
     "metadata": {},
     "output_type": "execute_result"
    }
   ],
   "source": [
    "df[df[\"Year\"].apply(lambda year: year >= 2000)]"
   ]
  },
  {
   "cell_type": "markdown",
   "metadata": {},
   "source": [
    "<p>Применение метода <b>apply()</b> для вычислений</p>"
   ]
  },
  {
   "cell_type": "code",
   "execution_count": 64,
   "metadata": {},
   "outputs": [
    {
     "data": {
      "text/plain": [
       "array([[92, 85, 23, 81, 54, 11, 57],\n",
       "       [40,  1, 39, 11, 43, 64, 38],\n",
       "       [74, 93, 79, 79, 97,  7, 41]])"
      ]
     },
     "execution_count": 64,
     "metadata": {},
     "output_type": "execute_result"
    }
   ],
   "source": [
    "data = np.random.randint(low=0, high=101, size=(3,7))\n",
    "data"
   ]
  },
  {
   "cell_type": "code",
   "execution_count": 65,
   "metadata": {},
   "outputs": [
    {
     "data": {
      "text/html": [
       "<div>\n",
       "<style scoped>\n",
       "    .dataframe tbody tr th:only-of-type {\n",
       "        vertical-align: middle;\n",
       "    }\n",
       "\n",
       "    .dataframe tbody tr th {\n",
       "        vertical-align: top;\n",
       "    }\n",
       "\n",
       "    .dataframe thead th {\n",
       "        text-align: right;\n",
       "    }\n",
       "</style>\n",
       "<table border=\"1\" class=\"dataframe\">\n",
       "  <thead>\n",
       "    <tr style=\"text-align: right;\">\n",
       "      <th></th>\n",
       "      <th>Mon</th>\n",
       "      <th>Tue</th>\n",
       "      <th>Wed</th>\n",
       "      <th>Thu</th>\n",
       "      <th>Fri</th>\n",
       "      <th>Sat</th>\n",
       "      <th>Sun</th>\n",
       "    </tr>\n",
       "  </thead>\n",
       "  <tbody>\n",
       "    <tr>\n",
       "      <td>TV</td>\n",
       "      <td>92</td>\n",
       "      <td>85</td>\n",
       "      <td>23</td>\n",
       "      <td>81</td>\n",
       "      <td>54</td>\n",
       "      <td>11</td>\n",
       "      <td>57</td>\n",
       "    </tr>\n",
       "    <tr>\n",
       "      <td>Smartphone</td>\n",
       "      <td>40</td>\n",
       "      <td>1</td>\n",
       "      <td>39</td>\n",
       "      <td>11</td>\n",
       "      <td>43</td>\n",
       "      <td>64</td>\n",
       "      <td>38</td>\n",
       "    </tr>\n",
       "    <tr>\n",
       "      <td>Pendrive</td>\n",
       "      <td>74</td>\n",
       "      <td>93</td>\n",
       "      <td>79</td>\n",
       "      <td>79</td>\n",
       "      <td>97</td>\n",
       "      <td>7</td>\n",
       "      <td>41</td>\n",
       "    </tr>\n",
       "  </tbody>\n",
       "</table>\n",
       "</div>"
      ],
      "text/plain": [
       "            Mon  Tue  Wed  Thu  Fri  Sat  Sun\n",
       "TV           92   85   23   81   54   11   57\n",
       "Smartphone   40    1   39   11   43   64   38\n",
       "Pendrive     74   93   79   79   97    7   41"
      ]
     },
     "execution_count": 65,
     "metadata": {},
     "output_type": "execute_result"
    }
   ],
   "source": [
    "dfA = pnd.DataFrame(data=data, \n",
    "                    columns=[\"Mon\", \"Tue\", \"Wed\", \"Thu\", \"Fri\", \"Sat\", \"Sun\"], \n",
    "                    index = [\"TV\", \"Smartphone\", \"Pendrive\"])\n",
    "dfA"
   ]
  },
  {
   "cell_type": "code",
   "execution_count": 66,
   "metadata": {},
   "outputs": [
    {
     "data": {
      "text/plain": [
       "Mon    206\n",
       "Tue    179\n",
       "Wed    141\n",
       "Thu    171\n",
       "Fri    194\n",
       "Sat     82\n",
       "Sun    136\n",
       "dtype: int64"
      ]
     },
     "execution_count": 66,
     "metadata": {},
     "output_type": "execute_result"
    }
   ],
   "source": [
    "clmn_sum = dfA.apply(lambda clmn: clmn.sum(), axis=0)  # axis = 0 - выбор по столбцам\n",
    "clmn_sum"
   ]
  },
  {
   "cell_type": "code",
   "execution_count": 67,
   "metadata": {},
   "outputs": [
    {
     "data": {
      "text/plain": [
       "pandas.core.series.Series"
      ]
     },
     "execution_count": 67,
     "metadata": {},
     "output_type": "execute_result"
    }
   ],
   "source": [
    "type(clmn_sum)"
   ]
  },
  {
   "cell_type": "code",
   "execution_count": 73,
   "metadata": {},
   "outputs": [
    {
     "data": {
      "text/html": [
       "<div>\n",
       "<style scoped>\n",
       "    .dataframe tbody tr th:only-of-type {\n",
       "        vertical-align: middle;\n",
       "    }\n",
       "\n",
       "    .dataframe tbody tr th {\n",
       "        vertical-align: top;\n",
       "    }\n",
       "\n",
       "    .dataframe thead th {\n",
       "        text-align: right;\n",
       "    }\n",
       "</style>\n",
       "<table border=\"1\" class=\"dataframe\">\n",
       "  <thead>\n",
       "    <tr style=\"text-align: right;\">\n",
       "      <th></th>\n",
       "      <th>TotalByDay</th>\n",
       "    </tr>\n",
       "  </thead>\n",
       "  <tbody>\n",
       "    <tr>\n",
       "      <td>Mon</td>\n",
       "      <td>206</td>\n",
       "    </tr>\n",
       "    <tr>\n",
       "      <td>Tue</td>\n",
       "      <td>179</td>\n",
       "    </tr>\n",
       "    <tr>\n",
       "      <td>Wed</td>\n",
       "      <td>141</td>\n",
       "    </tr>\n",
       "    <tr>\n",
       "      <td>Thu</td>\n",
       "      <td>171</td>\n",
       "    </tr>\n",
       "    <tr>\n",
       "      <td>Fri</td>\n",
       "      <td>194</td>\n",
       "    </tr>\n",
       "    <tr>\n",
       "      <td>Sat</td>\n",
       "      <td>82</td>\n",
       "    </tr>\n",
       "    <tr>\n",
       "      <td>Sun</td>\n",
       "      <td>136</td>\n",
       "    </tr>\n",
       "  </tbody>\n",
       "</table>\n",
       "</div>"
      ],
      "text/plain": [
       "     TotalByDay\n",
       "Mon         206\n",
       "Tue         179\n",
       "Wed         141\n",
       "Thu         171\n",
       "Fri         194\n",
       "Sat          82\n",
       "Sun         136"
      ]
     },
     "execution_count": 73,
     "metadata": {},
     "output_type": "execute_result"
    }
   ],
   "source": [
    "clmn_sum.name = \"TotalByDay\"\n",
    "pnd.DataFrame(clmn_sum)"
   ]
  },
  {
   "cell_type": "code",
   "execution_count": 74,
   "metadata": {},
   "outputs": [
    {
     "data": {
      "text/plain": [
       "TV            1141\n",
       "Smartphone     606\n",
       "Pendrive      1362\n",
       "dtype: int64"
      ]
     },
     "execution_count": 74,
     "metadata": {},
     "output_type": "execute_result"
    }
   ],
   "source": [
    "row_sum = dfA.apply(lambda row: row.sum(), axis=1)  # axis = 1 - выбор по строкам\n",
    "row_sum"
   ]
  },
  {
   "cell_type": "code",
   "execution_count": 75,
   "metadata": {},
   "outputs": [
    {
     "data": {
      "text/html": [
       "<div>\n",
       "<style scoped>\n",
       "    .dataframe tbody tr th:only-of-type {\n",
       "        vertical-align: middle;\n",
       "    }\n",
       "\n",
       "    .dataframe tbody tr th {\n",
       "        vertical-align: top;\n",
       "    }\n",
       "\n",
       "    .dataframe thead th {\n",
       "        text-align: right;\n",
       "    }\n",
       "</style>\n",
       "<table border=\"1\" class=\"dataframe\">\n",
       "  <thead>\n",
       "    <tr style=\"text-align: right;\">\n",
       "      <th></th>\n",
       "      <th>TotalByDevice</th>\n",
       "    </tr>\n",
       "  </thead>\n",
       "  <tbody>\n",
       "    <tr>\n",
       "      <td>TV</td>\n",
       "      <td>1141</td>\n",
       "    </tr>\n",
       "    <tr>\n",
       "      <td>Smartphone</td>\n",
       "      <td>606</td>\n",
       "    </tr>\n",
       "    <tr>\n",
       "      <td>Pendrive</td>\n",
       "      <td>1362</td>\n",
       "    </tr>\n",
       "  </tbody>\n",
       "</table>\n",
       "</div>"
      ],
      "text/plain": [
       "            TotalByDevice\n",
       "TV                   1141\n",
       "Smartphone            606\n",
       "Pendrive             1362"
      ]
     },
     "execution_count": 75,
     "metadata": {},
     "output_type": "execute_result"
    }
   ],
   "source": [
    "row_sum.name = \"TotalByDevice\"\n",
    "pnd.DataFrame(row_sum)"
   ]
  },
  {
   "cell_type": "code",
   "execution_count": 76,
   "metadata": {},
   "outputs": [
    {
     "data": {
      "text/html": [
       "<div>\n",
       "<style scoped>\n",
       "    .dataframe tbody tr th:only-of-type {\n",
       "        vertical-align: middle;\n",
       "    }\n",
       "\n",
       "    .dataframe tbody tr th {\n",
       "        vertical-align: top;\n",
       "    }\n",
       "\n",
       "    .dataframe thead th {\n",
       "        text-align: right;\n",
       "    }\n",
       "</style>\n",
       "<table border=\"1\" class=\"dataframe\">\n",
       "  <thead>\n",
       "    <tr style=\"text-align: right;\">\n",
       "      <th></th>\n",
       "      <th>Mon</th>\n",
       "      <th>Tue</th>\n",
       "      <th>Wed</th>\n",
       "      <th>Thu</th>\n",
       "      <th>Fri</th>\n",
       "      <th>Sat</th>\n",
       "      <th>Sun</th>\n",
       "      <th>Working_Days</th>\n",
       "      <th>Weekend</th>\n",
       "    </tr>\n",
       "  </thead>\n",
       "  <tbody>\n",
       "    <tr>\n",
       "      <td>TV</td>\n",
       "      <td>92</td>\n",
       "      <td>85</td>\n",
       "      <td>23</td>\n",
       "      <td>81</td>\n",
       "      <td>54</td>\n",
       "      <td>11</td>\n",
       "      <td>57</td>\n",
       "      <td>335</td>\n",
       "      <td>403</td>\n",
       "    </tr>\n",
       "    <tr>\n",
       "      <td>Smartphone</td>\n",
       "      <td>40</td>\n",
       "      <td>1</td>\n",
       "      <td>39</td>\n",
       "      <td>11</td>\n",
       "      <td>43</td>\n",
       "      <td>64</td>\n",
       "      <td>38</td>\n",
       "      <td>134</td>\n",
       "      <td>236</td>\n",
       "    </tr>\n",
       "    <tr>\n",
       "      <td>Pendrive</td>\n",
       "      <td>74</td>\n",
       "      <td>93</td>\n",
       "      <td>79</td>\n",
       "      <td>79</td>\n",
       "      <td>97</td>\n",
       "      <td>7</td>\n",
       "      <td>41</td>\n",
       "      <td>422</td>\n",
       "      <td>470</td>\n",
       "    </tr>\n",
       "  </tbody>\n",
       "</table>\n",
       "</div>"
      ],
      "text/plain": [
       "            Mon  Tue  Wed  Thu  Fri  Sat  Sun  Working_Days  Weekend\n",
       "TV           92   85   23   81   54   11   57           335      403\n",
       "Smartphone   40    1   39   11   43   64   38           134      236\n",
       "Pendrive     74   93   79   79   97    7   41           422      470"
      ]
     },
     "execution_count": 76,
     "metadata": {},
     "output_type": "execute_result"
    }
   ],
   "source": [
    "dfA[\"Working_Days\"] = dfA.apply(lambda x: x[0:5].sum(), axis=1)\n",
    "dfA"
   ]
  },
  {
   "cell_type": "code",
   "execution_count": 77,
   "metadata": {},
   "outputs": [
    {
     "data": {
      "text/html": [
       "<div>\n",
       "<style scoped>\n",
       "    .dataframe tbody tr th:only-of-type {\n",
       "        vertical-align: middle;\n",
       "    }\n",
       "\n",
       "    .dataframe tbody tr th {\n",
       "        vertical-align: top;\n",
       "    }\n",
       "\n",
       "    .dataframe thead th {\n",
       "        text-align: right;\n",
       "    }\n",
       "</style>\n",
       "<table border=\"1\" class=\"dataframe\">\n",
       "  <thead>\n",
       "    <tr style=\"text-align: right;\">\n",
       "      <th></th>\n",
       "      <th>Mon</th>\n",
       "      <th>Tue</th>\n",
       "      <th>Wed</th>\n",
       "      <th>Thu</th>\n",
       "      <th>Fri</th>\n",
       "      <th>Sat</th>\n",
       "      <th>Sun</th>\n",
       "      <th>Working_Days</th>\n",
       "      <th>Weekend</th>\n",
       "    </tr>\n",
       "  </thead>\n",
       "  <tbody>\n",
       "    <tr>\n",
       "      <td>TV</td>\n",
       "      <td>92</td>\n",
       "      <td>85</td>\n",
       "      <td>23</td>\n",
       "      <td>81</td>\n",
       "      <td>54</td>\n",
       "      <td>11</td>\n",
       "      <td>57</td>\n",
       "      <td>335</td>\n",
       "      <td>403</td>\n",
       "    </tr>\n",
       "    <tr>\n",
       "      <td>Smartphone</td>\n",
       "      <td>40</td>\n",
       "      <td>1</td>\n",
       "      <td>39</td>\n",
       "      <td>11</td>\n",
       "      <td>43</td>\n",
       "      <td>64</td>\n",
       "      <td>38</td>\n",
       "      <td>134</td>\n",
       "      <td>236</td>\n",
       "    </tr>\n",
       "    <tr>\n",
       "      <td>Pendrive</td>\n",
       "      <td>74</td>\n",
       "      <td>93</td>\n",
       "      <td>79</td>\n",
       "      <td>79</td>\n",
       "      <td>97</td>\n",
       "      <td>7</td>\n",
       "      <td>41</td>\n",
       "      <td>422</td>\n",
       "      <td>470</td>\n",
       "    </tr>\n",
       "  </tbody>\n",
       "</table>\n",
       "</div>"
      ],
      "text/plain": [
       "            Mon  Tue  Wed  Thu  Fri  Sat  Sun  Working_Days  Weekend\n",
       "TV           92   85   23   81   54   11   57           335      403\n",
       "Smartphone   40    1   39   11   43   64   38           134      236\n",
       "Pendrive     74   93   79   79   97    7   41           422      470"
      ]
     },
     "execution_count": 77,
     "metadata": {},
     "output_type": "execute_result"
    }
   ],
   "source": [
    "dfA[\"Weekend\"] = dfA.apply(lambda x: x[5:8].sum(), axis=1)\n",
    "dfA"
   ]
  },
  {
   "cell_type": "code",
   "execution_count": 78,
   "metadata": {},
   "outputs": [],
   "source": [
    "# Удаление столбцов Working_Days и Weekend\n",
    "dfA.drop([\"Working_Days\",\"Weekend\"], axis=1, inplace=True)"
   ]
  },
  {
   "cell_type": "markdown",
   "metadata": {},
   "source": [
    "<p>Нормализация значений по строке через <i>apply</i></p>"
   ]
  },
  {
   "cell_type": "code",
   "execution_count": 79,
   "metadata": {},
   "outputs": [
    {
     "data": {
      "text/html": [
       "<div>\n",
       "<style scoped>\n",
       "    .dataframe tbody tr th:only-of-type {\n",
       "        vertical-align: middle;\n",
       "    }\n",
       "\n",
       "    .dataframe tbody tr th {\n",
       "        vertical-align: top;\n",
       "    }\n",
       "\n",
       "    .dataframe thead th {\n",
       "        text-align: right;\n",
       "    }\n",
       "</style>\n",
       "<table border=\"1\" class=\"dataframe\">\n",
       "  <thead>\n",
       "    <tr style=\"text-align: right;\">\n",
       "      <th></th>\n",
       "      <th>Mon</th>\n",
       "      <th>Tue</th>\n",
       "      <th>Wed</th>\n",
       "      <th>Thu</th>\n",
       "      <th>Fri</th>\n",
       "      <th>Sat</th>\n",
       "      <th>Sun</th>\n",
       "    </tr>\n",
       "  </thead>\n",
       "  <tbody>\n",
       "    <tr>\n",
       "      <td>TV</td>\n",
       "      <td>0.228288</td>\n",
       "      <td>0.210918</td>\n",
       "      <td>0.057072</td>\n",
       "      <td>0.200993</td>\n",
       "      <td>0.133995</td>\n",
       "      <td>0.027295</td>\n",
       "      <td>0.141439</td>\n",
       "    </tr>\n",
       "    <tr>\n",
       "      <td>Smartphone</td>\n",
       "      <td>0.169492</td>\n",
       "      <td>0.004237</td>\n",
       "      <td>0.165254</td>\n",
       "      <td>0.046610</td>\n",
       "      <td>0.182203</td>\n",
       "      <td>0.271186</td>\n",
       "      <td>0.161017</td>\n",
       "    </tr>\n",
       "    <tr>\n",
       "      <td>Pendrive</td>\n",
       "      <td>0.157447</td>\n",
       "      <td>0.197872</td>\n",
       "      <td>0.168085</td>\n",
       "      <td>0.168085</td>\n",
       "      <td>0.206383</td>\n",
       "      <td>0.014894</td>\n",
       "      <td>0.087234</td>\n",
       "    </tr>\n",
       "  </tbody>\n",
       "</table>\n",
       "</div>"
      ],
      "text/plain": [
       "                 Mon       Tue       Wed       Thu       Fri       Sat  \\\n",
       "TV          0.228288  0.210918  0.057072  0.200993  0.133995  0.027295   \n",
       "Smartphone  0.169492  0.004237  0.165254  0.046610  0.182203  0.271186   \n",
       "Pendrive    0.157447  0.197872  0.168085  0.168085  0.206383  0.014894   \n",
       "\n",
       "                 Sun  \n",
       "TV          0.141439  \n",
       "Smartphone  0.161017  \n",
       "Pendrive    0.087234  "
      ]
     },
     "execution_count": 79,
     "metadata": {},
     "output_type": "execute_result"
    }
   ],
   "source": [
    "dfA.apply(lambda x: x/x.sum(), axis=1)"
   ]
  },
  {
   "cell_type": "markdown",
   "metadata": {},
   "source": [
    "<p>Нормализация через дополнительную функцию</p>"
   ]
  },
  {
   "cell_type": "code",
   "execution_count": 80,
   "metadata": {},
   "outputs": [
    {
     "data": {
      "text/plain": [
       "TV            [0.228287841191067, 0.2109181141439206, 0.0570...\n",
       "Smartphone    [0.1694915254237288, 0.00423728813559322, 0.16...\n",
       "Pendrive      [0.1574468085106383, 0.19787234042553192, 0.16...\n",
       "dtype: object"
      ]
     },
     "execution_count": 80,
     "metadata": {},
     "output_type": "execute_result"
    }
   ],
   "source": [
    "def norm(row):\n",
    "    s = row.sum()\n",
    "    return [el/s for el in row] # или return row/s\n",
    "\n",
    "dfA.apply(norm, axis=1)"
   ]
  },
  {
   "cell_type": "markdown",
   "metadata": {},
   "source": [
    "<p>Применение метода <b>applymap()</b></p>"
   ]
  },
  {
   "cell_type": "code",
   "execution_count": 81,
   "metadata": {},
   "outputs": [
    {
     "data": {
      "text/html": [
       "<div>\n",
       "<style scoped>\n",
       "    .dataframe tbody tr th:only-of-type {\n",
       "        vertical-align: middle;\n",
       "    }\n",
       "\n",
       "    .dataframe tbody tr th {\n",
       "        vertical-align: top;\n",
       "    }\n",
       "\n",
       "    .dataframe thead th {\n",
       "        text-align: right;\n",
       "    }\n",
       "</style>\n",
       "<table border=\"1\" class=\"dataframe\">\n",
       "  <thead>\n",
       "    <tr style=\"text-align: right;\">\n",
       "      <th></th>\n",
       "      <th>Mon</th>\n",
       "      <th>Tue</th>\n",
       "      <th>Wed</th>\n",
       "      <th>Thu</th>\n",
       "      <th>Fri</th>\n",
       "      <th>Sat</th>\n",
       "      <th>Sun</th>\n",
       "    </tr>\n",
       "  </thead>\n",
       "  <tbody>\n",
       "    <tr>\n",
       "      <td>TV</td>\n",
       "      <td>92</td>\n",
       "      <td>85</td>\n",
       "      <td>23</td>\n",
       "      <td>81</td>\n",
       "      <td>54</td>\n",
       "      <td>11</td>\n",
       "      <td>57</td>\n",
       "    </tr>\n",
       "    <tr>\n",
       "      <td>Smartphone</td>\n",
       "      <td>40</td>\n",
       "      <td>1</td>\n",
       "      <td>39</td>\n",
       "      <td>11</td>\n",
       "      <td>43</td>\n",
       "      <td>64</td>\n",
       "      <td>38</td>\n",
       "    </tr>\n",
       "    <tr>\n",
       "      <td>Pendrive</td>\n",
       "      <td>74</td>\n",
       "      <td>93</td>\n",
       "      <td>79</td>\n",
       "      <td>79</td>\n",
       "      <td>97</td>\n",
       "      <td>7</td>\n",
       "      <td>41</td>\n",
       "    </tr>\n",
       "  </tbody>\n",
       "</table>\n",
       "</div>"
      ],
      "text/plain": [
       "            Mon  Tue  Wed  Thu  Fri  Sat  Sun\n",
       "TV           92   85   23   81   54   11   57\n",
       "Smartphone   40    1   39   11   43   64   38\n",
       "Pendrive     74   93   79   79   97    7   41"
      ]
     },
     "execution_count": 81,
     "metadata": {},
     "output_type": "execute_result"
    }
   ],
   "source": [
    "dfA"
   ]
  },
  {
   "cell_type": "code",
   "execution_count": 82,
   "metadata": {},
   "outputs": [
    {
     "data": {
      "text/html": [
       "<div>\n",
       "<style scoped>\n",
       "    .dataframe tbody tr th:only-of-type {\n",
       "        vertical-align: middle;\n",
       "    }\n",
       "\n",
       "    .dataframe tbody tr th {\n",
       "        vertical-align: top;\n",
       "    }\n",
       "\n",
       "    .dataframe thead th {\n",
       "        text-align: right;\n",
       "    }\n",
       "</style>\n",
       "<table border=\"1\" class=\"dataframe\">\n",
       "  <thead>\n",
       "    <tr style=\"text-align: right;\">\n",
       "      <th></th>\n",
       "      <th>Mon</th>\n",
       "      <th>Tue</th>\n",
       "      <th>Wed</th>\n",
       "      <th>Thu</th>\n",
       "      <th>Fri</th>\n",
       "      <th>Sat</th>\n",
       "      <th>Sun</th>\n",
       "    </tr>\n",
       "  </thead>\n",
       "  <tbody>\n",
       "    <tr>\n",
       "      <td>TV</td>\n",
       "      <td>0.92</td>\n",
       "      <td>0.85</td>\n",
       "      <td>0.23</td>\n",
       "      <td>0.81</td>\n",
       "      <td>0.54</td>\n",
       "      <td>0.11</td>\n",
       "      <td>0.57</td>\n",
       "    </tr>\n",
       "    <tr>\n",
       "      <td>Smartphone</td>\n",
       "      <td>0.40</td>\n",
       "      <td>0.01</td>\n",
       "      <td>0.39</td>\n",
       "      <td>0.11</td>\n",
       "      <td>0.43</td>\n",
       "      <td>0.64</td>\n",
       "      <td>0.38</td>\n",
       "    </tr>\n",
       "    <tr>\n",
       "      <td>Pendrive</td>\n",
       "      <td>0.74</td>\n",
       "      <td>0.93</td>\n",
       "      <td>0.79</td>\n",
       "      <td>0.79</td>\n",
       "      <td>0.97</td>\n",
       "      <td>0.07</td>\n",
       "      <td>0.41</td>\n",
       "    </tr>\n",
       "  </tbody>\n",
       "</table>\n",
       "</div>"
      ],
      "text/plain": [
       "             Mon   Tue   Wed   Thu   Fri   Sat   Sun\n",
       "TV          0.92  0.85  0.23  0.81  0.54  0.11  0.57\n",
       "Smartphone  0.40  0.01  0.39  0.11  0.43  0.64  0.38\n",
       "Pendrive    0.74  0.93  0.79  0.79  0.97  0.07  0.41"
      ]
     },
     "execution_count": 82,
     "metadata": {},
     "output_type": "execute_result"
    }
   ],
   "source": [
    "df4 = dfA.applymap(lambda cell: cell/100)\n",
    "df4"
   ]
  },
  {
   "cell_type": "markdown",
   "metadata": {},
   "source": [
    "<p>Изменение значений с использованием цикла</p>"
   ]
  },
  {
   "cell_type": "code",
   "execution_count": 83,
   "metadata": {},
   "outputs": [
    {
     "data": {
      "text/html": [
       "<div>\n",
       "<style scoped>\n",
       "    .dataframe tbody tr th:only-of-type {\n",
       "        vertical-align: middle;\n",
       "    }\n",
       "\n",
       "    .dataframe tbody tr th {\n",
       "        vertical-align: top;\n",
       "    }\n",
       "\n",
       "    .dataframe thead th {\n",
       "        text-align: right;\n",
       "    }\n",
       "</style>\n",
       "<table border=\"1\" class=\"dataframe\">\n",
       "  <thead>\n",
       "    <tr style=\"text-align: right;\">\n",
       "      <th></th>\n",
       "      <th>Mon</th>\n",
       "      <th>Tue</th>\n",
       "      <th>Wed</th>\n",
       "      <th>Thu</th>\n",
       "      <th>Fri</th>\n",
       "      <th>Sat</th>\n",
       "      <th>Sun</th>\n",
       "    </tr>\n",
       "  </thead>\n",
       "  <tbody>\n",
       "    <tr>\n",
       "      <td>TV</td>\n",
       "      <td>0.92</td>\n",
       "      <td>0.85</td>\n",
       "      <td>0.23</td>\n",
       "      <td>0.81</td>\n",
       "      <td>0.54</td>\n",
       "      <td>0.11</td>\n",
       "      <td>0.57</td>\n",
       "    </tr>\n",
       "    <tr>\n",
       "      <td>Smartphone</td>\n",
       "      <td>0.40</td>\n",
       "      <td>0.01</td>\n",
       "      <td>0.39</td>\n",
       "      <td>0.11</td>\n",
       "      <td>0.43</td>\n",
       "      <td>0.64</td>\n",
       "      <td>0.38</td>\n",
       "    </tr>\n",
       "    <tr>\n",
       "      <td>Pendrive</td>\n",
       "      <td>0.74</td>\n",
       "      <td>0.93</td>\n",
       "      <td>0.79</td>\n",
       "      <td>0.79</td>\n",
       "      <td>0.97</td>\n",
       "      <td>0.07</td>\n",
       "      <td>0.41</td>\n",
       "    </tr>\n",
       "  </tbody>\n",
       "</table>\n",
       "</div>"
      ],
      "text/plain": [
       "             Mon   Tue   Wed   Thu   Fri   Sat   Sun\n",
       "TV          0.92  0.85  0.23  0.81  0.54  0.11  0.57\n",
       "Smartphone  0.40  0.01  0.39  0.11  0.43  0.64  0.38\n",
       "Pendrive    0.74  0.93  0.79  0.79  0.97  0.07  0.41"
      ]
     },
     "execution_count": 83,
     "metadata": {},
     "output_type": "execute_result"
    }
   ],
   "source": [
    "df2 = pnd.DataFrame()\n",
    "for clmn in dfA.columns:\n",
    "    df2[clmn] = dfA.loc[:,clmn]/100\n",
    "\n",
    "df2"
   ]
  },
  {
   "cell_type": "markdown",
   "metadata": {},
   "source": [
    "<a name=\"4\"></a>\n",
    "<div style=\"display:table; width:100%; padding-top:10px; padding-bottom:10px; border-bottom:1px solid lightgrey\">\n",
    "    <div style=\"display:table-row\">\n",
    "        <div style=\"display:table-cell; width:80%; font-size:14pt; font-weight:bold\">4. Математическая поддержка</div>\n",
    "    \t<div style=\"display:table-cell; width:20%; text-align:center; background-color:whitesmoke; border:1px solid lightgrey\"><a href=\"#0\">К содержанию</a></div>\n",
    "    </div>\n",
    "</div>"
   ]
  },
  {
   "cell_type": "markdown",
   "metadata": {},
   "source": [
    "<div>\n",
    "<p><b>Рассматриваемые вопросы:</b></p>\n",
    "<p style=\"line-height:20pt\">\n",
    "a) операции со столбцами: <i>с использованием матрицы, списков, словаря, последовательностей</i><br> \n",
    "b) специалные методы: <i>count</i>, <i>min</i>, <i>max</i>, <i>sum</i>, <i>mean</i>, <i>var</i>, <i>std</i>, <i>describe</i>, <i>corr</i>, <i>cov</i><br> \n",
    "</div>"
   ]
  },
  {
   "cell_type": "markdown",
   "metadata": {},
   "source": [
    "<a name=\"4a\"></a>\n",
    "<div style=\"padding-top:10px;\">\n",
    "    <div style=\"display: inline-block; font-style:italic; font-weight:bold; font-size:12pt\">a. Операции со столбцами</div>\n",
    "    <div style=\"display: inline-block; float:right; width:20%; text-align:center; border:1px solid lightgrey\">\n",
    "        <div style=\"display: inline-block; text-align:center; width:50%; background-color:whitesmoke;\"><a href=\"#4\">Назад</a></div><div style=\"display: inline-block; text-align:center; width:50%;\"><a href=\"#4b\">Далее</a></div>\n",
    "    </div>\n",
    "</div>"
   ]
  },
  {
   "cell_type": "code",
   "execution_count": 84,
   "metadata": {},
   "outputs": [
    {
     "data": {
      "text/html": [
       "<div>\n",
       "<style scoped>\n",
       "    .dataframe tbody tr th:only-of-type {\n",
       "        vertical-align: middle;\n",
       "    }\n",
       "\n",
       "    .dataframe tbody tr th {\n",
       "        vertical-align: top;\n",
       "    }\n",
       "\n",
       "    .dataframe thead th {\n",
       "        text-align: right;\n",
       "    }\n",
       "</style>\n",
       "<table border=\"1\" class=\"dataframe\">\n",
       "  <thead>\n",
       "    <tr style=\"text-align: right;\">\n",
       "      <th></th>\n",
       "      <th>Mon</th>\n",
       "      <th>Tue</th>\n",
       "      <th>Wed</th>\n",
       "      <th>Thu</th>\n",
       "      <th>Fri</th>\n",
       "      <th>Sat</th>\n",
       "      <th>Sun</th>\n",
       "    </tr>\n",
       "  </thead>\n",
       "  <tbody>\n",
       "    <tr>\n",
       "      <td>TV</td>\n",
       "      <td>92</td>\n",
       "      <td>85</td>\n",
       "      <td>23</td>\n",
       "      <td>81</td>\n",
       "      <td>54</td>\n",
       "      <td>11</td>\n",
       "      <td>57</td>\n",
       "    </tr>\n",
       "    <tr>\n",
       "      <td>Smartphone</td>\n",
       "      <td>40</td>\n",
       "      <td>1</td>\n",
       "      <td>39</td>\n",
       "      <td>11</td>\n",
       "      <td>43</td>\n",
       "      <td>64</td>\n",
       "      <td>38</td>\n",
       "    </tr>\n",
       "    <tr>\n",
       "      <td>Pendrive</td>\n",
       "      <td>74</td>\n",
       "      <td>93</td>\n",
       "      <td>79</td>\n",
       "      <td>79</td>\n",
       "      <td>97</td>\n",
       "      <td>7</td>\n",
       "      <td>41</td>\n",
       "    </tr>\n",
       "  </tbody>\n",
       "</table>\n",
       "</div>"
      ],
      "text/plain": [
       "            Mon  Tue  Wed  Thu  Fri  Sat  Sun\n",
       "TV           92   85   23   81   54   11   57\n",
       "Smartphone   40    1   39   11   43   64   38\n",
       "Pendrive     74   93   79   79   97    7   41"
      ]
     },
     "execution_count": 84,
     "metadata": {},
     "output_type": "execute_result"
    }
   ],
   "source": [
    "dfA"
   ]
  },
  {
   "cell_type": "code",
   "execution_count": 85,
   "metadata": {},
   "outputs": [
    {
     "data": {
      "text/plain": [
       "TV            0.92\n",
       "Smartphone    0.40\n",
       "Pendrive      0.74\n",
       "Name: Mon, dtype: float64"
      ]
     },
     "execution_count": 85,
     "metadata": {},
     "output_type": "execute_result"
    }
   ],
   "source": [
    "nom_values = dfA.Mon / 100\n",
    "nom_values"
   ]
  },
  {
   "cell_type": "code",
   "execution_count": 86,
   "metadata": {},
   "outputs": [
    {
     "data": {
      "text/html": [
       "<div>\n",
       "<style scoped>\n",
       "    .dataframe tbody tr th:only-of-type {\n",
       "        vertical-align: middle;\n",
       "    }\n",
       "\n",
       "    .dataframe tbody tr th {\n",
       "        vertical-align: top;\n",
       "    }\n",
       "\n",
       "    .dataframe thead th {\n",
       "        text-align: right;\n",
       "    }\n",
       "</style>\n",
       "<table border=\"1\" class=\"dataframe\">\n",
       "  <thead>\n",
       "    <tr style=\"text-align: right;\">\n",
       "      <th></th>\n",
       "      <th>Mon</th>\n",
       "      <th>Tue</th>\n",
       "      <th>Wed</th>\n",
       "      <th>Thu</th>\n",
       "      <th>Fri</th>\n",
       "      <th>Sat</th>\n",
       "      <th>Sun</th>\n",
       "    </tr>\n",
       "  </thead>\n",
       "  <tbody>\n",
       "    <tr>\n",
       "      <td>TV</td>\n",
       "      <td>102</td>\n",
       "      <td>85</td>\n",
       "      <td>23</td>\n",
       "      <td>81</td>\n",
       "      <td>54</td>\n",
       "      <td>11</td>\n",
       "      <td>57</td>\n",
       "    </tr>\n",
       "    <tr>\n",
       "      <td>Smartphone</td>\n",
       "      <td>50</td>\n",
       "      <td>1</td>\n",
       "      <td>39</td>\n",
       "      <td>11</td>\n",
       "      <td>43</td>\n",
       "      <td>64</td>\n",
       "      <td>38</td>\n",
       "    </tr>\n",
       "    <tr>\n",
       "      <td>Pendrive</td>\n",
       "      <td>84</td>\n",
       "      <td>93</td>\n",
       "      <td>79</td>\n",
       "      <td>79</td>\n",
       "      <td>97</td>\n",
       "      <td>7</td>\n",
       "      <td>41</td>\n",
       "    </tr>\n",
       "  </tbody>\n",
       "</table>\n",
       "</div>"
      ],
      "text/plain": [
       "            Mon  Tue  Wed  Thu  Fri  Sat  Sun\n",
       "TV          102   85   23   81   54   11   57\n",
       "Smartphone   50    1   39   11   43   64   38\n",
       "Pendrive     84   93   79   79   97    7   41"
      ]
     },
     "execution_count": 86,
     "metadata": {},
     "output_type": "execute_result"
    }
   ],
   "source": [
    "dfA.Mon = dfA.Mon + 10\n",
    "dfA"
   ]
  },
  {
   "cell_type": "code",
   "execution_count": 87,
   "metadata": {},
   "outputs": [
    {
     "data": {
      "text/plain": [
       "TV            187\n",
       "Smartphone     51\n",
       "Pendrive      177\n",
       "dtype: int64"
      ]
     },
     "execution_count": 87,
     "metadata": {},
     "output_type": "execute_result"
    }
   ],
   "source": [
    "sum_Mon_Tue = dfA[\"Mon\"] + dfA[\"Tue\"]\n",
    "sum_Mon_Tue"
   ]
  },
  {
   "cell_type": "code",
   "execution_count": 88,
   "metadata": {},
   "outputs": [
    {
     "data": {
      "text/plain": [
       "TV            8670\n",
       "Smartphone      50\n",
       "Pendrive      7812\n",
       "dtype: int64"
      ]
     },
     "execution_count": 88,
     "metadata": {},
     "output_type": "execute_result"
    }
   ],
   "source": [
    "mult_Mon_Tue = dfA[\"Mon\"] * dfA[\"Tue\"]\n",
    "mult_Mon_Tue"
   ]
  },
  {
   "cell_type": "markdown",
   "metadata": {},
   "source": [
    "<p>Пример вычисления суммы по всем столбцам с циклом <i>for</i></p>"
   ]
  },
  {
   "cell_type": "code",
   "execution_count": 89,
   "metadata": {},
   "outputs": [
    {
     "data": {
      "text/plain": [
       "Index(['Mon', 'Tue', 'Wed', 'Thu', 'Fri', 'Sat', 'Sun'], dtype='object')"
      ]
     },
     "execution_count": 89,
     "metadata": {},
     "output_type": "execute_result"
    }
   ],
   "source": [
    "dfA.columns"
   ]
  },
  {
   "cell_type": "code",
   "execution_count": 90,
   "metadata": {},
   "outputs": [
    {
     "data": {
      "text/html": [
       "<div>\n",
       "<style scoped>\n",
       "    .dataframe tbody tr th:only-of-type {\n",
       "        vertical-align: middle;\n",
       "    }\n",
       "\n",
       "    .dataframe tbody tr th {\n",
       "        vertical-align: top;\n",
       "    }\n",
       "\n",
       "    .dataframe thead th {\n",
       "        text-align: right;\n",
       "    }\n",
       "</style>\n",
       "<table border=\"1\" class=\"dataframe\">\n",
       "  <thead>\n",
       "    <tr style=\"text-align: right;\">\n",
       "      <th></th>\n",
       "      <th>Mon</th>\n",
       "      <th>Tue</th>\n",
       "      <th>Wed</th>\n",
       "      <th>Thu</th>\n",
       "      <th>Fri</th>\n",
       "      <th>Sat</th>\n",
       "      <th>Sun</th>\n",
       "      <th>Total</th>\n",
       "    </tr>\n",
       "  </thead>\n",
       "  <tbody>\n",
       "    <tr>\n",
       "      <td>TV</td>\n",
       "      <td>102</td>\n",
       "      <td>85</td>\n",
       "      <td>23</td>\n",
       "      <td>81</td>\n",
       "      <td>54</td>\n",
       "      <td>11</td>\n",
       "      <td>57</td>\n",
       "      <td>413</td>\n",
       "    </tr>\n",
       "    <tr>\n",
       "      <td>Smartphone</td>\n",
       "      <td>50</td>\n",
       "      <td>1</td>\n",
       "      <td>39</td>\n",
       "      <td>11</td>\n",
       "      <td>43</td>\n",
       "      <td>64</td>\n",
       "      <td>38</td>\n",
       "      <td>246</td>\n",
       "    </tr>\n",
       "    <tr>\n",
       "      <td>Pendrive</td>\n",
       "      <td>84</td>\n",
       "      <td>93</td>\n",
       "      <td>79</td>\n",
       "      <td>79</td>\n",
       "      <td>97</td>\n",
       "      <td>7</td>\n",
       "      <td>41</td>\n",
       "      <td>480</td>\n",
       "    </tr>\n",
       "  </tbody>\n",
       "</table>\n",
       "</div>"
      ],
      "text/plain": [
       "            Mon  Tue  Wed  Thu  Fri  Sat  Sun  Total\n",
       "TV          102   85   23   81   54   11   57    413\n",
       "Smartphone   50    1   39   11   43   64   38    246\n",
       "Pendrive     84   93   79   79   97    7   41    480"
      ]
     },
     "execution_count": 90,
     "metadata": {},
     "output_type": "execute_result"
    }
   ],
   "source": [
    "dfA[\"Total\"] = dfA[dfA.columns[0]]\n",
    "for i in range(1, len(dfA.columns)-1):\n",
    "    dfA[\"Total\"] += dfA[dfA.columns[i]]\n",
    "\n",
    "dfA"
   ]
  },
  {
   "cell_type": "code",
   "execution_count": 91,
   "metadata": {},
   "outputs": [
    {
     "data": {
      "text/html": [
       "<div>\n",
       "<style scoped>\n",
       "    .dataframe tbody tr th:only-of-type {\n",
       "        vertical-align: middle;\n",
       "    }\n",
       "\n",
       "    .dataframe tbody tr th {\n",
       "        vertical-align: top;\n",
       "    }\n",
       "\n",
       "    .dataframe thead th {\n",
       "        text-align: right;\n",
       "    }\n",
       "</style>\n",
       "<table border=\"1\" class=\"dataframe\">\n",
       "  <thead>\n",
       "    <tr style=\"text-align: right;\">\n",
       "      <th></th>\n",
       "      <th>Mon</th>\n",
       "      <th>Tue</th>\n",
       "      <th>Wed</th>\n",
       "      <th>Thu</th>\n",
       "      <th>Fri</th>\n",
       "      <th>Sat</th>\n",
       "      <th>Sun</th>\n",
       "    </tr>\n",
       "  </thead>\n",
       "  <tbody>\n",
       "    <tr>\n",
       "      <td>TV</td>\n",
       "      <td>102</td>\n",
       "      <td>85</td>\n",
       "      <td>23</td>\n",
       "      <td>81</td>\n",
       "      <td>54</td>\n",
       "      <td>11</td>\n",
       "      <td>57</td>\n",
       "    </tr>\n",
       "    <tr>\n",
       "      <td>Smartphone</td>\n",
       "      <td>50</td>\n",
       "      <td>1</td>\n",
       "      <td>39</td>\n",
       "      <td>11</td>\n",
       "      <td>43</td>\n",
       "      <td>64</td>\n",
       "      <td>38</td>\n",
       "    </tr>\n",
       "    <tr>\n",
       "      <td>Pendrive</td>\n",
       "      <td>84</td>\n",
       "      <td>93</td>\n",
       "      <td>79</td>\n",
       "      <td>79</td>\n",
       "      <td>97</td>\n",
       "      <td>7</td>\n",
       "      <td>41</td>\n",
       "    </tr>\n",
       "  </tbody>\n",
       "</table>\n",
       "</div>"
      ],
      "text/plain": [
       "            Mon  Tue  Wed  Thu  Fri  Sat  Sun\n",
       "TV          102   85   23   81   54   11   57\n",
       "Smartphone   50    1   39   11   43   64   38\n",
       "Pendrive     84   93   79   79   97    7   41"
      ]
     },
     "execution_count": 91,
     "metadata": {},
     "output_type": "execute_result"
    }
   ],
   "source": [
    "# Удаление столбца Total\n",
    "dfA.drop([\"Total\"], axis=1, inplace=True)\n",
    "dfA"
   ]
  },
  {
   "cell_type": "markdown",
   "metadata": {},
   "source": [
    "<p>Пример вычисления суммы по всем столбцам с использованием <i>apply</i></p>"
   ]
  },
  {
   "cell_type": "code",
   "execution_count": 92,
   "metadata": {},
   "outputs": [
    {
     "data": {
      "text/html": [
       "<div>\n",
       "<style scoped>\n",
       "    .dataframe tbody tr th:only-of-type {\n",
       "        vertical-align: middle;\n",
       "    }\n",
       "\n",
       "    .dataframe tbody tr th {\n",
       "        vertical-align: top;\n",
       "    }\n",
       "\n",
       "    .dataframe thead th {\n",
       "        text-align: right;\n",
       "    }\n",
       "</style>\n",
       "<table border=\"1\" class=\"dataframe\">\n",
       "  <thead>\n",
       "    <tr style=\"text-align: right;\">\n",
       "      <th></th>\n",
       "      <th>Mon</th>\n",
       "      <th>Tue</th>\n",
       "      <th>Wed</th>\n",
       "      <th>Thu</th>\n",
       "      <th>Fri</th>\n",
       "      <th>Sat</th>\n",
       "      <th>Sun</th>\n",
       "      <th>Total</th>\n",
       "    </tr>\n",
       "  </thead>\n",
       "  <tbody>\n",
       "    <tr>\n",
       "      <td>TV</td>\n",
       "      <td>102</td>\n",
       "      <td>85</td>\n",
       "      <td>23</td>\n",
       "      <td>81</td>\n",
       "      <td>54</td>\n",
       "      <td>11</td>\n",
       "      <td>57</td>\n",
       "      <td>413</td>\n",
       "    </tr>\n",
       "    <tr>\n",
       "      <td>Smartphone</td>\n",
       "      <td>50</td>\n",
       "      <td>1</td>\n",
       "      <td>39</td>\n",
       "      <td>11</td>\n",
       "      <td>43</td>\n",
       "      <td>64</td>\n",
       "      <td>38</td>\n",
       "      <td>246</td>\n",
       "    </tr>\n",
       "    <tr>\n",
       "      <td>Pendrive</td>\n",
       "      <td>84</td>\n",
       "      <td>93</td>\n",
       "      <td>79</td>\n",
       "      <td>79</td>\n",
       "      <td>97</td>\n",
       "      <td>7</td>\n",
       "      <td>41</td>\n",
       "      <td>480</td>\n",
       "    </tr>\n",
       "  </tbody>\n",
       "</table>\n",
       "</div>"
      ],
      "text/plain": [
       "            Mon  Tue  Wed  Thu  Fri  Sat  Sun  Total\n",
       "TV          102   85   23   81   54   11   57    413\n",
       "Smartphone   50    1   39   11   43   64   38    246\n",
       "Pendrive     84   93   79   79   97    7   41    480"
      ]
     },
     "execution_count": 92,
     "metadata": {},
     "output_type": "execute_result"
    }
   ],
   "source": [
    "dfA[\"Total\"] = dfA.apply(lambda row: row.sum(), axis=1)\n",
    "dfA"
   ]
  },
  {
   "cell_type": "code",
   "execution_count": 93,
   "metadata": {},
   "outputs": [],
   "source": [
    "dfA.drop([\"Total\"], axis=1, inplace=True)"
   ]
  },
  {
   "cell_type": "markdown",
   "metadata": {},
   "source": [
    "<p>Пример вычисления суммы по всем столбцам с использованием <i>sum</i></p>"
   ]
  },
  {
   "cell_type": "code",
   "execution_count": 94,
   "metadata": {},
   "outputs": [
    {
     "data": {
      "text/html": [
       "<div>\n",
       "<style scoped>\n",
       "    .dataframe tbody tr th:only-of-type {\n",
       "        vertical-align: middle;\n",
       "    }\n",
       "\n",
       "    .dataframe tbody tr th {\n",
       "        vertical-align: top;\n",
       "    }\n",
       "\n",
       "    .dataframe thead th {\n",
       "        text-align: right;\n",
       "    }\n",
       "</style>\n",
       "<table border=\"1\" class=\"dataframe\">\n",
       "  <thead>\n",
       "    <tr style=\"text-align: right;\">\n",
       "      <th></th>\n",
       "      <th>Mon</th>\n",
       "      <th>Tue</th>\n",
       "      <th>Wed</th>\n",
       "      <th>Thu</th>\n",
       "      <th>Fri</th>\n",
       "      <th>Sat</th>\n",
       "      <th>Sun</th>\n",
       "      <th>Total</th>\n",
       "    </tr>\n",
       "  </thead>\n",
       "  <tbody>\n",
       "    <tr>\n",
       "      <td>TV</td>\n",
       "      <td>102</td>\n",
       "      <td>85</td>\n",
       "      <td>23</td>\n",
       "      <td>81</td>\n",
       "      <td>54</td>\n",
       "      <td>11</td>\n",
       "      <td>57</td>\n",
       "      <td>413</td>\n",
       "    </tr>\n",
       "    <tr>\n",
       "      <td>Smartphone</td>\n",
       "      <td>50</td>\n",
       "      <td>1</td>\n",
       "      <td>39</td>\n",
       "      <td>11</td>\n",
       "      <td>43</td>\n",
       "      <td>64</td>\n",
       "      <td>38</td>\n",
       "      <td>246</td>\n",
       "    </tr>\n",
       "    <tr>\n",
       "      <td>Pendrive</td>\n",
       "      <td>84</td>\n",
       "      <td>93</td>\n",
       "      <td>79</td>\n",
       "      <td>79</td>\n",
       "      <td>97</td>\n",
       "      <td>7</td>\n",
       "      <td>41</td>\n",
       "      <td>480</td>\n",
       "    </tr>\n",
       "  </tbody>\n",
       "</table>\n",
       "</div>"
      ],
      "text/plain": [
       "            Mon  Tue  Wed  Thu  Fri  Sat  Sun  Total\n",
       "TV          102   85   23   81   54   11   57    413\n",
       "Smartphone   50    1   39   11   43   64   38    246\n",
       "Pendrive     84   93   79   79   97    7   41    480"
      ]
     },
     "execution_count": 94,
     "metadata": {},
     "output_type": "execute_result"
    }
   ],
   "source": [
    "dfA[\"Total\"] = dfA.sum(axis=1)\n",
    "dfA"
   ]
  },
  {
   "cell_type": "code",
   "execution_count": 95,
   "metadata": {},
   "outputs": [],
   "source": [
    "dfA.drop([\"Total\"], axis=1, inplace=True)"
   ]
  },
  {
   "cell_type": "markdown",
   "metadata": {},
   "source": [
    "<a name=\"4b\"></a>\n",
    "<div style=\"padding-top:10px;\">\n",
    "    <div style=\"display: inline-block; font-style:italic; font-weight:bold; font-size:12pt\">b. Специальные методы</div>\n",
    "    <div style=\"display: inline-block; float:right; width:20%; text-align:center; border:1px solid lightgrey\">\n",
    "        <div style=\"display: inline-block; text-align:center; width:50%; background-color:whitesmoke;\"><a href=\"#4a\">Назад</a></div><div style=\"display: inline-block; text-align:center; width:50%;\"><a href=\"#5\">Далее</a></div>\n",
    "    </div>\n",
    "</div>"
   ]
  },
  {
   "cell_type": "code",
   "execution_count": 96,
   "metadata": {},
   "outputs": [
    {
     "data": {
      "text/plain": [
       "Mon    3\n",
       "Tue    3\n",
       "Wed    3\n",
       "Thu    3\n",
       "Fri    3\n",
       "Sat    3\n",
       "Sun    3\n",
       "dtype: int64"
      ]
     },
     "execution_count": 96,
     "metadata": {},
     "output_type": "execute_result"
    }
   ],
   "source": [
    "dfA.count(axis=0)"
   ]
  },
  {
   "cell_type": "code",
   "execution_count": 97,
   "metadata": {},
   "outputs": [
    {
     "data": {
      "text/plain": [
       "TV            7\n",
       "Smartphone    7\n",
       "Pendrive      7\n",
       "dtype: int64"
      ]
     },
     "execution_count": 97,
     "metadata": {},
     "output_type": "execute_result"
    }
   ],
   "source": [
    "dfA.count(axis=1)"
   ]
  },
  {
   "cell_type": "code",
   "execution_count": 98,
   "metadata": {},
   "outputs": [
    {
     "data": {
      "text/plain": [
       "Mon    50\n",
       "Tue     1\n",
       "Wed    23\n",
       "Thu    11\n",
       "Fri    43\n",
       "Sat     7\n",
       "Sun    38\n",
       "dtype: int64"
      ]
     },
     "execution_count": 98,
     "metadata": {},
     "output_type": "execute_result"
    }
   ],
   "source": [
    "dfA.min(axis=0)"
   ]
  },
  {
   "cell_type": "code",
   "execution_count": 99,
   "metadata": {},
   "outputs": [
    {
     "data": {
      "text/plain": [
       "TV            11\n",
       "Smartphone     1\n",
       "Pendrive       7\n",
       "dtype: int64"
      ]
     },
     "execution_count": 99,
     "metadata": {},
     "output_type": "execute_result"
    }
   ],
   "source": [
    "dfA.min(axis=1)"
   ]
  },
  {
   "cell_type": "code",
   "execution_count": 100,
   "metadata": {},
   "outputs": [
    {
     "data": {
      "text/plain": [
       "50"
      ]
     },
     "execution_count": 100,
     "metadata": {},
     "output_type": "execute_result"
    }
   ],
   "source": [
    "dfA[\"Mon\"].min()"
   ]
  },
  {
   "cell_type": "code",
   "execution_count": 101,
   "metadata": {},
   "outputs": [
    {
     "data": {
      "text/plain": [
       "'Smartphone'"
      ]
     },
     "execution_count": 101,
     "metadata": {},
     "output_type": "execute_result"
    }
   ],
   "source": [
    "dfA[\"Mon\"].idxmin()"
   ]
  },
  {
   "cell_type": "code",
   "execution_count": 102,
   "metadata": {},
   "outputs": [
    {
     "data": {
      "text/plain": [
       "Mon    102\n",
       "Tue     93\n",
       "Wed     79\n",
       "Thu     81\n",
       "Fri     97\n",
       "Sat     64\n",
       "Sun     57\n",
       "dtype: int64"
      ]
     },
     "execution_count": 102,
     "metadata": {},
     "output_type": "execute_result"
    }
   ],
   "source": [
    "dfA.max(axis=0)"
   ]
  },
  {
   "cell_type": "code",
   "execution_count": 103,
   "metadata": {},
   "outputs": [
    {
     "data": {
      "text/plain": [
       "TV            102\n",
       "Smartphone     64\n",
       "Pendrive       97\n",
       "dtype: int64"
      ]
     },
     "execution_count": 103,
     "metadata": {},
     "output_type": "execute_result"
    }
   ],
   "source": [
    "dfA.max(axis=1)"
   ]
  },
  {
   "cell_type": "code",
   "execution_count": 104,
   "metadata": {},
   "outputs": [
    {
     "data": {
      "text/plain": [
       "'TV'"
      ]
     },
     "execution_count": 104,
     "metadata": {},
     "output_type": "execute_result"
    }
   ],
   "source": [
    "dfA[\"Mon\"].idxmax()"
   ]
  },
  {
   "cell_type": "code",
   "execution_count": 105,
   "metadata": {},
   "outputs": [
    {
     "data": {
      "text/plain": [
       "Mon    236\n",
       "Tue    179\n",
       "Wed    141\n",
       "Thu    171\n",
       "Fri    194\n",
       "Sat     82\n",
       "Sun    136\n",
       "dtype: int64"
      ]
     },
     "execution_count": 105,
     "metadata": {},
     "output_type": "execute_result"
    }
   ],
   "source": [
    "dfA.sum(axis=0)"
   ]
  },
  {
   "cell_type": "code",
   "execution_count": 106,
   "metadata": {},
   "outputs": [
    {
     "data": {
      "text/plain": [
       "TV            413\n",
       "Smartphone    246\n",
       "Pendrive      480\n",
       "dtype: int64"
      ]
     },
     "execution_count": 106,
     "metadata": {},
     "output_type": "execute_result"
    }
   ],
   "source": [
    "dfA.sum(axis=1)"
   ]
  },
  {
   "cell_type": "code",
   "execution_count": 107,
   "metadata": {},
   "outputs": [
    {
     "data": {
      "text/plain": [
       "236"
      ]
     },
     "execution_count": 107,
     "metadata": {},
     "output_type": "execute_result"
    }
   ],
   "source": [
    "dfA[\"Mon\"].sum()"
   ]
  },
  {
   "cell_type": "code",
   "execution_count": 108,
   "metadata": {},
   "outputs": [
    {
     "data": {
      "text/plain": [
       "Mon    78.666667\n",
       "Tue    59.666667\n",
       "Wed    47.000000\n",
       "Thu    57.000000\n",
       "Fri    64.666667\n",
       "Sat    27.333333\n",
       "Sun    45.333333\n",
       "dtype: float64"
      ]
     },
     "execution_count": 108,
     "metadata": {},
     "output_type": "execute_result"
    }
   ],
   "source": [
    "dfA.mean(axis=0)"
   ]
  },
  {
   "cell_type": "code",
   "execution_count": 109,
   "metadata": {},
   "outputs": [
    {
     "data": {
      "text/plain": [
       "TV            59.000000\n",
       "Smartphone    35.142857\n",
       "Pendrive      68.571429\n",
       "dtype: float64"
      ]
     },
     "execution_count": 109,
     "metadata": {},
     "output_type": "execute_result"
    }
   ],
   "source": [
    "dfA.mean(axis=1)"
   ]
  },
  {
   "cell_type": "code",
   "execution_count": 110,
   "metadata": {},
   "outputs": [
    {
     "data": {
      "text/plain": [
       "78.66666666666667"
      ]
     },
     "execution_count": 110,
     "metadata": {},
     "output_type": "execute_result"
    }
   ],
   "source": [
    "dfA[\"Mon\"].mean()"
   ]
  },
  {
   "cell_type": "code",
   "execution_count": 111,
   "metadata": {},
   "outputs": [
    {
     "data": {
      "text/plain": [
       "Mon     697.333333\n",
       "Tue    2597.333333\n",
       "Wed     832.000000\n",
       "Thu    1588.000000\n",
       "Fri     814.333333\n",
       "Sat    1012.333333\n",
       "Sun     104.333333\n",
       "dtype: float64"
      ]
     },
     "execution_count": 111,
     "metadata": {},
     "output_type": "execute_result"
    }
   ],
   "source": [
    "dfA.var(axis=0)"
   ]
  },
  {
   "cell_type": "code",
   "execution_count": 112,
   "metadata": {},
   "outputs": [
    {
     "data": {
      "text/plain": [
       "TV            1106.333333\n",
       "Smartphone     481.142857\n",
       "Pendrive      1068.619048\n",
       "dtype: float64"
      ]
     },
     "execution_count": 112,
     "metadata": {},
     "output_type": "execute_result"
    }
   ],
   "source": [
    "dfA.var(axis=1)"
   ]
  },
  {
   "cell_type": "code",
   "execution_count": 113,
   "metadata": {},
   "outputs": [
    {
     "data": {
      "text/plain": [
       "TV            33.261589\n",
       "Smartphone    21.934969\n",
       "Pendrive      32.689739\n",
       "dtype: float64"
      ]
     },
     "execution_count": 113,
     "metadata": {},
     "output_type": "execute_result"
    }
   ],
   "source": [
    "dfA.std(axis=1)"
   ]
  },
  {
   "cell_type": "code",
   "execution_count": 114,
   "metadata": {},
   "outputs": [
    {
     "data": {
      "text/plain": [
       "26.407069760451144"
      ]
     },
     "execution_count": 114,
     "metadata": {},
     "output_type": "execute_result"
    }
   ],
   "source": [
    "dfA[\"Mon\"].std()"
   ]
  },
  {
   "cell_type": "code",
   "execution_count": 115,
   "metadata": {},
   "outputs": [
    {
     "data": {
      "text/html": [
       "<div>\n",
       "<style scoped>\n",
       "    .dataframe tbody tr th:only-of-type {\n",
       "        vertical-align: middle;\n",
       "    }\n",
       "\n",
       "    .dataframe tbody tr th {\n",
       "        vertical-align: top;\n",
       "    }\n",
       "\n",
       "    .dataframe thead th {\n",
       "        text-align: right;\n",
       "    }\n",
       "</style>\n",
       "<table border=\"1\" class=\"dataframe\">\n",
       "  <thead>\n",
       "    <tr style=\"text-align: right;\">\n",
       "      <th></th>\n",
       "      <th>Mon</th>\n",
       "      <th>Tue</th>\n",
       "      <th>Wed</th>\n",
       "      <th>Thu</th>\n",
       "      <th>Fri</th>\n",
       "      <th>Sat</th>\n",
       "      <th>Sun</th>\n",
       "    </tr>\n",
       "  </thead>\n",
       "  <tbody>\n",
       "    <tr>\n",
       "      <td>count</td>\n",
       "      <td>3.000000</td>\n",
       "      <td>3.000000</td>\n",
       "      <td>3.00000</td>\n",
       "      <td>3.000000</td>\n",
       "      <td>3.000000</td>\n",
       "      <td>3.000000</td>\n",
       "      <td>3.000000</td>\n",
       "    </tr>\n",
       "    <tr>\n",
       "      <td>mean</td>\n",
       "      <td>78.666667</td>\n",
       "      <td>59.666667</td>\n",
       "      <td>47.00000</td>\n",
       "      <td>57.000000</td>\n",
       "      <td>64.666667</td>\n",
       "      <td>27.333333</td>\n",
       "      <td>45.333333</td>\n",
       "    </tr>\n",
       "    <tr>\n",
       "      <td>std</td>\n",
       "      <td>26.407070</td>\n",
       "      <td>50.964040</td>\n",
       "      <td>28.84441</td>\n",
       "      <td>39.849718</td>\n",
       "      <td>28.536526</td>\n",
       "      <td>31.817186</td>\n",
       "      <td>10.214369</td>\n",
       "    </tr>\n",
       "    <tr>\n",
       "      <td>min</td>\n",
       "      <td>50.000000</td>\n",
       "      <td>1.000000</td>\n",
       "      <td>23.00000</td>\n",
       "      <td>11.000000</td>\n",
       "      <td>43.000000</td>\n",
       "      <td>7.000000</td>\n",
       "      <td>38.000000</td>\n",
       "    </tr>\n",
       "    <tr>\n",
       "      <td>25%</td>\n",
       "      <td>67.000000</td>\n",
       "      <td>43.000000</td>\n",
       "      <td>31.00000</td>\n",
       "      <td>45.000000</td>\n",
       "      <td>48.500000</td>\n",
       "      <td>9.000000</td>\n",
       "      <td>39.500000</td>\n",
       "    </tr>\n",
       "    <tr>\n",
       "      <td>50%</td>\n",
       "      <td>84.000000</td>\n",
       "      <td>85.000000</td>\n",
       "      <td>39.00000</td>\n",
       "      <td>79.000000</td>\n",
       "      <td>54.000000</td>\n",
       "      <td>11.000000</td>\n",
       "      <td>41.000000</td>\n",
       "    </tr>\n",
       "    <tr>\n",
       "      <td>75%</td>\n",
       "      <td>93.000000</td>\n",
       "      <td>89.000000</td>\n",
       "      <td>59.00000</td>\n",
       "      <td>80.000000</td>\n",
       "      <td>75.500000</td>\n",
       "      <td>37.500000</td>\n",
       "      <td>49.000000</td>\n",
       "    </tr>\n",
       "    <tr>\n",
       "      <td>max</td>\n",
       "      <td>102.000000</td>\n",
       "      <td>93.000000</td>\n",
       "      <td>79.00000</td>\n",
       "      <td>81.000000</td>\n",
       "      <td>97.000000</td>\n",
       "      <td>64.000000</td>\n",
       "      <td>57.000000</td>\n",
       "    </tr>\n",
       "  </tbody>\n",
       "</table>\n",
       "</div>"
      ],
      "text/plain": [
       "              Mon        Tue       Wed        Thu        Fri        Sat  \\\n",
       "count    3.000000   3.000000   3.00000   3.000000   3.000000   3.000000   \n",
       "mean    78.666667  59.666667  47.00000  57.000000  64.666667  27.333333   \n",
       "std     26.407070  50.964040  28.84441  39.849718  28.536526  31.817186   \n",
       "min     50.000000   1.000000  23.00000  11.000000  43.000000   7.000000   \n",
       "25%     67.000000  43.000000  31.00000  45.000000  48.500000   9.000000   \n",
       "50%     84.000000  85.000000  39.00000  79.000000  54.000000  11.000000   \n",
       "75%     93.000000  89.000000  59.00000  80.000000  75.500000  37.500000   \n",
       "max    102.000000  93.000000  79.00000  81.000000  97.000000  64.000000   \n",
       "\n",
       "             Sun  \n",
       "count   3.000000  \n",
       "mean   45.333333  \n",
       "std    10.214369  \n",
       "min    38.000000  \n",
       "25%    39.500000  \n",
       "50%    41.000000  \n",
       "75%    49.000000  \n",
       "max    57.000000  "
      ]
     },
     "execution_count": 115,
     "metadata": {},
     "output_type": "execute_result"
    }
   ],
   "source": [
    "dfA.describe()"
   ]
  },
  {
   "cell_type": "code",
   "execution_count": 116,
   "metadata": {},
   "outputs": [
    {
     "data": {
      "text/plain": [
       "count      3.000000\n",
       "mean      78.666667\n",
       "std       26.407070\n",
       "min       50.000000\n",
       "25%       67.000000\n",
       "50%       84.000000\n",
       "75%       93.000000\n",
       "max      102.000000\n",
       "Name: Mon, dtype: float64"
      ]
     },
     "execution_count": 116,
     "metadata": {},
     "output_type": "execute_result"
    }
   ],
   "source": [
    "dfA[\"Mon\"].describe()"
   ]
  },
  {
   "cell_type": "code",
   "execution_count": 117,
   "metadata": {},
   "outputs": [
    {
     "data": {
      "text/html": [
       "<div>\n",
       "<style scoped>\n",
       "    .dataframe tbody tr th:only-of-type {\n",
       "        vertical-align: middle;\n",
       "    }\n",
       "\n",
       "    .dataframe tbody tr th {\n",
       "        vertical-align: top;\n",
       "    }\n",
       "\n",
       "    .dataframe thead th {\n",
       "        text-align: right;\n",
       "    }\n",
       "</style>\n",
       "<table border=\"1\" class=\"dataframe\">\n",
       "  <thead>\n",
       "    <tr style=\"text-align: right;\">\n",
       "      <th></th>\n",
       "      <th>Mon</th>\n",
       "      <th>Tue</th>\n",
       "      <th>Wed</th>\n",
       "      <th>Thu</th>\n",
       "      <th>Fri</th>\n",
       "      <th>Sat</th>\n",
       "      <th>Sun</th>\n",
       "    </tr>\n",
       "  </thead>\n",
       "  <tbody>\n",
       "    <tr>\n",
       "      <td>Mon</td>\n",
       "      <td>1.000000</td>\n",
       "      <td>0.910480</td>\n",
       "      <td>-0.105029</td>\n",
       "      <td>0.948386</td>\n",
       "      <td>0.361393</td>\n",
       "      <td>-0.916847</td>\n",
       "      <td>0.851464</td>\n",
       "    </tr>\n",
       "    <tr>\n",
       "      <td>Tue</td>\n",
       "      <td>0.910480</td>\n",
       "      <td>1.000000</td>\n",
       "      <td>0.315640</td>\n",
       "      <td>0.994632</td>\n",
       "      <td>0.714644</td>\n",
       "      <td>-0.999877</td>\n",
       "      <td>0.558367</td>\n",
       "    </tr>\n",
       "    <tr>\n",
       "      <td>Wed</td>\n",
       "      <td>-0.105029</td>\n",
       "      <td>0.315640</td>\n",
       "      <td>1.000000</td>\n",
       "      <td>0.215757</td>\n",
       "      <td>0.889300</td>\n",
       "      <td>-0.300736</td>\n",
       "      <td>-0.610941</td>\n",
       "    </tr>\n",
       "    <tr>\n",
       "      <td>Thu</td>\n",
       "      <td>0.948386</td>\n",
       "      <td>0.994632</td>\n",
       "      <td>0.215757</td>\n",
       "      <td>1.000000</td>\n",
       "      <td>0.638426</td>\n",
       "      <td>-0.996131</td>\n",
       "      <td>0.641215</td>\n",
       "    </tr>\n",
       "    <tr>\n",
       "      <td>Fri</td>\n",
       "      <td>0.361393</td>\n",
       "      <td>0.714644</td>\n",
       "      <td>0.889300</td>\n",
       "      <td>0.638426</td>\n",
       "      <td>1.000000</td>\n",
       "      <td>-0.703598</td>\n",
       "      <td>-0.181257</td>\n",
       "    </tr>\n",
       "    <tr>\n",
       "      <td>Sat</td>\n",
       "      <td>-0.916847</td>\n",
       "      <td>-0.999877</td>\n",
       "      <td>-0.300736</td>\n",
       "      <td>-0.996131</td>\n",
       "      <td>-0.703598</td>\n",
       "      <td>1.000000</td>\n",
       "      <td>-0.571295</td>\n",
       "    </tr>\n",
       "    <tr>\n",
       "      <td>Sun</td>\n",
       "      <td>0.851464</td>\n",
       "      <td>0.558367</td>\n",
       "      <td>-0.610941</td>\n",
       "      <td>0.641215</td>\n",
       "      <td>-0.181257</td>\n",
       "      <td>-0.571295</td>\n",
       "      <td>1.000000</td>\n",
       "    </tr>\n",
       "  </tbody>\n",
       "</table>\n",
       "</div>"
      ],
      "text/plain": [
       "          Mon       Tue       Wed       Thu       Fri       Sat       Sun\n",
       "Mon  1.000000  0.910480 -0.105029  0.948386  0.361393 -0.916847  0.851464\n",
       "Tue  0.910480  1.000000  0.315640  0.994632  0.714644 -0.999877  0.558367\n",
       "Wed -0.105029  0.315640  1.000000  0.215757  0.889300 -0.300736 -0.610941\n",
       "Thu  0.948386  0.994632  0.215757  1.000000  0.638426 -0.996131  0.641215\n",
       "Fri  0.361393  0.714644  0.889300  0.638426  1.000000 -0.703598 -0.181257\n",
       "Sat -0.916847 -0.999877 -0.300736 -0.996131 -0.703598  1.000000 -0.571295\n",
       "Sun  0.851464  0.558367 -0.610941  0.641215 -0.181257 -0.571295  1.000000"
      ]
     },
     "execution_count": 117,
     "metadata": {},
     "output_type": "execute_result"
    }
   ],
   "source": [
    "dfA.corr()"
   ]
  },
  {
   "cell_type": "code",
   "execution_count": 118,
   "metadata": {},
   "outputs": [
    {
     "data": {
      "text/html": [
       "<div>\n",
       "<style scoped>\n",
       "    .dataframe tbody tr th:only-of-type {\n",
       "        vertical-align: middle;\n",
       "    }\n",
       "\n",
       "    .dataframe tbody tr th {\n",
       "        vertical-align: top;\n",
       "    }\n",
       "\n",
       "    .dataframe thead th {\n",
       "        text-align: right;\n",
       "    }\n",
       "</style>\n",
       "<table border=\"1\" class=\"dataframe\">\n",
       "  <thead>\n",
       "    <tr style=\"text-align: right;\">\n",
       "      <th></th>\n",
       "      <th>Mon</th>\n",
       "      <th>Tue</th>\n",
       "      <th>Wed</th>\n",
       "      <th>Thu</th>\n",
       "      <th>Fri</th>\n",
       "      <th>Sat</th>\n",
       "      <th>Sun</th>\n",
       "    </tr>\n",
       "  </thead>\n",
       "  <tbody>\n",
       "    <tr>\n",
       "      <td>Mon</td>\n",
       "      <td>697.333333</td>\n",
       "      <td>1225.333333</td>\n",
       "      <td>-80.0</td>\n",
       "      <td>998.0</td>\n",
       "      <td>272.333333</td>\n",
       "      <td>-770.333333</td>\n",
       "      <td>229.666667</td>\n",
       "    </tr>\n",
       "    <tr>\n",
       "      <td>Tue</td>\n",
       "      <td>1225.333333</td>\n",
       "      <td>2597.333333</td>\n",
       "      <td>464.0</td>\n",
       "      <td>2020.0</td>\n",
       "      <td>1039.333333</td>\n",
       "      <td>-1621.333333</td>\n",
       "      <td>290.666667</td>\n",
       "    </tr>\n",
       "    <tr>\n",
       "      <td>Wed</td>\n",
       "      <td>-80.000000</td>\n",
       "      <td>464.000000</td>\n",
       "      <td>832.0</td>\n",
       "      <td>248.0</td>\n",
       "      <td>732.000000</td>\n",
       "      <td>-276.000000</td>\n",
       "      <td>-180.000000</td>\n",
       "    </tr>\n",
       "    <tr>\n",
       "      <td>Thu</td>\n",
       "      <td>998.000000</td>\n",
       "      <td>2020.000000</td>\n",
       "      <td>248.0</td>\n",
       "      <td>1588.0</td>\n",
       "      <td>726.000000</td>\n",
       "      <td>-1263.000000</td>\n",
       "      <td>261.000000</td>\n",
       "    </tr>\n",
       "    <tr>\n",
       "      <td>Fri</td>\n",
       "      <td>272.333333</td>\n",
       "      <td>1039.333333</td>\n",
       "      <td>732.0</td>\n",
       "      <td>726.0</td>\n",
       "      <td>814.333333</td>\n",
       "      <td>-638.833333</td>\n",
       "      <td>-52.833333</td>\n",
       "    </tr>\n",
       "    <tr>\n",
       "      <td>Sat</td>\n",
       "      <td>-770.333333</td>\n",
       "      <td>-1621.333333</td>\n",
       "      <td>-276.0</td>\n",
       "      <td>-1263.0</td>\n",
       "      <td>-638.833333</td>\n",
       "      <td>1012.333333</td>\n",
       "      <td>-185.666667</td>\n",
       "    </tr>\n",
       "    <tr>\n",
       "      <td>Sun</td>\n",
       "      <td>229.666667</td>\n",
       "      <td>290.666667</td>\n",
       "      <td>-180.0</td>\n",
       "      <td>261.0</td>\n",
       "      <td>-52.833333</td>\n",
       "      <td>-185.666667</td>\n",
       "      <td>104.333333</td>\n",
       "    </tr>\n",
       "  </tbody>\n",
       "</table>\n",
       "</div>"
      ],
      "text/plain": [
       "             Mon          Tue    Wed     Thu          Fri          Sat  \\\n",
       "Mon   697.333333  1225.333333  -80.0   998.0   272.333333  -770.333333   \n",
       "Tue  1225.333333  2597.333333  464.0  2020.0  1039.333333 -1621.333333   \n",
       "Wed   -80.000000   464.000000  832.0   248.0   732.000000  -276.000000   \n",
       "Thu   998.000000  2020.000000  248.0  1588.0   726.000000 -1263.000000   \n",
       "Fri   272.333333  1039.333333  732.0   726.0   814.333333  -638.833333   \n",
       "Sat  -770.333333 -1621.333333 -276.0 -1263.0  -638.833333  1012.333333   \n",
       "Sun   229.666667   290.666667 -180.0   261.0   -52.833333  -185.666667   \n",
       "\n",
       "            Sun  \n",
       "Mon  229.666667  \n",
       "Tue  290.666667  \n",
       "Wed -180.000000  \n",
       "Thu  261.000000  \n",
       "Fri  -52.833333  \n",
       "Sat -185.666667  \n",
       "Sun  104.333333  "
      ]
     },
     "execution_count": 118,
     "metadata": {},
     "output_type": "execute_result"
    }
   ],
   "source": [
    "dfA.cov()"
   ]
  },
  {
   "cell_type": "markdown",
   "metadata": {},
   "source": [
    "<a name=\"5\"></a>\n",
    "<div style=\"display:table; width:100%; padding-top:10px; padding-bottom:10px; border-bottom:1px solid lightgrey\">\n",
    "    <div style=\"display:table-row\">\n",
    "        <div style=\"display:table-cell; width:80%; font-size:14pt; font-weight:bold\">5. Визуализация данных</div>\n",
    "    \t<div style=\"display:table-cell; width:20%; text-align:center; background-color:whitesmoke; border:1px solid lightgrey\"><a href=\"#0\">К содержанию</a></div>\n",
    "    </div>\n",
    "</div>"
   ]
  },
  {
   "cell_type": "markdown",
   "metadata": {},
   "source": [
    "<div>\n",
    "<p><b>Рассматриваемые вопросы:</b></p>\n",
    "<p style=\"line-height:20pt\">\n",
    "a) построение графиков (plot)</i><br> \n",
    "b) построение гистограмм<br> \n",
    "</p>\n",
    "</div>"
   ]
  },
  {
   "cell_type": "markdown",
   "metadata": {},
   "source": [
    "<a name=\"5a\"></a>\n",
    "<div style=\"padding-top:10px;\">\n",
    "    <div style=\"display: inline-block; font-style:italic; font-weight:bold; font-size:12pt\">a. График (plot)</div>\n",
    "    <div style=\"display: inline-block; float:right; width:20%; text-align:center; border:1px solid lightgrey\">\n",
    "        <div style=\"display: inline-block; text-align:center; width:50%; background-color:whitesmoke;\"><a href=\"#5\">Назад</a></div><div style=\"display: inline-block; text-align:center; width:50%;\"><a href=\"#5b\">Далее</a></div>\n",
    "    </div>\n",
    "</div>"
   ]
  },
  {
   "cell_type": "code",
   "execution_count": null,
   "metadata": {
    "scrolled": true
   },
   "outputs": [],
   "source": [
    "%matplotlib inline\n",
    "dfA.T.plot()"
   ]
  },
  {
   "cell_type": "code",
   "execution_count": null,
   "metadata": {},
   "outputs": [],
   "source": [
    "pl = dfA.loc[\"TV\",:].plot(title=\"TV\")\n",
    "pl.set_xlabel(\"Day of the Week\")\n",
    "pl.set_ylabel(\"Count\")"
   ]
  },
  {
   "cell_type": "markdown",
   "metadata": {},
   "source": [
    "<a name=\"5b\"></a>\n",
    "<div style=\"padding-top:10px;\">\n",
    "    <div style=\"display: inline-block; font-style:italic; font-weight:bold; font-size:12pt\">b. Гистограмма</div>\n",
    "    <div style=\"display: inline-block; float:right; width:20%; text-align:center; border:1px solid lightgrey\">\n",
    "        <div style=\"display: inline-block; text-align:center; width:50%; background-color:whitesmoke;\"><a href=\"#5a\">Назад</a></div><div style=\"display: inline-block; text-align:center; width:50%;\"><a href=\"#6\">Далее</a></div>\n",
    "    </div>\n",
    "</div>"
   ]
  },
  {
   "cell_type": "code",
   "execution_count": null,
   "metadata": {},
   "outputs": [],
   "source": [
    "dfA.hist(bins=4)"
   ]
  },
  {
   "cell_type": "code",
   "execution_count": null,
   "metadata": {},
   "outputs": [],
   "source": [
    "dfA.T.hist(bins=4)"
   ]
  },
  {
   "cell_type": "markdown",
   "metadata": {},
   "source": [
    "<a name=\"6\"></a>\n",
    "<div style=\"display:table; width:100%; padding-top:10px; padding-bottom:10px; border-bottom:1px solid lightgrey\">\n",
    "    <div style=\"display:table-row\">\n",
    "        <div style=\"display:table-cell; width:80%; font-size:14pt; font-weight:bold\">6. Источники</div>\n",
    "    \t<div style=\"display:table-cell; width:20%; text-align:center; background-color:whitesmoke; border:1px solid lightgrey\"><a href=\"#0\">К содержанию</a></div>\n",
    "    </div>\n",
    "</div>"
   ]
  },
  {
   "cell_type": "markdown",
   "metadata": {},
   "source": [
    "<div><p>Документация</p>\n",
    "<a href=\"https://pandas.pydata.org/pandas-docs/version/0.25.1/index.html\">Pandas 0.25.1 documentation. Index</a><br>\n",
    "\n",
    "<p>Разбор функциональных возможностей</p>\n",
    "<a href=\"http://pandas.pydata.org/pandas-docs/stable/dsintro.html\">Intro to Data Structures</a><br>\n",
    "<a href=\"http://pandas.pydata.org/pandas-docs/stable/indexing.html\">Indexing and Selecting Data</a><br>\n",
    "<a href=\"http://pandas.pydata.org/pandas-docs/stable/io.html\">IO Tools (Text, CSV, HDF5, ...)</a><br>\n",
    "<a href=\"http://pandas.pydata.org/pandas-docs/stable/groupby.html\">Group By: split-apply-combine</a><br>\n",
    "<a href=\"http://pandas.pydata.org/pandas-docs/stable/advanced.html\">MultiIndex / Advanced Indexing</a><br>\n",
    "<a href=\"http://pandas.pydata.org/pandas-docs/stable/merging.html\">Merge, join, and concatenate</a><br>\n",
    "<a href=\"http://pandas.pydata.org/pandas-docs/stable/merging.html\">Essential Basic Functionality</a><br>\n",
    "<a href=\"https://s3.amazonaws.com/quandl-static-content/Documents/Quandl+-+Pandas,+SciPy,+NumPy+Cheat+Sheet.pdf\">NumPy / SciPy / Pandas Cheat Sheet</a><br>\n",
    "<a href=\"http://www.swegler.com/becky/blog/2014/08/06/useful-pandas-snippets/\">Useful Pandas Snippets</a><br>\n",
    "<a href=\"http://chrisalbon.com/python/pandas_apply_operations_to_dataframes.html\">Applying Operations Over pandas Dataframes</a><br>\n",
    "<a href=\"http://nbviewer.jupyter.org/urls/bitbucket.org/hrojas/learn-pandas/raw/master/lessons/01%20-%20Lesson.ipynb\">Pandas. Lesson 1</a><br>\n",
    "<a href=\"http://chrisalbon.com/python/pandas_dropping_column_and_rows.html\">Dropping Rows And Columns In pandas Dataframe</a><br>\n",
    "<a href=\"http://chrisalbon.com/python/pandas_dataframe_descriptive_stats.html\">Descriptive Statistics For pandas Dataframe</a><br>\n",
    "\n",
    "<p>Примеры использования</p>\n",
    "<a href=\"http://synesthesiam.com/posts/an-introduction-to-pandas.html\">An Introduction to Pandas (weather analysis)</a><br>\n",
    "<a href=\"http://pbpython.com/excel-pandas-comp.html\">Common Excel Tasks Demonstrated in Pandas</a><br>\n",
    "<a href=\"http://wavedatalab.github.io/datawithpython/aggregate.html\">Using Pandas for Analyzing Data - Grouping and Aggregating</a><br>\n",
    "<a href=\"http://dataconomy.com/14-best-python-pandas-features/\">14 BEST PYTHON PANDAS FEATURES</a><br>\n",
    "<a href=\"http://www.randalolson.com/2012/08/06/statistical-analysis-made-easy-in-python/\">Statistical analysis made easy in Python with SciPy and pandas DataFrames</a><br>\n",
    "</div>"
   ]
  },
  {
   "cell_type": "code",
   "execution_count": null,
   "metadata": {},
   "outputs": [],
   "source": []
  }
 ],
 "metadata": {
  "kernelspec": {
   "display_name": "Python 3",
   "language": "python",
   "name": "python3"
  },
  "language_info": {
   "codemirror_mode": {
    "name": "ipython",
    "version": 3
   },
   "file_extension": ".py",
   "mimetype": "text/x-python",
   "name": "python",
   "nbconvert_exporter": "python",
   "pygments_lexer": "ipython3",
   "version": "3.7.4"
  }
 },
 "nbformat": 4,
 "nbformat_minor": 1
}
