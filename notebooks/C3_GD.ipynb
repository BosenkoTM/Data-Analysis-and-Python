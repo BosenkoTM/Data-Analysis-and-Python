{
 "cells": [
  {
   "cell_type": "markdown",
   "metadata": {},
   "source": [
    "<div style=\"font-size:18pt; padding-top:20px; text-align:center; line-height: 1.5;\">СЕМИНАР. <b>Оптимизация. Часть 1.</b> Метод наименьших квадратов, градиентный спуск и <span style=\"font-weight:bold; color:green\">NumPy/SciPy</span></div><hr>\n",
    "<div style=\"text-align:right;\">Папулин С.Ю. <span style=\"font-style: italic;font-weight: bold;\">(papulin.study@yandex.ru)</span></div>"
   ]
  },
  {
   "cell_type": "markdown",
   "metadata": {},
   "source": [
    "<a name=\"0\"></a>\n",
    "<div><span style=\"font-size:14pt; font-weight:bold\">Содержание</span>\n",
    "    <ol>\n",
    "        <li><a href=\"#1\">Постановка задачи</a></li>\n",
    "        <li><a href=\"#2\">Производная</a></li>\n",
    "        <li><a href=\"#3\">Метод наименьших квадратов</a>\n",
    "            <ol style = \"list-style-type:lower-alpha\">\n",
    "                <li><a href=\"#3a\">Матричная форма записи системы уравнений</a></li>\n",
    "                <li><a href=\"#3b\">Метод наименьших квадратов</a></li>\n",
    "                <li><a href=\"#3c\">Метод наименьших квадратов в задаче линейной регрессии</a></li>\n",
    "            </ol>\n",
    "        </li>\n",
    "        <li><a href=\"#4\">Градиентный спуск</a>\n",
    "            <ol style = \"list-style-type:lower-alpha\">\n",
    "                <li><a href=\"#4a\">Градиентный спуск</a></li>\n",
    "                <li><a href=\"#4b\">Градиентный спуск в задаче линейной регрессии</a></li>\n",
    "            </ol>\n",
    "        </li>\n",
    "    </ol>\n",
    "</div>"
   ]
  },
  {
   "cell_type": "markdown",
   "metadata": {},
   "source": [
    "<a name=\"1\"></a>\n",
    "<div style=\"display:table; width:100%; padding-top:10px; padding-bottom:10px; border-bottom:1px solid lightgrey\">\n",
    "    <div style=\"display:table-row\">\n",
    "        <div style=\"display:table-cell; width:80%; font-size:14pt; font-weight:bold\">1. Постановка задачи</div>\n",
    "    \t<div style=\"display:table-cell; width:20%; text-align:center; background-color:whitesmoke; border:1px solid lightgrey\"><a href=\"#0\">К содержанию</a></div>\n",
    "    </div>\n",
    "</div>"
   ]
  },
  {
   "cell_type": "code",
   "execution_count": null,
   "metadata": {
    "collapsed": true
   },
   "outputs": [],
   "source": [
    "import numpy as np\n",
    "import pandas as pnd\n",
    "import matplotlib.pyplot as plt\n",
    "from mpl_toolkits.mplot3d import Axes3D\n",
    "from matplotlib import cm\n",
    "%matplotlib inline"
   ]
  },
  {
   "cell_type": "markdown",
   "metadata": {},
   "source": [
    "<p>Создаем DataFrame с исходными данными</p>"
   ]
  },
  {
   "cell_type": "code",
   "execution_count": null,
   "metadata": {
    "collapsed": false
   },
   "outputs": [],
   "source": [
    "df1 = pnd.read_csv(\"SAT_GPA.csv\", sep=\" \")\n",
    "df1.head(5)"
   ]
  },
  {
   "cell_type": "code",
   "execution_count": null,
   "metadata": {
    "collapsed": true
   },
   "outputs": [],
   "source": [
    "sx = df1[\"high_GPA\"]\n",
    "sy = df1[\"univ_GPA\"]"
   ]
  },
  {
   "cell_type": "markdown",
   "metadata": {},
   "source": [
    "<p>Отображаем исходные данные</p>"
   ]
  },
  {
   "cell_type": "code",
   "execution_count": null,
   "metadata": {
    "collapsed": false
   },
   "outputs": [],
   "source": [
    "plt.figure(\"1\", figsize=[10, 6])\n",
    "\n",
    "ax = plt.subplot(1,1,1)\n",
    "\n",
    "plt.scatter(sx, sy)\n",
    "plt.xlabel(\"High_GPA\")\n",
    "plt.ylabel(\"Univ_GPA\")\n",
    "plt.axis([2, 4, 2, 4])\n",
    "plt.grid(True)\n",
    "ax.set_axisbelow(True) \n",
    "\n",
    "xA = df1.loc[36, \"high_GPA\"]\n",
    "yA = df1.loc[36, \"univ_GPA\"]\n",
    "xyA = \"$(\"+str(xA)+\",\"+str(yA)+\")$\"\n",
    "plt.annotate(xyA, xy=(xA, yA), xytext=(50, -100), xycoords='data', textcoords='offset points', \n",
    "             arrowprops=dict(arrowstyle=\"->\", connectionstyle=\"arc,angleA=0,armA=0,angleB=-90,armB=15,rad=7\"),)\n",
    "plt.show()"
   ]
  },
  {
   "cell_type": "code",
   "execution_count": null,
   "metadata": {
    "collapsed": false
   },
   "outputs": [],
   "source": [
    "slope_1 = 2.0; slope_2 = 0.7; slope_3 = 0.4\n",
    "intercept_1 = -3.0; intercept_2 = 1.1; intercept_3 = 2.0"
   ]
  },
  {
   "cell_type": "code",
   "execution_count": null,
   "metadata": {
    "collapsed": true
   },
   "outputs": [],
   "source": [
    "f_pred_1 = lambda x: slope_1 * x + intercept_1\n",
    "f_pred_2 = lambda x: slope_2 * x + intercept_2\n",
    "f_pred_3 = lambda x: slope_3 * x + intercept_3"
   ]
  },
  {
   "cell_type": "code",
   "execution_count": null,
   "metadata": {
    "collapsed": false
   },
   "outputs": [],
   "source": [
    "x_line = np.array([1.5, 4.5])\n",
    "\n",
    "plt.figure(\"2\", figsize=[10, 6])\n",
    "\n",
    "ax = plt.subplot(1,1,1)\n",
    "\n",
    "plt.scatter(sx, sy, label=\"(High_GPA-Univ_GPA)\")\n",
    "plt.plot(x_line, f_pred_1(x_line), \"-\", label=\"$0.9*x+0.3$\")\n",
    "plt.plot(x_line, f_pred_2(x_line), \"-\", label=\"$0.7*x+1.1$\")\n",
    "plt.plot(x_line, f_pred_3(x_line), \"-\", label=\"$0.4*x+2.0$\")\n",
    "\n",
    "plt.xlabel(\"High_GPA\")\n",
    "plt.ylabel(\"Univ_GPA\")\n",
    "\n",
    "plt.axis([2, 4, 2, 4])\n",
    "\n",
    "plt.grid(True)\n",
    "ax.set_axisbelow(True)\n",
    "\n",
    "plt.legend()\n",
    "\n",
    "xA = df1.loc[36, \"high_GPA\"]\n",
    "yA = df1.loc[36, \"univ_GPA\"]\n",
    "xyA = \"$(\"+str(xA)+\",\"+str(yA)+\")$\"\n",
    "plt.annotate(xyA, xy=(xA, yA), xytext=(50, -100), xycoords='data', textcoords='offset points', \n",
    "             arrowprops=dict(arrowstyle=\"->\", connectionstyle=\"arc,angleA=0,armA=0,angleB=-90,armB=15,rad=7\"),)\n",
    "plt.show()"
   ]
  },
  {
   "cell_type": "markdown",
   "metadata": {},
   "source": [
    "Какая функция лучше определяет зависимость между High_GPA и Univ_GPA?"
   ]
  },
  {
   "cell_type": "code",
   "execution_count": null,
   "metadata": {
    "collapsed": false
   },
   "outputs": [],
   "source": [
    "y_pred_1 = f_pred_1(sx)\n",
    "y_pred_2 = f_pred_2(sx)\n",
    "y_pred_3 = f_pred_3(sx)"
   ]
  },
  {
   "cell_type": "code",
   "execution_count": null,
   "metadata": {
    "collapsed": false
   },
   "outputs": [],
   "source": [
    "err_1 = ((y_pred_1 - sy)**2).sum()\n",
    "err_2 = ((y_pred_2 - sy)**2).sum()\n",
    "err_3 = ((y_pred_3 - sy)**2).sum()\n",
    "\n",
    "err_1, err_2, err_3"
   ]
  },
  {
   "cell_type": "markdown",
   "metadata": {},
   "source": [
    "$$\\hat w_0, \\hat w_1 =\\operatorname*{arg\\,min}_{w_0, w_1} \n",
    "\\displaystyle\\sum_{i=1}^{N} ((w_0+w_1 x_i) - y_i)^2$$"
   ]
  },
  {
   "cell_type": "markdown",
   "metadata": {},
   "source": [
    "<a name=\"2\"></a>\n",
    "<div style=\"display:table; width:100%; padding-top:10px; padding-bottom:10px; border-bottom:1px solid lightgrey\">\n",
    "    <div style=\"display:table-row\">\n",
    "        <div style=\"display:table-cell; width:80%; font-size:14pt; font-weight:bold\">2. Производная</div>\n",
    "    \t<div style=\"display:table-cell; width:20%; text-align:center; background-color:whitesmoke; border:1px solid lightgrey\"><a href=\"#0\">К содержанию</a></div>\n",
    "    </div>\n",
    "</div>"
   ]
  },
  {
   "cell_type": "code",
   "execution_count": null,
   "metadata": {
    "collapsed": true
   },
   "outputs": [],
   "source": [
    "from scipy.misc import derivative"
   ]
  },
  {
   "cell_type": "code",
   "execution_count": null,
   "metadata": {
    "collapsed": true
   },
   "outputs": [],
   "source": [
    "x0 = -4\n",
    "f = lambda x: x**2"
   ]
  },
  {
   "cell_type": "code",
   "execution_count": null,
   "metadata": {
    "collapsed": false
   },
   "outputs": [],
   "source": [
    "df_x0 = derivative(f, x0, n=1)\n",
    "df_x0"
   ]
  },
  {
   "cell_type": "code",
   "execution_count": null,
   "metadata": {
    "collapsed": false
   },
   "outputs": [],
   "source": [
    "ddf_x0 = derivative(f, x0, n=2)\n",
    "ddf_x0"
   ]
  },
  {
   "cell_type": "code",
   "execution_count": null,
   "metadata": {
    "collapsed": false
   },
   "outputs": [],
   "source": [
    "x_st = -4\n",
    "x_end = 5\n",
    "step = 1\n",
    "\n",
    "x = np.arange(x_st, x_end, step)\n",
    "x"
   ]
  },
  {
   "cell_type": "code",
   "execution_count": null,
   "metadata": {
    "collapsed": false
   },
   "outputs": [],
   "source": [
    "df = derivative(f, x, n=1)\n",
    "df"
   ]
  },
  {
   "cell_type": "code",
   "execution_count": null,
   "metadata": {
    "collapsed": false
   },
   "outputs": [],
   "source": [
    "ddf = derivative(f, x, n=2)\n",
    "ddf"
   ]
  },
  {
   "cell_type": "code",
   "execution_count": null,
   "metadata": {
    "collapsed": true
   },
   "outputs": [],
   "source": [
    "f_neg = lambda x: - x**2"
   ]
  },
  {
   "cell_type": "code",
   "execution_count": null,
   "metadata": {
    "collapsed": false
   },
   "outputs": [],
   "source": [
    "df_neg = derivative(f_neg, x, n=1)\n",
    "ddf_neg = derivative(f_neg, x, n=2)\n",
    "\n",
    "df_neg, ddf_neg"
   ]
  },
  {
   "cell_type": "code",
   "execution_count": null,
   "metadata": {
    "collapsed": false
   },
   "outputs": [],
   "source": [
    "plt.figure(\"4\", figsize=[15,6])\n",
    "\n",
    "ax1 = plt.subplot(1,2,1)\n",
    "\n",
    "plt.plot(x, f(x), \"-o\", label=\"$f(x)=x^2$\")\n",
    "plt.plot(x, df, \"-o\", label=\"$f'(x)$\")\n",
    "plt.plot(x, ddf, \"-o\", label=\"$f''(x)$\")\n",
    "\n",
    "plt.title(\"$f(x)=x^2$\")\n",
    "\n",
    "plt.xlabel(\"x\")\n",
    "plt.ylabel(\"y\")\n",
    "\n",
    "plt.grid(True)\n",
    "\n",
    "plt.legend()\n",
    "\n",
    "ax2 = plt.subplot(1,2,2)\n",
    "\n",
    "plt.plot(x, f_neg(x), \"-o\",  label=\"$f_{neg}(x)=-x^2$\")\n",
    "plt.plot(x, df_neg, \"-o\", label=\"$f'_{neg}(x)$\")\n",
    "plt.plot(x, ddf_neg, \"-o\", label=\"$f''_{neg}(x)$\")\n",
    "\n",
    "plt.title(\"$f(x)=-x^2$\")\n",
    "\n",
    "plt.xlabel(\"x\")\n",
    "plt.ylabel(\"y\")\n",
    "\n",
    "plt.grid(True)\n",
    "\n",
    "plt.legend()\n",
    "\n",
    "plt.show()"
   ]
  },
  {
   "cell_type": "code",
   "execution_count": null,
   "metadata": {
    "collapsed": true
   },
   "outputs": [],
   "source": [
    "x = np.arange(-10, 10, 0.1)\n",
    "f = lambda x: x**2 + 10 * np.sin(x)"
   ]
  },
  {
   "cell_type": "code",
   "execution_count": null,
   "metadata": {
    "collapsed": true
   },
   "outputs": [],
   "source": [
    "df = derivative(f, x, n=1)\n",
    "ddf = derivative(f, x, n=2)"
   ]
  },
  {
   "cell_type": "code",
   "execution_count": null,
   "metadata": {
    "collapsed": true
   },
   "outputs": [],
   "source": [
    "indx = np.where(np.logical_and(df >= -0.35, df <= 0.25))"
   ]
  },
  {
   "cell_type": "code",
   "execution_count": null,
   "metadata": {
    "collapsed": false
   },
   "outputs": [],
   "source": [
    "plt.figure(\"4\", figsize=[8,6])\n",
    "\n",
    "ax1 = plt.subplot(1,1,1)\n",
    "\n",
    "plt.plot(x, f(x), \"-\", label=\"$f(x)=x^2$\")\n",
    "plt.plot(x, df, \"-\", label=\"$f'(x)$\")\n",
    "plt.plot(x, ddf, \"-\", label=\"$f''(x)$\")\n",
    "\n",
    "plt.plot(x[indx], f(x[indx]), \"o\", color=\"darkblue\")\n",
    "\n",
    "plt.vlines(x[indx], ymin=-20, ymax=100, color=\"grey\", linestyle=\"dashed\", linewidth=1)\n",
    "\n",
    "plt.title(\"$f(x)=x^2$\")\n",
    "\n",
    "plt.xlabel(\"x\")\n",
    "plt.ylabel(\"y\")\n",
    "\n",
    "plt.grid(True)\n",
    "\n",
    "plt.legend()\n",
    "\n",
    "plt.show()"
   ]
  },
  {
   "cell_type": "markdown",
   "metadata": {},
   "source": [
    "<a name=\"3\"></a>\n",
    "<div style=\"display:table; width:100%; padding-top:10px; padding-bottom:10px; border-bottom:1px solid lightgrey\">\n",
    "    <div style=\"display:table-row\">\n",
    "        <div style=\"display:table-cell; width:80%; font-size:14pt; font-weight:bold\">3. Метод наименьших квадратов</div>\n",
    "    \t<div style=\"display:table-cell; width:20%; text-align:center; background-color:whitesmoke; border:1px solid lightgrey\"><a href=\"#0\">К содержанию</a></div>\n",
    "    </div>\n",
    "</div>"
   ]
  },
  {
   "cell_type": "markdown",
   "metadata": {},
   "source": [
    "<a name = \"3a\"></a>\n",
    "<div style = \"display:table; width:100%\">\n",
    "    <div style = \"display:table-row\">\n",
    "        <div style = \"display:table-cell; width:80%; font-style:italic; font-weight:bold; font-size:12pt\">\n",
    "            a. Матричная форма записи системы уравнений\n",
    "        </div>\n",
    "        <div style=\"display:table-cell; border:1px solid lightgrey; width:20%\">\n",
    "            <div style = \"display:table-cell; width:10%; text-align:center; background-color:whitesmoke;\">\n",
    "                <a href=\"#3\">Назад</a>\n",
    "            </div>\n",
    "            <div style = \"display:table-cell; width:10%; text-align:center;\">\n",
    "                <a href=\"#3b\">Далее</a>\n",
    "            </div>\n",
    "        </div>\n",
    "    </div>\n",
    "</div>"
   ]
  },
  {
   "cell_type": "code",
   "execution_count": null,
   "metadata": {
    "collapsed": true
   },
   "outputs": [],
   "source": []
  },
  {
   "cell_type": "markdown",
   "metadata": {},
   "source": [
    "<a name = \"3b\"></a>\n",
    "<div style = \"display:table; width:100%\">\n",
    "    <div style = \"display:table-row\">\n",
    "        <div style = \"display:table-cell; width:80%; font-style:italic; font-weight:bold; font-size:12pt\">\n",
    "            b. Метод наименьших квадратов\n",
    "        </div>\n",
    "        <div style=\"display:table-cell; border:1px solid lightgrey; width:20%\">\n",
    "            <div style = \"display:table-cell; width:10%; text-align:center; background-color:whitesmoke;\">\n",
    "                <a href=\"#3a\">Назад</a>\n",
    "            </div>\n",
    "            <div style = \"display:table-cell; width:10%; text-align:center;\">\n",
    "                <a href=\"#3c\">Далее</a>\n",
    "            </div>\n",
    "        </div>\n",
    "    </div>\n",
    "</div>"
   ]
  },
  {
   "cell_type": "code",
   "execution_count": null,
   "metadata": {
    "collapsed": true
   },
   "outputs": [],
   "source": []
  },
  {
   "cell_type": "markdown",
   "metadata": {},
   "source": [
    "<a name = \"3c\"></a>\n",
    "<div style = \"display:table; width:100%\">\n",
    "    <div style = \"display:table-row\">\n",
    "        <div style = \"display:table-cell; width:80%; font-style:italic; font-weight:bold; font-size:12pt\">\n",
    "            c. Метод наименьших квадратов в задаче линейной регрессии\n",
    "        </div>\n",
    "        <div style=\"display:table-cell; border:1px solid lightgrey; width:20%\">\n",
    "            <div style = \"display:table-cell; width:10%; text-align:center; background-color:whitesmoke;\">\n",
    "                <a href=\"#3b\">Назад</a>\n",
    "            </div>\n",
    "            <div style = \"display:table-cell; width:10%; text-align:center;\">\n",
    "                <a href=\"#4\">Далее</a>\n",
    "            </div>\n",
    "        </div>\n",
    "    </div>\n",
    "</div>"
   ]
  },
  {
   "cell_type": "code",
   "execution_count": null,
   "metadata": {
    "collapsed": false
   },
   "outputs": [],
   "source": [
    "X = np.asmatrix(np.c_[df1[\"high_GPA\"].values, np.ones(df1[\"high_GPA\"].size)])\n",
    "X[:5,:2]"
   ]
  },
  {
   "cell_type": "code",
   "execution_count": null,
   "metadata": {
    "collapsed": false
   },
   "outputs": [],
   "source": [
    "y = np.asmatrix(df1[\"univ_GPA\"].values.reshape(df1[\"univ_GPA\"].values.size, 1))\n",
    "y[:5]"
   ]
  },
  {
   "cell_type": "code",
   "execution_count": null,
   "metadata": {
    "collapsed": false
   },
   "outputs": [],
   "source": [
    "w = (X.T * X)**(-1) * X.T * y\n",
    "\n",
    "# Вариант 2\n",
    "# w = np.linalg.inv(X.T * X) * X.T * y\n",
    "w"
   ]
  },
  {
   "cell_type": "code",
   "execution_count": null,
   "metadata": {
    "collapsed": false
   },
   "outputs": [],
   "source": [
    "# NumPy linalg\n",
    "np.linalg.lstsq(X, y)"
   ]
  },
  {
   "cell_type": "code",
   "execution_count": null,
   "metadata": {
    "collapsed": false
   },
   "outputs": [],
   "source": [
    "w0 = w[1,0]\n",
    "w1 = w[0,0]"
   ]
  },
  {
   "cell_type": "code",
   "execution_count": null,
   "metadata": {
    "collapsed": false
   },
   "outputs": [],
   "source": [
    "f_pred_ols = lambda x: w1 * x + w0"
   ]
  },
  {
   "cell_type": "code",
   "execution_count": null,
   "metadata": {
    "collapsed": false
   },
   "outputs": [],
   "source": [
    "x_line = np.array([1.5, 4.5])\n",
    "\n",
    "plt.figure(\"3\", figsize=[10, 6])\n",
    "\n",
    "ax = plt.subplot(1,1,1)\n",
    "\n",
    "plt.scatter(sx, sy, label=\"(High_GPA-Univ_GPA)\")\n",
    "plt.plot(x_line, f_pred_1(x_line), \"-\", label=\"$f_1(x)=0.9*x+0.3$\")\n",
    "plt.plot(x_line, f_pred_2(x_line), \"-\", label=\"$f_2(x)=0.7*x+1.1$\")\n",
    "plt.plot(x_line, f_pred_3(x_line), \"-\", label=\"$f_3(x)=0.4*x+2.0$\")\n",
    "plt.plot(x_line, f_pred_ols(x_line), \"-\", linewidth=4, \n",
    "         label=\"$f_{OLS}(x)$\")\n",
    "\n",
    "plt.xlabel(\"High_GPA\")\n",
    "plt.ylabel(\"Univ_GPA\")\n",
    "\n",
    "plt.axis([2, 4, 2, 4])\n",
    "\n",
    "plt.grid(True)\n",
    "ax.set_axisbelow(True) \n",
    "\n",
    "plt.legend()\n",
    "\n",
    "plt.show()"
   ]
  },
  {
   "cell_type": "code",
   "execution_count": null,
   "metadata": {
    "collapsed": false
   },
   "outputs": [],
   "source": [
    "err_ols = ((f_pred_ols(sx) - sy)**2).sum()\n",
    "err_ols"
   ]
  },
  {
   "cell_type": "code",
   "execution_count": null,
   "metadata": {
    "collapsed": false
   },
   "outputs": [],
   "source": [
    "err_1, err_2, err_3, err_ols"
   ]
  },
  {
   "cell_type": "markdown",
   "metadata": {},
   "source": [
    "<a name=\"4\"></a>\n",
    "<div style=\"display:table; width:100%; padding-top:10px; padding-bottom:10px; border-bottom:1px solid lightgrey\">\n",
    "    <div style=\"display:table-row\">\n",
    "        <div style=\"display:table-cell; width:80%; font-size:14pt; font-weight:bold\">4. Градиентный спуск</div>\n",
    "    \t<div style=\"display:table-cell; width:20%; text-align:center; background-color:whitesmoke; border:1px solid lightgrey\"><a href=\"#0\">К содержанию</a></div>\n",
    "    </div>\n",
    "</div>"
   ]
  },
  {
   "cell_type": "markdown",
   "metadata": {},
   "source": [
    "<a name = \"4a\"></a>\n",
    "<div style = \"display:table; width:100%\">\n",
    "    <div style = \"display:table-row\">\n",
    "        <div style = \"display:table-cell; width:80%; font-style:italic; font-weight:bold; font-size:12pt\">\n",
    "            a. Градиентный спуск\n",
    "        </div>\n",
    "        <div style=\"display:table-cell; border:1px solid lightgrey; width:20%\">\n",
    "            <div style = \"display:table-cell; width:10%; text-align:center; background-color:whitesmoke;\">\n",
    "                <a href=\"#4\">Назад</a>\n",
    "            </div>\n",
    "            <div style = \"display:table-cell; width:10%; text-align:center;\">\n",
    "                <a href=\"#4b\">Далее</a>\n",
    "            </div>\n",
    "        </div>\n",
    "    </div>\n",
    "</div>"
   ]
  },
  {
   "cell_type": "markdown",
   "metadata": {},
   "source": [
    "$$ \\mathbf{x}^{(i+1)} = \\mathbf{x}^{(i)}-\\alpha \\cdot \\bigtriangledown f \\left( \\mathbf{x}\\right)$$"
   ]
  },
  {
   "cell_type": "markdown",
   "metadata": {},
   "source": [
    "<p>Функция с одной переменной</p>"
   ]
  },
  {
   "cell_type": "markdown",
   "metadata": {},
   "source": [
    "$$f(x) = x^2 + 10 \\sin(x)$$\n",
    "$$f^{'}(x) = 2x + 10 \\cos(x)$$"
   ]
  },
  {
   "cell_type": "code",
   "execution_count": null,
   "metadata": {
    "collapsed": false
   },
   "outputs": [],
   "source": [
    "#Функция\n",
    "def f(x):\n",
    "    return x**2 + 10 * np.sin(x)\n",
    "\n",
    "#Производная\n",
    "def df(x):\n",
    "    return 2*x + 10 * np.cos(x)\n",
    "\n",
    "#Значения аргумента\n",
    "x = np.arange(-10, 10, 0.1)"
   ]
  },
  {
   "cell_type": "code",
   "execution_count": null,
   "metadata": {
    "collapsed": false
   },
   "outputs": [],
   "source": [
    "plt.figure(\"1\")\n",
    "\n",
    "plt.grid(True)\n",
    "plt.plot(x, f(x))\n",
    "plt.plot(x, df(x))\n",
    "plt.title(\"$f(x) = x^2+10\\sin(x)$\")\n",
    "plt.xlabel(\"x\")\n",
    "plt.ylabel(\"f(x)\")\n",
    "plt.legend((\"$f(x)$\", \"$f^{\\prime}(x)$\"), loc=\"lower right\")\n",
    "plt.grid(True)\n",
    "\n",
    "plt.show()"
   ]
  },
  {
   "cell_type": "markdown",
   "metadata": {},
   "source": [
    "<p>Исследование влияния значения коэффициента альфа</p>"
   ]
  },
  {
   "cell_type": "markdown",
   "metadata": {},
   "source": [
    "<p><b><i>Начальная точка 1</i></b></p>"
   ]
  },
  {
   "cell_type": "markdown",
   "metadata": {},
   "source": [
    "$$x_0 = -8$$\n",
    "$$\\alpha \\in \\{ 0.02, 0.05, 0.1, 0.2, 0.4, 0.6\\}$$\n",
    "$$err_{min} = 10^{-3}$$\n",
    "$$iteration_{max} = 20$$"
   ]
  },
  {
   "cell_type": "markdown",
   "metadata": {},
   "source": [
    "<img src=\"img/gd-one-var-alpha-left.png\">"
   ]
  },
  {
   "cell_type": "markdown",
   "metadata": {},
   "source": [
    "<p><b><i>Начальная точка 2</i></b></p>"
   ]
  },
  {
   "cell_type": "markdown",
   "metadata": {},
   "source": [
    "$$x_0 = 8$$\n",
    "$$\\alpha \\in \\{ 0.02, 0.05, 0.1, 0.2, 0.4, 0.6\\}$$\n",
    "$$err_{min} = 10^{-3}$$\n",
    "$$iteration_{max} = 20$$"
   ]
  },
  {
   "cell_type": "markdown",
   "metadata": {},
   "source": [
    "<img src=\"img/gd-one-var-alpha-right.png\">"
   ]
  },
  {
   "cell_type": "markdown",
   "metadata": {},
   "source": [
    "<p>Функция с двумя переменными</p>"
   ]
  },
  {
   "cell_type": "markdown",
   "metadata": {},
   "source": [
    "$$f(x_1, x_2) = 2x_1^2 + x_2^2 + x_1x_2$$\n",
    "$$\\frac {\\partial f(x_1, x_2)}{\\partial x_1}  = 4x_1 + x_2$$\n",
    "$$\\frac {\\partial f(x_1, x_2)}{\\partial x_1}  = 2x_2 + x_1$$"
   ]
  },
  {
   "cell_type": "code",
   "execution_count": null,
   "metadata": {
    "collapsed": false
   },
   "outputs": [],
   "source": [
    "f = lambda x1, x2: 2*x1**2 + x2**2 +x1*x2 #Функция\n",
    "dfx1 = lambda x1, x2: 4*x1 + x2 #Производная по x1\n",
    "dfx2 = lambda x1, x2: 2*x2 + x1 #Производная по x2\n",
    "\n",
    "coord_x1 = np.arange(-4, 5, 0.1) #Значения x c шагом 1\n",
    "coord_x2 = np.arange(-4, 5, 0.1) #Значения x c шагом 1\n",
    "\n",
    "x1, x2 = np.meshgrid(coord_x1, coord_x2)"
   ]
  },
  {
   "cell_type": "code",
   "execution_count": null,
   "metadata": {
    "collapsed": false
   },
   "outputs": [],
   "source": [
    "fig = plt.figure(1, figsize=(10, 10))\n",
    "\n",
    "ax0 = fig.add_subplot(2, 2, 1, projection=\"3d\")\n",
    "ax0.plot_surface(x1, x2, f(x1,x2), rstride=1, cstride=1, cmap=cm.coolwarm,\n",
    "                       linewidth=0, antialiased=True)\n",
    "ax0.set_xlabel(\"$x_1$\")\n",
    "ax0.set_ylabel(\"$x_2$\")\n",
    "ax0.set_zlabel(\"$f(x_1,x_2)$\")\n",
    "\n",
    "ax1 = plt.subplot(2,2,2)\n",
    "cf = ax1.contourf(x1, x2, f(x1,x2), 50, alpha=0.5, cmap=cm.coolwarm)\n",
    "plt.colorbar(cf)\n",
    "ax1.set_xlabel(\"$x_1$\")\n",
    "ax1.set_ylabel(\"$x_2$\")\n",
    "\n",
    "ax2 = plt.subplot(2,2,3)\n",
    "ax2.set_xlabel(\"$x_1$\")\n",
    "ax2.set_ylabel(\"$x_2$\")\n",
    "ax2.quiver(x1[0::5, 0::5], x2[0::5, 0::5], \n",
    "           dfx1(x1[0::5, 0::5],x2[0::5, 0::5]), dfx2(x1[0::5, 0::5],x2[0::5, 0::5]), scale=100)\n",
    "\n",
    "ax3 = plt.subplot(2,2,4)\n",
    "ax3.set_xlabel(\"$x_1$\")\n",
    "ax3.set_ylabel(\"$x_2$\")\n",
    "ax3.contourf(x1, x2, f(x1,x2), 50, cmap=cm.coolwarm)\n",
    "ax3.quiver(x1[0::5, 0::5], x2[0::5, 0::5], \n",
    "           dfx1(x1[0::5, 0::5],x2[0::5, 0::5]), dfx2(x1[0::5, 0::5],x2[0::5, 0::5]), scale=100)\n",
    "\n",
    "plt.tight_layout()\n",
    "\n",
    "plt.show()"
   ]
  },
  {
   "cell_type": "markdown",
   "metadata": {},
   "source": [
    "<p>Исследование влияния значения коэффициента альфа</p>"
   ]
  },
  {
   "cell_type": "markdown",
   "metadata": {},
   "source": [
    "<p><b><i>Начальная точка 1</i></b></p>"
   ]
  },
  {
   "cell_type": "markdown",
   "metadata": {},
   "source": [
    "$$x_{1,0} = 3$$\n",
    "$$x_{2,0} = 0$$\n",
    "$$\\alpha \\in \\{ 0.02, 0.05, 0.1, 0.2, 0.3, 0.45\\}$$\n",
    "$$err_{min} = 10^{-3}$$\n",
    "$$iteration_{max} = 20$$"
   ]
  },
  {
   "cell_type": "markdown",
   "metadata": {},
   "source": [
    "<img src=\"img/gd-two-var-alpha-right.png\">"
   ]
  },
  {
   "cell_type": "markdown",
   "metadata": {},
   "source": [
    "<p><b><i>Начальная точка 2</i></b></p>"
   ]
  },
  {
   "cell_type": "markdown",
   "metadata": {},
   "source": [
    "$$x_{1,0} = -3$$\n",
    "$$x_{2,0} = -2$$\n",
    "$$\\alpha \\in \\{ 0.02, 0.05, 0.1, 0.2, 0.3, 0.45\\}$$\n",
    "$$err_{min} = 10^{-3}$$\n",
    "$$iteration_{max} = 20$$"
   ]
  },
  {
   "cell_type": "markdown",
   "metadata": {},
   "source": [
    "<img src=\"img/gd-two-var-alpha-left.png\">"
   ]
  },
  {
   "cell_type": "markdown",
   "metadata": {},
   "source": [
    "<a name=\"4b\"></a>\n",
    "<div style=\"display:table; width:100%\">\n",
    "    <div style=\"display:table-row\">\n",
    "        <div style=\"display:table-cell; width:80%; font-style:italic; font-weight:bold; font-size:12pt\">\n",
    "            b. Градиентный спуск в задаче линейной регрессии\n",
    "        </div>\n",
    "        <div style=\"display:table-cell; border:1px solid lightgrey; width:20%\">\n",
    "            <div style=\"display:table-cell; width:10%; text-align:center; background-color:whitesmoke;\">\n",
    "                <a href=\"#4b\">Назад</a>\n",
    "            </div>\n",
    "            <div style=\"display:table-cell; width:10%; text-align:center;\">\n",
    "                <a href=\"#5\">Далее</a>\n",
    "            </div>\n",
    "        </div>\n",
    "    </div>\n",
    "</div>"
   ]
  },
  {
   "cell_type": "code",
   "execution_count": null,
   "metadata": {
    "collapsed": true
   },
   "outputs": [],
   "source": [
    "sx = df1[\"high_GPA\"]\n",
    "sy = df1[\"univ_GPA\"]"
   ]
  },
  {
   "cell_type": "markdown",
   "metadata": {},
   "source": [
    "<p>Определяем исходную функцию потерь и её частные производные</p>"
   ]
  },
  {
   "cell_type": "code",
   "execution_count": null,
   "metadata": {
    "collapsed": false
   },
   "outputs": [],
   "source": [
    "# Количество элементов в выборке\n",
    "n = len(sx)\n",
    "\n",
    "# Функция потерь (ошибки)  \n",
    "err = lambda x, y, w0, w1: 1 / n * sum([(w1 * x[i] + w0 - y[i]) ** 2 for i in range(n)])\n",
    "\n",
    "# Частные производные от функции потерь\n",
    "derr_w0 = lambda x, y, w0, w1: 2 / n * sum([1 * (w1 * x[i] + w0 - y[i]) for i in range(n)])\n",
    "derr_w1 = lambda x, y, w0, w1: 2 / n * sum([x[i] * (w1 * x[i] + w0 - y[i]) for i in range(n)])"
   ]
  },
  {
   "cell_type": "markdown",
   "metadata": {},
   "source": [
    "<p>Задаем критерии поиска</p>"
   ]
  },
  {
   "cell_type": "code",
   "execution_count": null,
   "metadata": {
    "collapsed": true
   },
   "outputs": [],
   "source": [
    "# Критерии поиска\n",
    "iter_num = 200\n",
    "min_err = 0.0001\n",
    "\n",
    "# Параметр альфа\n",
    "alpha = 0.05"
   ]
  },
  {
   "cell_type": "markdown",
   "metadata": {},
   "source": [
    "<p>Выполняем градиентный спуск для поиска коэффициентов линейной регрессии</p>"
   ]
  },
  {
   "cell_type": "code",
   "execution_count": null,
   "metadata": {
    "collapsed": false
   },
   "outputs": [],
   "source": [
    "i = 0\n",
    "w0_gd = 0; w1_gd = 0\n",
    "w0_prev = 4; w1_prev = 4\n",
    "\n",
    "while i < iter_num:\n",
    "\n",
    "    w0_gd = w0_prev - alpha * derr_w0(sx, sy, w0_prev, w1_prev)\n",
    "    w1_gd = w1_prev - alpha * derr_w1(sx, sy, w0_prev, w1_prev)\n",
    "\n",
    "    if abs(err(sx, sy, w0_gd, w1_gd) - err(sx, sy, w0_prev, w1_prev)) <= min_err:\n",
    "        break\n",
    "\n",
    "    w0_prev = w0_gd\n",
    "    w1_prev = w1_gd\n",
    "\n",
    "    i += 1\n",
    "\n",
    "w0_gd, w1_gd, i"
   ]
  },
  {
   "cell_type": "markdown",
   "metadata": {},
   "source": [
    "<p>Задаем линию регрессии с учетом найденных коэффициентов</p>"
   ]
  },
  {
   "cell_type": "code",
   "execution_count": null,
   "metadata": {
    "collapsed": true
   },
   "outputs": [],
   "source": [
    "f_pred_gd = lambda x: w1_gd * x + w0_gd"
   ]
  },
  {
   "cell_type": "markdown",
   "metadata": {},
   "source": [
    "<p>Отображаем линию регрессии</p>"
   ]
  },
  {
   "cell_type": "code",
   "execution_count": null,
   "metadata": {
    "collapsed": false
   },
   "outputs": [],
   "source": [
    "x_line = np.array([1.5, 4.5])\n",
    "\n",
    "plt.figure(\"3\", figsize=[10, 6])\n",
    "\n",
    "ax = plt.subplot(1,1,1)\n",
    "\n",
    "plt.scatter(sx, sy, label=\"(High_GPA-Univ_GPA)\")\n",
    "plt.plot(x_line, f_pred_1(x_line), \"-\", label=\"$f_1(x)=0.9*x+0.3$\")\n",
    "plt.plot(x_line, f_pred_2(x_line), \"-\", label=\"$f_2(x)=0.7*x+1.1$\")\n",
    "plt.plot(x_line, f_pred_3(x_line), \"-\", label=\"$f_3(x)=0.4*x+2.0$\")\n",
    "plt.plot(x_line, f_pred_ols(x_line), \"-\", linewidth=4, \n",
    "         label=\"$f_{OLS}(x)$\")\n",
    "plt.plot(x_line, f_pred_gd(x_line), \"-\", linewidth=2, color=\"black\",\n",
    "         label=\"$f_{GD}(x)$\")\n",
    "\n",
    "plt.xlabel(\"High_GPA\")\n",
    "plt.ylabel(\"Univ_GPA\")\n",
    "\n",
    "plt.axis([2, 4, 2, 4])\n",
    "\n",
    "plt.grid(True)\n",
    "ax.set_axisbelow(True) \n",
    "\n",
    "plt.legend()\n",
    "\n",
    "plt.show()"
   ]
  },
  {
   "cell_type": "markdown",
   "metadata": {},
   "source": [
    "<p>Определяем ошибку при градиентном спуске</p>"
   ]
  },
  {
   "cell_type": "code",
   "execution_count": null,
   "metadata": {
    "collapsed": false
   },
   "outputs": [],
   "source": [
    "err_gd = ((f_pred_gd(sx) - sy)**2).sum()\n",
    "err_gd"
   ]
  },
  {
   "cell_type": "markdown",
   "metadata": {},
   "source": [
    "<p>Выводим все значения полученных ошибок</p>"
   ]
  },
  {
   "cell_type": "code",
   "execution_count": null,
   "metadata": {
    "collapsed": false
   },
   "outputs": [],
   "source": [
    "err_1, err_2, err_3, err_ols, err_gd"
   ]
  },
  {
   "cell_type": "markdown",
   "metadata": {},
   "source": [
    "<p>Построим контурные графики для функции потерь (ошибки)</p>"
   ]
  },
  {
   "cell_type": "code",
   "execution_count": null,
   "metadata": {
    "collapsed": true
   },
   "outputs": [],
   "source": [
    "coord_w0 = np.arange(-4, 5, 0.1) #Значения x c шагом 0.1\n",
    "coord_w1 = np.arange(-4, 5, 0.1) #Значения x c шагом 0.1\n",
    "\n",
    "W0, W1 = np.meshgrid(coord_w0, coord_w1)"
   ]
  },
  {
   "cell_type": "code",
   "execution_count": null,
   "metadata": {
    "collapsed": true
   },
   "outputs": [],
   "source": [
    "coord_w0_large = np.arange(-400, 500, 1)\n",
    "coord_w1_large = np.arange(-400, 500, 1)\n",
    "\n",
    "W0_large, W1_large = np.meshgrid(coord_w0_large, coord_w1_large)"
   ]
  },
  {
   "cell_type": "code",
   "execution_count": null,
   "metadata": {
    "collapsed": false
   },
   "outputs": [],
   "source": [
    "plt.figure(\"12\",figsize=[12, 4])\n",
    "\n",
    "plt.subplot(1,2,1)\n",
    "plt.contour(W0, W1, err(sx, sy, W0, W1), 20, cmap=cm.bwr, alpha=0.5)\n",
    "plt.grid(True)\n",
    "plt.colorbar()\n",
    "\n",
    "plt.subplot(1,2,2)\n",
    "plt.contour(W0_large, W1_large, err(sx, sy, W0_large, W1_large), 20, cmap=cm.bwr, alpha=0.5)\n",
    "plt.grid(True)\n",
    "plt.colorbar()\n",
    "\n",
    "plt.show()"
   ]
  },
  {
   "cell_type": "markdown",
   "metadata": {},
   "source": [
    "<p>Стандартизируем иcходные значения выборки</p>"
   ]
  },
  {
   "cell_type": "code",
   "execution_count": null,
   "metadata": {
    "collapsed": false
   },
   "outputs": [],
   "source": [
    "# По x\n",
    "sx_mean = sx.mean()\n",
    "sx_std = sx.std()\n",
    "\n",
    "sx_stand = sx.apply(lambda el: (el - sx_mean) / sx_std)\n",
    "sx_stand.head(5)"
   ]
  },
  {
   "cell_type": "code",
   "execution_count": null,
   "metadata": {
    "collapsed": false
   },
   "outputs": [],
   "source": [
    "# По y\n",
    "sy_mean = sy.mean()\n",
    "sy_std = sy.std()\n",
    "\n",
    "sy_stand = sy.apply(lambda el: (el - sy_mean) / sy_std)\n",
    "sy_stand.head(5)"
   ]
  },
  {
   "cell_type": "code",
   "execution_count": null,
   "metadata": {
    "collapsed": false
   },
   "outputs": [],
   "source": [
    "x_line = np.array([1.5, 4.5])\n",
    "\n",
    "plt.figure(\"3\", figsize=[12, 4])\n",
    "\n",
    "ax = plt.subplot(1,2,1)\n",
    "\n",
    "plt.scatter(sx, sy, label=\"(High_GPA-Univ_GPA)\")\n",
    "plt.title(\"Initial\")\n",
    "plt.xlabel(\"High_GPA\")\n",
    "plt.ylabel(\"Univ_GPA\")\n",
    "\n",
    "plt.axis([2, 4, 2, 4])\n",
    "\n",
    "plt.grid(True)\n",
    "ax.set_axisbelow(True) \n",
    "\n",
    "plt.legend()\n",
    "\n",
    "ax = plt.subplot(1,2,2)\n",
    "\n",
    "plt.scatter(sx_stand, sy_stand, label=\"(High_GPA-Univ_GPA)\")\n",
    "plt.title(\"Standardized\")\n",
    "plt.xlabel(\"High_GPA\")\n",
    "plt.ylabel(\"Univ_GPA\")\n",
    "\n",
    "plt.grid(True)\n",
    "ax.set_axisbelow(True) \n",
    "\n",
    "plt.legend()\n",
    "\n",
    "\n",
    "plt.show()"
   ]
  },
  {
   "cell_type": "code",
   "execution_count": null,
   "metadata": {
    "collapsed": false
   },
   "outputs": [],
   "source": [
    "plt.figure(\"12\", figsize=[12, 4])\n",
    "\n",
    "plt.subplot(1,2,1)\n",
    "plt.contour(W0, W1, err(sx, sy, W0, W1), 20, cmap=cm.bwr, alpha=0.5)\n",
    "plt.title(\"Initial\")\n",
    "plt.xlabel(\"w0\")\n",
    "plt.ylabel(\"w1\")\n",
    "plt.grid(True)\n",
    "plt.colorbar()\n",
    "\n",
    "plt.subplot(1,2,2)\n",
    "plt.contour(W0, W1, err(sx_stand, sy_stand, W0, W1), 20, cmap=cm.bwr, alpha=0.5)\n",
    "plt.title(\"Standardized\")\n",
    "plt.xlabel(\"w0\")\n",
    "plt.ylabel(\"w1\")\n",
    "plt.grid(True)\n",
    "plt.colorbar()\n",
    "\n",
    "plt.show()"
   ]
  },
  {
   "cell_type": "code",
   "execution_count": null,
   "metadata": {
    "collapsed": true
   },
   "outputs": [],
   "source": [
    "# Критерии поиска\n",
    "iter_num_stand = 100\n",
    "min_err_stand = 0.0001\n",
    "\n",
    "# Параметр альфа\n",
    "alpha_stand = 0.05"
   ]
  },
  {
   "cell_type": "code",
   "execution_count": null,
   "metadata": {
    "collapsed": false
   },
   "outputs": [],
   "source": [
    "i = 0\n",
    "w0_gd_stand = 0; w1_gd_stand = 0\n",
    "w0_prev = 4; w1_prev = 4\n",
    "\n",
    "while i < iter_num_stand:\n",
    "\n",
    "    w0_gd_stand = w0_prev - alpha_stand * derr_w0(sx_stand, sy_stand, w0_prev, w1_prev)\n",
    "    w1_gd_stand = w1_prev - alpha_stand * derr_w1(sx_stand, sy_stand, w0_prev, w1_prev)\n",
    "\n",
    "    if abs(err(sx_stand, sy_stand, w0_gd_stand, w1_gd_stand) - err(sx_stand, sy_stand, w0_prev, w1_prev)) <= min_err_stand:\n",
    "        break\n",
    "\n",
    "    w0_prev = w0_gd_stand\n",
    "    w1_prev = w1_gd_stand\n",
    "\n",
    "    i += 1\n",
    "\n",
    "w0_gd_stand, w1_gd_stand, i"
   ]
  },
  {
   "cell_type": "code",
   "execution_count": null,
   "metadata": {
    "collapsed": true
   },
   "outputs": [],
   "source": [
    "f_pred_gr_stand = lambda x: w1_gd_stand * x + w0_gd_stand"
   ]
  },
  {
   "cell_type": "code",
   "execution_count": null,
   "metadata": {
    "collapsed": false
   },
   "outputs": [],
   "source": [
    "x_line_stand = np.array([-2, 2])\n",
    "\n",
    "plt.figure(\"3\", figsize=[10, 6])\n",
    "\n",
    "ax = plt.subplot(1,1,1)\n",
    "\n",
    "plt.scatter(sx_stand, sy_stand, label=\"(High_GPA-Univ_GPA)\")\n",
    "plt.plot(x_line_stand, f_pred_gr_stand(x_line_stand), \"-\", linewidth=2, color=\"black\",\n",
    "         label=\"$f_{StndGD}(x)$\")\n",
    "\n",
    "plt.xlabel(\"High_GPA\")\n",
    "plt.ylabel(\"Univ_GPA\")\n",
    "\n",
    "plt.grid(True)\n",
    "ax.set_axisbelow(True) \n",
    "\n",
    "plt.legend()\n",
    "\n",
    "plt.show()"
   ]
  },
  {
   "cell_type": "code",
   "execution_count": null,
   "metadata": {
    "collapsed": true
   },
   "outputs": [],
   "source": [
    "f_pred_gr_stand_recover = lambda x: sy_std * (w1_gd_stand / sx_std * (x - sx_mean)) + sy_mean"
   ]
  },
  {
   "cell_type": "code",
   "execution_count": null,
   "metadata": {
    "collapsed": false
   },
   "outputs": [],
   "source": [
    "x_line = np.array([1.5, 4.5])\n",
    "\n",
    "plt.figure(\"3\", figsize=[10, 6])\n",
    "\n",
    "ax = plt.subplot(1,1,1)\n",
    "\n",
    "plt.scatter(sx, sy, label=\"(High_GPA-Univ_GPA)\")\n",
    "plt.plot(x_line, f_pred_1(x_line), \"-\", label=\"$f_1(x)=0.9*x+0.3$\")\n",
    "plt.plot(x_line, f_pred_2(x_line), \"-\", label=\"$f_2(x)=0.7*x+1.1$\")\n",
    "plt.plot(x_line, f_pred_3(x_line), \"-\", label=\"$f_3(x)=0.4*x+2.0$\")\n",
    "plt.plot(x_line, f_pred_ols(x_line), \"-\", linewidth=4, \n",
    "         label=\"$f_{OLS}(x)$\")\n",
    "plt.plot(x_line, f_pred_gd(x_line), \"-\", linewidth=2, color=\"black\",\n",
    "         label=\"$f_{GD}(x)$\")\n",
    "plt.plot(x_line, f_pred_gr_stand_recover(x_line), \"-\", linewidth=2, color=\"cyan\",\n",
    "         label=\"$f_{StdGD}(x)$\")\n",
    "\n",
    "plt.xlabel(\"High_GPA\")\n",
    "plt.ylabel(\"Univ_GPA\")\n",
    "\n",
    "plt.axis([2, 4, 2, 4])\n",
    "\n",
    "plt.grid(True)\n",
    "ax.set_axisbelow(True) \n",
    "\n",
    "plt.legend()\n",
    "\n",
    "plt.show()"
   ]
  },
  {
   "cell_type": "code",
   "execution_count": null,
   "metadata": {
    "collapsed": false
   },
   "outputs": [],
   "source": [
    "err_gr_stand = ((f_pred_gr_stand_recover(sx) - sy)**2).sum()\n",
    "err_gr_stand"
   ]
  },
  {
   "cell_type": "code",
   "execution_count": null,
   "metadata": {
    "collapsed": false
   },
   "outputs": [],
   "source": [
    "err_1, err_2, err_3, err_ols, err_gd, err_gr_stand"
   ]
  },
  {
   "cell_type": "markdown",
   "metadata": {},
   "source": [
    "<p>Грубая проверка перебором</p>"
   ]
  },
  {
   "cell_type": "code",
   "execution_count": null,
   "metadata": {
    "collapsed": false
   },
   "outputs": [],
   "source": [
    "f(W0, W1).min(), f_stand(W0, W1).min()"
   ]
  },
  {
   "cell_type": "code",
   "execution_count": null,
   "metadata": {
    "collapsed": false
   },
   "outputs": [],
   "source": [
    "inxd_ws = np.argwhere(f(W0, W1).min() == f(W0, W1))\n",
    "inxd_ws"
   ]
  },
  {
   "cell_type": "code",
   "execution_count": null,
   "metadata": {
    "collapsed": false
   },
   "outputs": [],
   "source": [
    "W0[inxd_ws[0,0], inxd_ws[0,1]], W1[inxd_ws[0,0], inxd_ws[0,1]]"
   ]
  },
  {
   "cell_type": "code",
   "execution_count": null,
   "metadata": {
    "collapsed": false
   },
   "outputs": [],
   "source": [
    "inxd_ws_stand = np.argwhere(f_stand(W0, W1).min() == f_stand(W0, W1))\n",
    "inxd_ws_stand"
   ]
  },
  {
   "cell_type": "code",
   "execution_count": null,
   "metadata": {
    "collapsed": false
   },
   "outputs": [],
   "source": [
    "W0[inxd_ws_stand[0,0], inxd_ws_stand[0,1]], W1[inxd_ws_stand[0,0], inxd_ws_stand[0,1]]"
   ]
  }
 ],
 "metadata": {
  "kernelspec": {
   "display_name": "Python 3",
   "language": "python",
   "name": "python3"
  },
  "language_info": {
   "codemirror_mode": {
    "name": "ipython",
    "version": 3
   },
   "file_extension": ".py",
   "mimetype": "text/x-python",
   "name": "python",
   "nbconvert_exporter": "python",
   "pygments_lexer": "ipython3",
   "version": "3.5.2"
  }
 },
 "nbformat": 4,
 "nbformat_minor": 2
}
