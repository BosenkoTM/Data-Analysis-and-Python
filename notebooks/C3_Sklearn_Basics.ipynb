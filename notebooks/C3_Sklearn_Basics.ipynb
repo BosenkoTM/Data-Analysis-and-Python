{
 "cells": [
  {
   "cell_type": "markdown",
   "metadata": {},
   "source": [
    "# Основы разработки под sklearn\n",
    "---\n",
    "С.Ю. Папулин (papulin.study@yandex.ru)"
   ]
  },
  {
   "cell_type": "markdown",
   "metadata": {},
   "source": [
    "### Содержание\n",
    "\n",
    "- [Общие сведения](#Общие-сведения)\n",
    "- [Реализация модели предсказания](#Реализация-модели-предсказания)\n",
    "- [Реализация транформации](#Реализация-транформации)\n",
    "- [Применение `Pipeline`](#Применение-Pipeline)\n",
    "- [Источники](#Источники)"
   ]
  },
  {
   "cell_type": "code",
   "execution_count": null,
   "metadata": {},
   "outputs": [],
   "source": [
    "import numpy as np\n",
    "import matplotlib.pyplot as plt\n",
    "%matplotlib inline"
   ]
  },
  {
   "cell_type": "markdown",
   "metadata": {},
   "source": [
    "## Общие сведения"
   ]
  },
  {
   "cell_type": "markdown",
   "metadata": {},
   "source": [
    "Объекты `sklearn`:\n",
    "- **Estimator**: `fit` и `partial_fit` (дообучение)\n",
    "- **Predictor**: `predict` + для классификации дополнительно `decision_function` и/или `predict_proba`\n",
    "- **Transformer**: `transform` и `fit_transform`\n",
    "- **Model**: `score`"
   ]
  },
  {
   "cell_type": "markdown",
   "metadata": {},
   "source": [
    "Аргументы методов:\n",
    "- `fit(X, y, **kwargs) -> self`\n",
    "- `partial_fit(X, y, **kwargs) -> self`\n",
    "- `score(X, y, **kwargs) -> float`\n",
    "- `set_params(*args, **kwargs)` и `get_params(deep=True) -> dict`\n",
    "- `transform(X, **kwargs) -> X_t`\n",
    "- `fit_transform(X, y, **kwargs) -> X_t`\n",
    "\n",
    "`X` - массив размера (n_samples, n_features), `y` - массив размера (n_samples,)\n",
    "\n",
    "Результат оценки (обучения):\n",
    "- `coef_`, `idf_` и пр.\n",
    "\n",
    "Перезаписываются каждый раз после вызова `fit`"
   ]
  },
  {
   "cell_type": "markdown",
   "metadata": {},
   "source": [
    "## Реализация модели предсказания"
   ]
  },
  {
   "cell_type": "code",
   "execution_count": null,
   "metadata": {},
   "outputs": [],
   "source": [
    "from sklearn.base import BaseEstimator, RegressorMixin\n",
    "from sklearn.utils.validation import check_X_y, check_array, check_is_fitted"
   ]
  },
  {
   "cell_type": "code",
   "execution_count": null,
   "metadata": {},
   "outputs": [],
   "source": [
    "help(BaseEstimator)"
   ]
  },
  {
   "cell_type": "code",
   "execution_count": null,
   "metadata": {},
   "outputs": [],
   "source": [
    "help(RegressorMixin)"
   ]
  },
  {
   "cell_type": "code",
   "execution_count": null,
   "metadata": {},
   "outputs": [],
   "source": [
    "class CustomLinearRegression(RegressorMixin, BaseEstimator):\n",
    "    \n",
    "    def __init__(self, method='ols'):\n",
    "        self.method = method\n",
    "    \n",
    "    def fit(self, X, y):\n",
    "        X, y = check_X_y(X, y)\n",
    "        # TODO: change X a bit\n",
    "        X_ = X\n",
    "        try:\n",
    "            self.coef_ = np.linalg.inv(X_.T @ X_) @ X_.T @ y\n",
    "        except:\n",
    "            raise ValueError\n",
    "        return self\n",
    "    \n",
    "    def predict(self, X):\n",
    "        check_is_fitted(self, 'coef_')\n",
    "        X = check_array(X)\n",
    "        # TODO: change X a bit\n",
    "        X_ = X\n",
    "        return X_ @ self.coef_"
   ]
  },
  {
   "cell_type": "markdown",
   "metadata": {},
   "source": [
    "Доступ к параметрам"
   ]
  },
  {
   "cell_type": "code",
   "execution_count": null,
   "metadata": {},
   "outputs": [],
   "source": [
    "model = CustomLinearRegression()\n",
    "model.get_params(deep=True)"
   ]
  },
  {
   "cell_type": "code",
   "execution_count": null,
   "metadata": {},
   "outputs": [],
   "source": [
    "model.set_params(method='gd')"
   ]
  },
  {
   "cell_type": "markdown",
   "metadata": {},
   "source": [
    "Проверка на совместимость с `sklearn`"
   ]
  },
  {
   "cell_type": "code",
   "execution_count": null,
   "metadata": {},
   "outputs": [],
   "source": [
    "from sklearn.utils.estimator_checks import check_estimator\n",
    "from sklearn.base import is_regressor "
   ]
  },
  {
   "cell_type": "code",
   "execution_count": null,
   "metadata": {},
   "outputs": [],
   "source": [
    "check_estimator(CustomLinearRegression())"
   ]
  },
  {
   "cell_type": "code",
   "execution_count": null,
   "metadata": {},
   "outputs": [],
   "source": [
    "# Note: Based on _estimator_type\n",
    "is_regressor(CustomLinearRegression())"
   ]
  },
  {
   "cell_type": "markdown",
   "metadata": {},
   "source": [
    "Совместимые с `sklearn` объекты можно использовать в `GridSearchCV` для выбора моделей и в `Pipeline` для организации последовательности обработки данных."
   ]
  },
  {
   "cell_type": "markdown",
   "metadata": {},
   "source": [
    "### Пример"
   ]
  },
  {
   "cell_type": "code",
   "execution_count": null,
   "metadata": {},
   "outputs": [],
   "source": [
    "def generate_data(n=100, start_x=4, length_x=8, mu=0, sigma=0.5):\n",
    "    from scipy import stats\n",
    "    f = lambda x: 2 + 0.3*x\n",
    "    x = stats.uniform.rvs(size=n, loc=start_x, scale=length_x)\n",
    "    e = stats.norm.rvs(size=n, loc=mu, scale=sigma)\n",
    "    return x.reshape(-1,1), f(x) + e"
   ]
  },
  {
   "cell_type": "code",
   "execution_count": null,
   "metadata": {},
   "outputs": [],
   "source": [
    "X, y = generate_data()"
   ]
  },
  {
   "cell_type": "code",
   "execution_count": null,
   "metadata": {},
   "outputs": [],
   "source": [
    "plt.figure(1, figsize=[4, 4])\n",
    "\n",
    "plt.subplot(1,1,1)\n",
    "plt.scatter(X[:,0], y, color=\"green\", label=\"Sample\", zorder=2)\n",
    "plt.legend()\n",
    "plt.xlabel(\"$x$\")\n",
    "plt.ylabel(\"$f(x)$\")\n",
    "plt.grid(True)"
   ]
  },
  {
   "cell_type": "code",
   "execution_count": null,
   "metadata": {},
   "outputs": [],
   "source": [
    "from sklearn.model_selection import train_test_split"
   ]
  },
  {
   "cell_type": "code",
   "execution_count": null,
   "metadata": {},
   "outputs": [],
   "source": [
    "X_train, X_test, y_train, y_test = train_test_split(X, y, test_size=0.3, random_state=10)\n",
    "X_train[:5], y_train[:5]"
   ]
  },
  {
   "cell_type": "code",
   "execution_count": null,
   "metadata": {},
   "outputs": [],
   "source": [
    "model = CustomLinearRegression()"
   ]
  },
  {
   "cell_type": "code",
   "execution_count": null,
   "metadata": {},
   "outputs": [],
   "source": [
    "model.fit(X_train, y_train)"
   ]
  },
  {
   "cell_type": "code",
   "execution_count": null,
   "metadata": {},
   "outputs": [],
   "source": [
    "\"\"\"\n",
    "TODO: \n",
    " - fit on train, \n",
    " - score on test, \n",
    " - show coef_\n",
    " - plot regression line\n",
    "\"\"\""
   ]
  },
  {
   "cell_type": "markdown",
   "metadata": {},
   "source": [
    "## Реализация транформации"
   ]
  },
  {
   "cell_type": "code",
   "execution_count": null,
   "metadata": {},
   "outputs": [],
   "source": [
    "class CustomStandardTransformer():\n",
    "    \n",
    "    def __init__(self):\n",
    "        pass\n",
    "    \n",
    "    def fit():\n",
    "        pass\n",
    "    \n",
    "    def fit_transform():\n",
    "        pass\n",
    "    \n",
    "    def transform():\n",
    "        pass"
   ]
  },
  {
   "cell_type": "markdown",
   "metadata": {},
   "source": [
    "## Применение Pipeline"
   ]
  },
  {
   "cell_type": "code",
   "execution_count": null,
   "metadata": {},
   "outputs": [],
   "source": [
    "from sklearn.pipeline import Pipeline"
   ]
  },
  {
   "cell_type": "code",
   "execution_count": null,
   "metadata": {},
   "outputs": [],
   "source": [
    "pipeline = Pipeline([\n",
    "    (\"standartizer\", CustomStandardTransformer()),\n",
    "    (\"regressor\", CustomLinearRegression(method='gd'))\n",
    "])\n",
    "\n",
    "\"\"\"\n",
    "TODO: \n",
    " - fit on train, \n",
    " - score on test, \n",
    " - show coef_\n",
    " - plot regression line\n",
    "\"\"\""
   ]
  },
  {
   "cell_type": "markdown",
   "metadata": {},
   "source": [
    "## Источники"
   ]
  },
  {
   "cell_type": "markdown",
   "metadata": {},
   "source": [
    "- [Developing scikit-learn estimators](https://scikit-learn.org/stable/developers/develop.html)\n",
    "- [Utilities for Developers](https://scikit-learn.org/stable/developers/utilities.html#developers-utils)\n",
    "- [Glossary of Common Terms and API Elements](https://scikit-learn.org/stable/glossary.html#glossary)\n",
    "- [A template for scikit-learn contributions](https://github.com/scikit-learn-contrib/project-template)"
   ]
  },
  {
   "cell_type": "code",
   "execution_count": null,
   "metadata": {},
   "outputs": [],
   "source": []
  }
 ],
 "metadata": {
  "kernelspec": {
   "display_name": "Python 3",
   "language": "python",
   "name": "python3"
  },
  "language_info": {
   "codemirror_mode": {
    "name": "ipython",
    "version": 3
   },
   "file_extension": ".py",
   "mimetype": "text/x-python",
   "name": "python",
   "nbconvert_exporter": "python",
   "pygments_lexer": "ipython3",
   "version": "3.7.3"
  }
 },
 "nbformat": 4,
 "nbformat_minor": 2
}
