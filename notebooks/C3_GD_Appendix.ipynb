{
 "cells": [
  {
   "cell_type": "markdown",
   "metadata": {},
   "source": [
    "<div style=\"font-size:18pt; padding-top:20px; text-align:center; line-height: 1.5;\">СЕМИНАР. <b>Оптимизация. Часть 1.</b> Исследование влияния значения коэффициента альфа в градиентном спуске</div><hr>\n",
    "<div style=\"text-align:right;\">Папулин С.Ю. <span style=\"font-style: italic;font-weight: bold;\">(papulin.study@yandex.ru)</span></div>"
   ]
  },
  {
   "cell_type": "code",
   "execution_count": null,
   "metadata": {
    "collapsed": true
   },
   "outputs": [],
   "source": [
    "import numpy as np\n",
    "import pandas as pnd\n",
    "import matplotlib.pyplot as plt\n",
    "from mpl_toolkits.mplot3d import Axes3D\n",
    "from matplotlib import cm\n",
    "%matplotlib inline"
   ]
  },
  {
   "cell_type": "code",
   "execution_count": null,
   "metadata": {
    "collapsed": true
   },
   "outputs": [],
   "source": [
    "alpha = 0.05\n",
    "x_min = 8\n",
    "iterNum = 20\n",
    "\n",
    "plotFunc1D(x, f, df, \"f(x) = x^2+10\\cos(x)\")\n",
    "plt.plot(x_min, f(x_min), 'o', color = \"green\")\n",
    "\n",
    "for i in range(iterNum):\n",
    "    xy = (x_min, f(x_min))\n",
    "    \n",
    "    x_min = x_min - alpha * df(x_min)\n",
    "    \n",
    "    plt.plot(x_min, f(x_min), 'o', color = \"blue\")\n",
    "    plt.annotate(\"\", xy=xy, xytext=(x_min, f(x_min)), arrowprops=dict(arrowstyle=\"<-\", color=\"grey\",  linestyle =\"dashed\"))\n",
    "    \n",
    "plt.plot(x_min, f(x_min), 'o', color = \"red\")\n",
    "plt.annotate(\"\", xy=(8,f(8)), xytext=(x_min, f(x_min)), arrowprops=dict(arrowstyle=\"<-\", color=\"red\"))\n",
    "plt.show()"
   ]
  },
  {
   "cell_type": "code",
   "execution_count": null,
   "metadata": {
    "collapsed": true
   },
   "outputs": [],
   "source": [
    "def plotInit(x, f, df, startX, alpha):\n",
    "    plt.plot(x, f(x))\n",
    "    plt.plot(x, df(x))\n",
    "    plt.grid(True)\n",
    "    strF = \"Alpha = \" + str(alpha) + \", Start Point: x = \" + str(startX)\n",
    "    plt.title(strF)\n",
    "    plt.xlabel(\"X\")\n",
    "    plt.ylabel(\"Y\")\n",
    "    plt.legend((\"$f(x)$\", \"$f^{\\prime}(x)$\"), loc=\"lower right\")\n",
    "    plt.plot(startX, f(startX), 'o', color = \"green\")   \n",
    "\n",
    "def plotEndState(x_min, f_min, startX, numI):\n",
    "    plt.plot(x_min, f_min, 'o', color = \"red\")\n",
    "    text = \"Number of iterations: \"+str(numI) + \"\\nx_min = \" + \\\n",
    "        str(np.around(x_min, decimals = 2)) +\", f_min = \" + str(np.around(f_min, decimals = 2))\n",
    "    plt.annotate(text, (0.15, 0.85), xytext=(0.15, 0.85), textcoords=\"axes fraction\", size=14)\n",
    "\n",
    "def plotStartEndPosition(x_curr, x_st, f_curr, f_st):\n",
    "    plt.annotate(\"\", xy=(x_st,f_st), xytext=(x_curr, f_curr), arrowprops=dict(arrowstyle=\"<-\", color=\"red\"))\n",
    "    \n",
    "def plotCurrentPoint(x_curr, x_prev, f_curr, f_prev):\n",
    "    if abs(x_curr - x_prev) > 0.001 and abs(f_curr - f_prev) > 0.001:\n",
    "        plt.annotate(\"\", xy=(x_prev, f_prev), xytext=(x_curr, f_curr), arrowprops=dict(arrowstyle=\"<-\", color=\"grey\",  \n",
    "                                                                                   linestyle =\"dashed\"))\n",
    "    plt.plot(x_curr, f_curr, 'o', color = \"blue\")"
   ]
  },
  {
   "cell_type": "code",
   "execution_count": null,
   "metadata": {
    "collapsed": true
   },
   "outputs": [],
   "source": [
    "def gradientDescent(alpha, f, df, iterNum, err, startX):\n",
    "    \n",
    "    x_min = startX\n",
    "    x_min_prev = startX\n",
    "    \n",
    "    f_prev = f(startX)\n",
    "    f_curr = 0\n",
    "    \n",
    "    i = 0\n",
    "    stop = False\n",
    "    \n",
    "    while i < iterNum and not stop:\n",
    "        \n",
    "        x_min = x_min - alpha * df(x_min)\n",
    "        f_curr = f(x_min)\n",
    "        \n",
    "        if abs(f_prev - f_curr) <= err:\n",
    "            stop = True\n",
    "        \n",
    "        plotCurrentPoint(x_min, x_min_prev, f_curr, f_prev)\n",
    "        \n",
    "        x_min_prev = x_min\n",
    "        f_prev = f_curr\n",
    "        \n",
    "        i += 1\n",
    "                     \n",
    "    return (x_min, f_curr, i)"
   ]
  },
  {
   "cell_type": "code",
   "execution_count": null,
   "metadata": {
    "collapsed": true
   },
   "outputs": [],
   "source": [
    "def plotGraphics(st_x, maxIter, err, f, df, x, alphas):\n",
    "    \n",
    "    numPlt = len(alphas)\n",
    "    numClmns = 2\n",
    "    numRows = np.ceil(numPlt / numClmns)\n",
    "\n",
    "    plt.figure(1, figsize=(numClmns*5, numRows*5))\n",
    "    \n",
    "    def plotOneGraphic(grNum, alpha):\n",
    "        plt.subplot(numRows, numClmns,grNum+1)\n",
    "        plotInit(x, f, df, st_x, alpha)\n",
    "        x_min, f_min, numI = gradientDescent(alpha, f, df, maxIter, err, st_x)\n",
    "        plotEndState(x_min, f_min, st_x, numI)\n",
    "        plotStartEndPosition(x_min, st_x, f_min, f(st_x))\n",
    "\n",
    "    \n",
    "    [plotOneGraphic(i, alphas[i]) for i in range(numPlt)] "
   ]
  },
  {
   "cell_type": "markdown",
   "metadata": {},
   "source": [
    "$$f(x) = x^2 + 10 \\sin(x)$$"
   ]
  },
  {
   "cell_type": "code",
   "execution_count": null,
   "metadata": {
    "collapsed": true
   },
   "outputs": [],
   "source": [
    "f = lambda x: x**2 + 10 * np.sin(x) #Функция\n",
    "df = lambda x: 2*x + 10 * np.cos(x) #Производная\n",
    "\n",
    "x = np.arange(-10, 10, 0.1) #Значения x c шагом 0.1"
   ]
  },
  {
   "cell_type": "code",
   "execution_count": null,
   "metadata": {
    "collapsed": false
   },
   "outputs": [],
   "source": [
    "st_x = -8 #начальная точка\n",
    "maxIter = 20 #максимальное количество итераций\n",
    "err = 1e-3 #минимальное изменение функции (ошибка)\n",
    "alphas = [0.02, 0.05, 0.1, 0.2, 0.4, 0.6] #список коэффициентов alpha\n",
    "\n",
    "plotGraphics(st_x, maxIter, err, f, df, x, alphas)"
   ]
  },
  {
   "cell_type": "code",
   "execution_count": null,
   "metadata": {
    "collapsed": false
   },
   "outputs": [],
   "source": [
    "st_x = 8 #начальная точка\n",
    "maxIter = 20 #максимальное количество итераций\n",
    "err = 1e-3 #минимальное изменение функции (ошибка)\n",
    "alphas = [0.02, 0.05, 0.1, 0.2, 0.4, 0.6] #список коэффициентов alpha\n",
    "\n",
    "plotGraphics(st_x, maxIter, err, f, df, x, alphas)"
   ]
  },
  {
   "cell_type": "markdown",
   "metadata": {},
   "source": [
    "<p>Функция с двумя переменными $f(x,y)$</p>"
   ]
  },
  {
   "cell_type": "markdown",
   "metadata": {},
   "source": [
    "$$f(x_1, x_2) = 2x_1^2 + x_2^2 + x_1x_2$$"
   ]
  },
  {
   "cell_type": "code",
   "execution_count": null,
   "metadata": {
    "collapsed": true
   },
   "outputs": [],
   "source": [
    "f = lambda x, y: 2*x**2 + y**2 +x*y #Функция\n",
    "dfx = lambda x, y: 4*x + y #Производная по x\n",
    "dfy = lambda x, y: 2*y + x #Производная по y\n",
    "\n",
    "coord_x = np.arange(-4, 5, 0.1) #Значения x c шагом 1\n",
    "coord_y = np.arange(-4, 5, 0.1) #Значения x c шагом 1\n",
    "\n",
    "x, y = np.meshgrid(coord_x, coord_y)"
   ]
  },
  {
   "cell_type": "code",
   "execution_count": null,
   "metadata": {
    "collapsed": false
   },
   "outputs": [],
   "source": [
    "fig = plt.figure(1, figsize=(10, 10))\n",
    "\n",
    "ax0 = fig.add_subplot(2, 2, 1, projection=\"3d\")\n",
    "ax0.plot_surface(x, y, f(x,y), rstride=1, cstride=1, cmap=cm.coolwarm,\n",
    "                       linewidth=0, antialiased=True)\n",
    "ax0.set_title(\"$f(x,y)=2x^2+y^2+xy$\")\n",
    "ax0.set_xlabel(\"x\")\n",
    "ax0.set_ylabel(\"y\")\n",
    "ax0.set_zlabel(\"f(x,y)\")\n",
    "\n",
    "ax1 = plt.subplot(2,2,2)\n",
    "cf = ax1.contourf(x, y, f(x,y), 50, alpha=0.5, cmap=cm.coolwarm)\n",
    "plt.colorbar(cf)\n",
    "ax1.set_title(\"$f(x,y)=2x^2+y^2+xy$\")\n",
    "ax1.set_xlabel('x')\n",
    "ax1.set_ylabel('y')\n",
    "\n",
    "ax2 = plt.subplot(2,2,3)\n",
    "ax2.set_title(\"Gradient\")\n",
    "ax2.set_xlabel(\"x\")\n",
    "ax2.set_ylabel(\"y\")\n",
    "ax2.quiver(x[0::5, 0::5], y[0::5, 0::5], dfx(x[0::5, 0::5],y[0::5, 0::5]), dfy(x[0::5, 0::5],y[0::5, 0::5]), scale=100)\n",
    "\n",
    "ax3 = plt.subplot(2,2,4)\n",
    "ax3.set_xlabel(\"x\")\n",
    "ax3.set_ylabel(\"y\")\n",
    "ax3.set_title(\"Gradient\")\n",
    "ax3.contourf(x, y, f(x,y), 50, cmap=cm.coolwarm)\n",
    "ax3.quiver(x[0::5, 0::5], y[0::5, 0::5], dfx(x[0::5, 0::5],y[0::5, 0::5]), dfy(x[0::5, 0::5],y[0::5, 0::5]), scale=100)\n",
    "\n",
    "plt.tight_layout()\n",
    "\n",
    "plt.show()"
   ]
  },
  {
   "cell_type": "code",
   "execution_count": null,
   "metadata": {
    "collapsed": false
   },
   "outputs": [],
   "source": [
    "def plotInit2D(x, y, f, startX, startY):\n",
    "    plt.contourf(x, y, f(x,y), 10, alpha=0.5, cmap=cm.coolwarm)\n",
    "    #plt.colorbar(cf)\n",
    "    plt.grid(True)\n",
    "    plt.plot(startX, startY, 'o', color = \"green\")   \n",
    "\n",
    "def plotEndState2D(x_min, y_min, f_min, alpha, startX, startY, numI):\n",
    "    plt.plot(x_min, y_min, 'o', color = \"red\")\n",
    "    plt.xlabel(\"X1\")\n",
    "    plt.ylabel(\"X2\")\n",
    "    plt.title(\"$\\\\alpha = \" + str(alpha) + \"$, Start Point: $x_{1,0} = \" + str(startX) + \"$, $x_{2,0} = \" + str(startY) +\"$\" )\n",
    "    text = \"Number of iterations: \"+str(numI) + \"\\n $x_{1,min} = \" + \\\n",
    "        str(np.around(x_min, decimals = 2)) +\"$, $x_{2,min} = \" + str(np.around(y_min, decimals = 2)) +\"$ \\n\" + \\\n",
    "        \"$f(x_{1,min}, x_{2,min}) = \" + str(np.around(f_min, decimals = 4)) + \"$\"\n",
    "    plt.annotate(text, (0.10, 0.80), xytext=(0.10, 0.75), textcoords=\"axes fraction\", size=14)\n",
    "    \n",
    "def plotGraphics2D(st_x, st_y, maxIter, err, f, dfx, dfy, x, y, alphas, grType=0):\n",
    "    \n",
    "    numPlt = len(alphas)\n",
    "    numClmns = 2\n",
    "    numRows = np.ceil(numPlt / numClmns)\n",
    "\n",
    "    plt.figure(2, figsize=(numClmns*5, numRows*5))\n",
    "    \n",
    "    def plotOneGraphic(grNum, alpha):\n",
    "        plt.subplot(numRows, numClmns,grNum+1)\n",
    "        plotInit2D(x, y, f, st_x, st_y)\n",
    "        x_min, y_min, numI = 0, 0, 0\n",
    "        if grType == 1:\n",
    "            x_min, y_min, numI = stochasticGradientDescent2D(alpha, f, dfx, dfy, maxIter, err, st_x, st_y)\n",
    "        else:\n",
    "            x_min, y_min, numI = gradientDescent2D(alpha, f, dfx, dfy, maxIter, err, st_x, st_y)\n",
    "            \n",
    "        plotEndState2D(x_min, y_min, f(x_min, y_min), alpha, st_x, st_y, numI)\n",
    "        plotStartEndPosition(x_min, st_x, y_min, st_y)\n",
    "        return (x_min, y_min)\n",
    "\n",
    "    \n",
    "    return [plotOneGraphic(i, alphas[i]) for i in range(numPlt)]"
   ]
  },
  {
   "cell_type": "code",
   "execution_count": null,
   "metadata": {
    "collapsed": true
   },
   "outputs": [],
   "source": [
    "def gradientDescent2D(alpha, f, dfx, dfy, iterNum, err, startX, startY):\n",
    "    x_min = startX\n",
    "    x_min_prev = startX\n",
    "    \n",
    "    y_min = startY\n",
    "    y_min_prev = startY\n",
    "    \n",
    "    i = 0\n",
    "    stop = False\n",
    "    \n",
    "    while i < iterNum and not stop:\n",
    "        \n",
    "        x_min = x_min - alpha * dfx(x_min_prev, y_min_prev)\n",
    "        y_min = y_min - alpha * dfy(x_min_prev, y_min_prev)\n",
    "        \n",
    "        if abs(f(x_min, y_min) - f(x_min_prev, y_min_prev)) <= err:\n",
    "            stop = True\n",
    "\n",
    "        plotCurrentPoint(x_min, x_min_prev, y_min, y_min_prev)\n",
    "        #plt.plot(x_min, y_min, 'o', color = \"blue\")\n",
    "        \n",
    "        x_min_prev = x_min\n",
    "        y_min_prev = y_min\n",
    "\n",
    "        i += 1\n",
    "        \n",
    "    return (x_min, y_min, i)"
   ]
  },
  {
   "cell_type": "code",
   "execution_count": null,
   "metadata": {
    "collapsed": false
   },
   "outputs": [],
   "source": [
    "st_x = 3\n",
    "st_y = 0\n",
    "maxIter = 20\n",
    "err = 0.001\n",
    "alphas = [0.01, 0.05, 0.1, 0.2, 0.3, 0.45]\n",
    "\n",
    "plotGraphics2D(st_x, st_y, maxIter, err, f, dfx, dfy, x, y, alphas)"
   ]
  },
  {
   "cell_type": "code",
   "execution_count": null,
   "metadata": {
    "collapsed": false
   },
   "outputs": [],
   "source": [
    "st_x = -3\n",
    "st_y = -2\n",
    "maxIter = 20\n",
    "err = 0.001\n",
    "alphas = [0.01, 0.05, 0.1, 0.2, 0.3, 0.45]\n",
    "\n",
    "plotGraphics2D(st_x, st_y, maxIter, err, f, dfx, dfy, x, y, alphas)"
   ]
  },
  {
   "cell_type": "code",
   "execution_count": null,
   "metadata": {
    "collapsed": true
   },
   "outputs": [],
   "source": []
  },
  {
   "cell_type": "code",
   "execution_count": null,
   "metadata": {
    "collapsed": true
   },
   "outputs": [],
   "source": []
  }
 ],
 "metadata": {
  "kernelspec": {
   "display_name": "Python 3",
   "language": "python",
   "name": "python3"
  },
  "language_info": {
   "codemirror_mode": {
    "name": "ipython",
    "version": 3
   },
   "file_extension": ".py",
   "mimetype": "text/x-python",
   "name": "python",
   "nbconvert_exporter": "python",
   "pygments_lexer": "ipython3",
   "version": "3.5.2"
  }
 },
 "nbformat": 4,
 "nbformat_minor": 2
}
