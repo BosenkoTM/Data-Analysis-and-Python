{
 "cells": [
  {
   "cell_type": "markdown",
   "metadata": {},
   "source": [
    "# Simple Linear Regression\n",
    "\n",
    "<hr>\n",
    "\n",
    "Sergei Yu. Papulin (papulin.study@yandex.ru)"
   ]
  },
  {
   "cell_type": "markdown",
   "metadata": {},
   "source": [
    "<a name=\"0\"></a>\n",
    "<div><span style=\"font-size:16pt; font-weight:bold\">Contents</span>\n",
    "    <ol>\n",
    "        <li><a href=\"#1\">Loading Initial Data</a></li>\n",
    "        <li><a href=\"#2\">Defining Linear Regression Task</a></li>\n",
    "        <li><a href=\"#3\">Ordinary Least Squares</a></li>\n",
    "        <li><a href=\"#4\">Gradient Descent</a></li>\n",
    "        <li><a href=\"#5\">Stochastic Gradient Descent</a></li>\n",
    "        <li><a href=\"#6\">References</a></li>\n",
    "    </ol>\n",
    "</div>"
   ]
  },
  {
   "cell_type": "markdown",
   "metadata": {},
   "source": [
    "Import modules and functions that will be used later"
   ]
  },
  {
   "cell_type": "code",
   "execution_count": null,
   "metadata": {},
   "outputs": [],
   "source": [
    "import numpy as np\n",
    "import pandas as pd\n",
    "\n",
    "import matplotlib.pyplot as plt\n",
    "from mpl_toolkits.mplot3d import Axes3D\n",
    "from matplotlib import cm\n",
    "%matplotlib inline"
   ]
  },
  {
   "cell_type": "markdown",
   "metadata": {},
   "source": [
    "<a name=\"1\"></a>\n",
    "<div style=\"display:table; width:100%; padding-top:10px; padding-bottom:10px; border-bottom:1px solid lightgrey\">\n",
    "    <div style=\"display:table-row\">\n",
    "        <div style=\"display:table-cell; width:80%; font-size:16pt; font-weight:bold\">1. Loading Initial Data</div>\n",
    "    \t<div style=\"display:table-cell; width:20%; text-align:center; background-color:whitesmoke; border:1px solid lightgrey\"><a href=\"#0\">To contents</a></div>\n",
    "    </div>\n",
    "</div>"
   ]
  },
  {
   "cell_type": "markdown",
   "metadata": {},
   "source": [
    "Create a dataframe from the csv-file of student grades and show the first 5 records/samples:"
   ]
  },
  {
   "cell_type": "code",
   "execution_count": null,
   "metadata": {},
   "outputs": [],
   "source": [
    "FILE_PATH = \"../data/SAT_GPA.csv\""
   ]
  },
  {
   "cell_type": "code",
   "execution_count": null,
   "metadata": {},
   "outputs": [],
   "source": [
    "df1 = pd.read_csv(FILE_PATH, sep=\" \")\n",
    "df1.head(5)"
   ]
  },
  {
   "cell_type": "markdown",
   "metadata": {},
   "source": [
    "Display a `high_GPA`-`univ_GRA` scatter plot for the loaded data:"
   ]
  },
  {
   "cell_type": "code",
   "execution_count": null,
   "metadata": {},
   "outputs": [],
   "source": [
    "# Scatter plot\n",
    "\n",
    "sx = df1[\"high_GPA\"]\n",
    "sy = df1[\"univ_GPA\"]\n",
    "\n",
    "plt.figure(\"1\", figsize=[10, 6])\n",
    "\n",
    "plt.subplot(1,1,1)\n",
    "\n",
    "plt.scatter(sx, sy, color=\"slategrey\")\n",
    "plt.xlabel(\"High_GPA\")\n",
    "plt.ylabel(\"Univ_GPA\")\n",
    "plt.axis([2, 4, 2, 4])\n",
    "plt.grid(True)\n",
    "\n",
    "\n",
    "# Single Point\n",
    "\n",
    "xA = df1.loc[36, \"high_GPA\"]\n",
    "yA = df1.loc[36, \"univ_GPA\"]\n",
    "\n",
    "xyA = \"$(\"+str(xA)+\",\"+str(yA)+\")$\"\n",
    "plt.annotate(xyA, xy=(xA, yA), xytext=(50, -100), xycoords=\"data\", textcoords=\"offset points\", \n",
    "             arrowprops=dict(arrowstyle=\"->\", connectionstyle=\"arc,angleA=0,armA=0,angleB=-90,armB=15,rad=7\"),)\n",
    "plt.show()"
   ]
  },
  {
   "cell_type": "markdown",
   "metadata": {},
   "source": [
    "<a name=\"2\"></a>\n",
    "<div style=\"display:table; width:100%; padding-top:10px; padding-bottom:10px; border-bottom:1px solid lightgrey\">\n",
    "    <div style=\"display:table-row\">\n",
    "        <div style=\"display:table-cell; width:80%; font-size:16pt; font-weight:bold\">2. Defining Linear Regression Task</div>\n",
    "    \t<div style=\"display:table-cell; width:20%; text-align:center; background-color:whitesmoke; border:1px solid lightgrey\"><a href=\"#0\">To contents</a></div>\n",
    "    </div>\n",
    "</div>"
   ]
  },
  {
   "cell_type": "markdown",
   "metadata": {},
   "source": []
  },
  {
   "cell_type": "code",
   "execution_count": null,
   "metadata": {},
   "outputs": [],
   "source": [
    "from ipywidgets import interactive"
   ]
  },
  {
   "cell_type": "code",
   "execution_count": null,
   "metadata": {},
   "outputs": [],
   "source": [
    "def plot_linear_slider(w0, w1):\n",
    "    \n",
    "    plt.figure(\"2\", figsize=[10, 6])  \n",
    "    \n",
    "    plt.scatter(sx, sy, color=\"slategrey\", label=\"Samples\")\n",
    "    plt.xlabel(\"High_GPA\")\n",
    "    plt.ylabel(\"Univ_GPA\")\n",
    "    \n",
    "    x = np.linspace(2, 4, num=100)\n",
    "    plt.plot(x, w1 * x + w0, color=\"darkorange\", linewidth=2, label=\"Regression Line\")\n",
    "    \n",
    "    plt.axis([2, 4, 2, 4])\n",
    "    plt.grid(True)\n",
    "    plt.ylim(2, 4)\n",
    "    plt.legend()\n",
    "    plt.show()\n",
    "\n",
    "interactive_plot = interactive(plot_linear_slider, w0=(-1.5, 1.2, 0.05), w1=(0.4, 2.0, 0.05))\n",
    "\n",
    "output = interactive_plot.children[-1]\n",
    "interactive_plot"
   ]
  },
  {
   "cell_type": "markdown",
   "metadata": {},
   "source": [
    "Let's consider three linear functions and determine which one is the best of then for prediction:\n",
    "\n",
    "1. $f_1\\left( x \\right) = -3 + 2x$\n",
    "\n",
    "2. $f_2\\left( x \\right) = 1.1 + 0.7x$\n",
    "\n",
    "3. $f_3\\left( x \\right) = 2 + 0.4x$"
   ]
  },
  {
   "cell_type": "markdown",
   "metadata": {},
   "source": [
    "Initialize regression parameters of the functions:"
   ]
  },
  {
   "cell_type": "code",
   "execution_count": null,
   "metadata": {},
   "outputs": [],
   "source": [
    "slope_1 = 2.0; slope_2 = 0.7; slope_3 = 0.4\n",
    "intercept_1 = -3.0; intercept_2 = 1.1; intercept_3 = 2.0"
   ]
  },
  {
   "cell_type": "markdown",
   "metadata": {},
   "source": [
    "Create python functions to compute predictions:   "
   ]
  },
  {
   "cell_type": "code",
   "execution_count": null,
   "metadata": {},
   "outputs": [],
   "source": [
    "f_pred_1 = lambda x: slope_1 * x + intercept_1\n",
    "f_pred_2 = lambda x: slope_2 * x + intercept_2\n",
    "f_pred_3 = lambda x: slope_3 * x + intercept_3"
   ]
  },
  {
   "cell_type": "markdown",
   "metadata": {},
   "source": [
    "Show the functions on the plot:"
   ]
  },
  {
   "cell_type": "code",
   "execution_count": null,
   "metadata": {},
   "outputs": [],
   "source": [
    "plt.figure(\"2\", figsize=[10, 6])\n",
    "\n",
    "ax = plt.subplot(1,1,1)\n",
    "\n",
    "\n",
    "# Samples\n",
    "\n",
    "plt.xlabel(\"High_GPA\")\n",
    "plt.ylabel(\"Univ_GPA\")\n",
    "plt.scatter(sx, sy, color=\"slategrey\", label=\"Samples\")\n",
    "\n",
    "\n",
    "# Linear Functions\n",
    "\n",
    "x_line = np.array([1.5, 4.5])\n",
    "plt.plot(x_line, f_pred_1(x_line), \"-\", label=\"$f_1(x)=0.9*x+0.3$\")\n",
    "plt.plot(x_line, f_pred_2(x_line), \"-\", label=\"$f_2(x)=0.7*x+1.1$\")\n",
    "plt.plot(x_line, f_pred_3(x_line), \"-\", label=\"$f_3(x)=0.4*x+2.0$\")\n",
    "\n",
    "\n",
    "plt.axis([2, 4, 2, 4])\n",
    "plt.grid(True)\n",
    "ax.set_axisbelow(True)\n",
    "\n",
    "plt.legend()\n",
    "\n",
    "plt.show()"
   ]
  },
  {
   "cell_type": "markdown",
   "metadata": {},
   "source": [
    "Which of the functions gives the best prediction?"
   ]
  },
  {
   "cell_type": "code",
   "execution_count": null,
   "metadata": {},
   "outputs": [],
   "source": [
    "y_pred_1 = f_pred_1(sx)\n",
    "y_pred_2 = f_pred_2(sx)\n",
    "y_pred_3 = f_pred_3(sx)"
   ]
  },
  {
   "cell_type": "code",
   "execution_count": null,
   "metadata": {},
   "outputs": [],
   "source": [
    "err_1 = ((y_pred_1 - sy)**2).sum()\n",
    "err_2 = ((y_pred_2 - sy)**2).sum()\n",
    "err_3 = ((y_pred_3 - sy)**2).sum()\n",
    "\n",
    "err_1, err_2, err_3"
   ]
  },
  {
   "cell_type": "markdown",
   "metadata": {},
   "source": [
    "$$\\hat \\theta_0, \\hat \\theta_1 =\\operatorname*{arg\\,min}_{\\theta_0, \\theta_1} \n",
    "\\displaystyle\\sum_{i=1}^{N} ((\\theta_0+\\theta_1 x_i) - y_i)^2$$"
   ]
  },
  {
   "cell_type": "markdown",
   "metadata": {},
   "source": [
    "<a name=\"3\"></a>\n",
    "<div style=\"display:table; width:100%; padding-top:10px; padding-bottom:10px; border-bottom:1px solid lightgrey\">\n",
    "    <div style=\"display:table-row\">\n",
    "        <div style=\"display:table-cell; width:80%; font-size:16pt; font-weight:bold\">3. Ordinary Least Squares</div>\n",
    "    \t<div style=\"display:table-cell; width:20%; text-align:center; background-color:whitesmoke; border:1px solid lightgrey\"><a href=\"#0\">To contents</a></div>\n",
    "    </div>\n",
    "</div>"
   ]
  },
  {
   "cell_type": "markdown",
   "metadata": {},
   "source": [
    "TODO: Theory"
   ]
  },
  {
   "cell_type": "markdown",
   "metadata": {},
   "source": [
    "Create $X$ and $\\mathrm{y}$ matrices:"
   ]
  },
  {
   "cell_type": "code",
   "execution_count": null,
   "metadata": {},
   "outputs": [],
   "source": [
    "X = np.asmatrix(np.c_[np.ones(df1[\"high_GPA\"].size), df1[\"high_GPA\"].values])\n",
    "X[:5,:2]"
   ]
  },
  {
   "cell_type": "code",
   "execution_count": null,
   "metadata": {},
   "outputs": [],
   "source": [
    "y = np.asmatrix(df1[\"univ_GPA\"].values.reshape(df1[\"univ_GPA\"].values.size, 1))\n",
    "y[:5]"
   ]
  },
  {
   "cell_type": "markdown",
   "metadata": {},
   "source": [
    "Now apply the formula for calculating regression parameters $\\theta$:"
   ]
  },
  {
   "cell_type": "code",
   "execution_count": null,
   "metadata": {},
   "outputs": [],
   "source": [
    "# %%timeit -r 7\n",
    "w = (X.T * X)**(-1) * X.T * y  # or np.linalg.inv(X.T * X) * X.T * y\n",
    "w"
   ]
  },
  {
   "cell_type": "markdown",
   "metadata": {},
   "source": [
    "Alternatively, the `linalg` module has the built-in function for finding the least-squares solution. Use it to get parameters:"
   ]
  },
  {
   "cell_type": "code",
   "execution_count": null,
   "metadata": {},
   "outputs": [],
   "source": [
    "# %%timeit -r 7\n",
    "w, residuals, rank, s = np.linalg.lstsq(X, y, rcond=None)\n",
    "w"
   ]
  },
  {
   "cell_type": "code",
   "execution_count": null,
   "metadata": {},
   "outputs": [],
   "source": [
    "w0, w1 = w[0,0], w[1,0]\n",
    "w0, w1"
   ]
  },
  {
   "cell_type": "markdown",
   "metadata": {},
   "source": [
    "Define the prediction function:"
   ]
  },
  {
   "cell_type": "code",
   "execution_count": null,
   "metadata": {},
   "outputs": [],
   "source": [
    "f_pred_ols = lambda x: w1 * x + w0"
   ]
  },
  {
   "cell_type": "markdown",
   "metadata": {},
   "source": [
    "Plot the graph of the regression line:"
   ]
  },
  {
   "cell_type": "code",
   "execution_count": null,
   "metadata": {},
   "outputs": [],
   "source": [
    "plt.figure(\"3\", figsize=[10, 6])\n",
    "\n",
    "ax = plt.subplot(1,1,1)\n",
    "\n",
    "\n",
    "# Samples\n",
    "\n",
    "plt.scatter(sx, sy, color=\"slategrey\", label=\"Samples\")\n",
    "plt.xlabel(\"High_GPA\")\n",
    "plt.ylabel(\"Univ_GPA\")\n",
    "\n",
    "\n",
    "# Regression Lines\n",
    "\n",
    "x_line = np.array([1.5, 4.5])\n",
    "plt.plot(x_line, f_pred_1(x_line), \"-\", label=\"$f_1(x)=0.9*x+0.3$\")\n",
    "plt.plot(x_line, f_pred_2(x_line), \"-\", label=\"$f_2(x)=0.7*x+1.1$\")\n",
    "plt.plot(x_line, f_pred_3(x_line), \"-\", label=\"$f_3(x)=0.4*x+2.0$\")\n",
    "plt.plot(x_line, f_pred_ols(x_line), \"-\", linewidth=4, \n",
    "         label=\"$f_{OLS}(x)$\")\n",
    "\n",
    "\n",
    "plt.axis([2, 4, 2, 4])\n",
    "plt.grid(True)\n",
    "plt.legend()\n",
    "\n",
    "plt.show()"
   ]
  },
  {
   "cell_type": "code",
   "execution_count": null,
   "metadata": {},
   "outputs": [],
   "source": [
    "err_ols = ((f_pred_ols(sx) - sy)**2).sum()\n",
    "err_ols"
   ]
  },
  {
   "cell_type": "code",
   "execution_count": null,
   "metadata": {},
   "outputs": [],
   "source": [
    "err_1, err_2, err_3, err_ols"
   ]
  },
  {
   "cell_type": "markdown",
   "metadata": {},
   "source": [
    "<a name=\"4\"></a>\n",
    "<div style=\"display:table; width:100%; padding-top:10px; padding-bottom:10px; border-bottom:1px solid lightgrey\">\n",
    "    <div style=\"display:table-row\">\n",
    "        <div style=\"display:table-cell; width:80%; font-size:16pt; font-weight:bold\">4. Gradient Descent</div>\n",
    "    \t<div style=\"display:table-cell; width:20%; text-align:center; background-color:whitesmoke; border:1px solid lightgrey\"><a href=\"#0\">To contents</a></div>\n",
    "    </div>\n",
    "</div>"
   ]
  },
  {
   "cell_type": "markdown",
   "metadata": {},
   "source": [
    "Define the loss/cost function and its partial derivatives:"
   ]
  },
  {
   "cell_type": "code",
   "execution_count": null,
   "metadata": {},
   "outputs": [],
   "source": [
    "# The number of sample elements\n",
    "n = len(sx)\n",
    "\n",
    "# Cost function \n",
    "mse = lambda x, y, w0, w1: 1 / n * sum([(w1 * x[i] + w0 - y[i]) ** 2 for i in range(n)])\n",
    "\n",
    "# Partial derivative of err over w0 and w1\n",
    "del_w0 = lambda x, y, w0, w1: 2 / n * sum([1 * (w1 * x[i] + w0 - y[i]) for i in range(n)])\n",
    "del_w1 = lambda x, y, w0, w1: 2 / n * sum([x[i] * (w1 * x[i] + w0 - y[i]) for i in range(n)])"
   ]
  },
  {
   "cell_type": "code",
   "execution_count": null,
   "metadata": {},
   "outputs": [],
   "source": [
    "err(sx_stand, sy, 4, 4)"
   ]
  },
  {
   "cell_type": "markdown",
   "metadata": {},
   "source": [
    "Write a function implimneting the gradient descent method:"
   ]
  },
  {
   "cell_type": "code",
   "execution_count": null,
   "metadata": {},
   "outputs": [],
   "source": [
    "def GD(x, y, max_iter=200, min_err=0.0001, alpha=0.05, err=None):\n",
    "    \"\"\"\n",
    "    Naive Gradient Descent\n",
    "    \n",
    "    Parameters\n",
    "    ----------\n",
    "    alpha: step size\n",
    "    max_iter: the maximum numbers of iterations\n",
    "    min_err: a minimal change of cost error\n",
    "    err: a cost function\n",
    "    \n",
    "    Returns\n",
    "    -------\n",
    "    \n",
    "    \n",
    "    \"\"\"\n",
    "    i = 0  # current iteration\n",
    "    w0 = 0; w1 = 0  #  initial parameters\n",
    "    w0_prev = 4; w1_prev = 4  # start point\n",
    "\n",
    "    while i < max_iter:\n",
    "\n",
    "        w0 = w0_prev - alpha * del_w0(x, y, w0_prev, w1_prev)\n",
    "        w1 = w1_prev - alpha * del_w1(x, y, w0_prev, w1_prev)\n",
    "\n",
    "        if abs(err(x, y, w0, w1) - err(x, y, w0_prev, w1_prev)) <= min_err:\n",
    "            break\n",
    "\n",
    "        w0_prev = w0\n",
    "        w1_prev = w1\n",
    "\n",
    "        i += 1\n",
    "\n",
    "    return (w0, w1, i)"
   ]
  },
  {
   "cell_type": "markdown",
   "metadata": {},
   "source": [
    "Launch parameters estimation using GD"
   ]
  },
  {
   "cell_type": "code",
   "execution_count": null,
   "metadata": {},
   "outputs": [],
   "source": [
    "w0_gd, w1_gd, i = GD(sx, sy, err=err)\n",
    "w0_gd, w1_gd, i"
   ]
  },
  {
   "cell_type": "markdown",
   "metadata": {},
   "source": [
    "Specify the prediction function with the found parameters:"
   ]
  },
  {
   "cell_type": "code",
   "execution_count": null,
   "metadata": {},
   "outputs": [],
   "source": [
    "f_pred_gd = lambda x: w1_gd * x + w0_gd"
   ]
  },
  {
   "cell_type": "markdown",
   "metadata": {},
   "source": [
    "Plot the prediction line:"
   ]
  },
  {
   "cell_type": "code",
   "execution_count": null,
   "metadata": {},
   "outputs": [],
   "source": [
    "x_line = np.array([1.5, 4.5])\n",
    "\n",
    "plt.figure(\"3\", figsize=[10, 6])\n",
    "\n",
    "ax = plt.subplot(1,1,1)\n",
    "\n",
    "plt.scatter(sx, sy, color=\"slategrey\", label=\"Samples\")\n",
    "plt.plot(x_line, f_pred_2(x_line), \"-\", label=\"$f_2(x)$\")\n",
    "plt.plot(x_line, f_pred_ols(x_line), \"-\", linewidth=4, \n",
    "         label=\"$f_{OLS}(x)$\")\n",
    "plt.plot(x_line, f_pred_gd(x_line), \"-\", linewidth=2, color=\"black\",\n",
    "         label=\"$f_{GD}(x)$\")\n",
    "\n",
    "plt.xlabel(\"High_GPA\")\n",
    "plt.ylabel(\"Univ_GPA\")\n",
    "\n",
    "plt.axis([2, 4, 2, 4])\n",
    "\n",
    "plt.grid(True)\n",
    "ax.set_axisbelow(True) \n",
    "\n",
    "plt.legend()\n",
    "\n",
    "plt.show()"
   ]
  },
  {
   "cell_type": "markdown",
   "metadata": {},
   "source": [
    "Calculate the MSE for the prediction function:"
   ]
  },
  {
   "cell_type": "code",
   "execution_count": null,
   "metadata": {},
   "outputs": [],
   "source": [
    "err_gd = ((f_pred_gd(sx) - sy)**2).sum()\n",
    "err_gd"
   ]
  },
  {
   "cell_type": "markdown",
   "metadata": {},
   "source": [
    "Compare errors:"
   ]
  },
  {
   "cell_type": "code",
   "execution_count": null,
   "metadata": {},
   "outputs": [],
   "source": [
    "err_1, err_2, err_3, err_ols, err_gd"
   ]
  },
  {
   "cell_type": "markdown",
   "metadata": {},
   "source": [
    "What's wrong? Plot the contour graphic of the cost function:"
   ]
  },
  {
   "cell_type": "code",
   "execution_count": null,
   "metadata": {},
   "outputs": [],
   "source": [
    "coord_w0 = np.arange(-4, 5, 0.1)\n",
    "coord_w1 = np.arange(-4, 5, 0.1)\n",
    "\n",
    "W0, W1 = np.meshgrid(coord_w0, coord_w1)"
   ]
  },
  {
   "cell_type": "code",
   "execution_count": null,
   "metadata": {},
   "outputs": [],
   "source": [
    "coord_w0_large = np.arange(-400, 500, 1)\n",
    "coord_w1_large = np.arange(-400, 500, 1)\n",
    "\n",
    "W0_large, W1_large = np.meshgrid(coord_w0_large, coord_w1_large)"
   ]
  },
  {
   "cell_type": "code",
   "execution_count": null,
   "metadata": {},
   "outputs": [],
   "source": [
    "plt.figure(\"12\",figsize=[12, 4])\n",
    "\n",
    "plt.subplot(1,2,1)\n",
    "plt.contour(W0, W1, err(sx, sy, W0, W1), 20, cmap=cm.bwr, alpha=0.5)\n",
    "plt.grid(True)\n",
    "plt.colorbar()\n",
    "plt.xlabel(\"$\\\\theta_0$\")\n",
    "plt.ylabel(\"$\\\\theta_1$\")\n",
    "\n",
    "plt.subplot(1,2,2)\n",
    "plt.contour(W0_large, W1_large, err(sx, sy, W0_large, W1_large), 20, cmap=cm.bwr, alpha=0.5)\n",
    "plt.grid(True)\n",
    "plt.colorbar()\n",
    "plt.xlabel(\"$\\\\theta_0$\")\n",
    "plt.ylabel(\"$\\\\theta_1$\")\n",
    "\n",
    "plt.show()"
   ]
  },
  {
   "cell_type": "markdown",
   "metadata": {},
   "source": [
    "### Feature standardization"
   ]
  },
  {
   "cell_type": "markdown",
   "metadata": {},
   "source": [
    "$$ x_s = \\frac{x - \\bar{x}}{s} $$"
   ]
  },
  {
   "cell_type": "code",
   "execution_count": null,
   "metadata": {},
   "outputs": [],
   "source": [
    "sx_mean = sx.mean()\n",
    "sx_std = sx.std()\n",
    "\n",
    "sx_stand = sx.apply(lambda el: (el - sx_mean) / sx_std)\n",
    "sx_stand.head(5)"
   ]
  },
  {
   "cell_type": "code",
   "execution_count": null,
   "metadata": {},
   "outputs": [],
   "source": [
    "x_line = np.array([1.5, 4.5])\n",
    "\n",
    "plt.figure(\"3\", figsize=[12, 4])\n",
    "\n",
    "ax = plt.subplot(1,2,1)\n",
    "\n",
    "plt.scatter(sx, sy, color=\"slategrey\", label=\"Samples\")\n",
    "plt.title(\"Initial\")\n",
    "plt.xlabel(\"High_GPA\")\n",
    "plt.ylabel(\"Univ_GPA\")\n",
    "\n",
    "plt.axis([2, 4, 2, 4])\n",
    "\n",
    "plt.grid(True)\n",
    "ax.set_axisbelow(True) \n",
    "\n",
    "plt.legend()\n",
    "\n",
    "ax = plt.subplot(1,2,2)\n",
    "\n",
    "plt.scatter(sx_stand, sy, color=\"slategrey\", label=\"Samples\")\n",
    "plt.title(\"Standardized\")\n",
    "plt.xlabel(\"High_GPA\")\n",
    "plt.ylabel(\"Univ_GPA\")\n",
    "\n",
    "plt.grid(True)\n",
    "ax.set_axisbelow(True) \n",
    "\n",
    "plt.legend()\n",
    "\n",
    "\n",
    "plt.show()"
   ]
  },
  {
   "cell_type": "code",
   "execution_count": null,
   "metadata": {},
   "outputs": [],
   "source": [
    "plt.figure(\"12\", figsize=[12, 4])\n",
    "\n",
    "plt.subplot(1,2,1)\n",
    "plt.contour(W0, W1, err(sx, sy, W0, W1), 20, cmap=cm.bwr, alpha=0.5)\n",
    "plt.title(\"Initial\")\n",
    "plt.xlabel(\"$\\\\theta_0$\")\n",
    "plt.ylabel(\"$\\\\theta_1$\")\n",
    "plt.grid(True)\n",
    "plt.colorbar()\n",
    "\n",
    "plt.subplot(1,2,2)\n",
    "plt.contour(W0, W1, err(sx_stand, sy, W0, W1), 20, cmap=cm.bwr, alpha=0.5)\n",
    "plt.title(\"Standardized\")\n",
    "plt.xlabel(\"$\\\\theta_0$\")\n",
    "plt.ylabel(\"$\\\\theta_1$\")\n",
    "plt.grid(True)\n",
    "plt.colorbar()\n",
    "\n",
    "plt.show()"
   ]
  },
  {
   "cell_type": "markdown",
   "metadata": {},
   "source": [
    "Repeat training with the GD for the standardized feature:"
   ]
  },
  {
   "cell_type": "code",
   "execution_count": null,
   "metadata": {},
   "outputs": [],
   "source": [
    "w0_gd_stand, w1_gd_stand, i = GD(sx_stand, sy, err=err)\n",
    "w0_gd_stand, w1_gd_stand, i"
   ]
  },
  {
   "cell_type": "markdown",
   "metadata": {},
   "source": [
    "Specify the prediction function:"
   ]
  },
  {
   "cell_type": "code",
   "execution_count": null,
   "metadata": {},
   "outputs": [],
   "source": [
    "f_pred_gr_stand = lambda x: w1_gd_stand * x + w0_gd_stand"
   ]
  },
  {
   "cell_type": "markdown",
   "metadata": {},
   "source": [
    "Display the scatter plot:"
   ]
  },
  {
   "cell_type": "code",
   "execution_count": null,
   "metadata": {},
   "outputs": [],
   "source": [
    "x_line_stand = np.array([-2, 2])\n",
    "\n",
    "plt.figure(\"3\", figsize=[10, 6])\n",
    "\n",
    "ax = plt.subplot(1,1,1)\n",
    "\n",
    "plt.scatter(sx_stand, sy, color=\"slategrey\", label=\"Samples\")\n",
    "plt.plot(x_line_stand, f_pred_gr_stand(x_line_stand), \"-\", linewidth=2, color=\"black\",\n",
    "         label=\"$f_{StndGD}(x)$\")\n",
    "\n",
    "plt.xlabel(\"High_GPA\")\n",
    "plt.ylabel(\"Univ_GPA\")\n",
    "\n",
    "plt.grid(True)\n",
    "ax.set_axisbelow(True) \n",
    "\n",
    "plt.legend()\n",
    "\n",
    "plt.show()"
   ]
  },
  {
   "cell_type": "markdown",
   "metadata": {},
   "source": [
    "Recover the initial scale:"
   ]
  },
  {
   "cell_type": "code",
   "execution_count": null,
   "metadata": {},
   "outputs": [],
   "source": [
    "w1_gd_rec = w1_gd_stand / sx_std\n",
    "w1_gd_rec"
   ]
  },
  {
   "cell_type": "code",
   "execution_count": null,
   "metadata": {},
   "outputs": [],
   "source": [
    "w0_gd_rec = w0_gd_stand - w1_gd_stand * sx_mean / sx_std\n",
    "w0_gd_rec"
   ]
  },
  {
   "cell_type": "markdown",
   "metadata": {},
   "source": [
    "Specify the prediction function:"
   ]
  },
  {
   "cell_type": "code",
   "execution_count": null,
   "metadata": {},
   "outputs": [],
   "source": [
    "f_pred_gr_stand_recover = lambda x: w0_gd_rec + w1_gd_rec * x"
   ]
  },
  {
   "cell_type": "markdown",
   "metadata": {},
   "source": [
    "Plot the prediction line:"
   ]
  },
  {
   "cell_type": "code",
   "execution_count": null,
   "metadata": {},
   "outputs": [],
   "source": [
    "x_line = np.array([1.5, 4.5])\n",
    "\n",
    "plt.figure(\"3\", figsize=[10, 6])\n",
    "\n",
    "ax = plt.subplot(1,1,1)\n",
    "\n",
    "plt.scatter(sx, sy, color=\"slategrey\", label=\"Samples\")\n",
    "plt.plot(x_line, f_pred_2(x_line), \"-\", label=\"$f_2(x)$\")\n",
    "plt.plot(x_line, f_pred_ols(x_line), \"-\", linewidth=4, \n",
    "         label=\"$f_{OLS}(x)$\")\n",
    "plt.plot(x_line, f_pred_gd(x_line), \"-\", linewidth=2, color=\"black\",\n",
    "         label=\"$f_{GD}(x)$\")\n",
    "plt.plot(x_line, f_pred_gr_stand_recover(x_line), \"-\", linewidth=2, color=\"cyan\",\n",
    "         label=\"$f_{StdGD}(x)$\")\n",
    "\n",
    "plt.xlabel(\"High_GPA\")\n",
    "plt.ylabel(\"Univ_GPA\")\n",
    "\n",
    "plt.axis([2, 4, 2, 4])\n",
    "\n",
    "plt.grid(True)\n",
    "ax.set_axisbelow(True) \n",
    "\n",
    "plt.legend()\n",
    "\n",
    "plt.show()"
   ]
  },
  {
   "cell_type": "markdown",
   "metadata": {},
   "source": [
    "Calculate the MSE:"
   ]
  },
  {
   "cell_type": "code",
   "execution_count": null,
   "metadata": {},
   "outputs": [],
   "source": [
    "err_gd_stand = ((f_pred_gr_stand_recover(sx) - sy)**2).sum()\n",
    "err_gd_stand"
   ]
  },
  {
   "cell_type": "code",
   "execution_count": null,
   "metadata": {
    "scrolled": false
   },
   "outputs": [],
   "source": [
    "err_1, err_2, err_3, err_ols, err_gd, err_gd_stand"
   ]
  },
  {
   "cell_type": "markdown",
   "metadata": {},
   "source": [
    "<a name=\"5\"></a>\n",
    "<div style=\"display:table; width:100%; padding-top:10px; padding-bottom:10px; border-bottom:1px solid lightgrey\">\n",
    "    <div style=\"display:table-row\">\n",
    "        <div style=\"display:table-cell; width:80%; font-size:16pt; font-weight:bold\">5. Stochastic Gradient Descent</div>\n",
    "    \t<div style=\"display:table-cell; width:20%; text-align:center; background-color:whitesmoke; border:1px solid lightgrey\"><a href=\"#0\">To contents</a></div>\n",
    "    </div>\n",
    "</div>"
   ]
  },
  {
   "cell_type": "markdown",
   "metadata": {},
   "source": [
    "Define the loss/cost function and its partial derivatives:"
   ]
  },
  {
   "cell_type": "code",
   "execution_count": null,
   "metadata": {},
   "outputs": [],
   "source": [
    "# The number of sample elements\n",
    "n = len(sx)\n",
    "\n",
    "# Cost function \n",
    "err = lambda x, y, w0, w1: 1 / n * sum([(w1*x[i] + w0 - y[i]) ** 2 for i in range(n)])\n",
    "\n",
    "# Partial derivative of err over w0 and w1\n",
    "del_w0_i = lambda x, y, w0, w1, i: 1 * (w0 + w1*x[i] - y[i])\n",
    "del_w1_i = lambda x, y, w0, w1, i: x[i] * (w0 + w1*x[i] - y[i])"
   ]
  },
  {
   "cell_type": "code",
   "execution_count": null,
   "metadata": {},
   "outputs": [],
   "source": [
    "def SGD(x, y, min_err = 0.00001, alpha = 0.05, err=None):\n",
    "    \"\"\"\n",
    "    Naive Stochastic Gradient Descent\n",
    "    \n",
    "    Parameters\n",
    "    ----------\n",
    "    alpha: step size\n",
    "    min_err: a minimal change of cost error\n",
    "    \n",
    "    Returns\n",
    "    -------\n",
    "    w0: intercept\n",
    "    w1: slope\n",
    "    i: the number of iteration\n",
    "    \n",
    "    \"\"\"\n",
    "\n",
    "    i = 0  # current iteration\n",
    "    w0 = 0; w1 = 0  #  initial parameters\n",
    "    w0_prev = 4; w1_prev = 4  # start point\n",
    "    \n",
    "    err_prev = err(x, y, w0, w1)\n",
    "    err_cur = err_prev\n",
    "\n",
    "    for j in range(n):\n",
    "        \n",
    "        w0 = w0_prev - alpha * del_w0_i(x, y, w0_prev, w1_prev, j)\n",
    "        w1 = w1_prev - alpha * del_w1_i(x, y, w0_prev, w1_prev, j)\n",
    "\n",
    "        err_cur = err(x, y, w0, w1)\n",
    "\n",
    "        if abs(err_cur - err_prev) <= min_err:\n",
    "                break\n",
    "\n",
    "        err_prev = err_cur    \n",
    "\n",
    "        w0_prev = w0\n",
    "        w1_prev = w1\n",
    "\n",
    "        i += 1\n",
    "\n",
    "    return (w0, w1, j)"
   ]
  },
  {
   "cell_type": "markdown",
   "metadata": {},
   "source": [
    "Estimate regression parameters using the SGD:"
   ]
  },
  {
   "cell_type": "code",
   "execution_count": null,
   "metadata": {},
   "outputs": [],
   "source": [
    "w0_sgd_stand, w1_sgd_stand, i = SGD(sx_stand, sy, err=err)\n",
    "w0_sgd_stand, w1_sgd_stand, i"
   ]
  },
  {
   "cell_type": "markdown",
   "metadata": {},
   "source": [
    "Specify the prediction function with the found parameters:"
   ]
  },
  {
   "cell_type": "code",
   "execution_count": null,
   "metadata": {},
   "outputs": [],
   "source": [
    "f_pred_sgd = lambda x: w1_sgd_stand * x + w0_sgd_stand"
   ]
  },
  {
   "cell_type": "markdown",
   "metadata": {},
   "source": [
    "Plot the prediction line:"
   ]
  },
  {
   "cell_type": "code",
   "execution_count": null,
   "metadata": {},
   "outputs": [],
   "source": [
    "x_line_stand = np.array([-2, 2])\n",
    "\n",
    "plt.figure(\"3\", figsize=[10, 6])\n",
    "\n",
    "ax = plt.subplot(1,1,1)\n",
    "\n",
    "plt.scatter(sx_stand, sy, color=\"slategrey\", label=\"Samples\")\n",
    "plt.plot(x_line_stand, f_pred_sgd(x_line_stand), \"-\", linewidth=2, color=\"black\",\n",
    "         label=\"$f_{StndGD}(x)$\")\n",
    "\n",
    "plt.xlabel(\"High_GPA\")\n",
    "plt.ylabel(\"Univ_GPA\")\n",
    "\n",
    "plt.grid(True)\n",
    "ax.set_axisbelow(True) \n",
    "\n",
    "plt.legend()\n",
    "\n",
    "plt.show()"
   ]
  },
  {
   "cell_type": "markdown",
   "metadata": {},
   "source": [
    "Recover the initial scale:"
   ]
  },
  {
   "cell_type": "code",
   "execution_count": null,
   "metadata": {},
   "outputs": [],
   "source": [
    "w1_sgd_rec = w1_sgd_stand / sx_std\n",
    "w1_sgd_rec"
   ]
  },
  {
   "cell_type": "code",
   "execution_count": null,
   "metadata": {},
   "outputs": [],
   "source": [
    "w0_sgd_rec = w0_sgd_stand - w1_sgd_stand * sx_mean / sx_std\n",
    "w0_sgd_rec"
   ]
  },
  {
   "cell_type": "markdown",
   "metadata": {},
   "source": [
    "Specify the prediction function:"
   ]
  },
  {
   "cell_type": "code",
   "execution_count": null,
   "metadata": {},
   "outputs": [],
   "source": [
    "f_pred_sgd_stand_recover = lambda x: w0_sgd_rec + w1_sgd_rec * x"
   ]
  },
  {
   "cell_type": "markdown",
   "metadata": {},
   "source": [
    "Plot the prediction line:"
   ]
  },
  {
   "cell_type": "code",
   "execution_count": null,
   "metadata": {},
   "outputs": [],
   "source": [
    "x_line = np.array([1.5, 4.5])\n",
    "\n",
    "plt.figure(\"3\", figsize=[10, 6])\n",
    "\n",
    "ax = plt.subplot(1,1,1)\n",
    "\n",
    "plt.scatter(sx, sy, color=\"slategrey\", label=\"Samples\")\n",
    "plt.plot(x_line, f_pred_ols(x_line), \"-\", linewidth=4, \n",
    "         label=\"$f_{OLS}(x)$\")\n",
    "plt.plot(x_line, f_pred_gr_stand_recover(x_line), \"-\", linewidth=1, color=\"cyan\",\n",
    "         label=\"$f_{StdGD}(x)$\")\n",
    "plt.plot(x_line, f_pred_sgd_stand_recover(x_line), \"-\", linewidth=4, color=\"darkmagenta\",\n",
    "         label=\"$f_{StdSGD}(x)$\")\n",
    "\n",
    "plt.xlabel(\"High_GPA\")\n",
    "plt.ylabel(\"Univ_GPA\")\n",
    "\n",
    "plt.axis([2, 4, 2, 4])\n",
    "\n",
    "plt.grid(True)\n",
    "ax.set_axisbelow(True) \n",
    "\n",
    "plt.legend()\n",
    "\n",
    "plt.show()"
   ]
  },
  {
   "cell_type": "markdown",
   "metadata": {},
   "source": [
    "Calculate the MSE:"
   ]
  },
  {
   "cell_type": "code",
   "execution_count": null,
   "metadata": {},
   "outputs": [],
   "source": [
    "err_sgd_stand = ((f_pred_sgd_stand_recover(sx) - sy)**2).sum()\n",
    "err_sgd_stand"
   ]
  },
  {
   "cell_type": "code",
   "execution_count": null,
   "metadata": {
    "scrolled": false
   },
   "outputs": [],
   "source": [
    "err_1, err_2, err_3, err_ols, err_gd, err_gd_stand, err_sgd_stand"
   ]
  },
  {
   "cell_type": "markdown",
   "metadata": {},
   "source": [
    "## Brute-Force Search"
   ]
  },
  {
   "cell_type": "code",
   "execution_count": null,
   "metadata": {},
   "outputs": [],
   "source": [
    "err(sx, sy, W0, W1)"
   ]
  },
  {
   "cell_type": "code",
   "execution_count": null,
   "metadata": {},
   "outputs": [],
   "source": [
    "err(sx, sy, W0, W1).min()"
   ]
  },
  {
   "cell_type": "code",
   "execution_count": null,
   "metadata": {},
   "outputs": [],
   "source": [
    "inxd_ws = np.argwhere(err(sx, sy, W0, W1).min() == err(sx, sy, W0, W1))\n",
    "inxd_ws"
   ]
  },
  {
   "cell_type": "code",
   "execution_count": null,
   "metadata": {},
   "outputs": [],
   "source": [
    "W0[inxd_ws[0,0], inxd_ws[0,1]], W1[inxd_ws[0,0], inxd_ws[0,1]]"
   ]
  },
  {
   "cell_type": "markdown",
   "metadata": {},
   "source": [
    "<a name=\"6\"></a>\n",
    "<div style=\"display:table; width:100%; padding-top:10px; padding-bottom:10px; border-bottom:1px solid lightgrey\">\n",
    "    <div style=\"display:table-row\">\n",
    "        <div style=\"display:table-cell; width:80%; font-size:16pt; font-weight:bold\">6. References</div>\n",
    "    \t<div style=\"display:table-cell; width:20%; text-align:center; background-color:whitesmoke; border:1px solid lightgrey\"><a href=\"#0\">To contents</a></div>\n",
    "    </div>\n",
    "</div>"
   ]
  },
  {
   "cell_type": "code",
   "execution_count": null,
   "metadata": {},
   "outputs": [],
   "source": []
  }
 ],
 "metadata": {
  "kernelspec": {
   "display_name": "Python 3",
   "language": "python",
   "name": "python3"
  },
  "language_info": {
   "codemirror_mode": {
    "name": "ipython",
    "version": 3
   },
   "file_extension": ".py",
   "mimetype": "text/x-python",
   "name": "python",
   "nbconvert_exporter": "python",
   "pygments_lexer": "ipython3",
   "version": "3.7.4"
  }
 },
 "nbformat": 4,
 "nbformat_minor": 2
}
