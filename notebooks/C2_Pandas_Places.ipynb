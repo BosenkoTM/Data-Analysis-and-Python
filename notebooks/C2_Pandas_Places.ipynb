{
 "cells": [
  {
   "cell_type": "markdown",
   "metadata": {},
   "source": [
    "# Data visualization using Pandas and Folium\n",
    "\n",
    "S.Yu. Papulin (papulin.study@yandex.ru)"
   ]
  },
  {
   "cell_type": "markdown",
   "metadata": {},
   "source": [
    "### Contents\n",
    " - [Preparation](#Preparation)\n",
    " - [Basic operations over dataframes](#Basic-operations-over-dataframes)\n",
    " - [Applying user-defined function](#Applying-user-defined-function)\n",
    " - [Plotting data onto map](#Plotting-data-onto-map)"
   ]
  },
  {
   "cell_type": "markdown",
   "metadata": {},
   "source": [
    "## Preparation"
   ]
  },
  {
   "cell_type": "markdown",
   "metadata": {},
   "source": [
    "Import modules"
   ]
  },
  {
   "cell_type": "code",
   "execution_count": null,
   "metadata": {},
   "outputs": [],
   "source": [
    "import pandas as pd\n",
    "import matplotlib.pyplot as plt\n",
    "import numpy as np\n",
    "from scipy import stats\n",
    "%matplotlib inline"
   ]
  },
  {
   "cell_type": "code",
   "execution_count": null,
   "metadata": {},
   "outputs": [],
   "source": [
    "# !pip install --upgrade pandas==0.23"
   ]
  },
  {
   "cell_type": "markdown",
   "metadata": {},
   "source": [
    "**Installing some additional modules if needed**"
   ]
  },
  {
   "cell_type": "code",
   "execution_count": null,
   "metadata": {},
   "outputs": [],
   "source": [
    "# Module for processing geodata as DataFrames\n",
    "# !pip install geopandas==0.8"
   ]
  },
  {
   "cell_type": "code",
   "execution_count": null,
   "metadata": {},
   "outputs": [],
   "source": [
    "# import geopandas as gpd\n",
    "# from shapely.geometry import Point, Polygon, MultiPolygon\n",
    "# from geopandas.tools import sjoin"
   ]
  },
  {
   "cell_type": "code",
   "execution_count": null,
   "metadata": {},
   "outputs": [],
   "source": [
    "# Module for map visualization\n",
    "!pip install folium"
   ]
  },
  {
   "cell_type": "code",
   "execution_count": null,
   "metadata": {},
   "outputs": [],
   "source": [
    "import folium\n",
    "from folium.plugins import HeatMap"
   ]
  },
  {
   "cell_type": "code",
   "execution_count": null,
   "metadata": {},
   "outputs": [],
   "source": [
    "# https://github.com/python-visualization/folium/issues/812\n",
    "def embed_map(m):\n",
    "    from IPython.display import IFrame\n",
    "    m.save('index.html')\n",
    "    return IFrame('index.html', width='100%', height='750px')"
   ]
  },
  {
   "cell_type": "markdown",
   "metadata": {},
   "source": [
    "## Basic operations over dataframes"
   ]
  },
  {
   "cell_type": "code",
   "execution_count": null,
   "metadata": {},
   "outputs": [],
   "source": [
    "FILE = \"../data/data-4275-2021-02-09.xlsx\""
   ]
  },
  {
   "cell_type": "code",
   "execution_count": null,
   "metadata": {},
   "outputs": [],
   "source": [
    "CLMNS = [\"Name\", \"TypeObject\", \"District\", \"Address\", \"SeatsCount\", \"geoData\"]"
   ]
  },
  {
   "cell_type": "code",
   "execution_count": null,
   "metadata": {},
   "outputs": [],
   "source": [
    "# Create a dataframe of places\n",
    "df = pd.read_excel(FILE, index_col=0)\n",
    "df.head()"
   ]
  },
  {
   "cell_type": "code",
   "execution_count": null,
   "metadata": {},
   "outputs": [],
   "source": [
    "# Select only needed columns\n",
    "df = df[CLMNS]\n",
    "df.head()"
   ]
  },
  {
   "cell_type": "code",
   "execution_count": null,
   "metadata": {},
   "outputs": [],
   "source": [
    "# Alternative way using read_excel\n",
    "df = pd.read_excel(FILE, \n",
    "                   index_col=0, \n",
    "                   usecols=[\"ID\",] + CLMNS)  # or you can use indices [0, 1, 5, 7, 8, 10, 14]\n",
    "df.head()"
   ]
  },
  {
   "cell_type": "markdown",
   "metadata": {},
   "source": [
    "Print types of public catering"
   ]
  },
  {
   "cell_type": "code",
   "execution_count": null,
   "metadata": {},
   "outputs": [],
   "source": [
    "df[\"TypeObject\"].unique()"
   ]
  },
  {
   "cell_type": "markdown",
   "metadata": {},
   "source": [
    "Find places on Bauman street:"
   ]
  },
  {
   "cell_type": "code",
   "execution_count": null,
   "metadata": {},
   "outputs": [],
   "source": [
    "df_baum = df[df[\"Address\"].str.lower().str.contains(\"бауманск\")]\n",
    "df_baum.head()"
   ]
  },
  {
   "cell_type": "markdown",
   "metadata": {},
   "source": [
    "Print out top-5 places for each type by their number of seats in descending order"
   ]
  },
  {
   "cell_type": "code",
   "execution_count": null,
   "metadata": {},
   "outputs": [],
   "source": [
    "df.sort_values(\"SeatsCount\", ascending=[0])\\\n",
    "    .groupby(\"TypeObject\")\\\n",
    "    .head(5)"
   ]
  },
  {
   "cell_type": "code",
   "execution_count": null,
   "metadata": {},
   "outputs": [],
   "source": [
    "# Grouped output\n",
    "df.sort_values([\"TypeObject\", \"SeatsCount\"], ascending=[1, 0])\\\n",
    "    .groupby(\"TypeObject\")\\\n",
    "    .head(5)"
   ]
  },
  {
   "cell_type": "markdown",
   "metadata": {},
   "source": [
    "Select and filter"
   ]
  },
  {
   "cell_type": "code",
   "execution_count": null,
   "metadata": {},
   "outputs": [],
   "source": [
    "CLMNS = [\"Name\", \"Address\"]\n",
    "QUERY = \"SeatsCount == 35\""
   ]
  },
  {
   "cell_type": "code",
   "execution_count": null,
   "metadata": {},
   "outputs": [],
   "source": [
    "# Option 1: Using loc\n",
    "df.loc[\n",
    "    df[\"SeatsCount\"] == 35,  # filter\n",
    "    CLMNS  # select columns\n",
    "].head()"
   ]
  },
  {
   "cell_type": "code",
   "execution_count": null,
   "metadata": {},
   "outputs": [],
   "source": [
    "# Option 2: Using query\n",
    "df.query(QUERY)[CLMNS].head()"
   ]
  },
  {
   "cell_type": "code",
   "execution_count": null,
   "metadata": {},
   "outputs": [],
   "source": [
    "# Option 3(a): Using pipe\n",
    "df.query(QUERY)\\\n",
    "    .pipe(lambda df: df[CLMNS])\\\n",
    "    .head()"
   ]
  },
  {
   "cell_type": "code",
   "execution_count": null,
   "metadata": {},
   "outputs": [],
   "source": [
    "# Option 3(b): Using pipe\n",
    "def select_columns(df, clmns):\n",
    "    return df[clmns]\n",
    "\n",
    "def filter_rows(df, condition):\n",
    "    return df.query(condition)"
   ]
  },
  {
   "cell_type": "code",
   "execution_count": null,
   "metadata": {},
   "outputs": [],
   "source": [
    "df_new = df\\\n",
    "    .pipe(filter_rows, condition=QUERY)\\\n",
    "    .pipe(select_columns, clmns=CLMNS)\\\n",
    "    .head()\n",
    "df_new.head()"
   ]
  },
  {
   "cell_type": "code",
   "execution_count": null,
   "metadata": {},
   "outputs": [],
   "source": [
    "# Alternative way\n",
    "df_new = (\n",
    "    df\n",
    "    .pipe(filter_rows, condition=QUERY)\n",
    "    .pipe(select_columns, clmns=CLMNS)\n",
    ")\n",
    "df_new.head()"
   ]
  },
  {
   "cell_type": "markdown",
   "metadata": {},
   "source": [
    "## Applying user-defined function"
   ]
  },
  {
   "cell_type": "markdown",
   "metadata": {},
   "source": [
    "### Extracting place locations"
   ]
  },
  {
   "cell_type": "markdown",
   "metadata": {},
   "source": [
    "Print out a single line of the geoData column"
   ]
  },
  {
   "cell_type": "code",
   "execution_count": null,
   "metadata": {},
   "outputs": [],
   "source": [
    "df.iloc[0][\"geoData\"]"
   ]
  },
  {
   "cell_type": "code",
   "execution_count": null,
   "metadata": {},
   "outputs": [],
   "source": [
    "import re\n",
    "import json"
   ]
  },
  {
   "cell_type": "code",
   "execution_count": null,
   "metadata": {},
   "outputs": [],
   "source": [
    "def extract_coordinates(geo_data):\n",
    "    \"\"\"Parse geoData value.\"\"\"\n",
    "    try:\n",
    "        geo_data_ = re.sub(\"(\\w+)=(\\w+), (\\w+)=\", r'\"\\1\": \"\\2\", \"\\3\": ', geo_data)\n",
    "        return json.loads(geo_data_)[\"coordinates\"]\n",
    "    except:\n",
    "        pass"
   ]
  },
  {
   "cell_type": "code",
   "execution_count": null,
   "metadata": {},
   "outputs": [],
   "source": [
    "# Create a new dataframe with lat, lng columns\n",
    "df_coords = df.apply(\n",
    "    lambda x: pd.Series(\n",
    "        extract_coordinates(x[\"geoData\"]), \n",
    "        index=[\"Lng\", \"Lat\"]\n",
    "    ),\n",
    "    axis=1, \n",
    "    result_type=\"expand\"\n",
    ")\n",
    "\n",
    "df_coords.head()"
   ]
  },
  {
   "cell_type": "code",
   "execution_count": null,
   "metadata": {},
   "outputs": [],
   "source": [
    "# Option 1: Merge the initial dataframe and the dataframe with coordinates\n",
    "df_ext = df.merge(df_coords, left_index=True, right_index=True)\n",
    "df_ext.head()"
   ]
  },
  {
   "cell_type": "code",
   "execution_count": null,
   "metadata": {},
   "outputs": [],
   "source": [
    "# Option 2: Concatenate the initial dataframe and the dataframe with coordinates\n",
    "df_ext = pd.concat([df, df_coords], axis=1, sort=False)\n",
    "df_ext.head()"
   ]
  },
  {
   "cell_type": "markdown",
   "metadata": {},
   "source": [
    "### Calculating distance"
   ]
  },
  {
   "cell_type": "markdown",
   "metadata": {},
   "source": [
    "Find your location by your ip address"
   ]
  },
  {
   "cell_type": "code",
   "execution_count": null,
   "metadata": {},
   "outputs": [],
   "source": [
    "import requests"
   ]
  },
  {
   "cell_type": "code",
   "execution_count": null,
   "metadata": {},
   "outputs": [],
   "source": [
    "# URL for getting your public IP\n",
    "IP_SERVICE_URL = \"https://api.myip.com\"\n",
    "\n",
    "# URL for getting your location by your IP\n",
    "LOCATION_SERVICE_URL = \"http://ip-api.com/json/{}\""
   ]
  },
  {
   "cell_type": "markdown",
   "metadata": {},
   "source": [
    "Getting your location by IP"
   ]
  },
  {
   "cell_type": "code",
   "execution_count": null,
   "metadata": {},
   "outputs": [],
   "source": [
    "# Request your public IP\n",
    "ip__response = requests.get(IP_SERVICE_URL)\n",
    "ip__response__data = ip__response.json()\n",
    "ip = ip__response__data[\"ip\"]\n",
    "\n",
    "\n",
    "# Request your location\n",
    "location__response = requests.get(LOCATION_SERVICE_URL.format(ip))\n",
    "location__response__data = location__response.json()\n",
    "\n",
    "# Extract lat and lng\n",
    "location = location__response__data[\"lat\"], location__response__data[\"lon\"]\n",
    "location"
   ]
  },
  {
   "cell_type": "markdown",
   "metadata": {},
   "source": [
    "Computing distances between your location and places"
   ]
  },
  {
   "cell_type": "code",
   "execution_count": null,
   "metadata": {},
   "outputs": [],
   "source": [
    "def calculate_haversine(*coords):\n",
    "    \"\"\"\n",
    "    Calculate a distance between points.\n",
    "    \n",
    "    Note: (start lat, start lng, end lat, end lng)\n",
    "    \"\"\"\n",
    "    if len(coords) != 4:\n",
    "        return\n",
    "    radius = 6371.0\n",
    "    coords_radians = np.radians(coords)\n",
    "    return 2 * radius * np.arcsin(\n",
    "        np.sqrt(\n",
    "            np.sin((coords_radians[2]-coords_radians[0])/2.0)**2 +\n",
    "            np.cos(coords_radians[0])*np.cos(coords_radians[2])*np.sin(\n",
    "                (coords_radians[3]-coords_radians[1])/2.0)**2\n",
    "        )\n",
    "    )"
   ]
  },
  {
   "cell_type": "code",
   "execution_count": null,
   "metadata": {},
   "outputs": [],
   "source": [
    "s_distance = df_ext.apply(lambda row: calculate_haversine(\n",
    "    location[0], \n",
    "    location[1], \n",
    "    row[\"Lat\"], \n",
    "    row[\"Lng\"]), axis=1).rename(\"distance\")"
   ]
  },
  {
   "cell_type": "code",
   "execution_count": null,
   "metadata": {
    "scrolled": false
   },
   "outputs": [],
   "source": [
    "# Add the distance column\n",
    "df_ext_ = df_ext.merge(s_distance, left_index=True, right_index=True)\n",
    "df_ext_.head()"
   ]
  },
  {
   "cell_type": "code",
   "execution_count": null,
   "metadata": {},
   "outputs": [],
   "source": [
    "# df_ext_ = pd.concat([df_ext, s_distance], axis=1, sort=False)\n",
    "# df_ext_.head()"
   ]
  },
  {
   "cell_type": "code",
   "execution_count": null,
   "metadata": {},
   "outputs": [],
   "source": [
    "# Places within 3km radius\n",
    "df_less_3km = df_ext_.query(\"distance < 3\")\n",
    "df_less_3km.head()"
   ]
  },
  {
   "cell_type": "code",
   "execution_count": null,
   "metadata": {},
   "outputs": [],
   "source": [
    "# 5 nearest places to your location\n",
    "df_less_3km\\\n",
    "    .sort_values(\"distance\")\\\n",
    "    .head(5)"
   ]
  },
  {
   "cell_type": "markdown",
   "metadata": {},
   "source": [
    "## Plotting data onto map"
   ]
  },
  {
   "cell_type": "code",
   "execution_count": null,
   "metadata": {},
   "outputs": [],
   "source": [
    "# Columns to use\n",
    "CLMNS = [\"Name\", \"Lat\", \"Lng\"]"
   ]
  },
  {
   "cell_type": "code",
   "execution_count": null,
   "metadata": {},
   "outputs": [],
   "source": [
    "df_coords = df_ext[CLMNS]\n",
    "df_coords.head()"
   ]
  },
  {
   "cell_type": "markdown",
   "metadata": {},
   "source": [
    "Plotting city zones"
   ]
  },
  {
   "cell_type": "code",
   "execution_count": null,
   "metadata": {},
   "outputs": [],
   "source": [
    "# Path where city geojson is located\n",
    "MOSCOW_ZONES_PATH = \"../data/mo.geojson\""
   ]
  },
  {
   "cell_type": "code",
   "execution_count": null,
   "metadata": {},
   "outputs": [],
   "source": [
    "with open(MOSCOW_ZONES_PATH) as f:\n",
    "    zones_geojson = json.load(f)"
   ]
  },
  {
   "cell_type": "code",
   "execution_count": null,
   "metadata": {
    "scrolled": true
   },
   "outputs": [],
   "source": [
    "# Single zone\n",
    "zones_geojson[\"features\"][0]"
   ]
  },
  {
   "cell_type": "code",
   "execution_count": null,
   "metadata": {},
   "outputs": [],
   "source": [
    "# Create an instance of map\n",
    "m = folium.Map()"
   ]
  },
  {
   "cell_type": "code",
   "execution_count": null,
   "metadata": {
    "scrolled": false
   },
   "outputs": [],
   "source": [
    "# Plot zones onto map\n",
    "style_function = lambda x: {\n",
    "    \"color\" : \"orange\",\n",
    "    \"weight\": 1\n",
    "}\n",
    "\n",
    "folium.GeoJson(MOSCOW_ZONES_PATH, name=\"geojson\", style_function=style_function).add_to(m)\n",
    "m.fit_bounds(m.get_bounds())\n",
    "embed_map(m)"
   ]
  },
  {
   "cell_type": "code",
   "execution_count": null,
   "metadata": {},
   "outputs": [],
   "source": [
    "# Create markers for places\n",
    "for indx, row in df_coords.iterrows():\n",
    "    try:\n",
    "        folium.Circle(\n",
    "            radius=5,\n",
    "            location=[row[\"Lat\"], row[\"Lng\"]],\n",
    "            popup=row[\"Name\"],\n",
    "            color=\"red\",\n",
    "            fill=True,\n",
    "            fill_opacity=1.0\n",
    "        ).add_to(m)\n",
    "    except:\n",
    "        pass"
   ]
  },
  {
   "cell_type": "code",
   "execution_count": null,
   "metadata": {},
   "outputs": [],
   "source": [
    "# Create a marker for your location\n",
    "folium.Marker(location, icon=folium.Icon(color=\"darkblue\", \n",
    "                                         icon_color=\"white\", \n",
    "                                         prefix=\"fa\", \n",
    "                                         icon=\"user\")).add_to(m)"
   ]
  },
  {
   "cell_type": "code",
   "execution_count": null,
   "metadata": {
    "scrolled": false
   },
   "outputs": [],
   "source": [
    "# Plot map with all elements\n",
    "embed_map(m)"
   ]
  },
  {
   "cell_type": "code",
   "execution_count": null,
   "metadata": {},
   "outputs": [],
   "source": []
  }
 ],
 "metadata": {
  "kernelspec": {
   "display_name": "Python 3",
   "language": "python",
   "name": "python3"
  },
  "language_info": {
   "codemirror_mode": {
    "name": "ipython",
    "version": 3
   },
   "file_extension": ".py",
   "mimetype": "text/x-python",
   "name": "python",
   "nbconvert_exporter": "python",
   "pygments_lexer": "ipython3",
   "version": "3.7.3"
  }
 },
 "nbformat": 4,
 "nbformat_minor": 1
}
