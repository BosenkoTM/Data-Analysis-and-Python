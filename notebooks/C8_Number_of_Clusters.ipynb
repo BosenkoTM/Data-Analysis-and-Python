{
 "cells": [
  {
   "cell_type": "markdown",
   "metadata": {},
   "source": [
    "<div style=\"font-size:18pt; padding-top:20px; text-align:center\">СЕМИНАР. <b>Определение количества кластеров и </b> <span style=\"font-weight:bold; color:green\">NumPy/SciPy/Sklearn</span></div><hr>\n",
    "<div style=\"text-align:right;\">Папулин С.Ю. <span style=\"font-style: italic;font-weight: bold;\">(papulin.study@yandex.ru)</span></div>"
   ]
  },
  {
   "cell_type": "code",
   "execution_count": null,
   "metadata": {
    "collapsed": true
   },
   "outputs": [],
   "source": [
    "import numpy as np\n",
    "import pandas as pnd\n",
    "import matplotlib.pyplot as plt\n",
    "\n",
    "from sklearn.cluster import KMeans\n",
    "\n",
    "from sklearn.datasets import make_classification\n",
    "\n",
    "%matplotlib inline"
   ]
  },
  {
   "cell_type": "code",
   "execution_count": null,
   "metadata": {
    "collapsed": true
   },
   "outputs": [],
   "source": [
    "from sklearn import metrics"
   ]
  },
  {
   "cell_type": "code",
   "execution_count": null,
   "metadata": {
    "collapsed": true
   },
   "outputs": [],
   "source": [
    "from matplotlib.colors import ListedColormap\n",
    "clrMap = ListedColormap([\"blue\", \"red\", \"green\", \"yellow\", \"purple\", \"orange\"])"
   ]
  },
  {
   "cell_type": "markdown",
   "metadata": {},
   "source": [
    "<h3><b>1. Формирование начальных данных</b></h3>"
   ]
  },
  {
   "cell_type": "markdown",
   "metadata": {},
   "source": [
    "<p>Формируем набор данных из 500 элементов с тремя признаками и 5-ю классами (один кластер на один класс)</p>"
   ]
  },
  {
   "cell_type": "code",
   "execution_count": null,
   "metadata": {
    "collapsed": false
   },
   "outputs": [],
   "source": [
    "n_s = 500\n",
    "x, y = make_classification(n_samples=n_s, n_features=3, n_redundant=0,\n",
    "                           n_informative=3, n_clusters_per_class=1, n_classes=5, class_sep=2,\n",
    "                           random_state=0)\n",
    "x, y"
   ]
  },
  {
   "cell_type": "markdown",
   "metadata": {},
   "source": [
    "<p>Отображаем исходные данные без указания кластеров</p>"
   ]
  },
  {
   "cell_type": "code",
   "execution_count": null,
   "metadata": {
    "collapsed": false,
    "scrolled": true
   },
   "outputs": [],
   "source": [
    "plt.figure(figsize=[15, 5])\n",
    "\n",
    "plt.subplot(1,3,1)\n",
    "plt.title(\"X1-X2\")\n",
    "plt.xlabel(\"X1\")\n",
    "plt.ylabel(\"X2\")\n",
    "plt.scatter(x[:,0], x[:,1])\n",
    "plt.grid(True)\n",
    "\n",
    "plt.subplot(1,3,2)\n",
    "plt.title(\"X1-X3\")\n",
    "plt.xlabel(\"X1\")\n",
    "plt.ylabel(\"X3\")\n",
    "plt.scatter(x[:,0], x[:,2])\n",
    "plt.grid(True)\n",
    "\n",
    "plt.subplot(1,3,3)\n",
    "plt.title(\"X2-X3\")\n",
    "plt.xlabel(\"X2\")\n",
    "plt.ylabel(\"X3\")\n",
    "plt.scatter(x[:,1], x[:,2])\n",
    "plt.grid(True)\n",
    "\n",
    "plt.tight_layout()\n",
    "\n",
    "plt.show()"
   ]
  },
  {
   "cell_type": "markdown",
   "metadata": {},
   "source": [
    "<p>Отображаем исходные данные с исходными (действительными) кластерами</p>"
   ]
  },
  {
   "cell_type": "code",
   "execution_count": null,
   "metadata": {
    "collapsed": false
   },
   "outputs": [],
   "source": [
    "plt.figure(figsize=[15, 5])\n",
    "\n",
    "plt.subplot(1,3,1)\n",
    "plt.title(\"X1-X2\")\n",
    "plt.xlabel(\"X1\")\n",
    "plt.ylabel(\"X2\")\n",
    "plt.scatter(x[:,0], x[:,1], c=y, cmap=clrMap)\n",
    "plt.grid(True)\n",
    "\n",
    "plt.subplot(1,3,2)\n",
    "plt.title(\"X1-X3\")\n",
    "plt.xlabel(\"X1\")\n",
    "plt.ylabel(\"X3\")\n",
    "plt.scatter(x[:,0], x[:,2], c=y, cmap=clrMap)\n",
    "plt.grid(True)\n",
    "\n",
    "plt.subplot(1,3,3)\n",
    "plt.title(\"X2-X3\")\n",
    "plt.xlabel(\"X2\")\n",
    "plt.ylabel(\"X3\")\n",
    "plt.scatter(x[:,1], x[:,2], c=y, cmap=clrMap)\n",
    "plt.grid(True)\n",
    "\n",
    "plt.tight_layout()\n",
    "\n",
    "plt.show()"
   ]
  },
  {
   "cell_type": "markdown",
   "metadata": {},
   "source": [
    "<h3><b>2. Поиск количества кластеров</b></h3>"
   ]
  },
  {
   "cell_type": "markdown",
   "metadata": {},
   "source": [
    "<p>В качестве метода кластеризации будем использовать k-means со следующими параметрами:</p>\n",
    "<ul>\n",
    "    <li>максимальное количество итераций (max_iter) - 300</li>\n",
    "    <li>способ задания начального положения кластеров (init) - k-means++ </li>\n",
    "    <li>количество повторных запусков алгоритма (n_init) - 20 - для поиска наилучшего разбиения данных на заданное количество кластеров (критерий выбора - разбиение с наименьшим показателем инерции)</li>\n",
    "    <li>количество кластеров (n_clusters) - регулируем</li>\n",
    "</ul>"
   ]
  },
  {
   "cell_type": "markdown",
   "metadata": {},
   "source": [
    "<p><b>A. Показатель инерции</b></p>"
   ]
  },
  {
   "cell_type": "markdown",
   "metadata": {},
   "source": [
    "<p>Определяем показатель инерции для различного количества кластеров</p>"
   ]
  },
  {
   "cell_type": "code",
   "execution_count": null,
   "metadata": {
    "collapsed": false
   },
   "outputs": [],
   "source": [
    "inert = np.full(15, 0)\n",
    "\n",
    "for i in range(0,15):\n",
    "    kM_cl = KMeans(n_clusters=i+1, max_iter=300, init=\"k-means++\", random_state=0, n_init=20)\n",
    "    kM_cl.fit(x)\n",
    "    inert[i] = kM_cl.inertia_"
   ]
  },
  {
   "cell_type": "markdown",
   "metadata": {},
   "source": [
    "<p>Строим график</p>"
   ]
  },
  {
   "cell_type": "code",
   "execution_count": null,
   "metadata": {
    "collapsed": false
   },
   "outputs": [],
   "source": [
    "plt.title(\"NumClusters-Inertia\")\n",
    "plt.xlabel(\"Number of clusters\")\n",
    "plt.ylabel(\"Inertia\")\n",
    "plt.plot(range(1,16), inert, \"-o\")\n",
    "plt.grid(True)\n",
    "plt.show()"
   ]
  },
  {
   "cell_type": "markdown",
   "metadata": {},
   "source": [
    "<p>Определяем максимальное отношение между разностями инерции соседних значений количества кластеров</p>"
   ]
  },
  {
   "cell_type": "code",
   "execution_count": null,
   "metadata": {
    "collapsed": true
   },
   "outputs": [],
   "source": [
    "maxValue = 1\n",
    "numClusters_inertia = 1\n",
    "for i in range(1, len(inert)-1):\n",
    "    curValue = (inert[i-1]-inert[i]) / (inert[i]-inert[i+1])\n",
    "    if curValue > maxValue:\n",
    "        maxValue = curValue\n",
    "        numClusters_inertia = i+1"
   ]
  },
  {
   "cell_type": "markdown",
   "metadata": {},
   "source": [
    "<p>Определяем наилучшее количество кластеров</p>"
   ]
  },
  {
   "cell_type": "code",
   "execution_count": null,
   "metadata": {
    "collapsed": false
   },
   "outputs": [],
   "source": [
    "numClusters_inertia"
   ]
  },
  {
   "cell_type": "markdown",
   "metadata": {},
   "source": [
    "<p><b>B. Коэффициент Silhouette</b></p>"
   ]
  },
  {
   "cell_type": "markdown",
   "metadata": {},
   "source": [
    "<p>Вычисляем коэффициенты Silhouette</p>"
   ]
  },
  {
   "cell_type": "code",
   "execution_count": null,
   "metadata": {
    "collapsed": false
   },
   "outputs": [],
   "source": [
    "sil_scores = np.full(15, 0)\n",
    "print(sil_scores)\n",
    "for i in range(1,15):\n",
    "    kM_cl = KMeans(n_clusters=i+1, max_iter=300, init=\"k-means++\", random_state=0, n_init=20)\n",
    "    kM_cl.fit(x)\n",
    "    labels = kM_cl.labels_\n",
    "    sil_scores[i] = metrics.silhouette_score(x, labels, metric=\"euclidean\")\n",
    "    print(\"------------\")\n",
    "    print(i)\n",
    "    print(sil_scores[i])\n",
    "    print(metrics.silhouette_score(x, labels, metric=\"euclidean\"))"
   ]
  },
  {
   "cell_type": "markdown",
   "metadata": {},
   "source": [
    "<p>Строим график</p>"
   ]
  },
  {
   "cell_type": "code",
   "execution_count": null,
   "metadata": {
    "collapsed": false
   },
   "outputs": [],
   "source": [
    "plt.title(\"NumClusters-Silhouette Coefficient\")\n",
    "plt.xlabel(\"Number of clusters\")\n",
    "plt.ylabel(\"Silhouette Coefficient\")\n",
    "plt.plot(range(2,16), sil_scores[1:], \"-o\")\n",
    "plt.grid(True)\n",
    "plt.show()"
   ]
  },
  {
   "cell_type": "markdown",
   "metadata": {},
   "source": [
    "<p>Определяем наилучшее количество кластеров</p>"
   ]
  },
  {
   "cell_type": "code",
   "execution_count": null,
   "metadata": {
    "collapsed": false
   },
   "outputs": [],
   "source": [
    "numClusters_sil = sil_scores.argmax() + 1\n",
    "numClusters_sil"
   ]
  },
  {
   "cell_type": "markdown",
   "metadata": {},
   "source": [
    "<p><b>B. Индекс Calinski-Harabaz</b></p>"
   ]
  },
  {
   "cell_type": "markdown",
   "metadata": {},
   "source": [
    "<p>Вычисляем индекс Calinski-Harabaz</p>"
   ]
  },
  {
   "cell_type": "code",
   "execution_count": null,
   "metadata": {
    "collapsed": false
   },
   "outputs": [],
   "source": [
    "cal_scores = np.full(15, 0)\n",
    "\n",
    "for i in range(1,15):\n",
    "    kM_cl = KMeans(n_clusters=i+1, max_iter=300, init=\"k-means++\", random_state=0, n_init=20)\n",
    "    kM_cl.fit(x)\n",
    "    labels = kM_cl.labels_\n",
    "    cal_scores[i] = metrics.calinski_harabaz_score(x, labels)"
   ]
  },
  {
   "cell_type": "markdown",
   "metadata": {},
   "source": [
    "<p>Строим график</p>"
   ]
  },
  {
   "cell_type": "code",
   "execution_count": null,
   "metadata": {
    "collapsed": false
   },
   "outputs": [],
   "source": [
    "plt.title(\"NumClusters-Calinski-Harabaz Index\")\n",
    "plt.xlabel(\"Number of clusters\")\n",
    "plt.ylabel(\"Calinski-Harabaz Index\")\n",
    "plt.plot(range(2,16), cal_scores[1:], \"-o\")\n",
    "plt.grid(True)\n",
    "plt.show()"
   ]
  },
  {
   "cell_type": "markdown",
   "metadata": {},
   "source": [
    "<p>Определяем наилучшее количество кластеров</p>"
   ]
  },
  {
   "cell_type": "code",
   "execution_count": null,
   "metadata": {
    "collapsed": false
   },
   "outputs": [],
   "source": [
    "numClusters_cal = cal_scores.argmax() + 1\n",
    "numClusters_cal"
   ]
  },
  {
   "cell_type": "markdown",
   "metadata": {},
   "source": [
    "<h3><b>3. Анализ полученных результатов с учетом знания о действительном количестве кластеров</b></h3>"
   ]
  },
  {
   "cell_type": "markdown",
   "metadata": {},
   "source": [
    "<p>Проверяемые значения: 5 и 6 кластеров</p>"
   ]
  },
  {
   "cell_type": "markdown",
   "metadata": {},
   "source": [
    "<p>Определяем модели для соответствующего количества кластеров</p>"
   ]
  },
  {
   "cell_type": "code",
   "execution_count": null,
   "metadata": {
    "collapsed": true
   },
   "outputs": [],
   "source": [
    "kM_cl_5 = KMeans(n_clusters=5, max_iter=300, init=\"k-means++\", random_state=10, n_init=20)"
   ]
  },
  {
   "cell_type": "code",
   "execution_count": null,
   "metadata": {
    "collapsed": true
   },
   "outputs": [],
   "source": [
    "kM_cl_6 = KMeans(n_clusters=6, max_iter=300, init=\"k-means++\", random_state=10, n_init=20)"
   ]
  },
  {
   "cell_type": "markdown",
   "metadata": {},
   "source": [
    "<p>Запускаем поиск (обучение модели) кластеров</p>"
   ]
  },
  {
   "cell_type": "code",
   "execution_count": null,
   "metadata": {
    "collapsed": false
   },
   "outputs": [],
   "source": [
    "y_pred_5 = kM_cl_5.fit_predict(x)\n",
    "y_pred_5[:10]"
   ]
  },
  {
   "cell_type": "code",
   "execution_count": null,
   "metadata": {
    "collapsed": false
   },
   "outputs": [],
   "source": [
    "y_pred_6 = kM_cl_6.fit_predict(x)\n",
    "y_pred_5[:10]"
   ]
  },
  {
   "cell_type": "markdown",
   "metadata": {},
   "source": [
    "<p>Графики исходных данных без и с действительными кластерами, предсказанные значения с 5-ю кластерами, предсказанные значения с 6-ю кластерами</p>"
   ]
  },
  {
   "cell_type": "code",
   "execution_count": null,
   "metadata": {
    "collapsed": false
   },
   "outputs": [],
   "source": [
    "plt.figure(figsize=[15, 18])\n",
    "\n",
    "plt.subplot(4,3,1); plt.title(\"X1-X2\"); plt.xlabel(\"X1\")\n",
    "plt.ylabel(\"X2\"); plt.scatter(x[:,0], x[:,1]); plt.grid(True)\n",
    "\n",
    "plt.subplot(4,3,2); plt.title(\"X1-X3\"); plt.xlabel(\"X1\")\n",
    "plt.ylabel(\"X3\"); plt.scatter(x[:,0], x[:,2]); plt.grid(True)\n",
    "\n",
    "plt.subplot(4,3,3); plt.title(\"X2-X3\"); plt.xlabel(\"X2\")\n",
    "plt.ylabel(\"X3\"); plt.scatter(x[:,1], x[:,2]); plt.grid(True)\n",
    "\n",
    "plt.subplot(4,3,4); plt.title(\"Real - 5 Clusters: X1-X2-Y\"); plt.xlabel(\"X1\")\n",
    "plt.ylabel(\"X2\"); plt.scatter(x[:,0], x[:,1], c=y, cmap=clrMap); plt.grid(True)\n",
    "\n",
    "plt.subplot(4,3,5); plt.title(\"Real - 5 Clusters: X1-X3-Y\"); plt.xlabel(\"X1\"); plt.ylabel(\"X3\")\n",
    "plt.scatter(x[:,0], x[:,2], c=y, cmap=clrMap); plt.grid(True)\n",
    "\n",
    "plt.subplot(4,3,6); plt.title(\"Real - 5 Clusters: X2-X3-Y\"); plt.xlabel(\"X2\"); plt.ylabel(\"X3\")\n",
    "plt.scatter(x[:,1], x[:,2], c=y, cmap=clrMap); plt.grid(True)\n",
    "\n",
    "plt.subplot(4,3,7); plt.title(\"Predicted - 5 Clusters: X1-X2-Y\"); plt.xlabel(\"X1\")\n",
    "plt.ylabel(\"X2\"); plt.scatter(x[:,0], x[:,1], c=y_pred_5, cmap=clrMap); plt.grid(True)\n",
    "\n",
    "plt.subplot(4,3,8); plt.title(\"Predicted - 5 Clusters: X1-X3-Y\"); plt.xlabel(\"X1\"); plt.ylabel(\"X3\")\n",
    "plt.scatter(x[:,0], x[:,2], c=y_pred_5, cmap=clrMap); plt.grid(True)\n",
    "\n",
    "plt.subplot(4,3,9); plt.title(\"Predicted - 5 Clusters: X2-X3-Y\"); plt.xlabel(\"X2\"); plt.ylabel(\"X3\")\n",
    "plt.scatter(x[:,1], x[:,2], c=y_pred_6, cmap=clrMap); plt.grid(True)\n",
    "\n",
    "plt.subplot(4,3,10); plt.title(\"Predicted - 6 Clusters: X1-X2-Y\"); plt.xlabel(\"X1\")\n",
    "plt.ylabel(\"X2\"); plt.scatter(x[:,0], x[:,1], c=y_pred_6, cmap=clrMap); plt.grid(True)\n",
    "\n",
    "plt.subplot(4,3,11); plt.title(\"Predicted - 6 Clusters: X1-X3-Y\"); plt.xlabel(\"X1\"); plt.ylabel(\"X3\")\n",
    "plt.scatter(x[:,0], x[:,2], c=y_pred_6, cmap=clrMap); plt.grid(True)\n",
    "\n",
    "plt.subplot(4,3,12); plt.title(\"Predicted - 6 Clusters:X2-X3-Y\"); plt.xlabel(\"X2\"); plt.ylabel(\"X3\")\n",
    "plt.scatter(x[:,1], x[:,2], c=y_pred_6, cmap=clrMap); plt.grid(True)\n",
    "\n",
    "plt.tight_layout()\n",
    "\n",
    "plt.show()"
   ]
  },
  {
   "cell_type": "markdown",
   "metadata": {},
   "source": [
    "<p>Используем метрики для сравнения полученных (предсказанных) результатов с действительными значениям (полученными при формировании начальных данных)</p>"
   ]
  },
  {
   "cell_type": "markdown",
   "metadata": {},
   "source": [
    "<p><b>A. Adjusted Rand index</b></p>"
   ]
  },
  {
   "cell_type": "code",
   "execution_count": null,
   "metadata": {
    "collapsed": false
   },
   "outputs": [],
   "source": [
    "# для 5 кластеров\n",
    "metrics.adjusted_rand_score(y, y_pred_5) # от -1.0 до 1.0. -1.0 - плохо, 1.0 - хорошо"
   ]
  },
  {
   "cell_type": "code",
   "execution_count": null,
   "metadata": {
    "collapsed": false
   },
   "outputs": [],
   "source": [
    "# для 6 кластеров\n",
    "metrics.adjusted_rand_score(y, y_pred_6) "
   ]
  },
  {
   "cell_type": "markdown",
   "metadata": {},
   "source": [
    "<p><b>B. Mutual Information based scores</b></p>"
   ]
  },
  {
   "cell_type": "code",
   "execution_count": null,
   "metadata": {
    "collapsed": false
   },
   "outputs": [],
   "source": [
    "# для 5 кластеров\n",
    "metrics.adjusted_mutual_info_score(y, y_pred_5) # от 0 до 1. 0 - плохо, 1.0 - хорошо"
   ]
  },
  {
   "cell_type": "code",
   "execution_count": null,
   "metadata": {
    "collapsed": false
   },
   "outputs": [],
   "source": [
    "metrics.adjusted_mutual_info_score(y, y_pred_6) "
   ]
  },
  {
   "cell_type": "markdown",
   "metadata": {},
   "source": [
    "<p><b>C. Fowlkes-Mallows scores</b></p>"
   ]
  },
  {
   "cell_type": "code",
   "execution_count": null,
   "metadata": {
    "collapsed": false
   },
   "outputs": [],
   "source": [
    "# для 5 кластеров\n",
    "metrics.fowlkes_mallows_score(y, y_pred_5) # от 0 до 1. 0 - плохо, 1.0 - хорошо"
   ]
  },
  {
   "cell_type": "code",
   "execution_count": null,
   "metadata": {
    "collapsed": false
   },
   "outputs": [],
   "source": [
    "# для 6 кластеров\n",
    "metrics.fowlkes_mallows_score(y, y_pred_6) "
   ]
  },
  {
   "cell_type": "markdown",
   "metadata": {},
   "source": [
    "<h3><b>4. Источники</b></h3>"
   ]
  },
  {
   "cell_type": "markdown",
   "metadata": {},
   "source": [
    "<a href=\"http://scikit-learn.org/stable/modules/clustering.html\">Clustering</a><br>\n",
    "<a href=\"http://scikit-learn.org/stable/modules/generated/sklearn.cluster.KMeans.html#sklearn.cluster.KMeans\">sklearn.cluster.KMeans</a>"
   ]
  },
  {
   "cell_type": "code",
   "execution_count": null,
   "metadata": {
    "collapsed": true
   },
   "outputs": [],
   "source": []
  }
 ],
 "metadata": {
  "kernelspec": {
   "display_name": "Python 3",
   "language": "python",
   "name": "python3"
  },
  "language_info": {
   "codemirror_mode": {
    "name": "ipython",
    "version": 3
   },
   "file_extension": ".py",
   "mimetype": "text/x-python",
   "name": "python",
   "nbconvert_exporter": "python",
   "pygments_lexer": "ipython3",
   "version": "3.5.2"
  }
 },
 "nbformat": 4,
 "nbformat_minor": 2
}
