{
 "cells": [
  {
   "cell_type": "markdown",
   "metadata": {},
   "source": [
    "<div style=\"font-size:18pt; padding-top:20px; text-align:center; line-height: 1.5;\">СЕМИНАР. <b>Оптимизация. Часть 2.</b> Стохастический градиентный спуск и библиотеки <span style=\"font-weight:bold; color:green\">Python</span></div><hr>\n",
    "<div style=\"text-align:right;\">Папулин С.Ю. <span style=\"font-style: italic;font-weight: bold;\">(papulin.study@mail.ru)</span></div>"
   ]
  },
  {
   "cell_type": "markdown",
   "metadata": {
    "collapsed": true
   },
   "source": [
    "<a name=\"0\"></a>\n",
    "<div><span style=\"font-size:14pt; font-weight:bold\">Содержание</span>\n",
    "    <ol>\n",
    "        <li><a href=\"#1\">Градиентный спуск для функции с суммой квадратов</a>\n",
    "            <ol style = \"list-style-type:lower-alpha\">\n",
    "                <li><a href=\"#1a\">Функция с суммой квадратов</a></li>\n",
    "                <li><a href=\"#1b\">Градиентный спуск</a></li>\n",
    "                <li><a href=\"#1с\">Стохастический градиентный спуск</a></li>\n",
    "                <li><a href=\"#1d\">Градиентный спуск в задаче линейной регрессии</a></li>\n",
    "            </ol>\n",
    "        </li>\n",
    "        <li><a href=\"#2\">Оптимизация и SciPy</a></li>\n",
    "        <li><a href=\"#3\">Источники</a></li>\n",
    "    </ol>\n",
    "</div>"
   ]
  },
  {
   "cell_type": "code",
   "execution_count": null,
   "metadata": {},
   "outputs": [],
   "source": [
    "import numpy as np\n",
    "import pandas as pnd\n",
    "import matplotlib.pyplot as plt\n",
    "from mpl_toolkits.mplot3d import Axes3D\n",
    "from matplotlib import cm\n",
    "%matplotlib inline"
   ]
  },
  {
   "cell_type": "markdown",
   "metadata": {
    "collapsed": true
   },
   "source": [
    "<a name=\"1\"></a>\n",
    "<div style=\"display:table; width:100%; padding-top:10px; padding-bottom:10px; border-bottom:1px solid lightgrey\">\n",
    "    <div style=\"display:table-row\">\n",
    "        <div style=\"display:table-cell; width:80%; font-size:14pt; font-weight:bold\">1. Градиентный спуска для функции с суммой квадратов</div>\n",
    "    \t<div style=\"display:table-cell; width:20%; text-align:center; background-color:whitesmoke; border:1px solid lightgrey\"><a href=\"#0\">К содержанию</a></div>\n",
    "    </div>\n",
    "</div>"
   ]
  },
  {
   "cell_type": "markdown",
   "metadata": {},
   "source": [
    "<a name=\"1a\"></a>\n",
    "<div style=\"display:table; width:100%\">\n",
    "    <div style=\"display:table-row\">\n",
    "        <div style=\"display:table-cell; width:80%; font-style:italic; font-weight:bold; font-size:12pt\">\n",
    "            a. Функция с суммой квадратов\n",
    "        </div>\n",
    "        <div style=\"display:table-cell; border:1px solid lightgrey; width:20%\">\n",
    "            <div style=\"display:table-cell; width:10%; text-align:center; background-color:whitesmoke;\">\n",
    "                <a href=\"#1\">Назад</a>\n",
    "            </div>\n",
    "            <div style=\"display:table-cell; width:10%; text-align:center;\">\n",
    "                <a href=\"#1b\">Далее</a>\n",
    "            </div>\n",
    "        </div>\n",
    "    </div>\n",
    "</div>"
   ]
  },
  {
   "cell_type": "markdown",
   "metadata": {},
   "source": [
    "<p>Формирование исходных данных</p>"
   ]
  },
  {
   "cell_type": "markdown",
   "metadata": {},
   "source": [
    "Функция:\n",
    "\n",
    "$$f(x_1, x_2) = \\frac{1}{n} \\sum^{n}_{i=1} { (a_{i} x_{1} + b_{i} x_{2} - c_i)^2} $$\n",
    "\n",
    "\n",
    "Частная производная по $x_1$:\n",
    "\n",
    "$$\\frac{\\partial f}{\\partial x_1} = \\frac{2}{n}  \\sum^{n}_{i=1} {a_{i} (a_{i} x_1 + b_{i} x_2 - c_i)}$$\n",
    "\n",
    "\n",
    "Частная производная по $x_2$:\n",
    "\n",
    "$$\\frac{\\partial f}{\\partial x_2} = \\frac{2}{n}  \\sum^{n}_{i=1} {b_{i} (a_{i} x_1 + b_{i} x_2 - c_i)}$$"
   ]
  },
  {
   "cell_type": "code",
   "execution_count": null,
   "metadata": {},
   "outputs": [],
   "source": [
    "# Количество элементов в выборке\n",
    "SAMPLE_SIZE = 1000"
   ]
  },
  {
   "cell_type": "code",
   "execution_count": null,
   "metadata": {},
   "outputs": [],
   "source": [
    "# Генерация коэффициентов\n",
    "np.random.seed(100)\n",
    "n = SAMPLE_SIZE\n",
    "a = 0.5 * np.random.randn(SAMPLE_SIZE) + 1\n",
    "b = 0.5 * np.random.randn(SAMPLE_SIZE) + 0.5\n",
    "c = 0.5 * np.random.randn(SAMPLE_SIZE)"
   ]
  },
  {
   "cell_type": "code",
   "execution_count": null,
   "metadata": {},
   "outputs": [],
   "source": [
    "# Функция потерь (ошибки)  \n",
    "f = lambda x1, x2: 1 / n * sum([(a[i]*x1 + b[i]*x2 - c[i]) ** 2 for i in range(n)])"
   ]
  },
  {
   "cell_type": "code",
   "execution_count": null,
   "metadata": {},
   "outputs": [],
   "source": [
    "# Частная производная по x1\n",
    "df_x1 = lambda x1, x2: 2 / n *sum(a[i]*(a[i]*x1 + b[i]*x2 - c[i]) for i in range(n))\n",
    "\n",
    "# Частная производная по x2\n",
    "df_x2 = lambda x1, x2: 2 / n * sum(b[i]*(a[i]*x1 + b[i]*x2 - c[i]) for i in range(n))"
   ]
  },
  {
   "cell_type": "code",
   "execution_count": null,
   "metadata": {},
   "outputs": [],
   "source": [
    "coord_x1 = np.arange(-4, 5, 0.1)  # Значения x c шагом 0.1\n",
    "coord_x2 = np.arange(-4, 5, 0.1)  # Значения x c шагом 0.1\n",
    "\n",
    "x1, x2 = np.meshgrid(coord_x1, coord_x2)"
   ]
  },
  {
   "cell_type": "code",
   "execution_count": null,
   "metadata": {},
   "outputs": [],
   "source": [
    "fig = plt.figure(1, figsize=(10, 10))\n",
    "\n",
    "ax0 = fig.add_subplot(2, 2, 1, projection=\"3d\")\n",
    "ax0.plot_surface(x1, x2, f(x1, x2), rstride=1, cstride=1, cmap=cm.coolwarm,\n",
    "                       linewidth=0, antialiased=False)\n",
    "ax0.set_xlabel(\"x1\")\n",
    "ax0.set_ylabel(\"x2\")\n",
    "ax0.set_zlabel(\"f(x1,x2)\")\n",
    "\n",
    "ax1 = plt.subplot(2,2,2)\n",
    "cf = ax1.contourf(x1, x2, f(x1, x2), 10, alpha=0.5, cmap=cm.coolwarm)\n",
    "plt.colorbar(cf)\n",
    "ax1.set_xlabel(\"x1\")\n",
    "ax1.set_ylabel(\"x2\")\n",
    "\n",
    "ax2 = plt.subplot(2,2,3)\n",
    "ax2.set_xlabel(\"x1\")\n",
    "ax2.set_ylabel(\"x2\")\n",
    "\n",
    "X, Y = np.meshgrid(coord_x1[::5], coord_x2[::5])\n",
    "Fxy = f(X, Y)\n",
    "dX = coord_x1[5] - coord_x1[0]\n",
    "dY = coord_x2[5] - coord_x2[0]\n",
    "dFY,dFX = np.gradient(Fxy, dX, dY)\n",
    "\n",
    "ax2.quiver(X, Y, dFX, dFY, scale=100)\n",
    "\n",
    "ax3 = plt.subplot(2,2,4)\n",
    "ax3.set_xlabel(\"x1\")\n",
    "ax3.set_ylabel(\"x2\")\n",
    "ax3.contourf(x1, x2, f(x1, x2), 25, cmap=cm.coolwarm)\n",
    "ax3.quiver(X, Y, dFX, dFY, scale=100)\n",
    "plt.colorbar(cf)\n",
    "\n",
    "plt.tight_layout()\n",
    "\n",
    "plt.show()"
   ]
  },
  {
   "cell_type": "markdown",
   "metadata": {},
   "source": [
    "<a name=\"1b\"></a>\n",
    "<div style=\"display:table; width:100%\">\n",
    "    <div style=\"display:table-row\">\n",
    "        <div style=\"display:table-cell; width:80%; font-style:italic; font-weight:bold; font-size:12pt\">\n",
    "            b. Градиентный спуск\n",
    "        </div>\n",
    "        <div style=\"display:table-cell; border:1px solid lightgrey; width:20%\">\n",
    "            <div style=\"display:table-cell; width:10%; text-align:center; background-color:whitesmoke;\">\n",
    "                <a href=\"#1a\">Назад</a>\n",
    "            </div>\n",
    "            <div style=\"display:table-cell; width:10%; text-align:center;\">\n",
    "                <a href=\"#1c\">Далее</a>\n",
    "            </div>\n",
    "        </div>\n",
    "    </div>\n",
    "</div>"
   ]
  },
  {
   "cell_type": "markdown",
   "metadata": {},
   "source": [
    "$$x := x - \\alpha \\nabla f$$"
   ]
  },
  {
   "cell_type": "markdown",
   "metadata": {},
   "source": [
    "<p>Алгоритм градиентного спуска</p>"
   ]
  },
  {
   "cell_type": "code",
   "execution_count": null,
   "metadata": {},
   "outputs": [],
   "source": [
    "def GD(alpha, f, dfx1, dfx2, iterNum, startX1, startX2):\n",
    "    \n",
    "    x1_min = startX1\n",
    "    x1_min_prev = startX1\n",
    "    \n",
    "    x2_min = startX2\n",
    "    x2_min_prev = startX2\n",
    "    \n",
    "    #y_prev = f(w1, w2, x1_min, x2_min)\n",
    "    #y_cur = y_prev\n",
    "    \n",
    "    i = 0\n",
    "    \n",
    "    while i < iterNum:\n",
    "        \n",
    "        x1_min = x1_min_prev - alpha * dfx1(x1_min_prev, x2_min_prev)\n",
    "        x2_min = x2_min_prev - alpha * dfx2(x1_min_prev, x2_min_prev)\n",
    "        \n",
    "        #y_cur = f(w1, w2, x1_min, x2_min)\n",
    "        \n",
    "        #if abs(y_cur - y_prev) <= err:\n",
    "        #    break\n",
    "        \n",
    "        #y_prev = y_cur\n",
    "        \n",
    "        x1_min_prev = x1_min\n",
    "        x2_min_prev = x2_min\n",
    "\n",
    "        i += 1\n",
    "        \n",
    "    return (x1_min, x2_min, i)"
   ]
  },
  {
   "cell_type": "markdown",
   "metadata": {},
   "source": [
    "<p>Поиск решения посредством градиентного спуска</p>"
   ]
  },
  {
   "cell_type": "code",
   "execution_count": null,
   "metadata": {},
   "outputs": [],
   "source": [
    "alpha = 0.5\n",
    "iterNum = 200\n",
    "startX1 = 4\n",
    "startX2 = -2"
   ]
  },
  {
   "cell_type": "code",
   "execution_count": null,
   "metadata": {},
   "outputs": [],
   "source": [
    "GD(alpha, f, df_x1, df_x2, iterNum, startX1, startX2)"
   ]
  },
  {
   "cell_type": "markdown",
   "metadata": {},
   "source": [
    "<p>Исследование влияния значения коэффициента альфа</p>"
   ]
  },
  {
   "cell_type": "markdown",
   "metadata": {},
   "source": [
    "<p><b><i>Начальная точка 1</i></b></p>"
   ]
  },
  {
   "cell_type": "markdown",
   "metadata": {},
   "source": [
    "<img src=\"img/gd-two-var-alpha-right-sum.png\">"
   ]
  },
  {
   "cell_type": "markdown",
   "metadata": {},
   "source": [
    "<p><b><i>Начальная точка 2</i></b></p>"
   ]
  },
  {
   "cell_type": "markdown",
   "metadata": {},
   "source": [
    "<img src=\"img/gd-two-var-alpha-left-sum.png\">"
   ]
  },
  {
   "cell_type": "markdown",
   "metadata": {},
   "source": [
    "<p>Время выполнения градиентного спуска</p>"
   ]
  },
  {
   "cell_type": "code",
   "execution_count": null,
   "metadata": {},
   "outputs": [],
   "source": [
    "alpha = 0.5\n",
    "iterNum = 200\n",
    "startX1 = 4\n",
    "startX2 = -2"
   ]
  },
  {
   "cell_type": "code",
   "execution_count": null,
   "metadata": {},
   "outputs": [],
   "source": [
    "%timeit GD(alpha, f, df_x1, df_x2, iterNum, startX1, startX2)"
   ]
  },
  {
   "cell_type": "markdown",
   "metadata": {},
   "source": [
    "<a name = \"1c\"></a>\n",
    "<div style=\"display:table; width:100%\">\n",
    "    <div style=\"display:table-row\">\n",
    "        <div style=\"display:table-cell; width:80%; font-style:italic; font-weight:bold; font-size:12pt\">\n",
    "            c. Стохастический градиентный спуск\n",
    "        </div>\n",
    "        <div style=\"display:table-cell; border:1px solid lightgrey; width:20%\">\n",
    "            <div style=\"display:table-cell; width:10%; text-align:center; background-color:whitesmoke;\">\n",
    "                <a href=\"#1b\">Назад</a>\n",
    "            </div>\n",
    "            <div style=\"display:table-cell; width:10%; text-align:center;\">\n",
    "                <a href=\"#1d\">Далее</a>\n",
    "            </div>\n",
    "        </div>\n",
    "    </div>\n",
    "</div>"
   ]
  },
  {
   "cell_type": "markdown",
   "metadata": {},
   "source": [
    "Функция:\n",
    "\n",
    "$$f(x_1, x_2) = \\frac{1}{n} \\sum^{n}_{i=1} { f_i(x_1, x_2) } = \\frac{1}{n} \\sum^{n}_{i=1} { (a_{i} x_{1} + b_{i} x_{2} - c_i)^2} $$\n",
    "\n",
    "\n",
    "Частная производная по $x_1$:\n",
    "\n",
    "$$\\frac{\\partial f_i}{\\partial x_1} = 2  a_{i} (a_{i} x_1 + b_{i} x_2 - c_i)$$\n",
    "\n",
    "\n",
    "Частная производная по $x_2$:\n",
    "\n",
    "$$\\frac{\\partial f_i}{\\partial x_2} = 2 b_{i} (a_{i} x_1 + b_{i} x_2 - c_i)$$"
   ]
  },
  {
   "cell_type": "code",
   "execution_count": null,
   "metadata": {},
   "outputs": [],
   "source": [
    "# Частные производные от функции потерь\n",
    "df_x1_i = lambda x1, x2, i: 2.0 * a[i] * (a[i]*x1 + b[i]*x2 - c[i])\n",
    "df_x2_i = lambda x1, x2, i: 2.0 * b[i] * (a[i]*x1 + b[i]*x2 - c[i])"
   ]
  },
  {
   "cell_type": "markdown",
   "metadata": {},
   "source": [
    "<p>Алгоритм стохастического градиентного спуска</p>"
   ]
  },
  {
   "cell_type": "code",
   "execution_count": null,
   "metadata": {},
   "outputs": [],
   "source": [
    "def SGD(alpha, f, dfx1i, dfx2i, err, startX1, startX2):\n",
    "    \n",
    "    x1_min = startX1\n",
    "    x1_min_prev = startX1\n",
    "    \n",
    "    x2_min = startX2\n",
    "    x2_min_prev = startX2\n",
    "    \n",
    "    #y_prev = f(w1, w2, x1_min, x2_min)\n",
    "    #y_cur = y_prev\n",
    "    \n",
    "    j = 0\n",
    "    \n",
    "    for i in range(n):\n",
    "        \n",
    "        x1_min = x1_min_prev - alpha * dfx1i(x1_min_prev, x2_min_prev, i)\n",
    "        x2_min = x2_min_prev - alpha * dfx2i(x1_min_prev, x2_min_prev, i)\n",
    "        \n",
    "        #y_cur = f(w1, w2, x1_min, x2_min)\n",
    "        \n",
    "        #if abs(y_cur - y_prev) <= err:\n",
    "        #    break\n",
    "        \n",
    "        #y_prev = y_cur    \n",
    "        \n",
    "        x1_min_prev = x1_min\n",
    "        x2_min_prev = x2_min\n",
    "\n",
    "        j += 1\n",
    "                     \n",
    "    return (x1_min, x2_min, j)"
   ]
  },
  {
   "cell_type": "markdown",
   "metadata": {},
   "source": [
    "<p>Поиск решения посредством стохастического градиентного спуска</p>"
   ]
  },
  {
   "cell_type": "code",
   "execution_count": null,
   "metadata": {},
   "outputs": [],
   "source": [
    "alpha = 0.05\n",
    "#err = 0.0001\n",
    "startX1 = 4\n",
    "startX2 = -2"
   ]
  },
  {
   "cell_type": "code",
   "execution_count": null,
   "metadata": {},
   "outputs": [],
   "source": [
    "SGD(alpha, f, df_x1_i, df_x2_i, None, startX1, startX2)"
   ]
  },
  {
   "cell_type": "markdown",
   "metadata": {},
   "source": [
    "<p>Исследование влияния значения коэффициента альфа</p>"
   ]
  },
  {
   "cell_type": "markdown",
   "metadata": {},
   "source": [
    "<p><b><i>Начальная точка 1</i></b></p>"
   ]
  },
  {
   "cell_type": "markdown",
   "metadata": {},
   "source": [
    "<img src=\"img/sgd-two-var-alpha-right.png\">"
   ]
  },
  {
   "cell_type": "markdown",
   "metadata": {},
   "source": [
    "<p><b><i>Начальная точка 2</i></b></p>"
   ]
  },
  {
   "cell_type": "markdown",
   "metadata": {},
   "source": [
    "<img src=\"img/sgd-two-var-alpha-left.png\">"
   ]
  },
  {
   "cell_type": "markdown",
   "metadata": {},
   "source": [
    "<p>Время выполнения стохастического градиентного спуска</p>"
   ]
  },
  {
   "cell_type": "code",
   "execution_count": null,
   "metadata": {},
   "outputs": [],
   "source": [
    "alpha = 0.5\n",
    "startX1 = 4\n",
    "startX2 = -2"
   ]
  },
  {
   "cell_type": "code",
   "execution_count": null,
   "metadata": {},
   "outputs": [],
   "source": [
    "%timeit SGD(alpha, f, df_x1_i, df_x2_i, None, startX1, startX2)"
   ]
  },
  {
   "cell_type": "markdown",
   "metadata": {},
   "source": [
    "<a name=\"2\"></a>\n",
    "<div style=\"display:table; width:100%; padding-top:10px; padding-bottom:10px; border-bottom:1px solid lightgrey\">\n",
    "    <div style=\"display:table-row\">\n",
    "        <div style=\"display:table-cell; width:80%; font-size:14pt; font-weight:bold\">2. Оптимизация и SciPy</div>\n",
    "    \t<div style=\"display:table-cell; width:20%; text-align:center; background-color:whitesmoke; border:1px solid lightgrey\"><a href=\"#0\">К содержанию</a></div>\n",
    "    </div>\n",
    "</div>"
   ]
  },
  {
   "cell_type": "code",
   "execution_count": null,
   "metadata": {},
   "outputs": [],
   "source": [
    "from scipy.optimize import minimize, fmin_ncg, fmin, fmin_cg"
   ]
  },
  {
   "cell_type": "code",
   "execution_count": null,
   "metadata": {},
   "outputs": [],
   "source": [
    "start_point = (4, -2)\n",
    "\n",
    "f_x = lambda x: f(x[0], x[1])\n",
    "\n",
    "\n",
    "print(\"The downhill simplex algorithm. Nelder-Mead method\\n\")\n",
    "res = fmin(f_x, start_point, retall=True, disp=True)\n",
    "print(\"x_1 = {}; x_2 = {}\\n\".format(res[0][0], res[0][1]))\n",
    "\n",
    "print(\"Nonlinear conjugate gradient algorithm\\n\")\n",
    "res = fmin_cg(f_x, start_point, retall=True, disp=True)\n",
    "print(\"x_1 = {}; x_2 = {}\\n\".format(res[0][0], res[0][1]))\n",
    "\n",
    "print(\"Nelder-Mead\\n\")\n",
    "res = minimize(f_x, start_point, method=\"nelder-mead\", options={\"disp\": True})\n",
    "print(\"x_1 = {}; x_2 = {}\\n\".format(res[\"x\"][0], res[\"x\"][1]))\n",
    "\n",
    "print(\"Powell\\n\")\n",
    "res = minimize(f_x, start_point, method=\"powell\", options={\"xtol\": 1e-8, \"disp\": True})\n",
    "print(\"x_1 = {}; x_2 = {}\\n\".format(res[\"x\"][0], res[\"x\"][1]))\n",
    "\n",
    "print(\"Broyden-Fletcher-Goldfarb-Shanno algorithm\\n\")\n",
    "res = minimize(f_x, start_point, method=\"BFGS\", options={\"disp\": True})\n",
    "print(\"x_1 = {}; x_2 = {}\\n\".format(res[\"x\"][0], res[\"x\"][1]))"
   ]
  },
  {
   "cell_type": "markdown",
   "metadata": {},
   "source": [
    "<a name=\"3\"></a>\n",
    "<div style=\"display:table; width:100%; padding-top:10px; padding-bottom:10px; border-bottom:1px solid lightgrey\">\n",
    "    <div style=\"display:table-row\">\n",
    "        <div style=\"display:table-cell; width:80%; font-size:14pt; font-weight:bold\">3. Источники</div>\n",
    "    \t<div style=\"display:table-cell; width:20%; text-align:center; background-color:whitesmoke; border:1px solid lightgrey\"><a href=\"#0\">К содержанию</a></div>\n",
    "    </div>\n",
    "</div>"
   ]
  },
  {
   "cell_type": "markdown",
   "metadata": {},
   "source": [
    "<p>SciPy</p>\n",
    "<a href = \"http://docs.scipy.org/doc/scipy-0.15.1/reference/generated/scipy.misc.derivative.html\">scipy.misc.derivative</a><br>\n",
    "<a href = \"http://www.scipy-lectures.org/advanced/mathematical_optimization/\">Mathematical optimization: finding minima of functions</a><br>\n",
    "\n",
    "<a href = \"https://books.google.ru/books?id=gl2kCAAAQBAJ&pg=PA84&lpg=PA84&dq=python+gradient+field&source=bl&ots=-3OAAkvVxC&sig=t_m9sqbKiV4I0iPXh_7GqTOtd2I&hl=ru&sa=X&ved=0ahUKEwjVmPmQ6dTKAhWEiSwKHY_fBEkQ6AEITjAG#v=onepage&q=python%20gradient%20field&f=false\">A Student's Guide to Python for Physical Modeling</a><br>\n",
    "<a href = \"https://books.google.ru/books?id=K0B8BwAAQBAJ&pg=PA241&lpg=PA241&dq=python+gradient+field&source=bl&ots=Np0wRoLbEP&sig=TCjpF12bZwjZ6BeeAj6KmE1EHlQ&hl=ru&sa=X&ved=0ahUKEwjVmPmQ6dTKAhWEiSwKHY_fBEkQ6AEIVDAH#v=onepage&q=python%20gradient%20field&f=false\">Mathematics and Python Programming</a><br>\n",
    "\n",
    "\n",
    "\n",
    "<p>Дополнительно</p>\n",
    "<a href = \"http://mit.spbau.ru/files/scipy.pdf\">Python. Библиотеки numpy, scipy, matplotlib, PIL</a><br>"
   ]
  },
  {
   "cell_type": "code",
   "execution_count": null,
   "metadata": {},
   "outputs": [],
   "source": []
  },
  {
   "cell_type": "code",
   "execution_count": null,
   "metadata": {},
   "outputs": [],
   "source": []
  }
 ],
 "metadata": {
  "kernelspec": {
   "display_name": "Python 3",
   "language": "python",
   "name": "python3"
  },
  "language_info": {
   "codemirror_mode": {
    "name": "ipython",
    "version": 3
   },
   "file_extension": ".py",
   "mimetype": "text/x-python",
   "name": "python",
   "nbconvert_exporter": "python",
   "pygments_lexer": "ipython3",
   "version": "3.7.4"
  }
 },
 "nbformat": 4,
 "nbformat_minor": 2
}
