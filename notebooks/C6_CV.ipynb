{
 "cells": [
  {
   "cell_type": "markdown",
   "metadata": {},
   "source": [
    "<div style=\"font-size:18pt; padding-top:20px; text-align:center\">СЕМИНАР. <b>Кросс-валидация</b></div><hr>\n",
    "<div style=\"text-align:right;\">Папулин С.Ю. <span style=\"font-style: italic;font-weight: bold;\">(papulin.study@mail.ru)</span></div>"
   ]
  },
  {
   "cell_type": "markdown",
   "metadata": {},
   "source": [
    "<a name=\"0\"></a>\n",
    "<div><span style=\"font-size:14pt; font-weight:bold\">Содержание</span>\n",
    "    <ol>\n",
    "        <li><a href=\"#1\">Подходы к разбиению исходных данных</a></li>\n",
    "        <li><a href=\"#2\">Оценка качества модели</a>\n",
    "        <li><a href=\"#3\">Выбор модели с кросс-валидацией</a></li>\n",
    "        <li><a href=\"#4\">Источники</a>\n",
    "        </li>\n",
    "    </ol>\n",
    "</div>"
   ]
  },
  {
   "cell_type": "markdown",
   "metadata": {},
   "source": [
    "<p><b>Подключение библиотек</b></p>"
   ]
  },
  {
   "cell_type": "code",
   "execution_count": null,
   "metadata": {},
   "outputs": [],
   "source": [
    "from sklearn import datasets\n",
    "from scipy import stats\n",
    "import numpy as np\n",
    "\n",
    "from sklearn.model_selection import cross_val_predict, train_test_split\n",
    "from sklearn import linear_model\n",
    "import matplotlib.pyplot as plt\n",
    "\n",
    "%matplotlib inline"
   ]
  },
  {
   "cell_type": "code",
   "execution_count": null,
   "metadata": {},
   "outputs": [],
   "source": [
    "from sklearn.linear_model import LinearRegression, Ridge, Lasso\n",
    "from sklearn.metrics import mean_squared_error"
   ]
  },
  {
   "cell_type": "code",
   "execution_count": null,
   "metadata": {},
   "outputs": [],
   "source": [
    "from sklearn.preprocessing import PolynomialFeatures\n",
    "from sklearn.pipeline import Pipeline"
   ]
  },
  {
   "cell_type": "markdown",
   "metadata": {},
   "source": [
    "<a name=\"1\"></a>\n",
    "<div style=\"display:table; width:100%; padding-top:10px; padding-bottom:10px; border-bottom:1px solid lightgrey\">\n",
    "    <div style=\"display:table-row\">\n",
    "        <div style=\"display:table-cell; width:80%; font-size:16pt; font-weight:bold\">1. Подходы к разбиению исходных данных</div>\n",
    "    \t<div style=\"display:table-cell; width:20%; text-align:center; background-color:whitesmoke; border:1px solid lightgrey\"><a href=\"#0\">К содержанию</a></div>\n",
    "    </div>\n",
    "</div>"
   ]
  },
  {
   "cell_type": "markdown",
   "metadata": {},
   "source": [
    "### Отложенная выборка (Holdout)"
   ]
  },
  {
   "cell_type": "code",
   "execution_count": null,
   "metadata": {},
   "outputs": [],
   "source": [
    "from sklearn.model_selection import train_test_split"
   ]
  },
  {
   "cell_type": "code",
   "execution_count": null,
   "metadata": {},
   "outputs": [],
   "source": [
    "x = np.array([10, 11, 12, 13, 14, 15, 16, 17, 18, 19])\n",
    "y = np.array([1, 1, 0, 0, 1, 0, 1, 1, 0, 0])\n",
    "\n",
    "x_train, x_test, y_train, y_test = train_test_split(x, y, test_size=0.4, random_state=0)"
   ]
  },
  {
   "cell_type": "code",
   "execution_count": null,
   "metadata": {},
   "outputs": [],
   "source": [
    "x_train.shape, y_train.shape"
   ]
  },
  {
   "cell_type": "code",
   "execution_count": null,
   "metadata": {},
   "outputs": [],
   "source": [
    "x_train, y_train"
   ]
  },
  {
   "cell_type": "markdown",
   "metadata": {},
   "source": [
    "### Кросс-валидация K-Folds"
   ]
  },
  {
   "cell_type": "code",
   "execution_count": null,
   "metadata": {},
   "outputs": [],
   "source": [
    "from sklearn.model_selection import cross_val_score, cross_validate, KFold"
   ]
  },
  {
   "cell_type": "code",
   "execution_count": null,
   "metadata": {},
   "outputs": [],
   "source": [
    "x = np.array([10, 11, 12, 13, 14, 15, 16, 17, 18, 19])\n",
    "y = np.array([1,1,0,0,1,0,1,1,0,0])\n",
    "\n",
    "kf = KFold(n_splits=3, random_state=0)\n",
    "splits = kf.split(x, y)\n",
    "for train_index, test_index in splits:\n",
    "    print(train_index, test_index)"
   ]
  },
  {
   "cell_type": "code",
   "execution_count": null,
   "metadata": {},
   "outputs": [],
   "source": [
    "kf = KFold(n_splits=3, shuffle=True, random_state=0)\n",
    "splits = kf.split(x, y)\n",
    "for train_index, test_index in splits:\n",
    "    print(train_index, test_index)"
   ]
  },
  {
   "cell_type": "code",
   "execution_count": null,
   "metadata": {},
   "outputs": [],
   "source": [
    "splits = kf.split(x, y)\n",
    "for indx, (train_index, test_index) in enumerate(splits):\n",
    "    print(\"\\nSplit\", indx+1)\n",
    "    print(\"Train set (x and y)\")\n",
    "    print(x[train_index],  y[train_index])\n",
    "    print(\"Test set (x and y)\")\n",
    "    print(x[test_index],  y[test_index])"
   ]
  },
  {
   "cell_type": "markdown",
   "metadata": {},
   "source": [
    "### Кросс-валидация Leave-One-Out (LOO)"
   ]
  },
  {
   "cell_type": "code",
   "execution_count": null,
   "metadata": {},
   "outputs": [],
   "source": [
    "from sklearn.model_selection import LeaveOneOut\n",
    "\n",
    "x = np.array([10, 11, 12, 13, 14, 15, 16, 17, 18, 19])\n",
    "y = np.array([1,1,0,0,1,0,1,1,0,0])\n",
    "\n",
    "loo = LeaveOneOut()\n",
    "for train, test in loo.split(x):\n",
    "    print(\"{}{}\".format(train, test))"
   ]
  },
  {
   "cell_type": "markdown",
   "metadata": {},
   "source": [
    "<a name=\"2\"></a>\n",
    "<div style=\"display:table; width:100%; padding-top:10px; padding-bottom:10px; border-bottom:1px solid lightgrey\">\n",
    "    <div style=\"display:table-row\">\n",
    "        <div style=\"display:table-cell; width:80%; font-size:16pt; font-weight:bold\">2. Оценка качества модели</div>\n",
    "    \t<div style=\"display:table-cell; width:20%; text-align:center; background-color:whitesmoke; border:1px solid lightgrey\"><a href=\"#0\">К содержанию</a></div>\n",
    "    </div>\n",
    "</div>"
   ]
  },
  {
   "cell_type": "code",
   "execution_count": null,
   "metadata": {},
   "outputs": [],
   "source": [
    "def regression_dataset(intercept=2, slope=0.3, n=100, start_x=4, length_x=8, mu=0, sigma=0.5):\n",
    "    f = lambda x: intercept + slope*x\n",
    "    x = stats.uniform.rvs(size=n, loc=start_x, scale=length_x)\n",
    "    e = stats.norm.rvs(size=n, loc=mu, scale=sigma)\n",
    "    y_true = f(x) + e\n",
    "    return x.reshape(-1,1), y_true, f\n",
    "\n",
    "# Генерация исходных данных\n",
    "X, y_true, f = regression_dataset()"
   ]
  },
  {
   "cell_type": "code",
   "execution_count": null,
   "metadata": {},
   "outputs": [],
   "source": [
    "# График\n",
    "xx = np.linspace(4, 12, 100)\n",
    "plt.title(\"Initial Data\")\n",
    "plt.scatter(X, y_true, color=\"green\", label=\"observed\")\n",
    "plt.plot(xx, f(xx), \"-\", color=\"SteelBlue\", label=\"true function\", zorder=1)\n",
    "plt.grid(True)\n",
    "plt.xlabel(\"$x$\")\n",
    "plt.ylabel(\"$y_{true}$\")\n",
    "plt.legend()\n",
    "plt.show()"
   ]
  },
  {
   "cell_type": "markdown",
   "metadata": {},
   "source": [
    "### Holdout"
   ]
  },
  {
   "cell_type": "code",
   "execution_count": null,
   "metadata": {},
   "outputs": [],
   "source": [
    "mses = list()\n",
    "\n",
    "for i in range(10):\n",
    "\n",
    "    # Разбиение данных\n",
    "    X_train, X_test, y_train, y_test = train_test_split(X, y_true, \n",
    "        test_size=0.3, \n",
    "        random_state=i)\n",
    "\n",
    "    # Обучение\n",
    "    linear_model = LinearRegression()\n",
    "    linear_model.fit(X_train, y_train)\n",
    "    \n",
    "    # Предсказания для тестового множества\n",
    "    y_test__pred = linear_model.predict(X_test)\n",
    "\n",
    "    # Ошибки на тестовом множестве\n",
    "    mse_test = mean_squared_error(y_test, y_test__pred)\n",
    "    mses.append(mse_test)\n",
    "    print(\"{}) Test MSE: {}\".format(i+1, mse_test))\n",
    "    \n",
    "print(\"Стандартное отклонение MSE:\", np.array(mses).std())"
   ]
  },
  {
   "cell_type": "code",
   "execution_count": null,
   "metadata": {},
   "outputs": [],
   "source": [
    "# TODO: print(\"Доверительный интервал: %0.2f (+/- %0.2f)\" % (mses.mean(), mses.std() * 1.96))"
   ]
  },
  {
   "cell_type": "markdown",
   "metadata": {},
   "source": [
    "### K-Folds"
   ]
  },
  {
   "cell_type": "code",
   "execution_count": null,
   "metadata": {},
   "outputs": [],
   "source": [
    "mses = list()\n",
    "\n",
    "kf = KFold(n_splits=5, shuffle=True)\n",
    "\n",
    "for i in range(10):\n",
    "    \n",
    "    kf.random_state = i\n",
    "    \n",
    "    # Обучение\n",
    "    mse_list = - cross_val_score(linear_model, X, y_true, cv=kf, scoring=\"neg_mean_squared_error\")\n",
    "    \n",
    "     # Средняя ошибка на тестовом множестве\n",
    "    mse_avg = mse_list.mean()\n",
    "    mses.append(mse_avg)\n",
    "    print(\"{}) Test MSE: {}\".format(i+1, mse_avg))\n",
    "    \n",
    "print(\"Стандартное отклонение MSE:\", np.array(mses).std())"
   ]
  },
  {
   "cell_type": "code",
   "execution_count": null,
   "metadata": {},
   "outputs": [],
   "source": [
    "# TODO: print(\"Доверительный интервал: %0.2f (+/- %0.2f)\" % (mses.mean(), mses.std() * 1.96))"
   ]
  },
  {
   "cell_type": "markdown",
   "metadata": {},
   "source": [
    "<a name=\"3\"></a>\n",
    "<div style=\"display:table; width:100%; padding-top:10px; padding-bottom:10px; border-bottom:1px solid lightgrey\">\n",
    "    <div style=\"display:table-row\">\n",
    "        <div style=\"display:table-cell; width:80%; font-size:16pt; font-weight:bold\">3. Выбор модели с кросс-валидацией</div>\n",
    "    \t<div style=\"display:table-cell; width:20%; text-align:center; background-color:whitesmoke; border:1px solid lightgrey\"><a href=\"#0\">К содержанию</a></div>\n",
    "    </div>\n",
    "</div>"
   ]
  },
  {
   "cell_type": "code",
   "execution_count": null,
   "metadata": {},
   "outputs": [],
   "source": [
    "def regression_dataset():\n",
    "    n = 100\n",
    "    x = stats.uniform.rvs(size=n, loc=0, scale=5, random_state=10)\n",
    "    f = lambda x:  np.sin(x)\n",
    "    y_true = stats.norm.rvs(size=n, loc=0, scale=0.2, random_state=10) + f(x)\n",
    "    return x.reshape(-1,1), y_true, f\n",
    "\n",
    "# Генерация исходных данных\n",
    "X, y_true, f = regression_dataset()\n",
    "\n",
    "# График\n",
    "xx = np.linspace(0, 5, 100)\n",
    "plt.title(\"Initial Data\")\n",
    "plt.scatter(X, y_true, color=\"green\", label=\"observed\")\n",
    "plt.plot(xx, f(xx), \"-\", color=\"SteelBlue\", label=\"true function\", zorder=1)\n",
    "plt.grid(True)\n",
    "plt.xlabel(\"$x$\")\n",
    "plt.ylabel(\"$y_{true}$\")\n",
    "plt.legend()\n",
    "plt.show()"
   ]
  },
  {
   "cell_type": "code",
   "execution_count": null,
   "metadata": {},
   "outputs": [],
   "source": [
    "# Разбиение данных на обучающее и тестовое множества\n",
    "X_train, X_test, y_train, y_test = train_test_split(X, y_true, test_size=0.3, random_state=200)\n",
    "\n",
    "# Инициализация делителя для кросс-валидации\n",
    "kf = KFold(n_splits=5, shuffle=True, random_state=12345)\n",
    "\n",
    "# Степени полинома\n",
    "degrees = list(range(1, 10))\n",
    "\n",
    "best_degree = 0\n",
    "best_mse = float(\"inf\")\n",
    "\n",
    "\n",
    "# Выбор степени с наименьшей валидационной ошибкой \n",
    "for indx, degree in enumerate(degrees):\n",
    "\n",
    "    pipeline = Pipeline([\n",
    "        (\"transformation\", PolynomialFeatures(degree=degree, include_bias=False)), \n",
    "        (\"linear_model\", LinearRegression(fit_intercept=True))\n",
    "    ])\n",
    "\n",
    "    scores = cross_validate(pipeline, X_train, y_train, cv=kf, return_train_score=True, scoring=[\"neg_mean_squared_error\",])\n",
    "    \n",
    "    # Средняя ошибка на тестовом множестве\n",
    "    mse_avg =  -scores[\"test_neg_mean_squared_error\"].mean()\n",
    "    \n",
    "    if best_mse > mse_avg:\n",
    "        best_mse = mse_avg\n",
    "        best_degree = degree\n",
    "    \n",
    "    print(\"{}) Test MSE for degree {}: {}\".format(indx+1, degree, mse_avg))\n",
    "\n",
    "print(\"Best degree:\", best_degree)\n",
    "\n",
    "# Повторное обучение на всем обучающем множестве \n",
    "pipeline = Pipeline([\n",
    "    (\"transformation\", PolynomialFeatures(degree=best_degree, include_bias=False)), \n",
    "    (\"linear_model\", LinearRegression(fit_intercept=True))\n",
    "])\n",
    "pipeline.fit(X_train, y_train)\n",
    "\n",
    "# Предсказания для тестового множества\n",
    "y_test__pred = pipeline.predict(X_test)\n",
    "\n",
    "# Ошибки на тестовом множестве\n",
    "mse_test = mean_squared_error(y_test, y_test__pred)\n",
    "\n",
    "print(\"Тестовое множество:\")\n",
    "print(\"\\tTest MSE:\", mse_test)"
   ]
  },
  {
   "cell_type": "code",
   "execution_count": null,
   "metadata": {},
   "outputs": [],
   "source": [
    "# TODO: implement above example using GridSearchCV"
   ]
  },
  {
   "cell_type": "markdown",
   "metadata": {},
   "source": [
    "<a name=\"4\"></a>\n",
    "<div style=\"display:table; width:100%; padding-top:10px; padding-bottom:10px; border-bottom:1px solid lightgrey\">\n",
    "    <div style=\"display:table-row\">\n",
    "        <div style=\"display:table-cell; width:80%; font-size:16pt; font-weight:bold\">4. Источники</div>\n",
    "    \t<div style=\"display:table-cell; width:20%; text-align:center; background-color:whitesmoke; border:1px solid lightgrey\"><a href=\"#0\">К содержанию</a></div>\n",
    "    </div>\n",
    "</div>"
   ]
  },
  {
   "cell_type": "markdown",
   "metadata": {},
   "source": [
    "<a href=\"http://scikit-learn.org/stable/modules/cross_validation.html\">3.1. Cross-validation: evaluating estimator performance</a>"
   ]
  },
  {
   "cell_type": "code",
   "execution_count": null,
   "metadata": {},
   "outputs": [],
   "source": []
  }
 ],
 "metadata": {
  "kernelspec": {
   "display_name": "Python 3",
   "language": "python",
   "name": "python3"
  },
  "language_info": {
   "codemirror_mode": {
    "name": "ipython",
    "version": 3
   },
   "file_extension": ".py",
   "mimetype": "text/x-python",
   "name": "python",
   "nbconvert_exporter": "python",
   "pygments_lexer": "ipython3",
   "version": "3.7.4"
  }
 },
 "nbformat": 4,
 "nbformat_minor": 1
}
