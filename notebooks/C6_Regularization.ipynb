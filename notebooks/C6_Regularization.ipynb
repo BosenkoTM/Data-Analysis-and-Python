{
 "cells": [
  {
   "cell_type": "markdown",
   "metadata": {},
   "source": [
    "<div style=\"font-size:18pt; padding-top:20px; text-align:center\">СЕМИНАР. <b>Регуляризация</b></div><hr>\n",
    "<div style=\"text-align:right;\">Папулин С.Ю. <span style=\"font-style: italic;font-weight: bold;\">(papulin.study@mail.ru)</span></div>"
   ]
  },
  {
   "cell_type": "markdown",
   "metadata": {},
   "source": [
    "<a name=\"0\"></a>\n",
    "<div><span style=\"font-size:14pt; font-weight:bold\">Содержание</span>\n",
    "    <ol>\n",
    "        <li><a href=\"#1\">Регуляризация</a></li>\n",
    "        <li><a href=\"#2\">Кросс-валидация</a>\n",
    "        <li><a href=\"#3\">Регуляризация и кросс-валидация</a></li>\n",
    "        <li><a href=\"#4\">Выбор модели</a></li>\n",
    "        <li><a href=\"#5\">Источники</a>\n",
    "        </li>\n",
    "    </ol>\n",
    "</div>"
   ]
  },
  {
   "cell_type": "markdown",
   "metadata": {},
   "source": [
    "Подключение библиотек"
   ]
  },
  {
   "cell_type": "code",
   "execution_count": null,
   "metadata": {},
   "outputs": [],
   "source": [
    "from sklearn import datasets\n",
    "from scipy import stats\n",
    "import numpy as np\n",
    "\n",
    "from sklearn.model_selection import train_test_split\n",
    "from sklearn import linear_model\n",
    "import matplotlib.pyplot as plt\n",
    "\n",
    "%matplotlib inline"
   ]
  },
  {
   "cell_type": "markdown",
   "metadata": {},
   "source": [
    "<a name=\"1\"></a>\n",
    "<div style=\"display:table; width:100%; padding-top:10px; padding-bottom:10px; border-bottom:1px solid lightgrey\">\n",
    "    <div style=\"display:table-row\">\n",
    "        <div style=\"display:table-cell; width:80%; font-size:16pt; font-weight:bold\">1. Линейная полиномиальная регрессия</div>\n",
    "    \t<div style=\"display:table-cell; width:20%; text-align:center; background-color:whitesmoke; border:1px solid lightgrey\"><a href=\"#0\">К содержанию</a></div>\n",
    "    </div>\n",
    "</div>"
   ]
  },
  {
   "cell_type": "code",
   "execution_count": null,
   "metadata": {},
   "outputs": [],
   "source": [
    "from sklearn.linear_model import Ridge, Lasso, RidgeCV\n",
    "from sklearn.metrics import mean_squared_error, r2_score"
   ]
  },
  {
   "cell_type": "code",
   "execution_count": null,
   "metadata": {},
   "outputs": [],
   "source": [
    "from sklearn.preprocessing import PolynomialFeatures\n",
    "from sklearn.pipeline import Pipeline\n",
    "from numpy.polynomial.polynomial import polyval"
   ]
  },
  {
   "cell_type": "code",
   "execution_count": null,
   "metadata": {},
   "outputs": [],
   "source": [
    "def regression_dataset(n=100):\n",
    "    \"\"\"Генерация исходных данных\"\"\"\n",
    "    x = stats.uniform.rvs(size=n, loc=0, scale=6, random_state=0)\n",
    "    f = lambda x: np.sin(x)\n",
    "    y = stats.norm.rvs(size=n, loc=0, scale=0.5, random_state=0) + f(x)\n",
    "    return (x, y, f)\n",
    "\n",
    "\n",
    "# Инициализация исходных данных\n",
    "x, y, f = regression_dataset()\n",
    "\n",
    "# График\n",
    "xx = np.linspace(0, 6, 100)\n",
    "plt.plot(x, y, \"o\", color=\"green\", label=\"observed data\")\n",
    "plt.plot(xx, f(xx), \"-\", color=\"SteelBlue\", label=\"true function\")\n",
    "plt.title(\"Initial data\")\n",
    "plt.grid(True)\n",
    "plt.xlabel(\"X\")\n",
    "plt.ylabel(\"Y\")\n",
    "plt.legend()\n",
    "plt.show()"
   ]
  },
  {
   "cell_type": "code",
   "execution_count": null,
   "metadata": {},
   "outputs": [],
   "source": [
    "# Параметры\n",
    "REGULARIZATION = 0\n",
    "POLY_DEGREE = 15"
   ]
  },
  {
   "cell_type": "code",
   "execution_count": null,
   "metadata": {},
   "outputs": [],
   "source": [
    "# Представление признака x в матричной форме\n",
    "X_ = x.reshape(-1, 1)\n",
    "\n",
    "# Формирование обучающего и тестового подмножеств\n",
    "X_train, X_test, y_train, y_test = train_test_split(X_, y, test_size=0.3, random_state=200)\n",
    "\n",
    "# Формирование последовательности действий\n",
    "pipeline = Pipeline([\n",
    "    (\"transformation\", PolynomialFeatures(degree=POLY_DEGREE, include_bias=False)), \n",
    "    (\"linear_model\", Ridge(alpha=REGULARIZATION, fit_intercept=True, normalize=True))\n",
    "])\n",
    "\n",
    "# Обучение\n",
    "pipeline.fit(X_train, y_train)\n",
    "\n",
    "# Параметры обученной модели\n",
    "print(\"Параметры модели:\")\n",
    "print(\"\\tw{} = {}\".format(0, pipeline.named_steps[\"linear_model\"].intercept_))\n",
    "for indx, coef in enumerate(pipeline.named_steps[\"linear_model\"].coef_):\n",
    "    print(\"\\tw{} = {}\".format(indx+1, coef))"
   ]
  },
  {
   "cell_type": "code",
   "execution_count": null,
   "metadata": {},
   "outputs": [],
   "source": [
    "# Предсказания на обучающем и тестовом множествах\n",
    "y_train__pred = pipeline.predict(X_train)\n",
    "y_test__pred = pipeline.predict(X_test)\n",
    "\n",
    "# Ошибки на обучающем множестве\n",
    "mse_traint = mean_squared_error(y_train, y_train__pred)\n",
    "r2_train = r2_score(y_train, y_train__pred)\n",
    "\n",
    "print(\"Обучающее множество:\")\n",
    "print(\"\\tTrain MSE:\", mse_traint)\n",
    "print(\"\\tTrain R^2:\", r2_train)\n",
    "\n",
    "# Ошибки на тестовом множестве\n",
    "mse_test = mean_squared_error(y_test, y_test__pred)\n",
    "r2_test = r2_score(y_test, y_test__pred)\n",
    "\n",
    "print(\"\\nТестовое множество:\")\n",
    "print(\"\\tTest MSE:\", mse_test)\n",
    "print(\"\\tTest R^2:\", r2_test)"
   ]
  },
  {
   "cell_type": "code",
   "execution_count": null,
   "metadata": {},
   "outputs": [],
   "source": [
    "# Графики\n",
    "xx = np.linspace(0, 6, 100).reshape(-1, 1)\n",
    "plt.figure(figsize=[12, 4])\n",
    "\n",
    "plt.subplot(1,2,1)\n",
    "\n",
    "plt.title(\"Train data\")\n",
    "plt.plot(X_train, y_train, \"o\", color=\"green\")\n",
    "plt.plot(xx, pipeline.predict(xx), color=\"red\", lw=2, label=\"predicted\")\n",
    "plt.scatter(X_train, y_train__pred, color=\"red\")\n",
    "plt.vlines(X_train, ymin=y_train, ymax=y_train__pred, colors=\"black\", linestyles=\"dotted\")\n",
    "plt.plot(xx, f(xx), \"-\", color=\"SteelBlue\", label=\"true function\")\n",
    "plt.xlabel(\"X\")\n",
    "plt.ylabel(\"Y\")\n",
    "plt.legend()\n",
    "plt.grid(True)\n",
    "\n",
    "\n",
    "plt.subplot(1,2,2)\n",
    "\n",
    "plt.title(\"Test data\")\n",
    "plt.plot(X_test, y_test, \"o\", color=\"green\")\n",
    "plt.plot(xx, pipeline.predict(xx), color=\"red\", lw=2, label=\"predicted\")\n",
    "plt.scatter(X_test, y_test__pred, color=\"red\")\n",
    "plt.vlines(X_test, ymin=y_test, ymax=y_test__pred, colors=\"black\", linestyles=\"dotted\")\n",
    "plt.plot(xx, f(xx), \"-\", color=\"SteelBlue\", label=\"true function\")\n",
    "plt.xlabel(\"X\")\n",
    "plt.ylabel(\"Y\")\n",
    "plt.legend()\n",
    "plt.grid(True)\n",
    "\n",
    "plt.tight_layout()\n",
    "\n",
    "plt.show()"
   ]
  },
  {
   "cell_type": "markdown",
   "metadata": {},
   "source": [
    "<a name=\"2\"></a>\n",
    "<div style=\"display:table; width:100%; padding-top:10px; padding-bottom:10px; border-bottom:1px solid lightgrey\">\n",
    "    <div style=\"display:table-row\">\n",
    "        <div style=\"display:table-cell; width:80%; font-size:16pt; font-weight:bold\">2. Регуляризация в линейной регрессии</div>\n",
    "    \t<div style=\"display:table-cell; width:20%; text-align:center; background-color:whitesmoke; border:1px solid lightgrey\"><a href=\"#0\">К содержанию</a></div>\n",
    "    </div>\n",
    "</div>"
   ]
  },
  {
   "cell_type": "code",
   "execution_count": null,
   "metadata": {},
   "outputs": [],
   "source": [
    "# Параметры\n",
    "REGULARIZATION = 0.01\n",
    "POLY_DEGREE = 15\n",
    "\n",
    "# Формирование последовательности действий с ридж-регрессией\n",
    "pipeline = Pipeline([\n",
    "    (\"transformation\", PolynomialFeatures(degree=POLY_DEGREE, include_bias=False)), \n",
    "    (\"linear_model\", Ridge(alpha=REGULARIZATION, fit_intercept=True, normalize=True))\n",
    "])\n",
    "\n",
    "# Формирование последовательности действий с лассо-регрессией\n",
    "# pipeline = Pipeline([\n",
    "#     (\"transformation\", PolynomialFeatures(degree=15)), \n",
    "#     (\"linear_model\", Lasso(alpha=REGULARIZATION, fit_intercept=False))\n",
    "# ])\n",
    "\n",
    "# Обучение\n",
    "pipeline.fit(X_train, y_train)\n",
    "\n",
    "# Параметры обученной модели\n",
    "print(\"Параметры модели:\")\n",
    "print(\"\\tw{} = {}\".format(0, pipeline.named_steps[\"linear_model\"].intercept_))\n",
    "for indx, coef in enumerate(pipeline.named_steps[\"linear_model\"].coef_):\n",
    "    print(\"\\tw{} = {}\".format(indx+1, coef))"
   ]
  },
  {
   "cell_type": "code",
   "execution_count": null,
   "metadata": {},
   "outputs": [],
   "source": [
    "# Предсказания на обучающем и тестовом множествах\n",
    "y_train__pred = pipeline.predict(X_train)\n",
    "y_test__pred = pipeline.predict(X_test)\n",
    "\n",
    "# Ошибки на обучающем множестве\n",
    "mse_traint = mean_squared_error(y_train, y_train__pred)\n",
    "r2_train = r2_score(y_train, y_train__pred)\n",
    "\n",
    "print(\"Обучающее множество:\")\n",
    "print(\"\\tTrain MSE:\", mse_traint)\n",
    "print(\"\\tTrain R^2:\", r2_train)\n",
    "\n",
    "# Ошибки на тестовом множестве\n",
    "mse_test = mean_squared_error(y_test, y_test__pred)\n",
    "r2_test = r2_score(y_test, y_test__pred)\n",
    "\n",
    "print(\"\\nТестовое множество:\")\n",
    "print(\"\\tTest MSE:\", mse_test)\n",
    "print(\"\\tTest R^2:\", r2_test)"
   ]
  },
  {
   "cell_type": "code",
   "execution_count": null,
   "metadata": {},
   "outputs": [],
   "source": [
    "# Графики\n",
    "xx = np.linspace(0, 6, 100).reshape(-1, 1)\n",
    "plt.figure(figsize=[12, 4])\n",
    "\n",
    "plt.subplot(1,2,1)\n",
    "\n",
    "plt.title(\"Train data\")\n",
    "plt.plot(X_train, y_train, \"o\", color=\"green\")\n",
    "plt.plot(xx, pipeline.predict(xx), color=\"red\", lw=2, label=\"predicted\")\n",
    "plt.scatter(X_train, y_train__pred, color=\"red\")\n",
    "plt.vlines(X_train, ymin=y_train, ymax=y_train__pred, colors=\"black\", linestyles=\"dotted\")\n",
    "plt.plot(xx, f(xx), \"-\", color=\"SteelBlue\", label=\"true function\")\n",
    "plt.xlabel(\"X\")\n",
    "plt.ylabel(\"Y\")\n",
    "plt.legend()\n",
    "plt.grid(True)\n",
    "\n",
    "\n",
    "plt.subplot(1,2,2)\n",
    "\n",
    "plt.title(\"Test data\")\n",
    "plt.plot(X_test, y_test, \"o\", color=\"green\")\n",
    "plt.plot(xx, pipeline.predict(xx), color=\"red\", lw=2, label=\"predicted\")\n",
    "plt.scatter(X_test, y_test__pred, color=\"red\")\n",
    "plt.vlines(X_test, ymin=y_test, ymax=y_test__pred, colors=\"black\", linestyles=\"dotted\")\n",
    "plt.plot(xx, f(xx), \"-\", color=\"SteelBlue\", label=\"true function\")\n",
    "plt.xlabel(\"X\")\n",
    "plt.ylabel(\"Y\")\n",
    "plt.legend()\n",
    "plt.grid(True)\n",
    "\n",
    "plt.tight_layout()\n",
    "\n",
    "plt.show()"
   ]
  },
  {
   "cell_type": "markdown",
   "metadata": {},
   "source": [
    "<a name=\"3\"></a>\n",
    "<div style=\"display:table; width:100%; padding-top:10px; padding-bottom:10px; border-bottom:1px solid lightgrey\">\n",
    "    <div style=\"display:table-row\">\n",
    "        <div style=\"display:table-cell; width:80%; font-size:16pt; font-weight:bold\">3. Регуляризация с кросс-валидацией</div>\n",
    "    \t<div style=\"display:table-cell; width:20%; text-align:center; background-color:whitesmoke; border:1px solid lightgrey\"><a href=\"#0\">К содержанию</a></div>\n",
    "    </div>\n",
    "</div>"
   ]
  },
  {
   "cell_type": "markdown",
   "metadata": {},
   "source": [
    "### Выбор модели"
   ]
  },
  {
   "cell_type": "code",
   "execution_count": null,
   "metadata": {},
   "outputs": [],
   "source": [
    "from sklearn.model_selection import KFold"
   ]
  },
  {
   "cell_type": "code",
   "execution_count": null,
   "metadata": {},
   "outputs": [],
   "source": [
    "kf = KFold(n_splits=5, random_state=0)"
   ]
  },
  {
   "cell_type": "code",
   "execution_count": null,
   "metadata": {},
   "outputs": [],
   "source": [
    "alphas = [0.0000001, 0.00001, 0.0001, 0.001, 0.01, 0.1, 1, 10, 100]"
   ]
  },
  {
   "cell_type": "markdown",
   "metadata": {},
   "source": [
    "RidgeCV"
   ]
  },
  {
   "cell_type": "code",
   "execution_count": null,
   "metadata": {},
   "outputs": [],
   "source": [
    "# Формирование последовательности действий с ридж-регрессией\n",
    "pipeline = Pipeline([\n",
    "    (\"transformation\", PolynomialFeatures(degree=POLY_DEGREE, include_bias=False)), \n",
    "    (\"linear_model\", RidgeCV(alphas=alphas, fit_intercept=True, normalize=True, cv=kf, scoring=\"neg_mean_squared_error\"))\n",
    "])\n",
    "\n",
    "# Обучение\n",
    "pipeline.fit(X_train, y_train)\n",
    "\n",
    "# Параметры обученной модели\n",
    "print(\"Параметры модели:\")\n",
    "print(\"\\tw{} = {}\".format(0, pipeline.named_steps[\"linear_model\"].intercept_))\n",
    "for indx, coef in enumerate(pipeline.named_steps[\"linear_model\"].coef_):\n",
    "    print(\"\\tw{} = {}\".format(indx+1, coef))"
   ]
  },
  {
   "cell_type": "code",
   "execution_count": null,
   "metadata": {},
   "outputs": [],
   "source": [
    "# Предсказания на обучающем и тестовом множествах\n",
    "y_train__pred = pipeline.predict(X_train)\n",
    "y_test__pred = pipeline.predict(X_test)\n",
    "\n",
    "# Ошибки на обучающем множестве\n",
    "mse_traint = mean_squared_error(y_train, y_train__pred)\n",
    "r2_train = r2_score(y_train, y_train__pred)\n",
    "\n",
    "print(\"Обучающее множество:\")\n",
    "print(\"\\tTrain MSE:\", mse_traint)\n",
    "print(\"\\tTrain R^2:\", r2_train)\n",
    "\n",
    "# Ошибки на тестовом множестве\n",
    "mse_test = mean_squared_error(y_test, y_test__pred)\n",
    "r2_test = r2_score(y_test, y_test__pred)\n",
    "\n",
    "print(\"\\nТестовое множество:\")\n",
    "print(\"\\tTest MSE:\", mse_test)\n",
    "print(\"\\tTest R^2:\", r2_test)"
   ]
  },
  {
   "cell_type": "code",
   "execution_count": null,
   "metadata": {},
   "outputs": [],
   "source": [
    "pipeline.named_steps[\"linear_model\"].alpha_"
   ]
  },
  {
   "cell_type": "markdown",
   "metadata": {},
   "source": [
    "GridSearchCV"
   ]
  },
  {
   "cell_type": "code",
   "execution_count": null,
   "metadata": {},
   "outputs": [],
   "source": [
    "from sklearn.model_selection import GridSearchCV"
   ]
  },
  {
   "cell_type": "code",
   "execution_count": null,
   "metadata": {},
   "outputs": [],
   "source": [
    "# Формирование последовательности действий с ридж-регрессией\n",
    "pipeline = Pipeline([\n",
    "    (\"transformation\", PolynomialFeatures(degree=POLY_DEGREE, include_bias=False)), \n",
    "    (\"linear_model\", Ridge(alpha=REGULARIZATION, fit_intercept=True, normalize=True))\n",
    "])\n",
    "\n",
    "# Сетка параметров\n",
    "parameters = {\n",
    "    \"linear_model__alpha\": alphas\n",
    "}\n",
    "\n",
    "# Параметры обучения\n",
    "grid_class_parameters = {\n",
    "    \"estimator\": pipeline,\n",
    "    \"param_grid\": parameters,\n",
    "    \"cv\": kf,\n",
    "    \"scoring\": \"neg_mean_squared_error\",\n",
    "    \"return_train_score\": True\n",
    "}\n",
    "\n",
    "\n",
    "# Обучение\n",
    "# grid_search = GridSearchCV(estimator=pipeline, param_grid=parameters, cv=kf, return_train_score=True, scoring=\"neg_mean_squared_error\")\n",
    "grid_search = GridSearchCV(**grid_class_parameters)\n",
    "grid_search.fit(X_train, y_train)\n",
    "\n",
    "# Параметры обученной модели\n",
    "print(\"Параметры модели:\")\n",
    "print(\"\\tw{} = {}\".format(0, grid_search.best_estimator_.named_steps[\"linear_model\"].intercept_))\n",
    "for indx, coef in enumerate(grid_search.best_estimator_.named_steps[\"linear_model\"].coef_):\n",
    "    print(\"\\tw{} = {}\".format(indx+1, coef))"
   ]
  },
  {
   "cell_type": "code",
   "execution_count": null,
   "metadata": {},
   "outputs": [],
   "source": [
    "# Предсказания на обучающем и тестовом множествах\n",
    "y_train__pred = grid_search.predict(X_train)\n",
    "y_test__pred = grid_search.predict(X_test)\n",
    "\n",
    "# Ошибки на обучающем множестве\n",
    "mse_traint = mean_squared_error(y_train, y_train__pred)\n",
    "r2_train = r2_score(y_train, y_train__pred)\n",
    "\n",
    "print(\"Обучающее множество:\")\n",
    "print(\"\\tTrain MSE:\", mse_traint)\n",
    "print(\"\\tTrain R^2:\", r2_train)\n",
    "\n",
    "# Ошибки на тестовом множестве\n",
    "mse_test = mean_squared_error(y_test, y_test__pred)\n",
    "r2_test = r2_score(y_test, y_test__pred)\n",
    "\n",
    "print(\"\\nТестовое множество:\")\n",
    "print(\"\\tTest MSE:\", mse_test)\n",
    "print(\"\\tTest R^2:\", r2_test)"
   ]
  },
  {
   "cell_type": "code",
   "execution_count": null,
   "metadata": {},
   "outputs": [],
   "source": [
    "# Вывод сведений по обучению\n",
    "grid_search.cv_results_"
   ]
  },
  {
   "cell_type": "code",
   "execution_count": null,
   "metadata": {},
   "outputs": [],
   "source": [
    "# График\n",
    "\n",
    "log_alphas = np.log10(np.asarray(grid_search.cv_results_[\"param_linear_model__alpha\"], dtype=\"float\"))\n",
    "log_alphas\n",
    "\n",
    "plt.figure(figsize=[6, 4])\n",
    "\n",
    "plt.subplot(1,1,1)\n",
    "plt.title(\"Model Selection\")\n",
    "plt.plot(log_alphas, -grid_search.cv_results_[\"mean_test_score\"], \"o-\", label=\"Validation\")\n",
    "plt.plot(log_alphas, -grid_search.cv_results_[\"mean_train_score\"], \"o-\", label=\"Train\")\n",
    "plt.xlabel(\"$log_{10}(Regularization)$\")\n",
    "plt.ylabel(\"$MSE$\")\n",
    "plt.legend()\n",
    "plt.grid(True)\n",
    "\n",
    "plt.show()"
   ]
  },
  {
   "cell_type": "code",
   "execution_count": null,
   "metadata": {},
   "outputs": [],
   "source": [
    "# Графики\n",
    "xx = np.linspace(0, 6, 100).reshape(-1, 1)\n",
    "plt.figure(figsize=[12, 4])\n",
    "\n",
    "plt.subplot(1,2,1)\n",
    "\n",
    "plt.title(\"Train data\")\n",
    "plt.plot(X_train, y_train, \"o\", color=\"green\")\n",
    "plt.plot(xx, grid_search.predict(xx), color=\"red\", lw=2, label=\"predicted\")\n",
    "plt.scatter(X_train, y_train__pred, color=\"red\")\n",
    "plt.vlines(X_train, ymin=y_train, ymax=y_train__pred, colors=\"black\", linestyles=\"dotted\")\n",
    "plt.plot(xx, f(xx), \"-\", color=\"SteelBlue\", label=\"true function\")\n",
    "plt.xlabel(\"X\")\n",
    "plt.ylabel(\"Y\")\n",
    "plt.legend()\n",
    "plt.grid(True)\n",
    "\n",
    "\n",
    "plt.subplot(1,2,2)\n",
    "\n",
    "plt.title(\"Test data\")\n",
    "plt.plot(X_test, y_test, \"o\", color=\"green\")\n",
    "plt.plot(xx, grid_search.predict(xx), color=\"red\", lw=2, label=\"predicted\")\n",
    "plt.scatter(X_test, y_test__pred, color=\"red\")\n",
    "plt.vlines(X_test, ymin=y_test, ymax=y_test__pred, colors=\"black\", linestyles=\"dotted\")\n",
    "plt.plot(xx, f(xx), \"-\", color=\"SteelBlue\", label=\"true function\")\n",
    "plt.xlabel(\"X\")\n",
    "plt.ylabel(\"Y\")\n",
    "plt.legend()\n",
    "plt.grid(True)\n",
    "\n",
    "plt.tight_layout()\n",
    "\n",
    "plt.show()"
   ]
  },
  {
   "cell_type": "markdown",
   "metadata": {},
   "source": [
    "<a name=\"4\"></a>\n",
    "<div style=\"display:table; width:100%; padding-top:10px; padding-bottom:10px; border-bottom:1px solid lightgrey\">\n",
    "    <div style=\"display:table-row\">\n",
    "        <div style=\"display:table-cell; width:80%; font-size:16pt; font-weight:bold\">4.Задание</div>\n",
    "    \t<div style=\"display:table-cell; width:20%; text-align:center; background-color:whitesmoke; border:1px solid lightgrey\"><a href=\"#0\">К содержанию</a></div>\n",
    "    </div>\n",
    "</div>"
   ]
  },
  {
   "cell_type": "code",
   "execution_count": null,
   "metadata": {},
   "outputs": [],
   "source": [
    "from sklearn.linear_model import LogisticRegression, LogisticRegressionCV, RidgeClassifier"
   ]
  },
  {
   "cell_type": "code",
   "execution_count": null,
   "metadata": {},
   "outputs": [],
   "source": [
    "digits = datasets.load_digits()\n",
    "print(digits.DESCR)"
   ]
  },
  {
   "cell_type": "code",
   "execution_count": null,
   "metadata": {},
   "outputs": [],
   "source": [
    "IMAGE_INDX = 3\n",
    "\n",
    "print(\"Image matrix:\\n\", digits[\"images\"][IMAGE_INDX])\n",
    "print(\"Target value:\", digits.target[IMAGE_INDX])\n",
    "\n",
    "plt.imshow(digits.images[IMAGE_INDX])\n",
    "plt.show()"
   ]
  },
  {
   "cell_type": "code",
   "execution_count": null,
   "metadata": {},
   "outputs": [],
   "source": [
    "# Параметры регуляризации\n",
    "Cs = [0.0001, 0.001, 0.01, 0.1, 1, 10, 100, 1000]\n",
    "\n",
    "# Способ разделения данных\n",
    "kfolds = KFold(n_splits=5, shuffle=True, random_state=0)\n",
    "\n",
    "# Исходные данные для обучения\n",
    "X = digits[\"images\"].reshape(len(digits[\"images\"]), -1)\n",
    "y = digits[\"target\"]\n",
    "\n",
    "# Формирование обучающего и тестового подмножеств\n",
    "X_train, X_test, y_train, y_test = train_test_split(X, y, test_size=0.3, random_state=200)"
   ]
  },
  {
   "cell_type": "code",
   "execution_count": null,
   "metadata": {},
   "outputs": [],
   "source": [
    "# Параметры инициализации модели\n",
    "model_class_parameters = {\n",
    "    \"penalty\": \"l2\", \n",
    "    \"Cs\": Cs,\n",
    "    \"cv\": kfolds, \n",
    "    \"multi_class\": \"ovr\", \n",
    "    \"solver\": \"newton-cg\", \n",
    "    \"max_iter\": 200,\n",
    "    \"random_state\": 12345\n",
    "}\n",
    "\n",
    "# Обучение\n",
    "logistic_model = LogisticRegressionCV(**model_class_parameters)\n",
    "logistic_model.fit(X_train, y_train)"
   ]
  },
  {
   "cell_type": "code",
   "execution_count": null,
   "metadata": {},
   "outputs": [],
   "source": [
    "# Параметры обученной модели\n",
    "for i in range(10):\n",
    "    print(\"Параметры модели {}:\".format(i+1))\n",
    "    print(\"\\tw{} = {}\".format(0, logistic_model.intercept_[i]))\n",
    "    for indx, coef in enumerate(logistic_model.coef_[i].flatten()):\n",
    "        print(\"\\tw{} = {}\".format(indx+1, coef))"
   ]
  },
  {
   "cell_type": "code",
   "execution_count": null,
   "metadata": {},
   "outputs": [],
   "source": [
    "# Оценка качества модел\n",
    "train_error = logistic_model.score(X_train, y_train)\n",
    "test_error = logistic_model.score(X_test, y_test)\n",
    "\n",
    "print(\"Train Accuracy:\", train_error)\n",
    "print(\"Test Accuracy:\", test_error)"
   ]
  },
  {
   "cell_type": "code",
   "execution_count": null,
   "metadata": {},
   "outputs": [],
   "source": [
    "# Сетка параметров\n",
    "parameters = {\n",
    "    \"C\": Cs\n",
    "}\n",
    "\n",
    "# Параметры модели\n",
    "model_class_parameters = {\n",
    "    \"penalty\": \"l2\", \n",
    "    \"C\": float(\"inf\"),\n",
    "    \"multi_class\": \"ovr\", \n",
    "    \"solver\": \"newton-cg\", \n",
    "    \"max_iter\": 200,\n",
    "    \"random_state\": 12345\n",
    "}\n",
    "\n",
    "logistic_model = LogisticRegression(**model_class_parameters)\n",
    "\n",
    "# Параметры сетки\n",
    "grid_class_parameters = {\n",
    "    \"estimator\": logistic_model, \n",
    "    \"param_grid\": parameters,\n",
    "    \"cv\": kfolds,\n",
    "    \"return_train_score\": True\n",
    "}\n",
    "\n",
    "# Обучение\n",
    "grid_search = GridSearchCV(**grid_class_parameters)\n",
    "grid_search.fit(X_train, y_train)"
   ]
  },
  {
   "cell_type": "code",
   "execution_count": null,
   "metadata": {},
   "outputs": [],
   "source": [
    "# Оценка качества модел\n",
    "train_error = grid_search.score(X_train, y_train)\n",
    "test_error = grid_search.score(X_test, y_test)\n",
    "\n",
    "print(\"Train Accuracy:\", train_error)\n",
    "print(\"Test Accuracy:\", test_error)"
   ]
  },
  {
   "cell_type": "code",
   "execution_count": null,
   "metadata": {},
   "outputs": [],
   "source": [
    "# График\n",
    "\n",
    "log_Cs = np.log10(np.asarray(Cs, dtype=\"float\"))\n",
    "log_Cs\n",
    "\n",
    "plt.figure(figsize=[6, 4])\n",
    "\n",
    "plt.subplot(1,1,1)\n",
    "plt.title(\"Model Selection\")\n",
    "plt.plot(log_Cs, grid_search.cv_results_[\"mean_test_score\"], \"o-\", label=\"Validation\")\n",
    "plt.plot(log_Cs, grid_search.cv_results_[\"mean_train_score\"], \"o-\", label=\"Train\")\n",
    "plt.xlabel(\"$log_{10}(Regularization)$\")\n",
    "plt.ylabel(\"$MSE$\")\n",
    "plt.legend()\n",
    "plt.grid(True)\n",
    "\n",
    "plt.show()"
   ]
  },
  {
   "cell_type": "markdown",
   "metadata": {},
   "source": [
    "[1.1. Linear Models](https://scikit-learn.org/stable/modules/linear_model.html)"
   ]
  },
  {
   "cell_type": "code",
   "execution_count": null,
   "metadata": {},
   "outputs": [],
   "source": []
  }
 ],
 "metadata": {
  "kernelspec": {
   "display_name": "Python 3",
   "language": "python",
   "name": "python3"
  },
  "language_info": {
   "codemirror_mode": {
    "name": "ipython",
    "version": 3
   },
   "file_extension": ".py",
   "mimetype": "text/x-python",
   "name": "python",
   "nbconvert_exporter": "python",
   "pygments_lexer": "ipython3",
   "version": "3.7.4"
  }
 },
 "nbformat": 4,
 "nbformat_minor": 2
}
