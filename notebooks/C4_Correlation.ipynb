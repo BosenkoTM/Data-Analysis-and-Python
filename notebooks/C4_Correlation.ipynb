{
 "cells": [
  {
   "cell_type": "markdown",
   "metadata": {},
   "source": [
    "<div style=\"font-size:18pt; padding-top:20px; text-align:center\">СЕМИНАР. <b>Корреляция и </b> <span style=\"font-weight:bold; color:green\">NumPy/SciPy</span></div><hr>\n",
    "<div style=\"text-align:right;\">Папулин С.Ю. <span style=\"font-style: italic;font-weight: bold;\">(papulin.study@yandex.ru)</span></div>"
   ]
  },
  {
   "cell_type": "markdown",
   "metadata": {},
   "source": [
    "<a name=\"0\"></a>\n",
    "<div><span style=\"font-size:14pt; font-weight:bold\">Содержание</span>\n",
    "    <ol>\n",
    "        <li><a href=\"#1\">Корреляция Пирсона</a></li>\n",
    "        <li><a href=\"#2\">Пример</a>\n",
    "        <li><a href=\"#3\">Источники</a>\n",
    "        </li>\n",
    "    </ol>\n",
    "</div>"
   ]
  },
  {
   "cell_type": "markdown",
   "metadata": {},
   "source": [
    "<p><b>Подключение библиотек</b></p>"
   ]
  },
  {
   "cell_type": "code",
   "execution_count": null,
   "metadata": {},
   "outputs": [],
   "source": [
    "import pandas as pd\n",
    "import matplotlib.pyplot as plt\n",
    "import numpy as np\n",
    "from scipy import stats\n",
    "%matplotlib inline"
   ]
  },
  {
   "cell_type": "markdown",
   "metadata": {},
   "source": [
    "<a name=\"1\"></a>\n",
    "<div style=\"display:table; width:100%; padding-top:10px; padding-bottom:10px; border-bottom:1px solid lightgrey\">\n",
    "    <div style=\"display:table-row\">\n",
    "        <div style=\"display:table-cell; width:80%; font-size:14pt; font-weight:bold\">1. Корреляция Пирсона</div>\n",
    "    \t<div style=\"display:table-cell; width:20%; text-align:center; background-color:whitesmoke; border:1px solid lightgrey\"><a href=\"#0\">К содержанию</a></div>\n",
    "    </div>\n",
    "</div>"
   ]
  },
  {
   "cell_type": "markdown",
   "metadata": {},
   "source": [
    "<p>Коэффициент корреляции Пирсона определяет линейную функциональную зависимость между двумя переменными</p>"
   ]
  },
  {
   "cell_type": "markdown",
   "metadata": {},
   "source": [
    "$$\\rho=\\frac{cov(x,y)}{\\sigma_x\\sigma_y}$$\n",
    "\n",
    "\n",
    "$$r=\\frac{\\sum_{k=1}^{N}(x_k - \\mu_x)(y_k - \\mu_y)}{\\sqrt{\\sum_{k=1}^{N}(x_k - \\mu_x)^2\\sum_{k=1}^{N}(y_k - \\mu_y)^2}}$$"
   ]
  },
  {
   "cell_type": "markdown",
   "metadata": {},
   "source": [
    "$$-1 \\le r \\le 1$$"
   ]
  },
  {
   "cell_type": "markdown",
   "metadata": {},
   "source": [
    "<p>Матричная запись</p>"
   ]
  },
  {
   "cell_type": "markdown",
   "metadata": {},
   "source": [
    "$$R_{i,j}=\\frac{\\sum_{k=1}^{N}(X_{k,i} - \\mu_{x_i})(X_{k,j} - \\mu_{x_j})}{\\sqrt{\\sum_{k=1}^{N}(X_{k,i} - \\mu_{x_i})^2\\sum_{k=1}^{N}(X_{k,j} - \\mu_{x_j})^2}}$$"
   ]
  },
  {
   "cell_type": "code",
   "execution_count": null,
   "metadata": {},
   "outputs": [],
   "source": [
    "x = np.linspace(-10, 10, 30)"
   ]
  },
  {
   "cell_type": "code",
   "execution_count": null,
   "metadata": {},
   "outputs": [],
   "source": [
    "f1 = lambda x: x**2\n",
    "f2 = lambda x: 0.2*x**2"
   ]
  },
  {
   "cell_type": "code",
   "execution_count": null,
   "metadata": {},
   "outputs": [],
   "source": [
    "fig = plt.figure(1, figsize=(12, 4))\n",
    "\n",
    "plt.subplot(1,2,1)\n",
    "plt.plot(x, f1(x), \"-o\", label=\"$f_1(x)$\")\n",
    "plt.plot(x, f2(x), \"-o\", label=\"$f_2(x)$\")\n",
    "plt.xlabel(\"x\")\n",
    "plt.ylabel(\"$f_1(x), f_2(x)$\")\n",
    "plt.legend()\n",
    "plt.grid(True)\n",
    "\n",
    "plt.subplot(1,2,2)\n",
    "plt.scatter(f1(x), f2(x))\n",
    "plt.xlabel(\"$f_1(x)$\")\n",
    "plt.ylabel(\"$f_2(x)$\")\n",
    "\n",
    "plt.grid(True)\n",
    "\n",
    "plt.show()"
   ]
  },
  {
   "cell_type": "code",
   "execution_count": null,
   "metadata": {},
   "outputs": [],
   "source": [
    "pearson_coef, pvalue = stats.pearsonr(f1(x), f2(x))\n",
    "pearson_coef"
   ]
  },
  {
   "cell_type": "code",
   "execution_count": null,
   "metadata": {},
   "outputs": [],
   "source": [
    "f3 = lambda x: -0.2*x**2"
   ]
  },
  {
   "cell_type": "code",
   "execution_count": null,
   "metadata": {},
   "outputs": [],
   "source": [
    "fig = plt.figure(1, figsize=(12, 4))\n",
    "\n",
    "plt.subplot(1,2,1)\n",
    "plt.plot(x, f1(x), \"-o\", label=\"$f_1(x)$\")\n",
    "plt.plot(x, f3(x), \"-o\", label=\"$f_3(x)$\")\n",
    "plt.xlabel(\"x\")\n",
    "plt.ylabel(\"$f_1(x), f_3(x)$\")\n",
    "plt.legend()\n",
    "plt.grid(True)\n",
    "\n",
    "plt.subplot(1,2,2)\n",
    "plt.scatter(f1(x), f3(x))\n",
    "plt.xlabel(\"$f_1(x)$\")\n",
    "plt.ylabel(\"$f_3(x)$\")\n",
    "\n",
    "plt.grid(True)\n",
    "\n",
    "plt.show()"
   ]
  },
  {
   "cell_type": "code",
   "execution_count": null,
   "metadata": {},
   "outputs": [],
   "source": [
    "pearson_coef, pvalue = stats.pearsonr(f1(x), f3(x))\n",
    "pearson_coef"
   ]
  },
  {
   "cell_type": "code",
   "execution_count": null,
   "metadata": {},
   "outputs": [],
   "source": [
    "f4 = lambda x: x**2 + 10*np.sin(x)\n",
    "f5 = lambda x: -x + 0.1*x**3 + 10*np.cos(x)"
   ]
  },
  {
   "cell_type": "code",
   "execution_count": null,
   "metadata": {},
   "outputs": [],
   "source": [
    "fig = plt.figure(1, figsize=(12, 4))\n",
    "\n",
    "plt.subplot(1,2,1)\n",
    "plt.plot(x, f4(x), \"-o\", label=\"$f_4(x)$\")\n",
    "plt.plot(x, f5(x), \"-o\", label=\"$f_5(x)$\")\n",
    "plt.xlabel(\"x\")\n",
    "plt.ylabel(\"$f_4(x), f_5(x)$\")\n",
    "plt.legend()\n",
    "plt.grid(True)\n",
    "\n",
    "plt.subplot(1,2,2)\n",
    "plt.scatter(f4(x), f5(x))\n",
    "plt.xlabel(\"$f_4(x)$\")\n",
    "plt.ylabel(\"$f_5(x)$\")\n",
    "\n",
    "plt.grid(True)\n",
    "\n",
    "plt.show()"
   ]
  },
  {
   "cell_type": "code",
   "execution_count": null,
   "metadata": {},
   "outputs": [],
   "source": [
    "pearson_coef, pvalue = stats.pearsonr(f4(x), f5(x))\n",
    "pearson_coef"
   ]
  },
  {
   "cell_type": "markdown",
   "metadata": {},
   "source": [
    "<a name=\"1\"></a>\n",
    "<div style=\"display:table; width:100%; padding-top:10px; padding-bottom:10px; border-bottom:1px solid lightgrey\">\n",
    "    <div style=\"display:table-row\">\n",
    "        <div style=\"display:table-cell; width:80%; font-size:14pt; font-weight:bold\">2. Примеры</div>\n",
    "    \t<div style=\"display:table-cell; width:20%; text-align:center; background-color:whitesmoke; border:1px solid lightgrey\"><a href=\"#0\">К содержанию</a></div>\n",
    "    </div>\n",
    "</div>"
   ]
  },
  {
   "cell_type": "code",
   "execution_count": null,
   "metadata": {},
   "outputs": [],
   "source": [
    "BREND_FILE = \"../data/BZ_010201_160207.csv\"\n",
    "GDP_FILE = \"../data/GDP.csv\"\n",
    "USDRUB_FILE = \"../data/USDRUB_010201_160207.csv\"\n",
    "EURRUB_FILE = \"../data/USDRUB_010201_160207.csv\""
   ]
  },
  {
   "cell_type": "markdown",
   "metadata": {},
   "source": [
    "<p>Загрузка данных</p>"
   ]
  },
  {
   "cell_type": "code",
   "execution_count": null,
   "metadata": {},
   "outputs": [],
   "source": [
    "df_brend = pd.read_csv(BREND_FILE, sep=\";\", header=None, skiprows=1, parse_dates=True, usecols=[2,7], \n",
    "                       names=[\"Date\",\"Price\"], index_col=0)\n",
    "df_brend.T"
   ]
  },
  {
   "cell_type": "code",
   "execution_count": null,
   "metadata": {},
   "outputs": [],
   "source": [
    "df_gdp = pd.read_csv(GDP_FILE, sep=\";\", encoding = \"iso-8859-1\", header=None, parse_dates=True, usecols=[0,1], \n",
    "                     names=[\"Date\", \"GDP\"], index_col=0)\n",
    "df_gdp.index = df_gdp.index.year\n",
    "df_gdp.sort_index(inplace=True, ascending=1)\n",
    "df_gdp.T"
   ]
  },
  {
   "cell_type": "code",
   "execution_count": null,
   "metadata": {},
   "outputs": [],
   "source": [
    "df_usdrub = pd.read_csv(USDRUB_FILE, sep=\";\", header=None, skiprows=1, parse_dates=True, usecols=[2,7], \n",
    "                       names = [\"Date\",\"USDRUB\"], index_col=0)\n",
    "df_usdrub.T"
   ]
  },
  {
   "cell_type": "code",
   "execution_count": null,
   "metadata": {},
   "outputs": [],
   "source": [
    "df_eurrub = pd.read_csv(EURRUB_FILE, sep=\";\", header=None, skiprows=1, parse_dates=True, usecols=[2,7], \n",
    "                       names = [\"Date\",\"EURRUB\"], index_col=0)\n",
    "df_eurrub.T"
   ]
  },
  {
   "cell_type": "code",
   "execution_count": null,
   "metadata": {},
   "outputs": [],
   "source": [
    "from pandas.plotting import register_matplotlib_converters\n",
    "register_matplotlib_converters()"
   ]
  },
  {
   "cell_type": "code",
   "execution_count": null,
   "metadata": {},
   "outputs": [],
   "source": [
    "plt.figure(1, figsize=[14,8])\n",
    "\n",
    "plt.subplot(2,2,1)\n",
    "plt.title(\"Brend Oil Price by month\")\n",
    "plt.plot(df_brend.index, df_brend)\n",
    "plt.grid(True)\n",
    "\n",
    "plt.subplot(2,2,2)\n",
    "plt.title(\"Gross Domestic Product by year\")\n",
    "plt.plot(df_gdp.index, df_gdp)\n",
    "plt.xticks(df_gdp.index, rotation=\"vertical\")\n",
    "plt.grid(True)\n",
    "\n",
    "plt.subplot(2,2,3)\n",
    "plt.title(\"USDRUB by month\")\n",
    "plt.plot(df_usdrub.index, df_usdrub)\n",
    "plt.grid(True)\n",
    "\n",
    "plt.subplot(2,2,4)\n",
    "plt.title(\"EURRUB by month\")\n",
    "plt.plot(df_eurrub.index, df_eurrub)\n",
    "plt.grid(True)\n",
    "\n",
    "plt.tight_layout()\n",
    "\n",
    "plt.show()"
   ]
  },
  {
   "cell_type": "markdown",
   "metadata": {},
   "source": [
    "<p>Вывод данных по году</p>"
   ]
  },
  {
   "cell_type": "code",
   "execution_count": null,
   "metadata": {},
   "outputs": [],
   "source": [
    "df_brend.loc[\"2001\"]"
   ]
  },
  {
   "cell_type": "markdown",
   "metadata": {},
   "source": [
    "<p>Среднее значение за год</p>"
   ]
  },
  {
   "cell_type": "code",
   "execution_count": null,
   "metadata": {},
   "outputs": [],
   "source": [
    "df_brend.loc[\"2008\"].mean()"
   ]
  },
  {
   "cell_type": "markdown",
   "metadata": {},
   "source": [
    "<p>Средние значения с 2001 по 2016</p>"
   ]
  },
  {
   "cell_type": "code",
   "execution_count": null,
   "metadata": {
    "scrolled": true
   },
   "outputs": [],
   "source": [
    "df_brend__year = df_brend.groupby(df_brend.index.year).mean()\n",
    "df_brend__year.T"
   ]
  },
  {
   "cell_type": "code",
   "execution_count": null,
   "metadata": {},
   "outputs": [],
   "source": [
    "df_usdrub__year = df_usdrub.groupby(df_usdrub.index.year).mean()\n",
    "df_usdrub__year.T"
   ]
  },
  {
   "cell_type": "code",
   "execution_count": null,
   "metadata": {},
   "outputs": [],
   "source": [
    "df_eurrub__year = df_eurrub.groupby(df_eurrub.index.year).mean()\n",
    "df_eurrub__year.T"
   ]
  },
  {
   "cell_type": "code",
   "execution_count": null,
   "metadata": {},
   "outputs": [],
   "source": [
    "plt.figure(1, figsize=[14,8])\n",
    "\n",
    "plt.subplot(2,2,1)\n",
    "plt.title(\"Brend Oil Price by year\")\n",
    "plt.plot(df_brend__year.index, df_brend__year, \"o-\")\n",
    "plt.grid(True)\n",
    "\n",
    "plt.subplot(2,2,2)\n",
    "plt.title(\"Gross Domestic Product by year\")\n",
    "plt.plot(df_gdp.index, df_gdp, \"o-\")\n",
    "plt.xticks(df_gdp.index, rotation=\"vertical\")\n",
    "plt.grid(True)\n",
    "\n",
    "plt.subplot(2,2,3)\n",
    "plt.title(\"USDRUB by year\")\n",
    "plt.plot(df_usdrub__year.index, df_usdrub__year, \"o-\")\n",
    "plt.grid(True)\n",
    "\n",
    "plt.subplot(2,2,4)\n",
    "plt.title(\"EURRUB by year\")\n",
    "plt.plot(df_eurrub__year.index, df_eurrub__year, \"o-\")\n",
    "plt.grid(True)\n",
    "\n",
    "plt.tight_layout()\n",
    "\n",
    "plt.show()"
   ]
  },
  {
   "cell_type": "markdown",
   "metadata": {},
   "source": [
    "<p>Выбор рассматриваемого диапазона</p>"
   ]
  },
  {
   "cell_type": "code",
   "execution_count": null,
   "metadata": {},
   "outputs": [],
   "source": [
    "st = pd.Timestamp(\"2002\").year\n",
    "end = pd.Timestamp(\"2012\").year"
   ]
  },
  {
   "cell_type": "code",
   "execution_count": null,
   "metadata": {},
   "outputs": [],
   "source": [
    "d = {\n",
    "    \"Brend\": df_brend__year.loc[st:end,\"Price\"], \n",
    "    \"GDP\": df_gdp.loc[st:end,\"GDP\"],\n",
    "    \"USDRUB\": df_usdrub__year.loc[st:end,\"USDRUB\"],\n",
    "    \"EURRUB\": df_eurrub__year.loc[st:end,\"EURRUB\"],\n",
    "}\n",
    "\n",
    "df_all = pd.DataFrame(d)\n",
    "df_all"
   ]
  },
  {
   "cell_type": "markdown",
   "metadata": {},
   "source": [
    "<p>Корреляция</p>"
   ]
  },
  {
   "cell_type": "code",
   "execution_count": null,
   "metadata": {},
   "outputs": [],
   "source": [
    "#Pandas\n",
    "df_corr = df_all.corr(method=\"pearson\") #‘pearson’, ‘kendall’, ‘spearman’\n",
    "df_corr"
   ]
  },
  {
   "cell_type": "code",
   "execution_count": null,
   "metadata": {},
   "outputs": [],
   "source": [
    "#NumPy\n",
    "np.corrcoef(df_all.T)"
   ]
  },
  {
   "cell_type": "code",
   "execution_count": null,
   "metadata": {},
   "outputs": [],
   "source": [
    "#SciPy\n",
    "pearson_coef, pvalue = stats.pearsonr(df_all.GDP, df_all.Brend)\n",
    "pearson_coef"
   ]
  },
  {
   "cell_type": "code",
   "execution_count": null,
   "metadata": {},
   "outputs": [],
   "source": [
    "labels = df_all.columns.to_list()\n",
    "\n",
    "fig = plt.figure()\n",
    "ax = fig.add_subplot(1,1,1)\n",
    "cax = ax.matshow(df_all.corr())\n",
    "fig.colorbar(cax)\n",
    "\n",
    "ax.set_xticklabels([\"\"]+labels)\n",
    "ax.set_yticklabels([\"\"]+labels)\n",
    "\n",
    "plt.show()"
   ]
  },
  {
   "cell_type": "code",
   "execution_count": null,
   "metadata": {},
   "outputs": [],
   "source": [
    "plt.figure(1, figsize=[15,4])\n",
    "\n",
    "plt.subplot(1,3,1)\n",
    "plt.title(\"Brend Oil Price by year\")\n",
    "plt.plot(df_all.index, df_all.Brend, \"o-\")\n",
    "plt.grid(True)\n",
    "\n",
    "plt.subplot(1,3,2)\n",
    "plt.title(\"Gross Domestic Product by year\")\n",
    "plt.plot(df_all.index, df_all.GDP, \"o-\")\n",
    "plt.grid(True)\n",
    "\n",
    "plt.subplot(1,3,3)\n",
    "plt.title(\"Brend vs GDP\")\n",
    "plt.plot(df_all.Brend, df_all.GDP, \"o\")\n",
    "plt.grid(True)\n",
    "\n",
    "plt.show()"
   ]
  },
  {
   "cell_type": "code",
   "execution_count": null,
   "metadata": {},
   "outputs": [],
   "source": [
    "plt.figure(1, figsize=[15,4])\n",
    "\n",
    "plt.subplot(1,3,1)\n",
    "plt.title(\"Brend Oil Price by year\")\n",
    "plt.plot(df_all.index, df_all.Brend, \"o-\")\n",
    "plt.grid(True)\n",
    "\n",
    "plt.subplot(1,3,2)\n",
    "plt.title(\"EURRUB by year\")\n",
    "plt.plot(df_all.index, df_all.EURRUB, \"o-\")\n",
    "plt.grid(True)\n",
    "\n",
    "plt.subplot(1,3,3)\n",
    "plt.title(\"Brend vs EURRUB\")\n",
    "plt.plot(df_all.Brend, df_all.EURRUB, \"o\")\n",
    "plt.grid(True)\n",
    "\n",
    "plt.show()"
   ]
  },
  {
   "cell_type": "code",
   "execution_count": null,
   "metadata": {},
   "outputs": [],
   "source": [
    "plt.figure(1, figsize=[15,4])\n",
    "\n",
    "plt.subplot(1,3,1)\n",
    "plt.title(\"Brend Oil Price by year\")\n",
    "plt.plot(df_all.index, df_all.Brend, \"o-\")\n",
    "plt.grid(True)\n",
    "\n",
    "plt.subplot(1,3,2)\n",
    "plt.title(\"USDRUB by year\")\n",
    "plt.plot(df_all.index, df_all.USDRUB, \"o-\")\n",
    "plt.grid(True)\n",
    "\n",
    "plt.subplot(1,3,3)\n",
    "plt.title(\"Brend vs USDRUB\")\n",
    "plt.plot(df_all.Brend, df_all.USDRUB, \"o\")\n",
    "plt.grid(True)\n",
    "\n",
    "plt.show()"
   ]
  },
  {
   "cell_type": "code",
   "execution_count": null,
   "metadata": {},
   "outputs": [],
   "source": [
    "plt.figure(1, figsize=[15,4])\n",
    "\n",
    "plt.subplot(1,3,1)\n",
    "plt.title(\"Gross Domestic Product by year\")\n",
    "plt.plot(df_all.index, df_all.GDP, \"o-\")\n",
    "plt.grid(True)\n",
    "\n",
    "plt.subplot(1,3,2)\n",
    "plt.title(\"USDRUB by year\")\n",
    "plt.plot(df_all.index, df_all.USDRUB, \"o-\")\n",
    "plt.grid(True)\n",
    "\n",
    "plt.subplot(1,3,3)\n",
    "plt.title(\"GDP vs USDRUB\")\n",
    "plt.plot(df_all.GDP, df_all.USDRUB, \"o\")\n",
    "plt.xticks(rotation='vertical')\n",
    "plt.grid(True)\n",
    "\n",
    "plt.show()"
   ]
  },
  {
   "cell_type": "code",
   "execution_count": null,
   "metadata": {},
   "outputs": [],
   "source": [
    "plt.title(\"GDP(Year) in Russia\", size=18)\n",
    "plt.plot(df_gdp.index, df_gdp, \"o-\")\n",
    "plt.xticks(df_gdp.index, rotation=\"vertical\")\n",
    "plt.xlabel(\"Year\", size=14)\n",
    "plt.ylabel(\"GDP, BN RUB\", size=14)\n",
    "plt.grid(True)\n",
    "plt.show()"
   ]
  },
  {
   "cell_type": "markdown",
   "metadata": {
    "collapsed": true
   },
   "source": [
    "<a name=\"6\"></a>\n",
    "<div style=\"display:table; width:100%; padding-top:10px; padding-bottom:10px; border-bottom:1px solid lightgrey\">\n",
    "    <div style=\"display:table-row\">\n",
    "        <div style=\"display:table-cell; width:80%; font-size:14pt; font-weight:bold\">6. Источники</div>\n",
    "    \t<div style=\"display:table-cell; width:20%; text-align:center; background-color:whitesmoke; border:1px solid lightgrey\"><a href=\"#0\">К содержанию</a></div>\n",
    "    </div>\n",
    "</div>"
   ]
  },
  {
   "cell_type": "markdown",
   "metadata": {},
   "source": [
    "<a href=\"http://pandas.pydata.org/pandas-docs/stable/generated/pandas.DataFrame.corr.html\">pandas.DataFrame.corr</a><br>\n",
    "<a href=\"http://docs.scipy.org/doc/numpy-1.10.1/reference/generated/numpy.corrcoef.html\">numpy.corrcoef</a><br>\n",
    "<a href=\"http://docs.scipy.org/doc/scipy-0.14.0/reference/generated/scipy.stats.pearsonr.html\">scipy.stats.pearsonr</a><br>\n",
    "\n",
    "<a href=\"https://msdn.microsoft.com/ru-ru/library/azure/dn905819.aspx\">Вычисления линейной корреляции</a><br>"
   ]
  },
  {
   "cell_type": "code",
   "execution_count": null,
   "metadata": {},
   "outputs": [],
   "source": []
  }
 ],
 "metadata": {
  "kernelspec": {
   "display_name": "Python 3",
   "language": "python",
   "name": "python3"
  },
  "language_info": {
   "codemirror_mode": {
    "name": "ipython",
    "version": 3
   },
   "file_extension": ".py",
   "mimetype": "text/x-python",
   "name": "python",
   "nbconvert_exporter": "python",
   "pygments_lexer": "ipython3",
   "version": "3.7.4"
  }
 },
 "nbformat": 4,
 "nbformat_minor": 1
}
