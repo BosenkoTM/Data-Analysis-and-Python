{
 "cells": [
  {
   "cell_type": "markdown",
   "metadata": {},
   "source": [
    "<div style=\"font-size:18pt; padding-top:20px; text-align:center\">СЕМИНАР. <b>Деревья решений и их ансамбли</b></div><hr>\n",
    "<div style=\"text-align:right;\">Папулин С.Ю. <span style=\"font-style: italic;font-weight: bold;\">(papulin.study@yandex.ru)</span></div>"
   ]
  },
  {
   "cell_type": "markdown",
   "metadata": {},
   "source": [
    "<a name=\"0\"></a>\n",
    "<div><span style=\"font-size:14pt; font-weight:bold\">Содержание</span>\n",
    "    <ol>\n",
    "        <li><a href=\"#1\">Дерево решений</a>\n",
    "        <li><a href=\"#2\">Ансамбль деревьев</a>\n",
    "        <li><a href=\"#3\">Источники</a>\n",
    "        </li>\n",
    "    </ol>\n",
    "</div>"
   ]
  },
  {
   "cell_type": "markdown",
   "metadata": {},
   "source": [
    "<p><b>Подключение библиотек</b></p>"
   ]
  },
  {
   "cell_type": "code",
   "execution_count": null,
   "metadata": {},
   "outputs": [],
   "source": [
    "import time\n",
    "import numpy as np\n",
    "\n",
    "import matplotlib.pyplot as plt\n",
    "%matplotlib inline"
   ]
  },
  {
   "cell_type": "code",
   "execution_count": null,
   "metadata": {},
   "outputs": [],
   "source": [
    "from scipy import stats"
   ]
  },
  {
   "cell_type": "code",
   "execution_count": null,
   "metadata": {},
   "outputs": [],
   "source": [
    "from sklearn.model_selection import train_test_split\n",
    "from sklearn.metrics import classification_report"
   ]
  },
  {
   "cell_type": "code",
   "execution_count": null,
   "metadata": {},
   "outputs": [],
   "source": [
    "from sklearn.datasets import make_classification\n",
    "from matplotlib import cm\n",
    "from matplotlib.colors import ListedColormap"
   ]
  },
  {
   "cell_type": "code",
   "execution_count": null,
   "metadata": {},
   "outputs": [],
   "source": [
    "from sklearn.tree import DecisionTreeClassifier, DecisionTreeRegressor, plot_tree\n",
    "\n",
    "from sklearn.ensemble import (\n",
    "    BaggingClassifier,\n",
    "    BaggingRegressor,\n",
    "    RandomForestClassifier,\n",
    "    RandomForestRegressor,\n",
    "    ExtraTreesClassifier,\n",
    "    ExtraTreesRegressor\n",
    ")"
   ]
  },
  {
   "cell_type": "code",
   "execution_count": null,
   "metadata": {},
   "outputs": [],
   "source": [
    "import sys\n",
    "sys.path.insert(0, \"../lib/\")\n",
    "from plot_utils import CPlot, RPlot"
   ]
  },
  {
   "cell_type": "markdown",
   "metadata": {},
   "source": [
    "<a name=\"1\"></a>\n",
    "<div style=\"display:table; width:100%; padding-top:10px; padding-bottom:10px; border-bottom:1px solid lightgrey\">\n",
    "    <div style=\"display:table-row\">\n",
    "        <div style=\"display:table-cell; width:80%; font-size:16pt; font-weight:bold\">1. Дерево решений</div>\n",
    "    \t<div style=\"display:table-cell; width:20%; text-align:center; background-color:whitesmoke; border:1px solid lightgrey\"><a href=\"#0\">К содержанию</a></div>\n",
    "    </div>\n",
    "</div>"
   ]
  },
  {
   "cell_type": "markdown",
   "metadata": {},
   "source": [
    "### Построение дерева решений для задачи регрессии вручную"
   ]
  },
  {
   "cell_type": "code",
   "execution_count": null,
   "metadata": {},
   "outputs": [],
   "source": [
    "# Исходные данные\n",
    "D = np.array([[2,1,1],\n",
    "              [2,3,2],\n",
    "              [5,3,2],\n",
    "              [5,6,4],\n",
    "              [6,5,4],\n",
    "              [7,5,5],\n",
    "              [8,7,6]])\n",
    "\n",
    "X = D[:,:2]\n",
    "y = D[:,2]\n",
    "\n",
    "# График исходных данных\n",
    "plt.figure(figsize=[6,6])\n",
    "plt.scatter(X[:,0], X[:,1])\n",
    "plt.title(\"Initial Data\")\n",
    "plt.xlabel(\"$X_1$\")\n",
    "plt.ylabel(\"$X_2$\")\n",
    "plt.grid(True)\n",
    "plt.tight_layout()\n",
    "plt.show()"
   ]
  },
  {
   "cell_type": "code",
   "execution_count": null,
   "metadata": {},
   "outputs": [],
   "source": [
    "def split(x, y, threshold):\n",
    "    return y[x <= threshold], y[x > threshold]\n",
    "\n",
    "\n",
    "def rss(left, right):\n",
    "    return ((left - left.mean())**2).sum() + ((right - right.mean())**2).sum()\n",
    "\n",
    "\n",
    "def branch_mse(y):\n",
    "    return ((y - y.mean())**2).mean()\n",
    "\n",
    "\n",
    "def print_info(split_point, rss):\n",
    "    print(\"Split Point = {}\\nRSS = {}\".format(split_point, rss))\n",
    "\n",
    "    \n",
    "def calculate_splits(x, y):\n",
    "    min_split = None\n",
    "    min_rss = float(\"inf\")\n",
    "    x_set = np.sort(np.unique(x))\n",
    "    for i in range(1, len(x_set)):\n",
    "        split_point = x_set[i-1:i+1].mean()\n",
    "        split_rss = rss(*split(x, y, split_point))\n",
    "        print_info(split_point, split_rss)\n",
    "        if min_rss > split_rss:\n",
    "            min_rss = split_rss\n",
    "            min_split = split_point\n",
    "    return min_split, min_rss"
   ]
  },
  {
   "cell_type": "markdown",
   "metadata": {},
   "source": [
    "Найти точку разделения с минимальной `RSS` по координатам `X1` и `X2`"
   ]
  },
  {
   "cell_type": "code",
   "execution_count": null,
   "metadata": {},
   "outputs": [],
   "source": [
    "print(\"X1:\\n\")\n",
    "min_split_point, min_rss = calculate_splits(X[:,0], y)\n",
    "print(\"\\nMin Split:\\n\\tSplit Point = {}\\n\\tRSS = {}\\n\\tMSE = {}\".format(min_split_point, min_rss, branch_mse(y)))"
   ]
  },
  {
   "cell_type": "code",
   "execution_count": null,
   "metadata": {},
   "outputs": [],
   "source": [
    "print(\"X2:\\n\")\n",
    "min_split_point, min_rss = calculate_splits(X[:,1], y)\n",
    "print(\"\\nMin Split:\\n\\tSplit Point = {}\\n\\tRSS = {}\\n\\tMSE = {}\".format(min_split_point, min_rss, branch_mse(y)))"
   ]
  },
  {
   "cell_type": "markdown",
   "metadata": {},
   "source": [
    "Разделить исходные данные по `X2`"
   ]
  },
  {
   "cell_type": "code",
   "execution_count": null,
   "metadata": {},
   "outputs": [],
   "source": [
    "X2_split_point = 4.0\n",
    "\n",
    "# Индексы элементов\n",
    "left_index = X[:,1] <= X2_split_point\n",
    "left_index"
   ]
  },
  {
   "cell_type": "code",
   "execution_count": null,
   "metadata": {},
   "outputs": [],
   "source": [
    "X2_split_point = 4.0\n",
    "\n",
    "# Индексы элементов\n",
    "left_index = X[:,1] <= X2_split_point\n",
    "right_index = X[:,1] > X2_split_point\n",
    "\n",
    "# Элементы левой части\n",
    "X_left = X[left_index]\n",
    "y_left = y[left_index]\n",
    "\n",
    "# Элементы правой части\n",
    "X_right = X[right_index]\n",
    "y_right = y[right_index]\n",
    "\n",
    "len(y_left), len(y_right)"
   ]
  },
  {
   "cell_type": "markdown",
   "metadata": {},
   "source": [
    "В левой части только три элемента. Начальное условие не соблюдается, т.к. минимальное количество элементов в конечном узле должно быть не менее двух. Поэтому левую часть далее не делим."
   ]
  },
  {
   "cell_type": "code",
   "execution_count": null,
   "metadata": {},
   "outputs": [],
   "source": [
    "y_left_pred = y_left.mean()\n",
    "y_left_pred"
   ]
  },
  {
   "cell_type": "markdown",
   "metadata": {},
   "source": [
    "Найти точку разделения с минимальной `RSS` по координатам `X1` и `X2` для правой части"
   ]
  },
  {
   "cell_type": "code",
   "execution_count": null,
   "metadata": {},
   "outputs": [],
   "source": [
    "print(\"X1:\\n\")\n",
    "min_split_point, min_rss = calculate_splits(X_right[:,0], y_right)\n",
    "print(\"\\nMin Split:\\n\\tSplit Point = {}\\n\\tRSS = {}\\n\\tMSE = {}\"\n",
    "      .format(min_split_point, min_rss, branch_mse(y_right)))"
   ]
  },
  {
   "cell_type": "code",
   "execution_count": null,
   "metadata": {},
   "outputs": [],
   "source": [
    "print(\"X2:\\n\")\n",
    "min_split_point, min_rss = calculate_splits(X_right[:,1], y_right)\n",
    "print(\"\\nMin Split:\\n\\tSplit Point = {}\\n\\tRSS = {}\\n\\tMSE = {}\"\n",
    "      .format(min_split_point, min_rss, branch_mse(y_right)))"
   ]
  },
  {
   "cell_type": "markdown",
   "metadata": {},
   "source": [
    "Разделить правую часть данные по `X1`"
   ]
  },
  {
   "cell_type": "code",
   "execution_count": null,
   "metadata": {},
   "outputs": [],
   "source": [
    "X1_split_point = 6.5\n",
    "\n",
    "# Индексы элементов\n",
    "right_left_index = X_right[:,0] <= X1_split_point\n",
    "right_right_index = X_right[:,0] > X1_split_point\n",
    "\n",
    "# Элементы левой части\n",
    "X_right_left = X_right[right_left_index]\n",
    "y_right_left = y_right[right_left_index]\n",
    "\n",
    "# Элементы правой части\n",
    "X_right_right = X_right[right_right_index]\n",
    "y_right_right = y_right[right_right_index]\n",
    "\n",
    "len(y_right_left), len(y_right_right)"
   ]
  },
  {
   "cell_type": "code",
   "execution_count": null,
   "metadata": {},
   "outputs": [],
   "source": [
    "y_right_left_pred = y_right_left.mean()\n",
    "y_right_left_pred"
   ]
  },
  {
   "cell_type": "code",
   "execution_count": null,
   "metadata": {},
   "outputs": [],
   "source": [
    "y_right_right_pred = y_right_right.mean()\n",
    "y_right_right_pred"
   ]
  },
  {
   "cell_type": "markdown",
   "metadata": {},
   "source": [
    "### Sklearn"
   ]
  },
  {
   "cell_type": "code",
   "execution_count": null,
   "metadata": {
    "scrolled": true
   },
   "outputs": [],
   "source": [
    "# Исходные данные\n",
    "D = np.array([[2,1,1],\n",
    "              [2,3,2],\n",
    "              [5,3,2],\n",
    "              [5,6,4],\n",
    "              [6,5,4],\n",
    "              [7,5,5],\n",
    "              [8,7,6]])\n",
    "\n",
    "X = D[:,:2]\n",
    "y = D[:,2]\n",
    "\n",
    "# График исходных данных\n",
    "plt.figure(figsize=[6,6])\n",
    "plt.scatter(X[:,0], X[:,1])\n",
    "plt.title(\"Initial Data\")\n",
    "plt.xlabel(\"$X_1$\")\n",
    "plt.ylabel(\"$X_2$\")\n",
    "plt.grid(True)\n",
    "plt.tight_layout()\n",
    "plt.show()"
   ]
  },
  {
   "cell_type": "code",
   "execution_count": null,
   "metadata": {},
   "outputs": [],
   "source": [
    "# Обучение\n",
    "tick = time.time()\n",
    "dtr_model = DecisionTreeRegressor(criterion=\"mse\", random_state=0, min_samples_leaf=2)\n",
    "dtr_model.fit(X, y)\n",
    "print(\"Time =\", time.time()-tick)\n",
    "\n",
    "# Отображение дерева решений\n",
    "plt.figure(1, figsize=[14, 4])\n",
    "plot_tree(dtr_model, filled=True, feature_names=[\"X1\", \"X2\"])\n",
    "plt.show()"
   ]
  },
  {
   "cell_type": "markdown",
   "metadata": {},
   "source": [
    "### Регрессия"
   ]
  },
  {
   "cell_type": "code",
   "execution_count": null,
   "metadata": {},
   "outputs": [],
   "source": [
    "# Исходные данные\n",
    "n = 100\n",
    "x = stats.uniform.rvs(size=n, loc=0, scale=5, random_state=0)\n",
    "y = stats.norm.rvs(size=n, loc=0, scale=0.2, random_state=0) + np.sin(x)\n",
    "\n",
    "RPlot.show_init_data_plot(x,y)\n",
    "\n",
    "# Формирование обучающего и тестового подмножеств\n",
    "x_train, x_test, y_train, y_test = train_test_split(x, y, test_size=0.3, random_state=0)\n",
    "X_train = x_train[:, np.newaxis]\n",
    "X_test = x_test[:, np.newaxis]\n",
    "\n",
    "# Обучение\n",
    "tick = time.time()\n",
    "dtr_model = DecisionTreeRegressor(criterion=\"mse\", max_depth=2, random_state=0)\n",
    "dtr_model.fit(X_train, y_train)\n",
    "print(\"Time =\", time.time()-tick)\n",
    "\n",
    "# Проверка на тестовом подмножестве\n",
    "score_dtr_model = dtr_model.score(X_test, y_test)\n",
    "print(\"R^2 =\", score_dtr_model)\n",
    "\n",
    "# Графики\n",
    "RPlot.show_train_test_plots(dtr_model, X_train, y_train, X_test, y_test)"
   ]
  },
  {
   "cell_type": "markdown",
   "metadata": {},
   "source": [
    "Структура дерева"
   ]
  },
  {
   "cell_type": "code",
   "execution_count": null,
   "metadata": {},
   "outputs": [],
   "source": [
    "dtr_model.tree_"
   ]
  },
  {
   "cell_type": "code",
   "execution_count": null,
   "metadata": {
    "scrolled": true
   },
   "outputs": [],
   "source": [
    "plt.figure(1, figsize=[14, 4])\n",
    "plot_tree(dtr_model, filled=True, feature_names=[\"X\"])\n",
    "plt.show()"
   ]
  },
  {
   "cell_type": "markdown",
   "metadata": {},
   "source": [
    "### Классификация"
   ]
  },
  {
   "cell_type": "code",
   "execution_count": null,
   "metadata": {},
   "outputs": [],
   "source": [
    "CLR_MAP = ListedColormap([\"blue\", \"red\", \"green\"])"
   ]
  },
  {
   "cell_type": "code",
   "execution_count": null,
   "metadata": {},
   "outputs": [],
   "source": [
    "# Исходные данные\n",
    "n = 500\n",
    "X, y = make_classification(n_samples=n, n_features=2, n_redundant=0, \n",
    "                           n_informative=2, n_clusters_per_class=1, n_classes=3, class_sep=1,\n",
    "                           random_state=1234)\n",
    "CPlot.show_init_data_plot(X, y, cmap=CLR_MAP)\n",
    "\n",
    "# Формирование обучающего и тестового подмножеств\n",
    "X_train, X_test, y_train, y_test = train_test_split(X, y, test_size=0.3, random_state=0)\n",
    "\n",
    "# Обучение\n",
    "tick = time.time()\n",
    "dt_model = DecisionTreeClassifier(criterion=\"entropy\", max_depth=2, random_state=0)\n",
    "dt_model.fit(X_train, y_train)\n",
    "print(\"Time = \", time.time()-tick)\n",
    "\n",
    "# Проверка на тестовом подмножестве\n",
    "score_dt_model = dt_model.score(X_test, y_test)\n",
    "print(\"Test Score = \", score_dt_model)\n",
    "print(\"Classification Report:\")\n",
    "print(classification_report(y_test, dt_model.predict(X_test), target_names=[\"Class 0\", \"Class 1\", \"Class 2\"]))\n",
    "\n",
    "# Графики\n",
    "CPlot.show_train_test_plots(dt_model, X_train, y_train, X_test, y_test, \n",
    "                            title=\"Single Decision Tree\", cmap=CLR_MAP)"
   ]
  },
  {
   "cell_type": "markdown",
   "metadata": {},
   "source": [
    "Структура дерева"
   ]
  },
  {
   "cell_type": "code",
   "execution_count": null,
   "metadata": {},
   "outputs": [],
   "source": [
    "dt_model.tree_"
   ]
  },
  {
   "cell_type": "code",
   "execution_count": null,
   "metadata": {},
   "outputs": [],
   "source": [
    "plt.figure(1, figsize=[14, 8])\n",
    "plot_tree(dt_model, filled=True, feature_names=[\"X1\", \"X2\"], class_names=[\"0\", \"1\", \"2\"])\n",
    "plt.show()"
   ]
  },
  {
   "cell_type": "markdown",
   "metadata": {},
   "source": [
    "<a name=\"2\"></a>\n",
    "<div style=\"display:table; width:100%; padding-top:10px; padding-bottom:10px; border-bottom:1px solid lightgrey\">\n",
    "    <div style=\"display:table-row\">\n",
    "        <div style=\"display:table-cell; width:80%; font-size:16pt; font-weight:bold\">2. Ансамбль деревьев</div>\n",
    "    \t<div style=\"display:table-cell; width:20%; text-align:center; background-color:whitesmoke; border:1px solid lightgrey\"><a href=\"#0\">К содержанию</a></div>\n",
    "    </div>\n",
    "</div>"
   ]
  },
  {
   "cell_type": "markdown",
   "metadata": {},
   "source": [
    "### Регрессия"
   ]
  },
  {
   "cell_type": "code",
   "execution_count": null,
   "metadata": {},
   "outputs": [],
   "source": [
    "# Исходные данные\n",
    "n = 100\n",
    "x = stats.uniform.rvs(size=n, loc=0, scale=5, random_state=0)\n",
    "y = stats.norm.rvs(size=n, loc=0, scale=0.2, random_state=0) + np.sin(x)\n",
    "\n",
    "RPlot.show_init_data_plot(x, y)"
   ]
  },
  {
   "cell_type": "code",
   "execution_count": null,
   "metadata": {},
   "outputs": [],
   "source": [
    "# Формирование обучающего и тестового подмножеств\n",
    "x_train, x_test, y_train, y_test = train_test_split(x, y, test_size=0.3, random_state=0)\n",
    "X_train = x_train[:, np.newaxis]\n",
    "X_test = x_test[:, np.newaxis]"
   ]
  },
  {
   "cell_type": "markdown",
   "metadata": {},
   "source": [
    "#### Дерево решений"
   ]
  },
  {
   "cell_type": "code",
   "execution_count": null,
   "metadata": {},
   "outputs": [],
   "source": [
    "# Обучение\n",
    "tick = time.time()\n",
    "dtr_model = DecisionTreeRegressor(criterion=\"mse\", max_depth=2, random_state=0)\n",
    "dtr_model.fit(X_train, y_train)\n",
    "print(\"Time =\", time.time()-tick)\n",
    "\n",
    "# Проверка на тестовом подмножестве\n",
    "score_dtr_model = dtr_model.score(X_test, y_test)\n",
    "print(\"R^2 =\", score_dtr_model)\n",
    "# TODO: MSE"
   ]
  },
  {
   "cell_type": "markdown",
   "metadata": {},
   "source": [
    "#### Бэггинг\n",
    "\n",
    "[BaggingRegressor](http://scikit-learn.org/stable/modules/generated/sklearn.ensemble.BaggingRegressor.html)"
   ]
  },
  {
   "cell_type": "code",
   "execution_count": null,
   "metadata": {},
   "outputs": [],
   "source": [
    "# Обучение\n",
    "tick = time.time()\n",
    "dtr_model_inner = DecisionTreeRegressor(criterion=\"mse\", max_depth=10, random_state=0)\n",
    "baggingr_model = BaggingRegressor(base_estimator=dtr_model_inner, n_estimators=10, max_samples=1.0, \n",
    "                                  max_features=1.0, bootstrap=True, bootstrap_features=False, \n",
    "                                  oob_score=False, random_state=0)\n",
    "baggingr_model.fit(X_train, y_train)\n",
    "print(\"Time =\", time.time()-tick)\n",
    "\n",
    "# Проверка на тестовом подмножестве\n",
    "score_baggingr_model = baggingr_model.score(X_test, y_test)\n",
    "print(\"R^2 =\", score_baggingr_model)"
   ]
  },
  {
   "cell_type": "markdown",
   "metadata": {},
   "source": [
    "#### Случайный лес \n",
    "\n",
    "[RandomForestRegressor](http://scikit-learn.org/stable/modules/generated/sklearn.ensemble.RandomForestRegressor.html)"
   ]
  },
  {
   "cell_type": "code",
   "execution_count": null,
   "metadata": {},
   "outputs": [],
   "source": [
    "# Обучение\n",
    "tick = time.time()\n",
    "rfr_model = RandomForestRegressor(n_estimators=10, max_depth=10, criterion=\"mse\", bootstrap=True, \n",
    "                                  max_features=\"sqrt\", oob_score=False, random_state=0)\n",
    "rfr_model.fit(X_train, y_train)\n",
    "print(\"Time =\", time.time()-tick)\n",
    "\n",
    "# Проверка на тестовом подмножестве\n",
    "score_rfr_model = rfr_model.score(X_test, y_test)\n",
    "print(\"R^2 =\", score_rfr_model)"
   ]
  },
  {
   "cell_type": "markdown",
   "metadata": {},
   "source": [
    "#### Extra Trees\n",
    "\n",
    "[ExtraTreesRegressor](http://scikit-learn.org/stable/modules/generated/sklearn.ensemble.ExtraTreesRegressor.html)"
   ]
  },
  {
   "cell_type": "code",
   "execution_count": null,
   "metadata": {},
   "outputs": [],
   "source": [
    "# Обучение\n",
    "tick = time.time()\n",
    "etr_model = ExtraTreesRegressor(n_estimators=10, max_depth=10, criterion=\"mse\", bootstrap=True, \n",
    "                                max_features=\"sqrt\", oob_score=False, random_state=0)\n",
    "etr_model.fit(X_train, y_train)\n",
    "print(\"Time =\", time.time()-tick)\n",
    "\n",
    "# Проверка на тестовом подмножестве\n",
    "score_etr_model = etr_model.score(X_test, y_test)\n",
    "print(\"R^2 =\", score_etr_model)"
   ]
  },
  {
   "cell_type": "markdown",
   "metadata": {},
   "source": [
    "#### Графики"
   ]
  },
  {
   "cell_type": "code",
   "execution_count": null,
   "metadata": {
    "scrolled": true
   },
   "outputs": [],
   "source": [
    "RPlot.show_train_test_plots(dtr_model, X_train, y_train, X_test, y_test, title=\"Single Decision Tree\")\n",
    "RPlot.show_train_test_plots(baggingr_model, X_train, y_train, X_test, y_test, title=\"Bagging\")\n",
    "RPlot.show_train_test_plots(rfr_model, X_train, y_train, X_test, y_test, title=\"Random Forest\")\n",
    "RPlot.show_train_test_plots(etr_model, X_train, y_train, X_test, y_test, title=\"Extra Trees\")"
   ]
  },
  {
   "cell_type": "markdown",
   "metadata": {},
   "source": [
    "### Классификация"
   ]
  },
  {
   "cell_type": "code",
   "execution_count": null,
   "metadata": {},
   "outputs": [],
   "source": [
    "# Исходные данные\n",
    "n = 500\n",
    "X, y = make_classification(n_samples=n, n_features=2, n_redundant=0, \n",
    "                           n_informative=2, n_clusters_per_class=1, n_classes=3, class_sep=1,\n",
    "                           random_state=1234)\n",
    "CPlot.show_init_data_plot(X, y, cmap=CLR_MAP)"
   ]
  },
  {
   "cell_type": "code",
   "execution_count": null,
   "metadata": {},
   "outputs": [],
   "source": [
    "# Формирование обучающего и тестового подмножеств\n",
    "X_train, X_test, y_train, y_test = train_test_split(X, y, test_size=0.3, random_state=0)"
   ]
  },
  {
   "cell_type": "markdown",
   "metadata": {},
   "source": [
    "#### Дерево решений"
   ]
  },
  {
   "cell_type": "code",
   "execution_count": null,
   "metadata": {},
   "outputs": [],
   "source": [
    "# Обучение\n",
    "tick = time.time()\n",
    "dt_model = DecisionTreeClassifier(criterion=\"entropy\", random_state=0)\n",
    "dt_model.fit(X_train, y_train)\n",
    "print(\"Time =\", time.time()-tick)\n",
    "\n",
    "# Проверка на тестовом подмножестве\n",
    "score_dt_model = dt_model.score(X_test, y_test)\n",
    "print(\"Test Score = \", score_dt_model)"
   ]
  },
  {
   "cell_type": "markdown",
   "metadata": {},
   "source": [
    "#### Бэггинг\n",
    "\n",
    "[BaggingClassifier](http://scikit-learn.org/stable/modules/generated/sklearn.ensemble.BaggingClassifier.html)"
   ]
  },
  {
   "cell_type": "code",
   "execution_count": null,
   "metadata": {},
   "outputs": [],
   "source": [
    "# Обучение\n",
    "tick = time.time()\n",
    "dt_model_inner = DecisionTreeClassifier(criterion=\"entropy\", random_state=0)\n",
    "\n",
    "bagging_model = BaggingClassifier(base_estimator=dt_model_inner, n_estimators=10, \n",
    "                                  max_samples=1.0, max_features=1.0, bootstrap=True, \n",
    "                                  bootstrap_features=False, oob_score=False, random_state=0)\n",
    "bagging_model.fit(X_train, y_train)\n",
    "print(\"Time =\", time.time()-tick)\n",
    "\n",
    "# Проверка на тестовом подмножестве\n",
    "score_bagging_model = bagging_model.score(X_test, y_test)\n",
    "print(\"Test Score = \", score_bagging_model)"
   ]
  },
  {
   "cell_type": "markdown",
   "metadata": {},
   "source": [
    "#### Случайный лес \n",
    "\n",
    "[RandomForestClassifier](http://scikit-learn.org/stable/modules/generated/sklearn.ensemble.RandomForestClassifier.html)"
   ]
  },
  {
   "cell_type": "code",
   "execution_count": null,
   "metadata": {},
   "outputs": [],
   "source": [
    "# Обучение\n",
    "tick = time.time()\n",
    "rf_model = RandomForestClassifier(n_estimators=10, criterion=\"entropy\", bootstrap=True, \n",
    "                                  oob_score=False, random_state=0)\n",
    "rf_model.fit(X_train, y_train)\n",
    "print(\"Time =\", time.time()-tick)\n",
    "\n",
    "# Проверка на тестовом подмножестве\n",
    "score_rf_model = rf_model.score(X_test, y_test)\n",
    "print(\"Test Score = \", score_rf_model)"
   ]
  },
  {
   "cell_type": "markdown",
   "metadata": {},
   "source": [
    "#### Extra Trees\n",
    "\n",
    "[ExtraTreesClassifier](http://scikit-learn.org/stable/modules/generated/sklearn.ensemble.ExtraTreesClassifier.html)"
   ]
  },
  {
   "cell_type": "code",
   "execution_count": null,
   "metadata": {},
   "outputs": [],
   "source": [
    "# Обучение\n",
    "tick = time.time()\n",
    "et_model = ExtraTreesClassifier(n_estimators=10, criterion=\"entropy\", bootstrap=True, \n",
    "                                max_features=\"sqrt\", oob_score=False, random_state=0)\n",
    "et_model.fit(X_train, y_train)\n",
    "print(\"Time =\", time.time()-tick)\n",
    "\n",
    "# Проверка на тестовом подмножестве\n",
    "score_et_model = et_model.score(X_test, y_test)\n",
    "print(\"Test Score = \", score_et_model)"
   ]
  },
  {
   "cell_type": "markdown",
   "metadata": {},
   "source": [
    "#### Графики"
   ]
  },
  {
   "cell_type": "code",
   "execution_count": null,
   "metadata": {},
   "outputs": [],
   "source": [
    "CPlot.show_train_test_plots(dt_model, X_train, y_train, X_test, y_test, title=\"Single Decision Tree\", cmap=CLR_MAP)\n",
    "CPlot.show_train_test_plots(bagging_model, X_train, y_train, X_test, y_test, title=\"Bagging\", cmap=CLR_MAP)\n",
    "CPlot.show_train_test_plots(rf_model, X_train, y_train, X_test, y_test, title=\"Random Forest\", cmap=CLR_MAP)\n",
    "CPlot.show_train_test_plots(et_model, X_train, y_train, X_test, y_test, title=\"Extra Trees\", cmap=CLR_MAP)"
   ]
  },
  {
   "cell_type": "markdown",
   "metadata": {},
   "source": [
    "<a name=\"3\"></a>\n",
    "<div style=\"display:table; width:100%; padding-top:10px; padding-bottom:10px; border-bottom:1px solid lightgrey\">\n",
    "    <div style=\"display:table-row\">\n",
    "        <div style=\"display:table-cell; width:80%; font-size:14pt; font-weight:bold\">3. Источники</div>\n",
    "    \t<div style=\"display:table-cell; width:20%; text-align:center; background-color:whitesmoke; border:1px solid lightgrey\"><a href=\"#0\">К содержанию</a></div>\n",
    "    </div>\n",
    "</div>"
   ]
  },
  {
   "cell_type": "markdown",
   "metadata": {
    "collapsed": true
   },
   "source": [
    "<a href=\"http://scikit-learn.org/stable/modules/tree.html\">Decision Trees</a><br>\n",
    "<a href=\"http://scikit-learn.org/stable/modules/ensemble.html\">Ensemble methods</a><br>\n",
    "<a href=\"http://nbviewer.jupyter.org/github/arundhaj/datamining_class/blob/master/decision_tree.ipynb\">DecisionTree Classification</a>"
   ]
  },
  {
   "cell_type": "code",
   "execution_count": null,
   "metadata": {},
   "outputs": [],
   "source": []
  }
 ],
 "metadata": {
  "kernelspec": {
   "display_name": "Python 3",
   "language": "python",
   "name": "python3"
  },
  "language_info": {
   "codemirror_mode": {
    "name": "ipython",
    "version": 3
   },
   "file_extension": ".py",
   "mimetype": "text/x-python",
   "name": "python",
   "nbconvert_exporter": "python",
   "pygments_lexer": "ipython3",
   "version": "3.7.4"
  }
 },
 "nbformat": 4,
 "nbformat_minor": 1
}
