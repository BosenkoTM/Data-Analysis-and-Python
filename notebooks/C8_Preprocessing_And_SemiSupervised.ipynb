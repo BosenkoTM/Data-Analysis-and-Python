{
 "cells": [
  {
   "cell_type": "markdown",
   "metadata": {},
   "source": [
    "# Кластеризация. Предобработка и обучение с частичным привлечением учителя\n",
    "\n",
    "\n",
    "<hr>\n",
    "\n",
    "С.Ю. Папулин (papulin.study@yandex.ru)"
   ]
  },
  {
   "cell_type": "markdown",
   "metadata": {},
   "source": [
    "### Содержание\n",
    "\n",
    "- [Предобработка](#Предобработка)\n",
    "- [Обучение с частичным привлечением учителя](#Обучение-с-частичным-привлечением-учителя)\n",
    "- [Источники](#Источники)"
   ]
  },
  {
   "cell_type": "markdown",
   "metadata": {},
   "source": [
    "Подключение библиотек:"
   ]
  },
  {
   "cell_type": "code",
   "execution_count": 12,
   "metadata": {},
   "outputs": [],
   "source": [
    "import time\n",
    "import numpy as np\n",
    "import matplotlib.pyplot as plt\n",
    "%matplotlib inline"
   ]
  },
  {
   "cell_type": "code",
   "execution_count": 13,
   "metadata": {},
   "outputs": [],
   "source": [
    "from sklearn.svm import SVC\n",
    "from sklearn.cluster import KMeans\n",
    "from sklearn.pipeline import Pipeline"
   ]
  },
  {
   "cell_type": "markdown",
   "metadata": {},
   "source": [
    "Функция загрузки исходного набора данных"
   ]
  },
  {
   "cell_type": "code",
   "execution_count": 2,
   "metadata": {},
   "outputs": [],
   "source": [
    "\"\"\"\n",
    "Fashion MNIST Dataset: https://github.com/zalandoresearch/fashion-mnist\n",
    "\"\"\"\n",
    "\n",
    "from os import makedirs, remove\n",
    "from os.path import exists, join\n",
    "import gzip\n",
    "\n",
    "from sklearn.datasets.base import RemoteFileMetadata, _fetch_remote\n",
    "from sklearn.datasets import get_data_home\n",
    "from sklearn.utils import Bunch\n",
    "\n",
    "import numpy as np\n",
    "import logging\n",
    "\n",
    "\n",
    "logger = logging.getLogger(__name__)\n",
    "\n",
    "\n",
    "ARCHIVES = [\n",
    "    RemoteFileMetadata(\n",
    "        filename='train-images-idx3-ubyte.gz',\n",
    "        url='http://fashion-mnist.s3-website.eu-central-1.amazonaws.com/train-images-idx3-ubyte.gz',\n",
    "        checksum=('3aede38d61863908ad78613f6a32ed271626dd12800ba2636569512369268a84')),\n",
    "    RemoteFileMetadata(\n",
    "        filename='train-labels-idx1-ubyte.gz',\n",
    "        url='http://fashion-mnist.s3-website.eu-central-1.amazonaws.com/train-labels-idx1-ubyte.gz',\n",
    "        checksum=('a04f17134ac03560a47e3764e11b92fc97de4d1bfaf8ba1a3aa29af54cc90845')),\n",
    "    RemoteFileMetadata(\n",
    "        filename='test-images-idx3-ubyte.gz',\n",
    "        url='http://fashion-mnist.s3-website.eu-central-1.amazonaws.com/t10k-images-idx3-ubyte.gz',\n",
    "        checksum=('346e55b948d973a97e58d2351dde16a484bd415d4595297633bb08f03db6a073')),\n",
    "    RemoteFileMetadata(\n",
    "        filename='test-labels-idx1-ubyte.gz',\n",
    "        url='http://fashion-mnist.s3-website.eu-central-1.amazonaws.com/t10k-labels-idx1-ubyte.gz',\n",
    "        checksum=('67da17c76eaffca5446c3361aaab5c3cd6d1c2608764d35dfb1850b086bf8dd5'))\n",
    "]\n",
    "\n",
    "\n",
    "def fetch_fashion_mnist(data_home=None, download_if_missing=True, subset='all', return_X_y=False):  \n",
    "    \"\"\"\n",
    "    Load the Fashion MNIST dataset (classification).\n",
    "    \n",
    "    Note: Based on https://github.com/scikit-learn/scikit-learn\n",
    "    \"\"\"\n",
    "    data_home = get_data_home(data_home=data_home)\n",
    "    if not exists(data_home):\n",
    "        makedirs(data_home)\n",
    "\n",
    "    for archive in ARCHIVES:\n",
    "        filepath = join(data_home, archive.filename)\n",
    "        if not exists(filepath):\n",
    "            if not download_if_missing:\n",
    "                raise IOError(\"Data not found and `download_if_missing` is False\")\n",
    "            logger.info('Downloading Fashion mnist from {} to {}'.format(\n",
    "                archive.url, filepath))\n",
    "            archive_path = _fetch_remote(archive, dirname=data_home)\n",
    "        \n",
    "    if return_X_y:\n",
    "        \n",
    "        DESCR = '''\n",
    "            Fashion-MNIST is a dataset of Zalando's article images—consisting of \n",
    "            a training set of 60,000 examples and a test set of 10,000 examples. \n",
    "            Each example is a 28x28 grayscale image, associated with a label from \n",
    "            10 classes. We intend Fashion-MNIST to serve as a direct drop-in \n",
    "            replacement for the original MNIST dataset for benchmarking machine \n",
    "            learning algorithms. It shares the same image size and structure of \n",
    "            training and testing splits.\n",
    "            '''\n",
    "        \n",
    "        feature_names = [\n",
    "            'T-shirt/top', 'Trouser', 'Pullover', 'Dress', 'Coat', \n",
    "            'Sandal', 'Shirt', 'Sneaker', 'Bag', 'Ankle boot'\n",
    "        ]\n",
    "        \n",
    "        \n",
    "        if subset == 'train':\n",
    "            X, y = _load_X_y(data_home, 'train')\n",
    "            return Bunch(\n",
    "                data=X,\n",
    "                target=y,\n",
    "                feature_names=feature_names,\n",
    "                DESCR=DESCR\n",
    "            )\n",
    "        elif subset == 'test':\n",
    "            X, y = _load_X_y(data_home, 'test')\n",
    "            return Bunch(\n",
    "                data=X,\n",
    "                target=y,\n",
    "                feature_names=feature_names,\n",
    "                DESCR=DESCR\n",
    "            )\n",
    "        X_train, y_train = _load_X_y(data_home, 'train')\n",
    "        X_test, y_test = _load_X_y(data_home, 'test')\n",
    "        return Bunch(\n",
    "            data={'train': X_train, 'test': X_test},\n",
    "            target={'train': y_train, 'test': y_test},\n",
    "            feature_names=feature_names,\n",
    "            DESCR=DESCR\n",
    "        )\n",
    "\n",
    "        \n",
    "def _load_X_y(path, subset='train'):\n",
    "    \"\"\"\n",
    "    Load MNIST data from `path`.\n",
    "    \n",
    "    Note: Based on \n",
    "    https://github.com/zalandoresearch/fashion-mnist/blob/master/utils/mnist_reader.py\n",
    "    \"\"\"\n",
    "    y_path = join(path, '{}-labels-idx1-ubyte.gz'.format(subset))\n",
    "    X_path = join(path, '{}-images-idx3-ubyte.gz'.format(subset))\n",
    "\n",
    "    with gzip.open(y_path, 'rb') as y_file:\n",
    "        y = np.frombuffer(y_file.read(), dtype=np.uint8,\n",
    "                               offset=8)\n",
    "    with gzip.open(X_path, 'rb') as X_file:\n",
    "        X = np.frombuffer(X_file.read(), dtype=np.uint8,\n",
    "                               offset=16).reshape(len(y), 784)\n",
    "    return X, y"
   ]
  },
  {
   "cell_type": "markdown",
   "metadata": {},
   "source": [
    "## Предобработка"
   ]
  },
  {
   "cell_type": "markdown",
   "metadata": {},
   "source": [
    "Загрузка данных"
   ]
  },
  {
   "cell_type": "code",
   "execution_count": 3,
   "metadata": {},
   "outputs": [
    {
     "name": "stdout",
     "output_type": "stream",
     "text": [
      "Overview\n",
      " \n",
      "            Fashion-MNIST is a dataset of Zalando's article images—consisting of \n",
      "            a training set of 60,000 examples and a test set of 10,000 examples. \n",
      "            Each example is a 28x28 grayscale image, associated with a label from \n",
      "            10 classes. We intend Fashion-MNIST to serve as a direct drop-in \n",
      "            replacement for the original MNIST dataset for benchmarking machine \n",
      "            learning algorithms. It shares the same image size and structure of \n",
      "            training and testing splits.\n",
      "            \n",
      "Feature names\n",
      " ['T-shirt/top', 'Trouser', 'Pullover', 'Dress', 'Coat', 'Sandal', 'Shirt', 'Sneaker', 'Bag', 'Ankle boot']\n"
     ]
    }
   ],
   "source": [
    "fashion_dataset = fetch_fashion_mnist(return_X_y=True)\n",
    "\n",
    "print('Overview\\n', fashion_dataset.DESCR)\n",
    "print('Feature names\\n', fashion_dataset.feature_names)"
   ]
  },
  {
   "cell_type": "code",
   "execution_count": 6,
   "metadata": {},
   "outputs": [
    {
     "name": "stdout",
     "output_type": "stream",
     "text": [
      "Image:\n"
     ]
    },
    {
     "data": {
      "image/png": "[encoded data removed]",
      "text/plain": [
       "<Figure size 288x288 with 1 Axes>"
      ]
     },
     "metadata": {
      "needs_background": "light"
     },
     "output_type": "display_data"
    },
    {
     "name": "stdout",
     "output_type": "stream",
     "text": [
      "Target: 3\n",
      "Name: Dress\n"
     ]
    }
   ],
   "source": [
    "IMAGE_INDX = 20\n",
    "\n",
    "print('Image:')\n",
    "plt.figure(figsize=[4, 4])\n",
    "plt.imshow(fashion_dataset.data['train'][IMAGE_INDX].reshape(-1, 28))\n",
    "plt.show()\n",
    "\n",
    "print('Target:', fashion_dataset.target['train'][IMAGE_INDX])\n",
    "print('Name:', fashion_dataset.feature_names[fashion_dataset.target['train'][IMAGE_INDX]])"
   ]
  },
  {
   "cell_type": "markdown",
   "metadata": {},
   "source": [
    "Размерность данных"
   ]
  },
  {
   "cell_type": "code",
   "execution_count": 8,
   "metadata": {},
   "outputs": [
    {
     "data": {
      "text/plain": [
       "((60000, 784), (10000, 784))"
      ]
     },
     "execution_count": 8,
     "metadata": {},
     "output_type": "execute_result"
    }
   ],
   "source": [
    "fashion_dataset.data['train'].shape, fashion_dataset.data['test'].shape"
   ]
  },
  {
   "cell_type": "code",
   "execution_count": 9,
   "metadata": {},
   "outputs": [
    {
     "data": {
      "text/plain": [
       "((60000,), (10000,))"
      ]
     },
     "execution_count": 9,
     "metadata": {},
     "output_type": "execute_result"
    }
   ],
   "source": [
    "fashion_dataset.target['train'].shape, fashion_dataset.target['test'].shape"
   ]
  },
  {
   "cell_type": "markdown",
   "metadata": {},
   "source": [
    "Обучающее и тестовое подмножества"
   ]
  },
  {
   "cell_type": "code",
   "execution_count": 18,
   "metadata": {},
   "outputs": [],
   "source": [
    "X_train_, X_test, y_train_, y_test = *fashion_dataset.data.values(), *fashion_dataset.target.values()\n",
    "\n",
    "# Уменьшение количества элементов обучающего множества\n",
    "X_train = X_train_[:10000]\n",
    "y_train = y_train_[:10000]\n",
    "\n",
    "# Уменьшение размера изображений\n",
    "# X_train = X_train.reshape(-1, 28, 28)[:, ::2, ::2].reshape(-1, 14*14)"
   ]
  },
  {
   "cell_type": "markdown",
   "metadata": {},
   "source": [
    "Обучения классификатора"
   ]
  },
  {
   "cell_type": "code",
   "execution_count": 23,
   "metadata": {},
   "outputs": [
    {
     "data": {
      "text/plain": [
       "0.8403"
      ]
     },
     "execution_count": 23,
     "metadata": {},
     "output_type": "execute_result"
    }
   ],
   "source": [
    "model = SVC(**{'C': 10, 'kernel': 'poly', 'gamma': 'scale'})\n",
    "model.fit(X_train, y_train)\n",
    "model.score(X_test, y_test)"
   ]
  },
  {
   "cell_type": "markdown",
   "metadata": {},
   "source": [
    "Формирование признаков посредством кластеризации"
   ]
  },
  {
   "cell_type": "code",
   "execution_count": 28,
   "metadata": {},
   "outputs": [
    {
     "name": "stdout",
     "output_type": "stream",
     "text": [
      "Time = 17.803611755371094\n"
     ]
    }
   ],
   "source": [
    "tick = time.time()\n",
    "cluster_model = KMeans(n_clusters=50, random_state=12345)\n",
    "cluster_model.fit(X_train)\n",
    "print(\"Time =\", time.time() - tick)"
   ]
  },
  {
   "cell_type": "code",
   "execution_count": 29,
   "metadata": {},
   "outputs": [
    {
     "data": {
      "text/plain": [
       "array([[1638.36685177, 3167.1586653 , 3371.68461228, 3320.57426125,\n",
       "        3116.95509523, 2990.95933443, 2980.24955544, 2713.16184723,\n",
       "        3033.91991755, 3640.00642812, 2520.02964857, 1573.24232359,\n",
       "        3537.09312791, 2303.26334771, 2953.22060789, 2903.95932682,\n",
       "        3635.22392074, 3195.11522277, 3460.4623643 , 3111.60081264,\n",
       "        3033.07544467, 3374.52067769, 2154.17624631, 1466.50063478,\n",
       "        2745.81835146, 3105.71400484, 2766.34169949, 2796.00726895,\n",
       "        3363.75889528, 3002.48177143, 2150.56273006, 3440.51314699,\n",
       "        2292.53162949, 3179.91245307, 3227.1842621 , 2549.51574402,\n",
       "        3471.65813045, 3650.41596942, 2231.29598928, 2471.25912943,\n",
       "        3144.53122967, 2800.30863973, 1823.15974771, 3017.88517274,\n",
       "        3193.71810988, 2208.62261849, 3412.37618371, 3210.23760917,\n",
       "        3151.70394582, 3393.41880773]])"
      ]
     },
     "execution_count": 29,
     "metadata": {},
     "output_type": "execute_result"
    }
   ],
   "source": [
    "# Расстояние до центров кластеров\n",
    "cluster_model.transform(X_train)[:1]"
   ]
  },
  {
   "cell_type": "code",
   "execution_count": 30,
   "metadata": {},
   "outputs": [
    {
     "data": {
      "text/plain": [
       "(10000, 50)"
      ]
     },
     "execution_count": 30,
     "metadata": {},
     "output_type": "execute_result"
    }
   ],
   "source": [
    "cluster_model.transform(X_train).shape"
   ]
  },
  {
   "cell_type": "code",
   "execution_count": 31,
   "metadata": {},
   "outputs": [
    {
     "name": "stdout",
     "output_type": "stream",
     "text": [
      "[23 12 40 17  3]\n",
      "[23 12 40 17  3]\n"
     ]
    }
   ],
   "source": [
    "# Предсказание кластеров\n",
    "print(np.argmin(cluster_model.transform(X_train), axis=1)[:5])\n",
    "print(cluster_model.predict(X_train[:5]))"
   ]
  },
  {
   "cell_type": "markdown",
   "metadata": {},
   "source": [
    "Классификатор с новым наборам признаков"
   ]
  },
  {
   "cell_type": "code",
   "execution_count": 32,
   "metadata": {},
   "outputs": [
    {
     "name": "stdout",
     "output_type": "stream",
     "text": [
      "Time = 27.082659244537354\n"
     ]
    },
    {
     "data": {
      "text/plain": [
       "0.8432"
      ]
     },
     "execution_count": 32,
     "metadata": {},
     "output_type": "execute_result"
    }
   ],
   "source": [
    "tick = time.time()\n",
    "model = SVC(**{'C':10, 'kernel':'poly', 'gamma': 'scale'})\n",
    "model.fit(cluster_model.transform(X_train), y_train)\n",
    "print(\"Time =\", time.time() - tick)\n",
    "model.score(cluster_model.transform(X_test), y_test)"
   ]
  },
  {
   "cell_type": "markdown",
   "metadata": {},
   "source": [
    "Реализация посредством `Pipeline`"
   ]
  },
  {
   "cell_type": "code",
   "execution_count": 33,
   "metadata": {},
   "outputs": [
    {
     "name": "stdout",
     "output_type": "stream",
     "text": [
      "Time = 45.12840986251831\n"
     ]
    },
    {
     "data": {
      "text/plain": [
       "0.8432"
      ]
     },
     "execution_count": 33,
     "metadata": {},
     "output_type": "execute_result"
    }
   ],
   "source": [
    "tick = time.time()\n",
    "pipeline = Pipeline([\n",
    "    (\"cluster_model\", KMeans(n_clusters=50, random_state=12345)),\n",
    "    (\"classifier\", SVC(**{'C':10, 'kernel': 'poly', 'gamma': 'scale'})),\n",
    "])\n",
    "pipeline.fit(X_train, y_train)\n",
    "print(\"Time =\", time.time() - tick)\n",
    "pipeline.score(X_test, y_test)"
   ]
  },
  {
   "cell_type": "markdown",
   "metadata": {},
   "source": [
    "## Обучение с частичным привлечением учителя"
   ]
  },
  {
   "cell_type": "code",
   "execution_count": null,
   "metadata": {},
   "outputs": [],
   "source": [
    "# TODO:\n",
    "# 1. Взять первые 50 наблюдений\n",
    "# 2. Обучить модель и вывести качества классификации\n",
    "# 3. Кластеризовать данных на 50 кластеров\n",
    "# 4. Найти ближайшие наблюдения к каждому центройду кластера\n",
    "# 5. Отобразить найденные изображения\n",
    "# 6. Для найденных изображений вручную назначить класс\n",
    "# 7. Обучить модель на размеченных данных из п.6 и вести качество классификации"
   ]
  },
  {
   "cell_type": "markdown",
   "metadata": {},
   "source": [
    "##  Источники"
   ]
  },
  {
   "cell_type": "markdown",
   "metadata": {},
   "source": [
    "Hands-on Machine Learning with Scikit-Learn, Keras, and TensorFlow by Aurélien Géron"
   ]
  },
  {
   "cell_type": "code",
   "execution_count": null,
   "metadata": {},
   "outputs": [],
   "source": []
  }
 ],
 "metadata": {
  "kernelspec": {
   "display_name": "Python 3",
   "language": "python",
   "name": "python3"
  },
  "language_info": {
   "codemirror_mode": {
    "name": "ipython",
    "version": 3
   },
   "file_extension": ".py",
   "mimetype": "text/x-python",
   "name": "python",
   "nbconvert_exporter": "python",
   "pygments_lexer": "ipython3",
   "version": "3.7.3"
  }
 },
 "nbformat": 4,
 "nbformat_minor": 2
}
