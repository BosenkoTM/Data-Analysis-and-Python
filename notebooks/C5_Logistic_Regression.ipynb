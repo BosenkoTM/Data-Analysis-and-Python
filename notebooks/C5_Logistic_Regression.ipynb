{
 "cells": [
  {
   "cell_type": "markdown",
   "metadata": {},
   "source": [
    "<div style=\"font-size:18pt; padding-top:20px; text-align:center\">СЕМИНАР. <b>Логистическая регрессия</b></div><hr>\n",
    "<div style=\"text-align:right;\">Папулин С.Ю. <span style=\"font-style: italic;font-weight: bold;\">(papulin.study@yandex.ru)</span></div>"
   ]
  },
  {
   "cell_type": "markdown",
   "metadata": {},
   "source": [
    "<a name=\"0\"></a>\n",
    "<div><span style=\"font-size:14pt; font-weight:bold\">Содержание</span>\n",
    "    <ol>\n",
    "        <li><a href=\"#1\">Классификация с линейной регрессией</a></li>\n",
    "        <li><a href=\"#2\">Логистическая регрессия</a>\n",
    "        <li><a href=\"#3\">Источники</a>\n",
    "        </li>\n",
    "    </ol>\n",
    "</div>"
   ]
  },
  {
   "cell_type": "markdown",
   "metadata": {},
   "source": [
    "<p><b>Подключение библиотек</b></p>"
   ]
  },
  {
   "cell_type": "code",
   "execution_count": null,
   "metadata": {},
   "outputs": [],
   "source": [
    "import numpy as np\n",
    "import matplotlib.pyplot as plt\n",
    "%matplotlib inline"
   ]
  },
  {
   "cell_type": "markdown",
   "metadata": {},
   "source": [
    "<a name=\"1\"></a>\n",
    "<div style=\"display:table; width:100%; padding-top:10px; padding-bottom:10px; border-bottom:1px solid lightgrey\">\n",
    "    <div style=\"display:table-row\">\n",
    "        <div style=\"display:table-cell; width:80%; font-size:16pt; font-weight:bold\">1. Классификация с линейной регрессией</div>\n",
    "    \t<div style=\"display:table-cell; width:20%; text-align:center; background-color:whitesmoke; border:1px solid lightgrey\"><a href=\"#0\">К содержанию</a></div>\n",
    "    </div>\n",
    "</div>"
   ]
  },
  {
   "cell_type": "code",
   "execution_count": null,
   "metadata": {},
   "outputs": [],
   "source": [
    "from sklearn.linear_model import LinearRegression, LogisticRegression\n",
    "from sklearn.model_selection import train_test_split\n",
    "from matplotlib import cm"
   ]
  },
  {
   "cell_type": "code",
   "execution_count": null,
   "metadata": {},
   "outputs": [],
   "source": [
    "from sklearn.datasets import make_classification"
   ]
  },
  {
   "cell_type": "code",
   "execution_count": null,
   "metadata": {},
   "outputs": [],
   "source": [
    "from matplotlib.colors import ListedColormap"
   ]
  },
  {
   "cell_type": "code",
   "execution_count": null,
   "metadata": {},
   "outputs": [],
   "source": [
    "clrMap = ListedColormap([\"blue\", \"red\", \"green\"])"
   ]
  },
  {
   "cell_type": "markdown",
   "metadata": {},
   "source": [
    "### Один признак"
   ]
  },
  {
   "cell_type": "markdown",
   "metadata": {},
   "source": [
    "<p><b>Исходные данные</b></p>"
   ]
  },
  {
   "cell_type": "code",
   "execution_count": null,
   "metadata": {},
   "outputs": [],
   "source": [
    "n = 100\n",
    "x, y = make_classification(n_samples=n, \n",
    "                           n_features=1, \n",
    "                           n_redundant=0, \n",
    "                           n_informative=1, \n",
    "                           n_classes=2, \n",
    "                           n_clusters_per_class=1, \n",
    "                           class_sep=1, \n",
    "                           random_state=1000)"
   ]
  },
  {
   "cell_type": "code",
   "execution_count": null,
   "metadata": {},
   "outputs": [],
   "source": [
    "clrMap = ListedColormap([\"blue\", \"red\"])\n",
    "plt.scatter(x, y, c=y, cmap=clrMap)\n",
    "plt.grid(True)\n",
    "plt.show()"
   ]
  },
  {
   "cell_type": "code",
   "execution_count": null,
   "metadata": {},
   "outputs": [],
   "source": [
    "# Опционально\n",
    "# count = 0\n",
    "# while count < 20:\n",
    "#     indx = np.random.randint(low=0, high=len(x), size=1)\n",
    "    \n",
    "#     if y[indx] > 0:\n",
    "#         x[indx,0] += 10\n",
    "#         count += 1"
   ]
  },
  {
   "cell_type": "code",
   "execution_count": null,
   "metadata": {},
   "outputs": [],
   "source": [
    "# plt.scatter(x, y, c=y, cmap=clrMap)\n",
    "# plt.grid(True)\n",
    "# plt.show()"
   ]
  },
  {
   "cell_type": "markdown",
   "metadata": {},
   "source": [
    "<p><b>Формирование обучающего и тестового подмножеств</b></p>"
   ]
  },
  {
   "cell_type": "code",
   "execution_count": null,
   "metadata": {},
   "outputs": [],
   "source": [
    "x_train, x_test, y_train, y_test = train_test_split(x, y, test_size=0.3, random_state=12)"
   ]
  },
  {
   "cell_type": "markdown",
   "metadata": {},
   "source": [
    "<p><b>Обучение</b></p>"
   ]
  },
  {
   "cell_type": "code",
   "execution_count": null,
   "metadata": {},
   "outputs": [],
   "source": [
    "linr_model = LinearRegression()\n",
    "linr_model.fit(x_train, y_train)"
   ]
  },
  {
   "cell_type": "code",
   "execution_count": null,
   "metadata": {},
   "outputs": [],
   "source": [
    "linr_model.coef_, linr_model.intercept_"
   ]
  },
  {
   "cell_type": "code",
   "execution_count": null,
   "metadata": {},
   "outputs": [],
   "source": [
    "threshold = 0.5"
   ]
  },
  {
   "cell_type": "code",
   "execution_count": null,
   "metadata": {},
   "outputs": [],
   "source": [
    "y_pred = np.where(linr_model.predict(x_train)>=threshold, 1, 0)\n",
    "y_pred"
   ]
  },
  {
   "cell_type": "code",
   "execution_count": null,
   "metadata": {},
   "outputs": [],
   "source": [
    "(threshold - linr_model.intercept_) / linr_model.coef_"
   ]
  },
  {
   "cell_type": "code",
   "execution_count": null,
   "metadata": {},
   "outputs": [],
   "source": [
    "clr_map = ListedColormap([\"blue\", \"red\"])\n",
    "\n",
    "def plotLinRegTrain():\n",
    "    plt.figure(1, figsize=[15,4])\n",
    "\n",
    "    plt.subplot(1,3,1)\n",
    "    plt.title(\"Initial train classes\")\n",
    "    plt.scatter(x_train, y_train, c=y_train, cmap=clr_map, s=80, alpha=0.5)\n",
    "    plt.plot(x, linr_model.coef_ * x + linr_model.intercept_, linewidth=1, color=\"green\")\n",
    "    plt.axhline(threshold, color=\"0.5\", linestyle=\"--\")\n",
    "    plt.axvline((threshold - linr_model.intercept_)/linr_model.coef_, color=\"0.5\", linestyle=\"--\")\n",
    "    plt.grid(True)\n",
    "\n",
    "    plt.subplot(1,3,2)\n",
    "    plt.title(\"Predicted train classes\")\n",
    "    plt.scatter(x_train, y_pred, s=20, c=y_pred, cmap=clr_map)\n",
    "    plt.plot(x, linr_model.coef_ * x + linr_model.intercept_, linewidth=1, color=\"green\")\n",
    "    plt.axhline(threshold, color=\"0.5\", linestyle=\"--\")\n",
    "    plt.axvline((threshold - linr_model.intercept_)/linr_model.coef_, color=\"0.5\", linestyle=\"--\")\n",
    "    plt.grid(True)\n",
    "\n",
    "    plt.subplot(1,3,3)\n",
    "    plt.title(\"Matching Initial and Predicted\")\n",
    "    plt.scatter(x_train, y_train, c=y_train, cmap=clr_map, s=80, alpha=0.5)\n",
    "    plt.scatter(x_train, y_pred, s=20, c=y_pred, cmap=clr_map)\n",
    "    plt.plot(x, linr_model.coef_ * x + linr_model.intercept_, linewidth=1, color=\"green\")\n",
    "    plt.axhline(threshold, color=\"0.5\", linestyle=\"--\")\n",
    "    plt.axvline((threshold - linr_model.intercept_)/linr_model.coef_, color=\"0.5\", linestyle=\"--\")\n",
    "    plt.grid(True)\n",
    "    \n",
    "plotLinRegTrain()\n",
    "plt.show()"
   ]
  },
  {
   "cell_type": "markdown",
   "metadata": {},
   "source": [
    "<p><b>Проверка на тестовом подмножестве</b></p>"
   ]
  },
  {
   "cell_type": "markdown",
   "metadata": {},
   "source": [
    "<p>Классификация для тестового набора</p>"
   ]
  },
  {
   "cell_type": "code",
   "execution_count": null,
   "metadata": {},
   "outputs": [],
   "source": [
    "y_test_pred = np.where(linr_model.predict(x_test)>=threshold, 1, 0)\n",
    "y_test_pred"
   ]
  },
  {
   "cell_type": "markdown",
   "metadata": {},
   "source": [
    "<p>Показатель точности классификации</p>"
   ]
  },
  {
   "cell_type": "code",
   "execution_count": null,
   "metadata": {},
   "outputs": [],
   "source": [
    "count = 0\n",
    "for i in range(len(y_test)):\n",
    "    if y_test[i] == y_test_pred[i]:\n",
    "        count += 1\n",
    "print(count/len(y_test))     "
   ]
  },
  {
   "cell_type": "markdown",
   "metadata": {},
   "source": [
    "<p>Графики для тестового набора</p>"
   ]
  },
  {
   "cell_type": "code",
   "execution_count": null,
   "metadata": {},
   "outputs": [],
   "source": [
    "def plotLinRegTest():\n",
    "    plt.figure(1, figsize=[15,4])\n",
    "\n",
    "    plt.subplot(1,3,1)\n",
    "    plt.title(\"Initial test classes\")\n",
    "    plt.scatter(x_test, y_test, c=y_test, cmap=clr_map, s=80, alpha=0.5)\n",
    "    plt.plot(x, linr_model.coef_ * x + linr_model.intercept_, linewidth=1, color=\"green\")\n",
    "    plt.axhline(threshold, color=\"0.5\", linestyle=\"--\")\n",
    "    plt.axvline((threshold - linr_model.intercept_)/linr_model.coef_, color=\"0.5\", linestyle=\"--\")\n",
    "    plt.grid(True)\n",
    "\n",
    "    plt.subplot(1,3,2)\n",
    "    plt.title(\"Predicted test classes\")\n",
    "    plt.scatter(x_test, y_test_pred, s=20, c=y_test_pred, cmap=clr_map)\n",
    "    plt.plot(x, linr_model.coef_ * x + linr_model.intercept_, linewidth=1, color=\"green\")\n",
    "    plt.axhline(threshold, color=\"0.5\", linestyle=\"--\")\n",
    "    plt.axvline((threshold - linr_model.intercept_)/linr_model.coef_, color=\"0.5\", linestyle=\"--\")\n",
    "    plt.grid(True)\n",
    "\n",
    "    plt.subplot(1,3,3)\n",
    "    plt.title(\"Matching Initial and Predicted\")\n",
    "    plt.scatter(x_test, y_test, c=y_test, cmap=clr_map, s=80, alpha=0.5)\n",
    "    plt.scatter(x_test, y_test_pred, s=20, c=y_test_pred, cmap=clr_map)\n",
    "    plt.plot(x, linr_model.coef_ * x + linr_model.intercept_, linewidth=1, color=\"green\")\n",
    "    plt.axhline(threshold, color=\"0.5\", linestyle=\"--\")\n",
    "    plt.axvline((threshold - linr_model.intercept_)/linr_model.coef_, color=\"0.5\", linestyle=\"--\")\n",
    "    plt.grid(True)\n",
    "\n",
    "plotLinRegTest()\n",
    "plt.show()"
   ]
  },
  {
   "cell_type": "markdown",
   "metadata": {},
   "source": [
    "<p><b>Графики</b></p>"
   ]
  },
  {
   "cell_type": "code",
   "execution_count": null,
   "metadata": {},
   "outputs": [],
   "source": [
    "plotLinRegTrain()\n",
    "plt.show()\n",
    "plotLinRegTest()\n",
    "plt.show()"
   ]
  },
  {
   "cell_type": "markdown",
   "metadata": {},
   "source": [
    "### Два признака"
   ]
  },
  {
   "cell_type": "markdown",
   "metadata": {},
   "source": [
    "<p><b>Исходные данные</b></p>"
   ]
  },
  {
   "cell_type": "code",
   "execution_count": null,
   "metadata": {},
   "outputs": [],
   "source": [
    "n = 500\n",
    "x, y = make_classification(n_samples=n, n_features=2, n_redundant=0, \n",
    "                           n_informative=2, n_clusters_per_class=1, n_classes=2, class_sep=0.25,\n",
    "                           random_state=19)"
   ]
  },
  {
   "cell_type": "code",
   "execution_count": null,
   "metadata": {},
   "outputs": [],
   "source": [
    "clrMap = ListedColormap([\"blue\", \"red\"])\n",
    "plt.scatter(x[:,0], x[:,1], c=y, cmap=clrMap)\n",
    "plt.grid(True)\n",
    "plt.show()"
   ]
  },
  {
   "cell_type": "markdown",
   "metadata": {},
   "source": [
    "<p><b>Формирование обучающего и тестового подмножеств</b></p>"
   ]
  },
  {
   "cell_type": "code",
   "execution_count": null,
   "metadata": {},
   "outputs": [],
   "source": [
    "x_train, x_test, y_train, y_test = train_test_split(x, y, test_size=0.3, random_state=12)"
   ]
  },
  {
   "cell_type": "markdown",
   "metadata": {},
   "source": [
    "<p><b>Обучение</b></p>"
   ]
  },
  {
   "cell_type": "code",
   "execution_count": null,
   "metadata": {},
   "outputs": [],
   "source": [
    "linr_model = LinearRegression()\n",
    "linr_model.fit(x_train, y_train)"
   ]
  },
  {
   "cell_type": "code",
   "execution_count": null,
   "metadata": {},
   "outputs": [],
   "source": [
    "threshold = 0.5"
   ]
  },
  {
   "cell_type": "code",
   "execution_count": null,
   "metadata": {},
   "outputs": [],
   "source": [
    "y_train_pred = np.where(linr_model.predict(x_train)>=threshold, 1, 0)\n",
    "y_train_pred"
   ]
  },
  {
   "cell_type": "markdown",
   "metadata": {},
   "source": [
    "<p>Разделительная линия</p>"
   ]
  },
  {
   "cell_type": "code",
   "execution_count": null,
   "metadata": {},
   "outputs": [],
   "source": [
    "x1_range = np.linspace(x[:,0].min(), x[:,0].max(), 100)\n",
    "x2_range = (threshold - linr_model.intercept_ - linr_model.coef_[0]*x1_range) / linr_model.coef_[1]"
   ]
  },
  {
   "cell_type": "code",
   "execution_count": null,
   "metadata": {},
   "outputs": [],
   "source": [
    "plt.plot(x1_range, x2_range, color=\"0.5\")\n",
    "plt.scatter(x_train[:,0], x_train[:,1], c=y_train, s=80, cmap=clrMap, alpha=0.5)\n",
    "plt.scatter(x_train[:,0], x_train[:,1], c=y_train_pred, s=20, cmap=clrMap)\n",
    "plt.xlabel(\"X1\")\n",
    "plt.ylabel(\"X2\")\n",
    "plt.grid(True)\n",
    "plt.show()"
   ]
  },
  {
   "cell_type": "markdown",
   "metadata": {},
   "source": [
    "<p><b>Проверка на тестовом подмножестве</b></p>"
   ]
  },
  {
   "cell_type": "code",
   "execution_count": null,
   "metadata": {},
   "outputs": [],
   "source": [
    "y_test_pred = np.where(linr_model.predict(x_test)>=threshold, 1, 0)\n",
    "y_test_pred[:5]"
   ]
  },
  {
   "cell_type": "code",
   "execution_count": null,
   "metadata": {},
   "outputs": [],
   "source": [
    "count = 0\n",
    "for i in range(len(y_test)):\n",
    "    if y_test[i] == y_test_pred[i]:\n",
    "        count += 1\n",
    "print(count/len(y_test))     "
   ]
  },
  {
   "cell_type": "code",
   "execution_count": null,
   "metadata": {},
   "outputs": [],
   "source": [
    "h = lambda x: linr_model.intercept_ + linr_model.coef_[0]*x[0] + linr_model.coef_[1]*x[1]"
   ]
  },
  {
   "cell_type": "code",
   "execution_count": null,
   "metadata": {},
   "outputs": [],
   "source": [
    "for i in range(len(x_test)):\n",
    "    hVal = h(x_test[i,:])\n",
    "    hVal = np.around(hVal, decimals=2)\n",
    "    print(\"Point:\", x_test[i,:])\n",
    "    print(\"Class 0:\", 1 - hVal, end=\"; \")\n",
    "    print(\"Class 1:\", hVal, end=\"; \")\n",
    "    print(\"hVal:\", hVal - threshold, end=\"; \")\n",
    "    #print(\"Class 1:\", hVal + 0.5, end=\"; \")\n",
    "    print(\"Predicted:\", y_test_pred[i], end=\"; \")\n",
    "    print(\"True:\", y_test[i])"
   ]
  },
  {
   "cell_type": "code",
   "execution_count": null,
   "metadata": {},
   "outputs": [],
   "source": [
    "plt.plot(x1_range, x2_range, color=\"0.5\")\n",
    "plt.scatter(x_test[:,0], x_test[:,1], c=y_test, s=80, cmap=clr_map, alpha=0.5)\n",
    "plt.scatter(x_test[:,0], x_test[:,1], c=y_test_pred, s=20, cmap=clr_map)\n",
    "plt.grid(True)\n",
    "plt.xlabel(\"X1\")\n",
    "plt.ylabel(\"X2\")\n",
    "plt.show()"
   ]
  },
  {
   "cell_type": "markdown",
   "metadata": {},
   "source": [
    "<p><b>Графики</b></p>"
   ]
  },
  {
   "cell_type": "code",
   "execution_count": null,
   "metadata": {},
   "outputs": [],
   "source": [
    "step = 0.01\n",
    "xx, yy = np.meshgrid(np.arange(x[:,0].min(), x[:,0].max(), step), np.arange(x[:,1].min(), x[:,1].max(), step))"
   ]
  },
  {
   "cell_type": "code",
   "execution_count": null,
   "metadata": {},
   "outputs": [],
   "source": [
    "points = np.c_[xx.ravel(), yy.ravel()]\n",
    "#Z = np.where(linr_model.predict(points)>=threshold, 1, 0)\n",
    "Z = linr_model.predict(points)\n",
    "Z = Z.reshape(xx.shape)"
   ]
  },
  {
   "cell_type": "code",
   "execution_count": null,
   "metadata": {},
   "outputs": [],
   "source": [
    "plt.figure(1, figsize=[12, 4])\n",
    "\n",
    "plt.subplot(1,2,1)\n",
    "plt.title(\"Train data\")\n",
    "plt.contourf(xx, yy, Z, 15, cmap=cm.bwr, alpha=.5)\n",
    "plt.plot(x1_range, x2_range, color=\"0.5\")\n",
    "plt.scatter(x_train[:,0], x_train[:,1], c=y_train, s=80, cmap=clr_map, alpha=0.5)\n",
    "plt.scatter(x_train[:, 0], x_train[:,1], c=y_train_pred, s=20, cmap=clr_map)\n",
    "plt.xlabel(\"X1\")\n",
    "plt.ylabel(\"X2\")\n",
    "plt.grid(True)\n",
    "\n",
    "plt.subplot(1,2,2)\n",
    "plt.title(\"Test data\")\n",
    "plt.contourf(xx, yy, Z, 15, cmap=cm.bwr, alpha=.5)\n",
    "plt.plot(x1_range, x2_range, color=\"0.5\")\n",
    "plt.scatter(x_test[:,0], x_test[:,1], c=y_test, s=80, cmap=clr_map, alpha=0.5)\n",
    "plt.scatter(x_test[:,0], x_test[:,1], c=y_test_pred, s=20, cmap=clr_map)\n",
    "plt.xlabel(\"X1\")\n",
    "plt.ylabel(\"X2\")\n",
    "plt.grid(True)\n",
    "\n",
    "plt.show()"
   ]
  },
  {
   "cell_type": "markdown",
   "metadata": {},
   "source": [
    "<a name=\"3\"></a>\n",
    "<div style=\"display:table; width:100%; padding-top:10px; padding-bottom:10px; border-bottom:1px solid lightgrey\">\n",
    "    <div style=\"display:table-row\">\n",
    "        <div style=\"display:table-cell; width:80%; font-size:14pt; font-weight:bold\">3. Логистическая регрессия</div>\n",
    "    \t<div style=\"display:table-cell; width:20%; text-align:center; background-color:whitesmoke; border:1px solid lightgrey\"><a href=\"#0\">К содержанию</a></div>\n",
    "    </div>\n",
    "</div>"
   ]
  },
  {
   "cell_type": "markdown",
   "metadata": {},
   "source": [
    "<a href=\"http://scikit-learn.org/stable/modules/generated/sklearn.linear_model.LogisticRegression.html\">\n",
    "sklearn.linear_model.LogisticRegression</a>\n",
    "\n",
    "<a href=\"http://scikit-learn.org/stable/modules/linear_model.html#logistic-regression\">\n",
    "Logistic regression</a>"
   ]
  },
  {
   "cell_type": "markdown",
   "metadata": {},
   "source": [
    "### Один признак"
   ]
  },
  {
   "cell_type": "markdown",
   "metadata": {},
   "source": [
    "<p><b>Исходные данные</b></p>"
   ]
  },
  {
   "cell_type": "code",
   "execution_count": null,
   "metadata": {},
   "outputs": [],
   "source": [
    "n = 100\n",
    "x, y = make_classification(n_samples=n, \n",
    "                           n_features=1, \n",
    "                           n_redundant=0, \n",
    "                           n_informative=1, \n",
    "                           n_classes=2, \n",
    "                           n_clusters_per_class=1, \n",
    "                           class_sep=1, \n",
    "                           random_state=1000)"
   ]
  },
  {
   "cell_type": "code",
   "execution_count": null,
   "metadata": {},
   "outputs": [],
   "source": [
    "clrMap = ListedColormap([\"blue\", \"red\"])\n",
    "plt.scatter(x, y, c=y, cmap=clrMap)\n",
    "plt.grid(True)\n",
    "plt.xlabel(\"X\")\n",
    "plt.ylabel(\"Y\")\n",
    "plt.show()"
   ]
  },
  {
   "cell_type": "code",
   "execution_count": null,
   "metadata": {},
   "outputs": [],
   "source": [
    "# Опционально\n",
    "# count = 0\n",
    "# while count < 20:\n",
    "#     indx = np.random.randint(low=0, high=len(x), size=1)\n",
    "     \n",
    "#     if y[indx] > 0:\n",
    "#        x[indx,0] += 10\n",
    "#        count += 1"
   ]
  },
  {
   "cell_type": "code",
   "execution_count": null,
   "metadata": {},
   "outputs": [],
   "source": [
    "# plt.scatter(x, y, c=y, cmap=clrMap)\n",
    "# plt.grid(True)\n",
    "# plt.show()"
   ]
  },
  {
   "cell_type": "markdown",
   "metadata": {},
   "source": [
    "<p><b>Формирование обучающего и тестового подмножеств</b></p>"
   ]
  },
  {
   "cell_type": "code",
   "execution_count": null,
   "metadata": {},
   "outputs": [],
   "source": [
    "x_train, x_test, y_train, y_test = train_test_split(x, y, test_size=0.3, random_state=12)"
   ]
  },
  {
   "cell_type": "markdown",
   "metadata": {},
   "source": [
    "<p><b>Обучение</b></p>"
   ]
  },
  {
   "cell_type": "code",
   "execution_count": null,
   "metadata": {},
   "outputs": [],
   "source": [
    "logr_model = LogisticRegression(penalty=\"l2\", fit_intercept=True, max_iter=100, C=1e5, \n",
    "                                solver=\"lbfgs\", random_state=12345)"
   ]
  },
  {
   "cell_type": "code",
   "execution_count": null,
   "metadata": {},
   "outputs": [],
   "source": [
    "logr_model.fit(x_train, y_train)"
   ]
  },
  {
   "cell_type": "code",
   "execution_count": null,
   "metadata": {},
   "outputs": [],
   "source": [
    "logr_model.coef_"
   ]
  },
  {
   "cell_type": "code",
   "execution_count": null,
   "metadata": {},
   "outputs": [],
   "source": [
    "logr_model.intercept_"
   ]
  },
  {
   "cell_type": "code",
   "execution_count": null,
   "metadata": {},
   "outputs": [],
   "source": [
    "f_pred = lambda x: 1 / (1 + np.exp(-(logr_model.intercept_+logr_model.coef_[0]*x)))"
   ]
  },
  {
   "cell_type": "code",
   "execution_count": null,
   "metadata": {},
   "outputs": [],
   "source": [
    "thresholdY = 0.5\n",
    "thresholdX = (np.log((1-thresholdY)/thresholdY) - logr_model.intercept_)/logr_model.coef_[0]\n",
    "\n",
    "xx = np.linspace(x.min(), x.max(), 100)\n",
    "\n",
    "def plotLogRegTrain1D():\n",
    "    plt.figure(1, figsize=[15,4])\n",
    "\n",
    "    plt.subplot(1,3,1)\n",
    "    plt.title(\"Initial train classes\")\n",
    "    plt.plot(xx, f_pred(xx), linewidth=1, color=\"green\")\n",
    "    plt.scatter(x_train, y_train, c=y_train, cmap=clr_map, s=80, alpha=0.5)\n",
    "    plt.axhline(thresholdY, color=\"0.5\", linestyle=\"--\")\n",
    "    plt.axvline(thresholdX, color=\"0.5\", linestyle=\"--\")\n",
    "    plt.xlabel(\"X\")\n",
    "    plt.ylabel(\"Y\")\n",
    "    plt.grid(True)\n",
    "\n",
    "    plt.subplot(1,3,2)\n",
    "    plt.title(\"Predicted train classes\")\n",
    "    plt.plot(xx, f_pred(xx), linewidth=1, color=\"green\")\n",
    "    plt.scatter(x_train, logr_model.predict(x_train), s=20, c=logr_model.predict(x_train), cmap=clr_map)\n",
    "    plt.axhline(thresholdY, color=\"0.5\", linestyle=\"--\")\n",
    "    plt.axvline(thresholdX, color=\"0.5\", linestyle=\"--\")\n",
    "    plt.xlabel(\"X\")\n",
    "    plt.ylabel(\"Y\")\n",
    "    plt.grid(True)\n",
    "\n",
    "    plt.subplot(1,3,3)\n",
    "    plt.title(\"Matching Initial and Predicted\")\n",
    "    plt.plot(xx, f_pred(xx), linewidth=1, color=\"green\")\n",
    "    plt.scatter(x_train, y_train, c=y_train, cmap=clr_map, s=80, alpha=0.5)\n",
    "    plt.scatter(x_train, logr_model.predict(x_train), s=20, c=logr_model.predict(x_train), cmap=clr_map)\n",
    "    plt.axhline(threshold, color=\"0.5\", linestyle=\"--\")\n",
    "    plt.axvline(thresholdX, color=\"0.5\", linestyle=\"--\")\n",
    "    plt.xlabel(\"X\")\n",
    "    plt.ylabel(\"Y\")\n",
    "    plt.grid(True)\n",
    "    \n",
    "plotLogRegTrain1D()\n",
    "plt.show()"
   ]
  },
  {
   "cell_type": "markdown",
   "metadata": {},
   "source": [
    "<p><b>Проверка на тестовом подмножестве</b></p>"
   ]
  },
  {
   "cell_type": "code",
   "execution_count": null,
   "metadata": {},
   "outputs": [],
   "source": [
    "score = logr_model.score(x_test, y_test)\n",
    "score"
   ]
  },
  {
   "cell_type": "code",
   "execution_count": null,
   "metadata": {},
   "outputs": [],
   "source": [
    "count = 0\n",
    "for i in range(len(y_test)):\n",
    "    if y_test[i] == logr_model.predict(x_test[i].reshape(-1,1)):\n",
    "        count += 1\n",
    "print(count/len(y_test))   "
   ]
  },
  {
   "cell_type": "code",
   "execution_count": null,
   "metadata": {},
   "outputs": [],
   "source": [
    "y_test_pred = logr_model.predict(x_test)\n",
    "np.where(y_test_pred==y_test)[0].size / y_test.size"
   ]
  },
  {
   "cell_type": "code",
   "execution_count": null,
   "metadata": {},
   "outputs": [],
   "source": [
    "logr_model.predict_proba(x_test)"
   ]
  },
  {
   "cell_type": "code",
   "execution_count": null,
   "metadata": {},
   "outputs": [],
   "source": [
    "for i in range(len(x_test)):\n",
    "    p = logr_model.predict_proba(x_test[i].reshape(-1,1)).ravel()\n",
    "    print(\"Point:\", x_test[i])\n",
    "    print(\"Class 0: %.3f\" % p[0], end=\"; \")\n",
    "    print(\"Class 1: %.3f\" % p[1], end=\"; \")\n",
    "    print(\"Predicted:\", logr_model.predict(x_test[i].reshape(-1,1))[0], end=\"; \")\n",
    "    print(\"True:\", y_test[i])"
   ]
  },
  {
   "cell_type": "code",
   "execution_count": null,
   "metadata": {},
   "outputs": [],
   "source": [
    "def plotLogRegTest1D():\n",
    "    plt.figure(1, figsize=[15,4])\n",
    "\n",
    "    plt.subplot(1,3,1)\n",
    "    plt.title(\"Initial train classes\")\n",
    "    plt.plot(xx, f_pred(xx), linewidth=1, color=\"green\")\n",
    "    plt.scatter(x_test, y_test, c=y_test, cmap=clr_map, s=80, alpha=0.5)\n",
    "    plt.axhline(thresholdY, color=\"0.5\", linestyle=\"--\")\n",
    "    plt.axvline(thresholdX, color=\"0.5\", linestyle=\"--\")\n",
    "    plt.xlabel(\"X\")\n",
    "    plt.ylabel(\"Y\")\n",
    "    plt.grid(True)\n",
    "\n",
    "    plt.subplot(1,3,2)\n",
    "    plt.title(\"Predicted train classes\")\n",
    "    plt.plot(xx, f_pred(xx), linewidth=1, color=\"green\")\n",
    "    plt.scatter(x_test, logr_model.predict(x_test), s=20, c=logr_model.predict(x_test), cmap=clr_map)\n",
    "    plt.axhline(thresholdY, color=\"0.5\", linestyle=\"--\")\n",
    "    plt.axvline(thresholdX, color=\"0.5\", linestyle=\"--\")\n",
    "    plt.xlabel(\"X\")\n",
    "    plt.ylabel(\"Y\")\n",
    "    plt.grid(True)\n",
    "\n",
    "    plt.subplot(1,3,3)\n",
    "    plt.title(\"Matching Initial and Predicted\")\n",
    "    plt.plot(xx, f_pred(xx), linewidth=1, color=\"green\")\n",
    "    plt.scatter(x_test, y_test, c=y_test, cmap=clr_map, s=80, alpha=0.5)\n",
    "    plt.scatter(x_test, logr_model.predict(x_test), s=20, c=logr_model.predict(x_test), cmap=clr_map)\n",
    "    plt.axhline(threshold, color=\"0.5\", linestyle=\"--\")\n",
    "    plt.axvline(thresholdX, color=\"0.5\", linestyle=\"--\")\n",
    "    plt.xlabel(\"X\")\n",
    "    plt.ylabel(\"Y\")\n",
    "    plt.grid(True)\n",
    "    \n",
    "plotLogRegTest1D()\n",
    "plt.show()"
   ]
  },
  {
   "cell_type": "markdown",
   "metadata": {},
   "source": [
    "<p><b>Графики</b></p>"
   ]
  },
  {
   "cell_type": "code",
   "execution_count": null,
   "metadata": {},
   "outputs": [],
   "source": [
    "plotLogRegTrain1D()\n",
    "plt.show()\n",
    "plotLogRegTest1D()\n",
    "plt.show()"
   ]
  },
  {
   "cell_type": "markdown",
   "metadata": {},
   "source": [
    "### Два признака"
   ]
  },
  {
   "cell_type": "markdown",
   "metadata": {},
   "source": [
    "<p><b>Исходные данные</b></p>"
   ]
  },
  {
   "cell_type": "code",
   "execution_count": null,
   "metadata": {},
   "outputs": [],
   "source": [
    "n = 500\n",
    "x, y = make_classification(n_samples=n, \n",
    "                           n_features=2, \n",
    "                           n_redundant=0, \n",
    "                           n_informative=2, \n",
    "                           n_clusters_per_class=1, \n",
    "                           n_classes=2, \n",
    "                           class_sep=0.25,\n",
    "                           random_state=19)"
   ]
  },
  {
   "cell_type": "code",
   "execution_count": null,
   "metadata": {},
   "outputs": [],
   "source": [
    "clr_map = ListedColormap([\"blue\", \"red\"])\n",
    "plt.scatter(x[:,0], x[:,1], c=y, cmap=clr_map)\n",
    "plt.grid(True)\n",
    "plt.xlabel(\"X1\")\n",
    "plt.ylabel(\"X2\")\n",
    "plt.show()"
   ]
  },
  {
   "cell_type": "markdown",
   "metadata": {},
   "source": [
    "<p><b>Формирование обучающего и тестового подмножеств</b></p>"
   ]
  },
  {
   "cell_type": "code",
   "execution_count": null,
   "metadata": {},
   "outputs": [],
   "source": [
    "x_train, x_test, y_train, y_test = train_test_split(x, y, test_size=0.3, random_state=12)"
   ]
  },
  {
   "cell_type": "markdown",
   "metadata": {},
   "source": [
    "<p><b>Обучение</b></p>"
   ]
  },
  {
   "cell_type": "code",
   "execution_count": null,
   "metadata": {},
   "outputs": [],
   "source": [
    "logr_model = LogisticRegression(penalty=\"l2\", fit_intercept=True, max_iter=100, C=1e5, \n",
    "                                solver=\"lbfgs\", random_state=1234)"
   ]
  },
  {
   "cell_type": "code",
   "execution_count": null,
   "metadata": {},
   "outputs": [],
   "source": [
    "logr_model.fit(x_train, y_train)"
   ]
  },
  {
   "cell_type": "code",
   "execution_count": null,
   "metadata": {},
   "outputs": [],
   "source": [
    "logr_model.coef_"
   ]
  },
  {
   "cell_type": "code",
   "execution_count": null,
   "metadata": {},
   "outputs": [],
   "source": [
    "logr_model.intercept_"
   ]
  },
  {
   "cell_type": "code",
   "execution_count": null,
   "metadata": {},
   "outputs": [],
   "source": [
    "plt.scatter(x_train[:,0], x_train[:,1], c=y_train, s=80, cmap=clr_map, alpha=0.5)\n",
    "plt.scatter(x_train[:, 0], x_train[:, 1], c=logr_model.predict(x_train), s=20, cmap=clr_map)\n",
    "plt.grid(True)\n",
    "plt.xlabel(\"X1\")\n",
    "plt.ylabel(\"X2\")\n",
    "plt.show()"
   ]
  },
  {
   "cell_type": "markdown",
   "metadata": {},
   "source": [
    "<p><b>Проверка на тестовом подмножестве</b></p>"
   ]
  },
  {
   "cell_type": "code",
   "execution_count": null,
   "metadata": {},
   "outputs": [],
   "source": [
    "score = logr_model.score(x_test, y_test)\n",
    "score"
   ]
  },
  {
   "cell_type": "code",
   "execution_count": null,
   "metadata": {},
   "outputs": [],
   "source": [
    "count = 0\n",
    "for i in range(len(y_test)):\n",
    "    if y_test[i] == logr_model.predict(x_test[i].reshape(-1,2)):\n",
    "        count += 1\n",
    "print(count/len(y_test))        "
   ]
  },
  {
   "cell_type": "code",
   "execution_count": null,
   "metadata": {},
   "outputs": [],
   "source": [
    "logr_model.predict_proba(x_test)[:5]"
   ]
  },
  {
   "cell_type": "code",
   "execution_count": null,
   "metadata": {},
   "outputs": [],
   "source": [
    "z = lambda x: logr_model.intercept_[0] + logr_model.coef_[0,0]*x[0] + logr_model.coef_[0,1]*x[1]\n",
    "z(x_test[0,:])"
   ]
  },
  {
   "cell_type": "code",
   "execution_count": null,
   "metadata": {},
   "outputs": [],
   "source": [
    "z_test_pred = z(x_test[0,:])\n",
    "p = 1 / (1 + np.exp(-z_test_pred))\n",
    "p"
   ]
  },
  {
   "cell_type": "code",
   "execution_count": null,
   "metadata": {},
   "outputs": [],
   "source": [
    "for i in range(len(x_test)):\n",
    "    z_test_pred = z(x_test[i,:])\n",
    "    p = 1 / (1 + np.exp(-z_test_pred))\n",
    "    print(\"Point:\", x_test[i,:])\n",
    "    print(\"Class 0: %.3f\" % (1 - p), end=\"; \")\n",
    "    print(\"Class 1: %.3f\" % p, end=\"; \")\n",
    "    print(\"Predicted:\", logr_model.predict(x_test[i,:].reshape(1,-1))[0], end=\"; \")\n",
    "    print(\"True:\", y_test[i])"
   ]
  },
  {
   "cell_type": "code",
   "execution_count": null,
   "metadata": {},
   "outputs": [],
   "source": [
    "plt.scatter(x_test[:,0], x_test[:,1], c=y_test, s=80, cmap=clr_map, alpha=0.5)\n",
    "plt.scatter(x_test[:, 0], x_test[:, 1], c=logr_model.predict(x_test), s=20, cmap=clr_map)\n",
    "plt.grid(True)\n",
    "plt.xlabel(\"X1\")\n",
    "plt.ylabel(\"X2\")\n",
    "plt.show()"
   ]
  },
  {
   "cell_type": "markdown",
   "metadata": {},
   "source": [
    "<p><b>Графики</b></p>"
   ]
  },
  {
   "cell_type": "code",
   "execution_count": null,
   "metadata": {},
   "outputs": [],
   "source": [
    "step = 0.01\n",
    "xx, yy = np.meshgrid(np.arange(x[:,0].min(), x[:,0].max(), step), np.arange(x[:,1].min(), x[:,1].max(), step))\n",
    "#xx[:,:], yy[:,:]"
   ]
  },
  {
   "cell_type": "code",
   "execution_count": null,
   "metadata": {},
   "outputs": [],
   "source": [
    "xx.ravel(), yy.ravel()"
   ]
  },
  {
   "cell_type": "code",
   "execution_count": null,
   "metadata": {},
   "outputs": [],
   "source": [
    "points = np.c_[xx.ravel(), yy.ravel()]\n",
    "#points[:3]"
   ]
  },
  {
   "cell_type": "code",
   "execution_count": null,
   "metadata": {},
   "outputs": [],
   "source": [
    "points_2 = list(zip(xx.ravel(), yy.ravel()))\n",
    "#points_2[40:50]"
   ]
  },
  {
   "cell_type": "code",
   "execution_count": null,
   "metadata": {},
   "outputs": [],
   "source": [
    "Z = logr_model.predict_proba(points)[:, 1]\n",
    "Z = Z.reshape(xx.shape)\n",
    "#Z"
   ]
  },
  {
   "cell_type": "code",
   "execution_count": null,
   "metadata": {},
   "outputs": [],
   "source": [
    "plt.figure(1, figsize=[12, 4])\n",
    "\n",
    "plt.subplot(1,2,1)\n",
    "plt.title(\"Train data\")\n",
    "plt.contourf(xx, yy, Z, cmap=cm.bwr, alpha=.5)\n",
    "plt.scatter(x_train[:,0], x_train[:,1], c=y_train, s=80, cmap=clr_map, alpha=0.5)\n",
    "plt.scatter(x_train[:, 0], x_train[:, 1], c=logr_model.predict(x_train), s=20, cmap=clr_map)\n",
    "plt.grid(True)\n",
    "plt.xlabel(\"X1\")\n",
    "plt.ylabel(\"X2\")\n",
    "\n",
    "plt.subplot(1,2,2)\n",
    "plt.title(\"Test data\")\n",
    "plt.contourf(xx, yy, Z, cmap=cm.bwr, alpha=.5)\n",
    "plt.scatter(x_test[:,0], x_test[:,1], c=y_test, s=80, cmap=clr_map, alpha=0.5)\n",
    "plt.scatter(x_test[:, 0], x_test[:, 1], c=logr_model.predict(x_test), s=20, cmap=clr_map)\n",
    "plt.grid(True)\n",
    "plt.xlabel(\"X1\")\n",
    "plt.ylabel(\"X2\")\n",
    "\n",
    "plt.show()"
   ]
  },
  {
   "cell_type": "markdown",
   "metadata": {},
   "source": [
    "### Два признака и три класса"
   ]
  },
  {
   "cell_type": "markdown",
   "metadata": {},
   "source": [
    "<p><b>Исходные данные</b></p>"
   ]
  },
  {
   "cell_type": "code",
   "execution_count": null,
   "metadata": {},
   "outputs": [],
   "source": [
    "n = 100\n",
    "x, y = make_classification(n_samples=n, n_features=2, n_redundant=0, \n",
    "                           n_informative=2, n_clusters_per_class=1, n_classes=3, class_sep=1,\n",
    "                           random_state=1234)"
   ]
  },
  {
   "cell_type": "code",
   "execution_count": null,
   "metadata": {},
   "outputs": [],
   "source": [
    "clr_map = ListedColormap([\"blue\", \"red\", \"green\"])\n",
    "plt.scatter(x[:,0], x[:,1], c=y, cmap=clr_map)\n",
    "plt.grid(True)\n",
    "plt.xlabel(\"X1\")\n",
    "plt.ylabel(\"X2\")\n",
    "plt.show()"
   ]
  },
  {
   "cell_type": "markdown",
   "metadata": {},
   "source": [
    "<p><b>Формирование обучающего и тестового подмножеств</b></p>"
   ]
  },
  {
   "cell_type": "code",
   "execution_count": null,
   "metadata": {},
   "outputs": [],
   "source": [
    "x_train, x_test, y_train, y_test = train_test_split(x, y, test_size=0.3, random_state=12)"
   ]
  },
  {
   "cell_type": "markdown",
   "metadata": {},
   "source": [
    "<p><b>Обучение</b></p>"
   ]
  },
  {
   "cell_type": "code",
   "execution_count": null,
   "metadata": {},
   "outputs": [],
   "source": [
    "logr_multiclass_model = LogisticRegression(penalty=\"l2\", fit_intercept=True, max_iter=100, C=1e5,\n",
    "                                           solver=\"lbfgs\", multi_class=\"ovr\", \n",
    "                                           random_state=12345)"
   ]
  },
  {
   "cell_type": "code",
   "execution_count": null,
   "metadata": {},
   "outputs": [],
   "source": [
    "logr_multiclass_model.fit(x_train, y_train)"
   ]
  },
  {
   "cell_type": "code",
   "execution_count": null,
   "metadata": {},
   "outputs": [],
   "source": [
    "logr_multiclass_model.coef_"
   ]
  },
  {
   "cell_type": "code",
   "execution_count": null,
   "metadata": {},
   "outputs": [],
   "source": [
    "logr_multiclass_model.intercept_"
   ]
  },
  {
   "cell_type": "code",
   "execution_count": null,
   "metadata": {},
   "outputs": [],
   "source": [
    "plt.scatter(x_train[:,0], x_train[:,1], c=y_train, s=80, cmap=clr_map, alpha=0.5)\n",
    "plt.scatter(x_train[:, 0], x_train[:, 1], c=logr_multiclass_model.predict(x_train), s=20, cmap=clr_map)\n",
    "plt.grid(True)\n",
    "plt.xlabel(\"X1\")\n",
    "plt.ylabel(\"X2\")\n",
    "plt.show()"
   ]
  },
  {
   "cell_type": "markdown",
   "metadata": {},
   "source": [
    "<p><b>Проверка на тестовом подмножестве</b></p>"
   ]
  },
  {
   "cell_type": "code",
   "execution_count": null,
   "metadata": {},
   "outputs": [],
   "source": [
    "score = logr_multiclass_model.score(x_test, y_test)\n",
    "score"
   ]
  },
  {
   "cell_type": "code",
   "execution_count": null,
   "metadata": {},
   "outputs": [],
   "source": [
    "count = 0\n",
    "for i in range(len(y_test)):\n",
    "    if y_test[i] == logr_multiclass_model.predict(x_test[i].reshape(1,-11)):\n",
    "        count += 1\n",
    "print(count/len(y_test))    "
   ]
  },
  {
   "cell_type": "code",
   "execution_count": null,
   "metadata": {},
   "outputs": [],
   "source": [
    "pr = np.around(logr_multiclass_model.predict_proba(x_test), decimals=2)\n",
    "pr = np.column_stack((pr, logr_multiclass_model.predict(x_test)))\n",
    "\n",
    "#Class_0, Class_1, Class_2, Prediction\n",
    "pr"
   ]
  },
  {
   "cell_type": "code",
   "execution_count": null,
   "metadata": {},
   "outputs": [],
   "source": [
    "z_cl_0 = lambda x: logr_multiclass_model.intercept_[0] + logr_multiclass_model.coef_[0,0]*x[:,0] + logr_multiclass_model.coef_[0,1]*x[:,1]\n",
    "z_cl_1 = lambda x: logr_multiclass_model.intercept_[1] + logr_multiclass_model.coef_[1,0]*x[:,0] + logr_multiclass_model.coef_[1,1]*x[:,1]\n",
    "z_cl_2 = lambda x: logr_multiclass_model.intercept_[2] + logr_multiclass_model.coef_[2,0]*x[:,0] + logr_multiclass_model.coef_[2,1]*x[:,1]\n",
    "\n",
    "z_test_cl_0 = z_cl_0(x_test)\n",
    "z_test_cl_1 = z_cl_1(x_test)\n",
    "z_test_cl_2 = z_cl_2(x_test)\n",
    "\n",
    "p_cl_0 = np.around(1 / (np.exp(-z_test_cl_0) + 1), decimals=2)\n",
    "p_cl_1 = np.around(1 / (np.exp(-z_test_cl_1) + 1), decimals=2)\n",
    "p_cl_2 = np.around(1 / (np.exp(-z_test_cl_2) + 1), decimals=2)\n",
    "\n",
    "st = np.column_stack((p_cl_0, p_cl_1, p_cl_2))\n",
    "st = np.column_stack((st, st.argmax(axis=1)))\n",
    "\n",
    "#Class_0, Class_1, Class_2, Prediction\n",
    "st"
   ]
  },
  {
   "cell_type": "code",
   "execution_count": null,
   "metadata": {},
   "outputs": [],
   "source": [
    "plt.scatter(x_test[:,0], x_test[:,1], c=y_test, s=80, cmap=clr_map, alpha=0.5)\n",
    "plt.scatter(x_test[:, 0], x_test[:, 1], c=logr_multiclass_model.predict(x_test), s=20, cmap=clr_map)\n",
    "plt.grid(True)\n",
    "plt.show()"
   ]
  },
  {
   "cell_type": "markdown",
   "metadata": {},
   "source": [
    "<p><b>Графики</b></p>"
   ]
  },
  {
   "cell_type": "code",
   "execution_count": null,
   "metadata": {},
   "outputs": [],
   "source": [
    "step = 0.01\n",
    "xx, yy = np.meshgrid(np.arange(x[:,0].min(), x[:,0].max(), step), np.arange(x[:,1].min(), x[:,1].max(), step))\n",
    "#xx[:,:3], yy[:,:3]"
   ]
  },
  {
   "cell_type": "code",
   "execution_count": null,
   "metadata": {},
   "outputs": [],
   "source": [
    "points = np.c_[xx.ravel(), yy.ravel()]\n",
    "Z = logr_multiclass_model.predict(points)\n",
    "Z = Z.reshape(xx.shape)\n",
    "#Z"
   ]
  },
  {
   "cell_type": "code",
   "execution_count": null,
   "metadata": {},
   "outputs": [],
   "source": [
    "plt.figure(1, figsize=[12, 4])\n",
    "\n",
    "plt.subplot(1,2,1)\n",
    "plt.title(\"Train data\")\n",
    "plt.contourf(xx, yy, Z, cmap=clr_map, alpha=.5)\n",
    "plt.scatter(x_train[:,0], x_train[:,1], c=y_train, s=80, cmap=clr_map, alpha=0.5)\n",
    "plt.scatter(x_train[:, 0], x_train[:, 1], c=logr_multiclass_model.predict(x_train), s=20, cmap=clr_map)\n",
    "plt.grid(True)\n",
    "\n",
    "plt.subplot(1,2,2)\n",
    "plt.title(\"Test data\")\n",
    "plt.contourf(xx, yy, Z, cmap=clr_map, alpha=.5)\n",
    "plt.scatter(x_test[:,0], x_test[:,1], c=y_test, s=80, cmap=clr_map, alpha=0.5)\n",
    "plt.scatter(x_test[:,0], x_test[:,1], c=logr_multiclass_model.predict(x_test), s=20, cmap=clr_map)\n",
    "plt.grid(True)\n",
    "\n",
    "plt.show()"
   ]
  },
  {
   "cell_type": "markdown",
   "metadata": {},
   "source": [
    "<a name=\"6\"></a>\n",
    "<div style=\"display:table; width:100%; padding-top:10px; padding-bottom:10px; border-bottom:1px solid lightgrey\">\n",
    "    <div style=\"display:table-row\">\n",
    "        <div style=\"display:table-cell; width:80%; font-size:14pt; font-weight:bold\">6. Источники</div>\n",
    "    \t<div style=\"display:table-cell; width:20%; text-align:center; background-color:whitesmoke; border:1px solid lightgrey\"><a href=\"#0\">К содержанию</a></div>\n",
    "    </div>\n",
    "</div>"
   ]
  },
  {
   "cell_type": "markdown",
   "metadata": {},
   "source": [
    "<a href=\"http://scikit-learn.org/stable/auto_examples/datasets/plot_random_dataset.html#example-datasets-plot-random-dataset-py\">Plot randomly generated classification dataset</a><br>\n",
    "<a href=\"http://scikit-learn.org/stable/auto_examples/classification/plot_classifier_comparison.html#example-classification-plot-classifier-comparison-py\">Classifier comparison</a>"
   ]
  },
  {
   "cell_type": "code",
   "execution_count": null,
   "metadata": {},
   "outputs": [],
   "source": []
  }
 ],
 "metadata": {
  "kernelspec": {
   "display_name": "Python 3",
   "language": "python",
   "name": "python3"
  },
  "language_info": {
   "codemirror_mode": {
    "name": "ipython",
    "version": 3
   },
   "file_extension": ".py",
   "mimetype": "text/x-python",
   "name": "python",
   "nbconvert_exporter": "python",
   "pygments_lexer": "ipython3",
   "version": "3.7.4"
  }
 },
 "nbformat": 4,
 "nbformat_minor": 1
}
