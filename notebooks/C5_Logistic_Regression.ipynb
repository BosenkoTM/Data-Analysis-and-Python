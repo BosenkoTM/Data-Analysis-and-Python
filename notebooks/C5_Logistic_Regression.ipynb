{
 "cells": [
  {
   "cell_type": "markdown",
   "metadata": {},
   "source": [
    "<div style=\"font-size:18pt; padding-top:20px; text-align:center\">СЕМИНАР. <b>Логистическая регрессия</b></div><hr>\n",
    "<div style=\"text-align:right;\">Папулин С.Ю. <span style=\"font-style: italic;font-weight: bold;\">(papulin.study@yandex.ru)</span></div>"
   ]
  },
  {
   "cell_type": "markdown",
   "metadata": {},
   "source": [
    "<a name=\"0\"></a>\n",
    "<div><span style=\"font-size:14pt; font-weight:bold\">Содержание</span>\n",
    "    <ol>\n",
    "        <li><a href=\"#1\">Классификация с линейной регрессией</a></li>\n",
    "        <li><a href=\"#2\">Логистическая регрессия</a>\n",
    "        <li><a href=\"#3\">Распознавание цифр от 0 до 9</a>\n",
    "        <li><a href=\"#4\">Источники</a>\n",
    "        </li>\n",
    "    </ol>\n",
    "</div>"
   ]
  },
  {
   "cell_type": "markdown",
   "metadata": {},
   "source": [
    "<p><b>Подключение библиотек</b></p>"
   ]
  },
  {
   "cell_type": "code",
   "execution_count": null,
   "metadata": {},
   "outputs": [],
   "source": [
    "import numpy as np\n",
    "import matplotlib.pyplot as plt\n",
    "%matplotlib inline"
   ]
  },
  {
   "cell_type": "code",
   "execution_count": null,
   "metadata": {},
   "outputs": [],
   "source": [
    "from sklearn.linear_model import LinearRegression, LogisticRegression\n",
    "from sklearn.model_selection import train_test_split\n",
    "from sklearn.metrics import accuracy_score\n",
    "from matplotlib import cm"
   ]
  },
  {
   "cell_type": "code",
   "execution_count": null,
   "metadata": {},
   "outputs": [],
   "source": [
    "from matplotlib.colors import ListedColormap"
   ]
  },
  {
   "cell_type": "markdown",
   "metadata": {},
   "source": [
    "<a name=\"1\"></a>\n",
    "<div style=\"display:table; width:100%; padding-top:10px; padding-bottom:10px; border-bottom:1px solid lightgrey\">\n",
    "    <div style=\"display:table-row\">\n",
    "        <div style=\"display:table-cell; width:80%; font-size:16pt; font-weight:bold\">1. Классификация с линейной регрессией</div>\n",
    "    \t<div style=\"display:table-cell; width:20%; text-align:center; background-color:whitesmoke; border:1px solid lightgrey\"><a href=\"#0\">К содержанию</a></div>\n",
    "    </div>\n",
    "</div>"
   ]
  },
  {
   "cell_type": "code",
   "execution_count": null,
   "metadata": {},
   "outputs": [],
   "source": [
    "from sklearn.datasets import make_classification"
   ]
  },
  {
   "cell_type": "markdown",
   "metadata": {},
   "source": [
    "### Один признак"
   ]
  },
  {
   "cell_type": "code",
   "execution_count": null,
   "metadata": {},
   "outputs": [],
   "source": [
    "# Генерация исходных данных\n",
    "n = 100\n",
    "x, y = make_classification(n_samples=n, \n",
    "                           n_features=1, \n",
    "                           n_redundant=0, \n",
    "                           n_informative=1, \n",
    "                           n_classes=2, \n",
    "                           n_clusters_per_class=1, \n",
    "                           class_sep=1, \n",
    "                           random_state=1000)"
   ]
  },
  {
   "cell_type": "code",
   "execution_count": null,
   "metadata": {},
   "outputs": [],
   "source": [
    "# График\n",
    "y_one_indx = np.argwhere(y == 1)\n",
    "y_zero_indx =  np.argwhere(y == 0)\n",
    "color_map = ListedColormap([\"blue\", \"red\"])\n",
    "plt.scatter(x[y_zero_indx], y[y_zero_indx], color=\"red\", label=\"observed data: 0\")\n",
    "plt.scatter(x[y_one_indx], y[y_one_indx], color=\"blue\", label=\"observed data: 1\")\n",
    "plt.xlabel(\"$x$\")\n",
    "plt.ylabel(\"$y_{true}$\")\n",
    "plt.legend()\n",
    "plt.grid(True)\n",
    "plt.show()"
   ]
  },
  {
   "cell_type": "code",
   "execution_count": null,
   "metadata": {},
   "outputs": [],
   "source": [
    "# # Опционально\n",
    "# count = 0\n",
    "# while count < 20:\n",
    "#     indx = np.random.randint(low=0, high=len(x), size=1)\n",
    "    \n",
    "#     if y[indx] > 0:\n",
    "#         x[indx,0] += 10\n",
    "#         count += 1\n",
    "\n",
    "# # График\n",
    "# y_one_indx = np.argwhere(y == 1)\n",
    "# y_zero_indx =  np.argwhere(y == 0)\n",
    "# color_map = ListedColormap([\"blue\", \"red\"])\n",
    "# plt.scatter(x[y_zero_indx], y[y_zero_indx], color=\"red\", label=\"observed data: 0\")\n",
    "# plt.scatter(x[y_one_indx], y[y_one_indx], color=\"blue\", label=\"observed data: 1\")\n",
    "# plt.xlabel(\"$x$\")\n",
    "# plt.ylabel(\"$y_{true}$\")\n",
    "# plt.legend()\n",
    "# plt.grid(True)\n",
    "# plt.show()"
   ]
  },
  {
   "cell_type": "code",
   "execution_count": null,
   "metadata": {},
   "outputs": [],
   "source": [
    "# Формирование обучающего и тестового подмножеств\n",
    "x_train, x_test, y_train, y_test = train_test_split(x, y, test_size=0.3, random_state=12)\n",
    "\n",
    "# Обучение\n",
    "linear_model = LinearRegression()\n",
    "linear_model.fit(x_train, y_train)\n",
    "\n",
    "# Параметры обученной модели\n",
    "print(\"Параметры модели:\")\n",
    "print(\"\\tw{} = {}\".format(0, linear_model.intercept_))\n",
    "for indx, coef in enumerate(linear_model.coef_):\n",
    "    print(\"\\tw{} = {}\".format(indx+1, coef))"
   ]
  },
  {
   "cell_type": "code",
   "execution_count": null,
   "metadata": {},
   "outputs": [],
   "source": [
    "# Предсказание\n",
    "threshold = 0.5\n",
    "\n",
    "y_train__pred = np.where(linear_model.predict(x_train)>=threshold, 1, 0)\n",
    "y_test__pred = np.where(linear_model.predict(x_test)>=threshold, 1, 0)\n",
    "\n",
    "# Оценка качества классификатора\n",
    "accuracy_train = accuracy_score(y_train, y_train__pred)\n",
    "accuracy_test = accuracy_score(y_test, y_test__pred)\n",
    "\n",
    "print(\"Train Accuracy:\", accuracy_train)\n",
    "print(\"Test Accuracy:\", accuracy_test)"
   ]
  },
  {
   "cell_type": "code",
   "execution_count": null,
   "metadata": {},
   "outputs": [],
   "source": [
    "# FIXME:\n",
    "# def plotLinRegTrain():\n",
    "#     plt.figure(1, figsize=[15,4])\n",
    "\n",
    "#     plt.subplot(1,3,1)\n",
    "#     plt.title(\"Initial train classes\")\n",
    "#     plt.scatter(x_train, y_train, c=y_train, cmap=clr_map, s=80, alpha=0.5)\n",
    "#     plt.plot(x, linr_model.coef_ * x + linr_model.intercept_, linewidth=1, color=\"green\")\n",
    "#     plt.axhline(threshold, color=\"0.5\", linestyle=\"--\")\n",
    "#     plt.axvline((threshold - linr_model.intercept_)/linr_model.coef_, color=\"0.5\", linestyle=\"--\")\n",
    "#     plt.grid(True)\n",
    "\n",
    "#     plt.subplot(1,3,2)\n",
    "#     plt.title(\"Predicted train classes\")\n",
    "#     plt.scatter(x_train, y_pred, s=20, c=y_pred, cmap=clr_map)\n",
    "#     plt.plot(x, linr_model.coef_ * x + linr_model.intercept_, linewidth=1, color=\"green\")\n",
    "#     plt.axhline(threshold, color=\"0.5\", linestyle=\"--\")\n",
    "#     plt.axvline((threshold - linr_model.intercept_)/linr_model.coef_, color=\"0.5\", linestyle=\"--\")\n",
    "#     plt.grid(True)\n",
    "\n",
    "#     plt.subplot(1,3,3)\n",
    "#     plt.title(\"Matching Initial and Predicted\")\n",
    "#     plt.scatter(x_train, y_train, c=y_train, cmap=clr_map, s=80, alpha=0.5)\n",
    "#     plt.scatter(x_train, y_pred, s=20, c=y_pred, cmap=clr_map)\n",
    "#     plt.plot(x, linr_model.coef_ * x + linr_model.intercept_, linewidth=1, color=\"green\")\n",
    "#     plt.axhline(threshold, color=\"0.5\", linestyle=\"--\")\n",
    "#     plt.axvline((threshold - linr_model.intercept_)/linr_model.coef_, color=\"0.5\", linestyle=\"--\")\n",
    "#     plt.grid(True)"
   ]
  },
  {
   "cell_type": "code",
   "execution_count": null,
   "metadata": {},
   "outputs": [],
   "source": [
    "# Графики\n",
    "plt.figure(1, figsize=[12, 4])\n",
    "plt.subplot(1,2,1)\n",
    "plt.title(\"Train\")\n",
    "plt.scatter(x_train, y_train, c=y_train, cmap=color_map, s=80, alpha=0.5, label=\"true\")\n",
    "plt.scatter(x_train, y_train__pred, s=20, c=y_train__pred, cmap=color_map, label=\"predicted\")\n",
    "plt.plot(x, linear_model.predict(x), linewidth=1, color=\"black\", label=\"OLS\")\n",
    "plt.axhline(threshold, color=\"0.5\", linestyle=\"--\", lw=1)\n",
    "plt.xlabel(\"$x$\")\n",
    "plt.ylabel(\"$y$\")\n",
    "plt.legend()\n",
    "plt.grid(True)\n",
    "\n",
    "plt.subplot(1,2,2)\n",
    "plt.title(\"Test\")\n",
    "plt.scatter(x_test, y_test, c=y_test, cmap=color_map, s=80, alpha=0.5, label=\"true\")\n",
    "plt.scatter(x_test, y_test__pred, s=20, c=y_test__pred, cmap=color_map, label=\"predicted\")\n",
    "plt.plot(x, linear_model.predict(x), linewidth=1, color=\"black\", label=\"OLS\")\n",
    "plt.axhline(threshold, color=\"0.5\", linestyle=\"--\", lw=1)\n",
    "plt.xlabel(\"$x$\")\n",
    "plt.ylabel(\"$y$\")\n",
    "plt.legend()\n",
    "plt.grid(True)"
   ]
  },
  {
   "cell_type": "markdown",
   "metadata": {},
   "source": [
    "### Два признака"
   ]
  },
  {
   "cell_type": "code",
   "execution_count": null,
   "metadata": {},
   "outputs": [],
   "source": [
    "# Генерация исходных данных\n",
    "n = 500\n",
    "x, y = make_classification(n_samples=n, n_features=2, n_redundant=0, \n",
    "                           n_informative=2, n_clusters_per_class=1, n_classes=2, class_sep=0.25,\n",
    "                           random_state=19)"
   ]
  },
  {
   "cell_type": "code",
   "execution_count": null,
   "metadata": {},
   "outputs": [],
   "source": [
    "# График\n",
    "y_one_indx = np.argwhere(y == 1).flatten()\n",
    "y_zero_indx =  np.argwhere(y == 0).flatten()\n",
    "plt.scatter(x[y_zero_indx][:,0], x[y_zero_indx][:,1], color=\"blue\", label=\"$y_{true} = 0$\")\n",
    "plt.scatter(x[y_one_indx][:,0], x[y_one_indx][:,1], color=\"red\", label=\"$y_{true} = 1$\")\n",
    "plt.xlabel(\"$x_1$\")\n",
    "plt.ylabel(\"$x_2$\")\n",
    "plt.grid(True)\n",
    "plt.legend()\n",
    "plt.show()"
   ]
  },
  {
   "cell_type": "code",
   "execution_count": null,
   "metadata": {},
   "outputs": [],
   "source": [
    "# Формирование обучающего и тестового подмножеств\n",
    "x_train, x_test, y_train, y_test = train_test_split(x, y, test_size=0.3, random_state=12)\n",
    "\n",
    "# Обучение\n",
    "linear_model = LinearRegression()\n",
    "linear_model.fit(x_train, y_train)\n",
    "\n",
    "# Параметры обученной модели\n",
    "print(\"Параметры модели:\")\n",
    "print(\"\\tw{} = {}\".format(0, linear_model.intercept_))\n",
    "for indx, coef in enumerate(linear_model.coef_):\n",
    "    print(\"\\tw{} = {}\".format(indx+1, coef))"
   ]
  },
  {
   "cell_type": "code",
   "execution_count": null,
   "metadata": {},
   "outputs": [],
   "source": [
    "# Предсказание\n",
    "threshold = 0.5\n",
    "\n",
    "y_train__pred = np.where(linear_model.predict(x_train)>=threshold, 1, 0)\n",
    "y_test__pred = np.where(linear_model.predict(x_test)>=threshold, 1, 0)\n",
    "\n",
    "# Оценка качества классификатора\n",
    "accuracy_train = accuracy_score(y_train, y_train__pred)\n",
    "accuracy_test = accuracy_score(y_test, y_test__pred)\n",
    "\n",
    "print(\"Train Accuracy:\", accuracy_train)\n",
    "print(\"Test Accuracy:\", accuracy_test)"
   ]
  },
  {
   "cell_type": "code",
   "execution_count": null,
   "metadata": {},
   "outputs": [],
   "source": [
    "# Графики\n",
    "\n",
    "# Разделительная линия\n",
    "x1_min, x1_max, x2_min, x2_max = x[:,0].min(), x[:,0].max(), x[:,1].min(), x[:,1].max()\n",
    "x1_range = np.linspace(x1_min, x1_max, 100)\n",
    "x2_range = (threshold - linear_model.intercept_ - linear_model.coef_[0]*x1_range) / linear_model.coef_[1]\n",
    "\n",
    "# Поверхность\n",
    "step = 0.01\n",
    "xx, yy = np.meshgrid(np.arange(x[:,0].min(), x[:,0].max(), step), np.arange(x[:,1].min(), x[:,1].max(), step))\n",
    "points = np.c_[xx.ravel(), yy.ravel()]\n",
    "#Z = np.where(linr_model.predict(points)>=threshold, 1, 0)\n",
    "Z = linear_model.predict(points)\n",
    "Z = Z.reshape(xx.shape)\n",
    "\n",
    "plt.figure(1, figsize=[12, 4])\n",
    "\n",
    "plt.subplot(1,2,1)\n",
    "plt.title(\"Train data\")\n",
    "plt.contourf(xx, yy, Z, 15, cmap=cm.bwr, alpha=.5)\n",
    "plt.colorbar()\n",
    "plt.plot(x1_range, x2_range, color=\"0.5\")\n",
    "plt.scatter(x_train[:,0], x_train[:,1], c=y_train, s=80, cmap=color_map, alpha=0.5)\n",
    "plt.scatter(x_train[:, 0], x_train[:,1], c=y_train__pred, s=20, cmap=color_map)\n",
    "plt.xlabel(\"$x_1$\")\n",
    "plt.ylabel(\"$x_2$\")\n",
    "plt.xlim(x1_min, x1_max)\n",
    "plt.ylim(x2_min, x2_max)\n",
    "plt.grid(True)\n",
    "\n",
    "plt.subplot(1,2,2)\n",
    "plt.title(\"Test data\")\n",
    "plt.contourf(xx, yy, Z, 15, cmap=cm.bwr, alpha=.5)\n",
    "plt.colorbar()\n",
    "plt.plot(x1_range, x2_range, color=\"0.5\")\n",
    "plt.scatter(x_test[:,0], x_test[:,1], c=y_test, s=80, cmap=color_map, alpha=0.5)\n",
    "plt.scatter(x_test[:,0], x_test[:,1], c=y_test__pred, s=20, cmap=color_map)\n",
    "plt.xlabel(\"$x_1$\")\n",
    "plt.ylabel(\"$x_2$\")\n",
    "plt.xlim(x1_min, x1_max)\n",
    "plt.ylim(x2_min, x2_max)\n",
    "plt.grid(True)\n",
    "\n",
    "plt.tight_layout()\n",
    "\n",
    "plt.show()"
   ]
  },
  {
   "cell_type": "markdown",
   "metadata": {},
   "source": [
    "<a name=\"3\"></a>\n",
    "<div style=\"display:table; width:100%; padding-top:10px; padding-bottom:10px; border-bottom:1px solid lightgrey\">\n",
    "    <div style=\"display:table-row\">\n",
    "        <div style=\"display:table-cell; width:80%; font-size:14pt; font-weight:bold\">3. Логистическая регрессия</div>\n",
    "    \t<div style=\"display:table-cell; width:20%; text-align:center; background-color:whitesmoke; border:1px solid lightgrey\"><a href=\"#0\">К содержанию</a></div>\n",
    "    </div>\n",
    "</div>"
   ]
  },
  {
   "cell_type": "markdown",
   "metadata": {},
   "source": [
    "### Один признак"
   ]
  },
  {
   "cell_type": "code",
   "execution_count": null,
   "metadata": {},
   "outputs": [],
   "source": [
    "# Генерация исходных данных\n",
    "n = 100\n",
    "x, y = make_classification(n_samples=n, \n",
    "                           n_features=1, \n",
    "                           n_redundant=0, \n",
    "                           n_informative=1, \n",
    "                           n_classes=2, \n",
    "                           n_clusters_per_class=1, \n",
    "                           class_sep=1, \n",
    "                           random_state=1000)\n",
    "\n",
    "# График\n",
    "y_one_indx = np.argwhere(y == 1)\n",
    "y_zero_indx =  np.argwhere(y == 0)\n",
    "color_map = ListedColormap([\"blue\", \"red\"])\n",
    "plt.scatter(x[y_zero_indx], y[y_zero_indx], color=\"red\", label=\"$y_{true}=0$\")\n",
    "plt.scatter(x[y_one_indx], y[y_one_indx], color=\"blue\", label=\"$y_{true}=1$\")\n",
    "plt.xlabel(\"$x$\")\n",
    "plt.ylabel(\"$y_{true}$\")\n",
    "plt.legend()\n",
    "plt.grid(True)\n",
    "plt.show()"
   ]
  },
  {
   "cell_type": "code",
   "execution_count": null,
   "metadata": {},
   "outputs": [],
   "source": [
    "# Опционально\n",
    "# count = 0\n",
    "# while count < 20:\n",
    "#     indx = np.random.randint(low=0, high=len(x), size=1)\n",
    "     \n",
    "#     if y[indx] > 0:\n",
    "#        x[indx,0] += 10\n",
    "#        count += 1"
   ]
  },
  {
   "cell_type": "code",
   "execution_count": null,
   "metadata": {},
   "outputs": [],
   "source": [
    "# plt.scatter(x, y, c=y, cmap=clrMap)\n",
    "# plt.grid(True)\n",
    "# plt.show()"
   ]
  },
  {
   "cell_type": "code",
   "execution_count": null,
   "metadata": {},
   "outputs": [],
   "source": [
    "# Формирование обучающего и тестового подмножеств\n",
    "x_train, x_test, y_train, y_test = train_test_split(x, y, test_size=0.3, random_state=12)\n",
    "\n",
    "# Обучение\n",
    "logistic_model =  LogisticRegression(fit_intercept=True, max_iter=100, C=float(\"inf\"), solver=\"lbfgs\", random_state=12345)\n",
    "logistic_model.fit(x_train, y_train)\n",
    "\n",
    "# Параметры обученной модели\n",
    "print(\"Параметры модели:\")\n",
    "print(\"\\tw{} = {}\".format(0, logistic_model.intercept_))\n",
    "for indx, coef in enumerate(logistic_model.coef_):\n",
    "    print(\"\\tw{} = {}\".format(indx+1, coef))"
   ]
  },
  {
   "cell_type": "code",
   "execution_count": null,
   "metadata": {},
   "outputs": [],
   "source": [
    "# Предсказание\n",
    "y_train__pred = logistic_model.predict(x_train)\n",
    "y_test__pred = logistic_model.predict(x_test)\n",
    "\n",
    "# Оценка качества классификатора\n",
    "accuracy_train = accuracy_score(y_train, y_train__pred)\n",
    "accuracy_test = accuracy_score(y_test, y_test__pred)\n",
    "\n",
    "print(\"Train Accuracy:\", accuracy_train)\n",
    "print(\"Test Accuracy:\", accuracy_test)"
   ]
  },
  {
   "cell_type": "code",
   "execution_count": null,
   "metadata": {},
   "outputs": [],
   "source": [
    "# Вероятности принадлежности классам\n",
    "logistic_model.predict_proba(x_test)[:5]"
   ]
  },
  {
   "cell_type": "code",
   "execution_count": null,
   "metadata": {},
   "outputs": [],
   "source": [
    "# Графики\n",
    "xx = np.linspace(-3, 3, 100).reshape(-1, 1)\n",
    "\n",
    "plt.figure(1, figsize=[12, 4])\n",
    "plt.subplot(1,2,1)\n",
    "plt.title(\"Train\")\n",
    "plt.scatter(x_train, y_train, c=y_train, cmap=color_map, s=80, alpha=0.5, label=\"true\", zorder=2)\n",
    "plt.scatter(x_train, y_train__pred, s=20, c=y_train__pred, cmap=color_map, label=\"predicted\", zorder=3)\n",
    "plt.plot(xx, logistic_model.predict(xx), linewidth=1, color=\"black\", label=\"predicted function\", zorder=1)\n",
    "plt.axhline(threshold, color=\"0.5\", linestyle=\"--\", lw=1)\n",
    "plt.xlabel(\"$x$\")\n",
    "plt.ylabel(\"$y$\")\n",
    "plt.legend()\n",
    "plt.grid(True)\n",
    "\n",
    "plt.subplot(1,2,2)\n",
    "plt.title(\"Test\")\n",
    "plt.scatter(x_test, y_test, c=y_test, cmap=color_map, s=80, alpha=0.5, label=\"true\", zorder=2)\n",
    "plt.scatter(x_test, y_test__pred, s=20, c=y_test__pred, cmap=color_map, label=\"predicted\", zorder=3)\n",
    "plt.plot(xx, logistic_model.predict(xx), linewidth=1, color=\"black\", label=\"predicted function\", zorder=1)\n",
    "plt.axhline(threshold, color=\"0.5\", linestyle=\"--\", lw=1)\n",
    "plt.xlabel(\"$x$\")\n",
    "plt.ylabel(\"$y$\")\n",
    "plt.legend()\n",
    "plt.grid(True)"
   ]
  },
  {
   "cell_type": "markdown",
   "metadata": {},
   "source": [
    "### Два признака"
   ]
  },
  {
   "cell_type": "markdown",
   "metadata": {},
   "source": [
    "<p><b>Исходные данные</b></p>"
   ]
  },
  {
   "cell_type": "code",
   "execution_count": null,
   "metadata": {},
   "outputs": [],
   "source": [
    "# Генерация исходных данных\n",
    "n = 500\n",
    "x, y = make_classification(n_samples=n, \n",
    "                           n_features=2, \n",
    "                           n_redundant=0, \n",
    "                           n_informative=2, \n",
    "                           n_clusters_per_class=1, \n",
    "                           n_classes=2, \n",
    "                           class_sep=0.25,\n",
    "                           random_state=19)\n",
    "\n",
    "# График\n",
    "y_one_indx = np.argwhere(y == 1).flatten()\n",
    "y_zero_indx =  np.argwhere(y == 0).flatten()\n",
    "plt.scatter(x[y_zero_indx][:,0], x[y_zero_indx][:,1], color=\"blue\", label=\"$y_{true} = 0$\")\n",
    "plt.scatter(x[y_one_indx][:,0], x[y_one_indx][:,1], color=\"red\", label=\"$y_{true} = 1$\")\n",
    "plt.xlabel(\"$x_1$\")\n",
    "plt.ylabel(\"$x_2$\")\n",
    "plt.grid(True)\n",
    "plt.legend()\n",
    "plt.show()"
   ]
  },
  {
   "cell_type": "code",
   "execution_count": null,
   "metadata": {},
   "outputs": [],
   "source": [
    "# Формирование обучающего и тестового подмножеств\n",
    "x_train, x_test, y_train, y_test = train_test_split(x, y, test_size=0.3, random_state=12)\n",
    "\n",
    "# Обучение\n",
    "logistic_model = LogisticRegression(fit_intercept=True, max_iter=100, C=float(\"inf\"), solver=\"lbfgs\", random_state=1234)\n",
    "logistic_model.fit(x_train, y_train)\n",
    "\n",
    "# Параметры обученной модели\n",
    "print(\"Параметры модели:\")\n",
    "print(\"\\tw{} = {}\".format(0, logistic_model.intercept_[0]))\n",
    "for indx, coef in enumerate(logistic_model.coef_.flatten()):\n",
    "    print(\"\\tw{} = {}\".format(indx+1, coef))"
   ]
  },
  {
   "cell_type": "code",
   "execution_count": null,
   "metadata": {},
   "outputs": [],
   "source": [
    "# Предсказание\n",
    "y_train__pred = logistic_model.predict(x_train)\n",
    "y_test__pred = logistic_model.predict(x_test)\n",
    "\n",
    "# Оценка качества классификатора\n",
    "accuracy_train = accuracy_score(y_train, y_train__pred)\n",
    "accuracy_test = accuracy_score(y_test, y_test__pred)\n",
    "\n",
    "print(\"Train Accuracy:\", accuracy_train)\n",
    "print(\"Test Accuracy:\", accuracy_test)"
   ]
  },
  {
   "cell_type": "code",
   "execution_count": null,
   "metadata": {},
   "outputs": [],
   "source": [
    "# Вероятности принадлежности классам\n",
    "logistic_model.predict_proba(x_test)[:5]"
   ]
  },
  {
   "cell_type": "code",
   "execution_count": null,
   "metadata": {},
   "outputs": [],
   "source": [
    "# \n",
    "z = lambda x: logistic_model.intercept_[0] + logistic_model.coef_[0,0]*x[0] + logistic_model.coef_[0,1]*x[1]\n",
    "z_test_pred = z(x_test[0,:])\n",
    "p = 1 / (1 + np.exp(-z_test_pred))\n",
    "p"
   ]
  },
  {
   "cell_type": "code",
   "execution_count": null,
   "metadata": {},
   "outputs": [],
   "source": [
    "# Графики\n",
    "\n",
    "# Разделительная линия\n",
    "x1_min, x1_max, x2_min, x2_max = x[:,0].min(), x[:,0].max(), x[:,1].min(), x[:,1].max()\n",
    "# x1_range = np.linspace(x1_min, x1_max, 100)\n",
    "\n",
    "# Поверхность\n",
    "step = 0.01\n",
    "xx, yy = np.meshgrid(np.arange(x[:,0].min(), x[:,0].max(), step), np.arange(x[:,1].min(), x[:,1].max(), step))\n",
    "points = np.c_[xx.ravel(), yy.ravel()]\n",
    "Z = logistic_model.predict_proba(points)[:, 1]\n",
    "# Z = logistic_model.predict(points)\n",
    "Z = Z.reshape(xx.shape)\n",
    "\n",
    "plt.figure(1, figsize=[12, 4])\n",
    "\n",
    "plt.subplot(1,2,1)\n",
    "plt.title(\"Train data\")\n",
    "plt.contourf(xx, yy, Z, 15, cmap=cm.bwr, alpha=0.3)\n",
    "plt.colorbar()\n",
    "# plt.plot(x1_range, x2_range, color=\"0.5\")\n",
    "plt.scatter(x_train[:,0], x_train[:,1], c=y_train, s=80, cmap=color_map, alpha=0.5)\n",
    "plt.scatter(x_train[:, 0], x_train[:,1], c=y_train__pred, s=20, cmap=color_map)\n",
    "plt.xlabel(\"$x_1$\")\n",
    "plt.ylabel(\"$x_2$\")\n",
    "plt.xlim(x1_min, x1_max)\n",
    "plt.ylim(x2_min, x2_max)\n",
    "plt.grid(True)\n",
    "\n",
    "plt.subplot(1,2,2)\n",
    "plt.title(\"Test data\")\n",
    "plt.contourf(xx, yy, Z, 15, cmap=cm.bwr, alpha=0.3)\n",
    "plt.colorbar()\n",
    "plt.scatter(x_test[:,0], x_test[:,1], c=y_test, s=80, cmap=color_map, alpha=0.5)\n",
    "plt.scatter(x_test[:,0], x_test[:,1], c=y_test__pred, s=20, cmap=color_map)\n",
    "plt.xlabel(\"$x_1$\")\n",
    "plt.ylabel(\"$x_2$\")\n",
    "plt.xlim(x1_min, x1_max)\n",
    "plt.ylim(x2_min, x2_max)\n",
    "plt.grid(True)\n",
    "\n",
    "plt.tight_layout()\n",
    "\n",
    "plt.show()"
   ]
  },
  {
   "cell_type": "markdown",
   "metadata": {},
   "source": [
    "### Два признака и три класса"
   ]
  },
  {
   "cell_type": "code",
   "execution_count": null,
   "metadata": {},
   "outputs": [],
   "source": [
    "# Генерация исходных данных\n",
    "n = 100\n",
    "x, y = make_classification(n_samples=n, n_features=2, n_redundant=0, \n",
    "                           n_informative=2, n_clusters_per_class=1, n_classes=3, class_sep=1,\n",
    "                           random_state=1234)\n",
    "\n",
    "\n",
    "# График\n",
    "y_two_indx = np.argwhere(y == 2).flatten()\n",
    "y_one_indx = np.argwhere(y == 1).flatten()\n",
    "y_zero_indx =  np.argwhere(y == 0).flatten()\n",
    "plt.scatter(x[y_zero_indx][:,0], x[y_zero_indx][:,1], color=\"blue\", label=\"$y_{true} = 0$\")\n",
    "plt.scatter(x[y_one_indx][:,0], x[y_one_indx][:,1], color=\"red\", label=\"$y_{true} = 1$\")\n",
    "plt.scatter(x[y_two_indx][:,0], x[y_two_indx][:,1], color=\"green\", label=\"$y_{true} = 2$\")\n",
    "plt.xlabel(\"$x_1$\")\n",
    "plt.ylabel(\"$x_2$\")\n",
    "plt.grid(True)\n",
    "plt.legend()\n",
    "plt.show()"
   ]
  },
  {
   "cell_type": "code",
   "execution_count": null,
   "metadata": {},
   "outputs": [],
   "source": [
    "# Формирование обучающего и тестового подмножеств\n",
    "x_train, x_test, y_train, y_test = train_test_split(x, y, test_size=0.3, random_state=12)\n",
    "\n",
    "# Обучение\n",
    "logistic_model = LogisticRegression(fit_intercept=True, max_iter=100, C=float(\"inf\"), \n",
    "                                    solver=\"lbfgs\", multi_class=\"ovr\", random_state=12345)\n",
    "logistic_model.fit(x_train, y_train)\n",
    "\n",
    "# Параметры обученной модели\n",
    "for i in range(3):\n",
    "    print(\"Параметры модели {}:\".format(i+1))\n",
    "    print(\"\\tw{} = {}\".format(0, logistic_model.intercept_[i]))\n",
    "    for indx, coef in enumerate(logistic_model.coef_[i].flatten()):\n",
    "        print(\"\\tw{} = {}\".format(indx+1, coef))"
   ]
  },
  {
   "cell_type": "code",
   "execution_count": null,
   "metadata": {},
   "outputs": [],
   "source": [
    "# Предсказание\n",
    "y_train__pred = logistic_model.predict(x_train)\n",
    "y_test__pred = logistic_model.predict(x_test)\n",
    "\n",
    "# Оценка качества классификатора\n",
    "accuracy_train = accuracy_score(y_train, y_train__pred)\n",
    "accuracy_test = accuracy_score(y_test, y_test__pred)\n",
    "\n",
    "print(\"Train Accuracy:\", accuracy_train)\n",
    "print(\"Test Accuracy:\", accuracy_test)"
   ]
  },
  {
   "cell_type": "code",
   "execution_count": null,
   "metadata": {},
   "outputs": [],
   "source": [
    "pr = np.around(logistic_model.predict_proba(x_test), decimals=2)\n",
    "pr = np.column_stack((pr, logistic_model.predict(x_test), y_test))\n",
    "\n",
    "# Class_0, Class_1, Class_2, Predicted, True\n",
    "pr[:5]"
   ]
  },
  {
   "cell_type": "code",
   "execution_count": null,
   "metadata": {},
   "outputs": [],
   "source": [
    "# Графики\n",
    "\n",
    "# Разделительная линия\n",
    "x1_min, x1_max, x2_min, x2_max = x[:,0].min(), x[:,0].max(), x[:,1].min(), x[:,1].max()\n",
    "# x1_range = np.linspace(x1_min, x1_max, 100)\n",
    "\n",
    "# Поверхность\n",
    "step = 0.01\n",
    "xx, yy = np.meshgrid(np.arange(x[:,0].min(), x[:,0].max(), step), np.arange(x[:,1].min(), x[:,1].max(), step))\n",
    "points = np.c_[xx.ravel(), yy.ravel()]\n",
    "# Z = logistic_model.predict_proba(points)[:, 1]\n",
    "Z = logistic_model.predict(points)\n",
    "Z = Z.reshape(xx.shape)\n",
    "\n",
    "color_map = ListedColormap([\"blue\", \"red\", \"green\"])\n",
    "\n",
    "plt.figure(1, figsize=[12, 4])\n",
    "\n",
    "plt.subplot(1,2,1)\n",
    "plt.title(\"Train data\")\n",
    "plt.contourf(xx, yy, Z, 15, cmap=color_map, alpha=0.3)\n",
    "plt.scatter(x_train[:,0], x_train[:,1], c=y_train, s=80, cmap=color_map, alpha=0.5)\n",
    "plt.scatter(x_train[:, 0], x_train[:,1], c=y_train__pred, s=20, cmap=color_map)\n",
    "plt.xlabel(\"$x_1$\")\n",
    "plt.ylabel(\"$x_2$\")\n",
    "plt.xlim(x1_min, x1_max)\n",
    "plt.ylim(x2_min, x2_max)\n",
    "plt.grid(True)\n",
    "\n",
    "plt.subplot(1,2,2)\n",
    "plt.title(\"Test data\")\n",
    "plt.contourf(xx, yy, Z, 15, cmap=color_map, alpha=0.3)\n",
    "plt.scatter(x_test[:,0], x_test[:,1], c=y_test, s=80, cmap=color_map, alpha=0.5)\n",
    "plt.scatter(x_test[:,0], x_test[:,1], c=y_test__pred, s=20, cmap=color_map)\n",
    "plt.xlabel(\"$x_1$\")\n",
    "plt.ylabel(\"$x_2$\")\n",
    "plt.xlim(x1_min, x1_max)\n",
    "plt.ylim(x2_min, x2_max)\n",
    "plt.grid(True)\n",
    "\n",
    "plt.tight_layout()\n",
    "\n",
    "plt.show()"
   ]
  },
  {
   "cell_type": "markdown",
   "metadata": {},
   "source": [
    "## Распознавание цифр от 0 до 9"
   ]
  },
  {
   "cell_type": "code",
   "execution_count": null,
   "metadata": {},
   "outputs": [],
   "source": [
    "from sklearn import datasets"
   ]
  },
  {
   "cell_type": "code",
   "execution_count": null,
   "metadata": {},
   "outputs": [],
   "source": [
    "# Загрузка исходных данных\n",
    "digits = datasets.load_digits()\n",
    "print(digits.DESCR)"
   ]
  },
  {
   "cell_type": "code",
   "execution_count": null,
   "metadata": {},
   "outputs": [],
   "source": [
    "digits.keys()"
   ]
  },
  {
   "cell_type": "code",
   "execution_count": null,
   "metadata": {},
   "outputs": [],
   "source": [
    "IMAGE_INDX = 3\n",
    "\n",
    "print(\"Features:\", digits[\"images\"][IMAGE_INDX])\n",
    "print(\"Target value:\", digits.target[IMAGE_INDX])\n",
    "\n",
    "plt.imshow(digits.images[IMAGE_INDX])\n",
    "plt.show()"
   ]
  },
  {
   "cell_type": "code",
   "execution_count": null,
   "metadata": {},
   "outputs": [],
   "source": [
    "# Преобразование исходных данных\n",
    "# Замечание: \n",
    "#  digits.data уже содержит преобразованные данные\n",
    "X = digits[\"images\"].reshape(len(digits[\"images\"]), -1)\n",
    "X.shape"
   ]
  },
  {
   "cell_type": "code",
   "execution_count": null,
   "metadata": {},
   "outputs": [],
   "source": [
    "y = digits[\"target\"]\n",
    "y.shape"
   ]
  },
  {
   "cell_type": "code",
   "execution_count": null,
   "metadata": {},
   "outputs": [],
   "source": [
    "# Количество элементов каждого класса\n",
    "np.unique(y, return_counts=True)"
   ]
  },
  {
   "cell_type": "code",
   "execution_count": null,
   "metadata": {},
   "outputs": [],
   "source": [
    "# Формирование обучающего и тестового подмножеств\n",
    "X_train, X_test, y_train, y_test = train_test_split(X, y, test_size=0.3, random_state=100)\n",
    "\n",
    "# Обучение модели\n",
    "model = LogisticRegression(C=float(\"inf\"), multi_class=\"ovr\", solver=\"newton-cg\", max_iter=200, random_state=12345)\n",
    "model.fit(X_train, y_train)\n",
    "\n",
    "# Параметры обученной модели\n",
    "for i in range(10):\n",
    "    print(\"Параметры модели {}:\".format(i+1))\n",
    "    print(\"\\tw{} = {}\".format(0, model.intercept_[i]))\n",
    "    for indx, coef in enumerate(model.coef_[i].flatten()):\n",
    "        print(\"\\tw{} = {}\".format(indx+1, coef))"
   ]
  },
  {
   "cell_type": "code",
   "execution_count": null,
   "metadata": {},
   "outputs": [],
   "source": [
    "# Оценка качества модел\n",
    "train_error = model.score(X_train, y_train)\n",
    "test_error = model.score(X_test, y_test)\n",
    "\n",
    "print(\"Train Accuracy:\", train_error)\n",
    "print(\"Test Accuracy:\", test_error)"
   ]
  },
  {
   "cell_type": "code",
   "execution_count": null,
   "metadata": {},
   "outputs": [],
   "source": [
    "# Предсказание и отображение цифры\n",
    "print(\"Target value:\", digits.target[IMAGE_INDX])\n",
    "print(\"Predicted value:\", model.predict(digits[\"images\"][IMAGE_INDX].reshape(1, -1)))\n",
    "plt.imshow(digits.images[IMAGE_INDX])\n",
    "plt.show()"
   ]
  },
  {
   "cell_type": "markdown",
   "metadata": {},
   "source": [
    "<a name=\"6\"></a>\n",
    "<div style=\"display:table; width:100%; padding-top:10px; padding-bottom:10px; border-bottom:1px solid lightgrey\">\n",
    "    <div style=\"display:table-row\">\n",
    "        <div style=\"display:table-cell; width:80%; font-size:14pt; font-weight:bold\">6. Источники</div>\n",
    "    \t<div style=\"display:table-cell; width:20%; text-align:center; background-color:whitesmoke; border:1px solid lightgrey\"><a href=\"#0\">К содержанию</a></div>\n",
    "    </div>\n",
    "</div>"
   ]
  },
  {
   "cell_type": "markdown",
   "metadata": {},
   "source": [
    "<a href=\"http://scikit-learn.org/stable/auto_examples/datasets/plot_random_dataset.html#example-datasets-plot-random-dataset-py\">Plot randomly generated classification dataset</a><br>\n",
    "<a href=\"http://scikit-learn.org/stable/auto_examples/classification/plot_classifier_comparison.html#example-classification-plot-classifier-comparison-py\">Classifier comparison</a>\n",
    "\n",
    "[LogisticRegression](http://scikit-learn.org/stable/modules/generated/sklearn.linear_model.LogisticRegression.html)"
   ]
  },
  {
   "cell_type": "code",
   "execution_count": null,
   "metadata": {},
   "outputs": [],
   "source": []
  }
 ],
 "metadata": {
  "kernelspec": {
   "display_name": "Python 3",
   "language": "python",
   "name": "python3"
  },
  "language_info": {
   "codemirror_mode": {
    "name": "ipython",
    "version": 3
   },
   "file_extension": ".py",
   "mimetype": "text/x-python",
   "name": "python",
   "nbconvert_exporter": "python",
   "pygments_lexer": "ipython3",
   "version": "3.7.4"
  }
 },
 "nbformat": 4,
 "nbformat_minor": 1
}
