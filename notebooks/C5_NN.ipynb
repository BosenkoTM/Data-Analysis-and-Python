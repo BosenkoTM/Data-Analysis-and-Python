{
 "cells": [
  {
   "cell_type": "markdown",
   "metadata": {},
   "source": [
    "# Нейронные сети\n",
    "\n",
    "\n",
    "<hr>\n",
    "\n",
    "С.Ю. Папулин (papulin.study@yandex.ru)"
   ]
  },
  {
   "cell_type": "markdown",
   "metadata": {},
   "source": [
    "### Содержание\n",
    "\n",
    "- [Классификация](#Классификация)\n",
    "    - [Набор данных](#Набор-данных)\n",
    "    - [Логистическая регрессия](#Логистическая-регрессия)\n",
    "    - [Многослойная нейронная сеть в Sklearn](#Многослойная-нейронная-сеть-в-Sklearn)\n",
    "    - [Многослойная нейронная сеть в Keras](#Многослойная-нейронная-сеть-в-Keras)\n",
    "    - [Выбор гиперпараметров с GridSearchCV](#Выбор-гиперпараметров-с-GridSearchCV)"
   ]
  },
  {
   "cell_type": "markdown",
   "metadata": {},
   "source": [
    "Подключение библиотек:"
   ]
  },
  {
   "cell_type": "code",
   "execution_count": null,
   "metadata": {},
   "outputs": [],
   "source": [
    "import numpy as np"
   ]
  },
  {
   "cell_type": "code",
   "execution_count": null,
   "metadata": {},
   "outputs": [],
   "source": [
    "from sklearn import datasets\n",
    "from sklearn.model_selection import train_test_split, GridSearchCV\n",
    "import matplotlib.pyplot as plt\n",
    "%matplotlib inline"
   ]
  },
  {
   "cell_type": "code",
   "execution_count": null,
   "metadata": {},
   "outputs": [],
   "source": [
    "from sklearn.linear_model import LogisticRegression\n",
    "from sklearn.neural_network import MLPClassifier"
   ]
  },
  {
   "cell_type": "markdown",
   "metadata": {},
   "source": [
    "## Классификация"
   ]
  },
  {
   "cell_type": "code",
   "execution_count": null,
   "metadata": {},
   "outputs": [],
   "source": [
    "RANDOM_STATE = 100"
   ]
  },
  {
   "cell_type": "markdown",
   "metadata": {},
   "source": [
    "### Набор данных"
   ]
  },
  {
   "cell_type": "code",
   "execution_count": null,
   "metadata": {},
   "outputs": [],
   "source": [
    "# Загрузка исходных данных\n",
    "digits = datasets.load_digits()\n",
    "\n",
    "X = digits.images.reshape(len(digits.images), -1)\n",
    "y = digits.target\n",
    "\n",
    "print(\"Shape of X:\", X.shape)\n",
    "print(\"Shape of y:\", y.shape)\n",
    "\n",
    "# Замечание: можно уменьшить объем памяти и нормализовать данные\n",
    "# X = X.astype(\"float32\") / 16\n",
    "\n",
    "IMAGE_INDX = 20\n",
    "\n",
    "# Отображение одного изображения\n",
    "print(\"Image:\")\n",
    "plt.figure(figsize=[4, 4])\n",
    "plt.imshow(digits.images[IMAGE_INDX])\n",
    "plt.show()"
   ]
  },
  {
   "cell_type": "code",
   "execution_count": null,
   "metadata": {},
   "outputs": [],
   "source": [
    "# Разделение данных на обучающее и тестовое множества\n",
    "X_train, X_test, y_train, y_test = train_test_split(X, y, test_size=0.3, random_state=RANDOM_STATE)"
   ]
  },
  {
   "cell_type": "markdown",
   "metadata": {},
   "source": [
    "### Логистическая регрессия"
   ]
  },
  {
   "cell_type": "markdown",
   "metadata": {},
   "source": [
    "Ранее уже рассматривали распознавание цифр с использованием логистической регрессии. Ниже приведен пример кода."
   ]
  },
  {
   "cell_type": "code",
   "execution_count": null,
   "metadata": {},
   "outputs": [],
   "source": [
    "model = LogisticRegression(C=float(\"inf\"), \n",
    "                           multi_class=\"multinomial\", \n",
    "                           solver=\"newton-cg\", \n",
    "                           max_iter=200, \n",
    "                           random_state=RANDOM_STATE)\n",
    "model.fit(X_train, y_train)\n",
    "\n",
    "# Оценка качества модели\n",
    "train_error = model.score(X_train, y_train)\n",
    "test_error = model.score(X_test, y_test)\n",
    "\n",
    "print(\"Train Accuracy:\", train_error)\n",
    "print(\"Test Accuracy:\", test_error)"
   ]
  },
  {
   "cell_type": "markdown",
   "metadata": {},
   "source": [
    "### Многослойная нейронная сеть в `Sklearn`\n",
    "\n",
    "Полносвязная нейронная сеть (мultilayer perceptrons/fully connected network)"
   ]
  },
  {
   "cell_type": "code",
   "execution_count": null,
   "metadata": {},
   "outputs": [],
   "source": [
    "# Формирование проверочного множества из исходного обучающего\n",
    "X_train_, X_val, y_train_, y_val = train_test_split(X_train, y_train, test_size=0.3, random_state=RANDOM_STATE)"
   ]
  },
  {
   "cell_type": "code",
   "execution_count": null,
   "metadata": {},
   "outputs": [],
   "source": [
    "model = MLPClassifier(hidden_layer_sizes=(80, 10),\n",
    "                      solver=\"adam\",\n",
    "                      activation=\"relu\",\n",
    "                      max_iter=20,  # количество эпох\n",
    "                      batch_size=5,\n",
    "                      random_state=RANDOM_STATE)\n",
    "\n",
    "model.fit(X_train, y_train)\n",
    "\n",
    "print(\"Model parameters:\")\n",
    "for param, value in model.get_params().items():\n",
    "    print(\"\\t{} = {}\".format(param, value))\n",
    "\n",
    "# Оценка качества распознавания (доля правильных классификаций)\n",
    "train_error = model.score(X_train, y_train)\n",
    "test_error = model.score(X_test, y_test)\n",
    "print(\"\\nTrain Accuracy:\", train_error)\n",
    "print(\"Test Accuracy:\", test_error)\n",
    "\n",
    "# Веса модели\n",
    "print(\"\\nShape of weights and biases:\")\n",
    "print(\"\\tWeights of layer 1:\\t\", model.coefs_[0].shape)\n",
    "print(\"\\tBaises of layer 1:\\t\", model.intercepts_[0].shape)\n",
    "print(\"\\tWeights of layer 2:\\t\", model.coefs_[1].shape)\n",
    "print(\"\\tBaises of layer 2:\\t\", model.intercepts_[1].shape)"
   ]
  },
  {
   "cell_type": "code",
   "execution_count": null,
   "metadata": {},
   "outputs": [],
   "source": [
    "IMAGE_INDX = 20\n",
    "sample_image_input = digits[\"images\"][IMAGE_INDX].reshape(1, -1)\n",
    "\n",
    "# Предсказание и отображение цифры\n",
    "print(\"Target value:\", digits.target[IMAGE_INDX])\n",
    "print(\"Probabilities:\", model.predict_proba(sample_image_input))\n",
    "print(\"Predicted value:\", model.predict(sample_image_input))\n",
    "plt.imshow(digits.images[IMAGE_INDX])\n",
    "plt.show()"
   ]
  },
  {
   "cell_type": "code",
   "execution_count": null,
   "metadata": {},
   "outputs": [],
   "source": [
    "# TODO: select the number of epochs"
   ]
  },
  {
   "cell_type": "markdown",
   "metadata": {},
   "source": [
    "### Многослойная нейронная сеть в `Keras`"
   ]
  },
  {
   "cell_type": "markdown",
   "metadata": {},
   "source": [
    "`pip install tensorflow==2.5.0`"
   ]
  },
  {
   "cell_type": "code",
   "execution_count": null,
   "metadata": {},
   "outputs": [],
   "source": [
    "from tensorflow.keras import models\n",
    "from tensorflow.keras import layers\n",
    "from tensorflow.keras.utils import to_categorical"
   ]
  },
  {
   "cell_type": "code",
   "execution_count": null,
   "metadata": {},
   "outputs": [],
   "source": [
    "def build_model(hidden_neurons=80):\n",
    "    \"\"\"Построение нейронной сети.\"\"\"\n",
    "    \n",
    "    # Топология\n",
    "    model = models.Sequential()\n",
    "    model.add(layers.Dense(hidden_neurons, activation=\"relu\", input_shape=(8*8,)))\n",
    "    model.add(layers.Dense(10, activation=\"softmax\"))\n",
    "    # Параметры обучения\n",
    "    model.compile(optimizer=\"adam\",\n",
    "                  loss=\"categorical_crossentropy\",\n",
    "                  metrics=['accuracy'])\n",
    "    return model\n",
    "\n",
    "\n",
    "def build_model_alt(hidden_neurons=80):\n",
    "    \"\"\"Альтернативный подход к построению нейронной сети.\"\"\"\n",
    "    \n",
    "    # Топология\n",
    "    inputs = layers.Input(shape=(8*8,))\n",
    "    hidden_layer = layers.Dense(hidden_neurons, activation=\"relu\")(inputs)\n",
    "    outputs = layers.Dense(10, activation=\"softmax\")(hidden_layer)\n",
    "    model = models.Model(inputs=inputs, outputs=outputs)\n",
    "    # Параметры обучения\n",
    "    model.compile(optimizer=\"adam\",\n",
    "                  loss=\"categorical_crossentropy\",\n",
    "                  metrics=['accuracy'])\n",
    "    return model"
   ]
  },
  {
   "cell_type": "code",
   "execution_count": null,
   "metadata": {},
   "outputs": [],
   "source": [
    "# Максимальное количество эпох\n",
    "MAX_EPOCHS = 20\n",
    "\n",
    "# Преобразование целевых значений в бинарный вектор (one-hot encoding)\n",
    "Y_train_ = to_categorical(y_train_)\n",
    "Y_val = to_categorical(y_val)    \n",
    "\n",
    "# Построение модели\n",
    "model = build_model_alt()\n",
    "\n",
    "# Обучение\n",
    "train_history = model.fit(X_train_, Y_train_, \n",
    "                          epochs=MAX_EPOCHS, \n",
    "                          batch_size=5,\n",
    "                          validation_data=(X_val, Y_val),\n",
    "                          verbose=0)\n",
    "\n",
    "# Построение графиков ошибок обучения\n",
    "plt.figure(figsize=[14, 4])\n",
    "\n",
    "epochs = np.arange(1, len(train_history.history[\"loss\"])+1)\n",
    "\n",
    "plt.subplot(1,2,1)  # кросс-энтропия\n",
    "plt.plot(epochs, train_history.history[\"loss\"], \"-og\", label=\"train\")\n",
    "plt.plot(epochs, train_history.history[\"val_loss\"], \"-o\", color=\"orange\", label=\"val\")\n",
    "plt.xlabel(\"epochs\")\n",
    "plt.ylabel(\"loss\")\n",
    "plt.grid(True)\n",
    "plt.legend()\n",
    "\n",
    "plt.subplot(1,2,2)  # доля правильных классификаций\n",
    "plt.plot(epochs, train_history.history[\"accuracy\"], \"-og\", label=\"train\")\n",
    "plt.plot(epochs, train_history.history[\"val_accuracy\"], \"-o\", color=\"orange\", label=\"val\")\n",
    "plt.xlabel(\"epochs\")\n",
    "plt.ylabel(\"accuracy\")\n",
    "plt.grid(True)\n",
    "plt.legend()\n",
    "\n",
    "plt.show()"
   ]
  },
  {
   "cell_type": "code",
   "execution_count": null,
   "metadata": {},
   "outputs": [],
   "source": [
    "# Выбираем 10 эпох и заново обучаем сеть на всём обучающем множестве\n",
    "best_num_epochs = 10\n",
    "\n",
    "# Преобразование целевых значений в бинарный вектор (one-hot encoding)\n",
    "Y_train = to_categorical(y_train)\n",
    "Y_test = to_categorical(y_test)\n",
    "\n",
    "# Построение модели\n",
    "model = build_model()\n",
    "\n",
    "# Обучение\n",
    "train_history = model.fit(X_train, Y_train,\n",
    "                          epochs=best_num_epochs, \n",
    "                          batch_size=5,\n",
    "                          verbose=0)\n",
    "\n",
    "# Оценка качества модели\n",
    "_, train_error = model.evaluate(X_train, Y_train)\n",
    "_, test_error = model.evaluate(X_test, Y_test)\n",
    "\n",
    "print(\"Train Accuracy:\\t\", train_error)\n",
    "print(\"Test Accuracy:\\t\", test_error)\n",
    "\n",
    "# Веса модели\n",
    "weights = model.get_weights()\n",
    "\n",
    "print(\"\\nShape of weights and biases:\")\n",
    "print(\"\\tWeights of layer 1:\\t\", weights[0].shape)\n",
    "print(\"\\tBaises of layer 1:\\t\", weights[1].shape)\n",
    "print(\"\\tWeights of layer 2:\\t\", weights[2].shape)\n",
    "print(\"\\tBaises of layer 2:\\t\", weights[3].shape)"
   ]
  },
  {
   "cell_type": "code",
   "execution_count": null,
   "metadata": {},
   "outputs": [],
   "source": [
    "IMAGE_INDX = 20\n",
    "sample_image_input = digits[\"images\"][IMAGE_INDX].reshape(1, -1)\n",
    "\n",
    "# Предсказание и отображение цифры\n",
    "print(\"Target value:\", digits.target[IMAGE_INDX])\n",
    "print(\"Probabilities:\", model.predict(sample_image_input))\n",
    "print(\"Predicted value:\", model.predict(sample_image_input).argmax())\n",
    "plt.imshow(digits.images[IMAGE_INDX])\n",
    "plt.show()"
   ]
  },
  {
   "cell_type": "markdown",
   "metadata": {},
   "source": [
    "### Выбор гиперпараметров с `GridSearchCV`"
   ]
  },
  {
   "cell_type": "code",
   "execution_count": null,
   "metadata": {},
   "outputs": [],
   "source": [
    "from tensorflow.keras.wrappers.scikit_learn import KerasClassifier"
   ]
  },
  {
   "cell_type": "code",
   "execution_count": null,
   "metadata": {},
   "outputs": [],
   "source": [
    "# Преобразование keras модели в модель sklearn\n",
    "# Замечание: установите verbose=1, чтобы выводить информацию по обучению и предсказанию\n",
    "model = KerasClassifier(build_fn=build_model, verbose=0)\n",
    "\n",
    "# Сетка параметров\n",
    "parameters = {\n",
    "    \"epochs\": [10,],\n",
    "    \"batch_size\": [5,],\n",
    "    \"hidden_neurons\": [64, 96, 128, 256, 512],\n",
    "}\n",
    "\n",
    "# Параметры обучения\n",
    "grid_class_parameters = {\n",
    "    \"estimator\": model,\n",
    "    \"param_grid\": parameters,\n",
    "    \"cv\": 3,\n",
    "    \"scoring\": \"neg_log_loss\",\n",
    "    \"return_train_score\": False\n",
    "}\n",
    "\n",
    "# Выбор параметров\n",
    "grid_search = GridSearchCV(**grid_class_parameters)\n",
    "grid_search.fit(X_train, Y_train)\n",
    "\n",
    "# Параметры лучшей модели\n",
    "print(\"Parameters of the best model:\")\n",
    "for param, value in grid_search.best_params_.items():\n",
    "    print(\"\\t{} = {}\".format(param, value))\n",
    "\n",
    "# Лучшая модель\n",
    "best_model = grid_search.best_estimator_\n",
    "\n",
    "# Оценка качества распознавания (доля правильных классификаций)\n",
    "# Замечания: для обучения использовалась neg_log_loss, поэтому, чтобы получить \n",
    "#  accuracy, извлекаем модель, для которой ранее указали accuracy в качестве метрики.\n",
    "train_error = best_model.score(X_train, y_train)\n",
    "test_error = best_model.score(X_test, y_test)\n",
    "print(\"\\nTrain Accuracy:\", train_error)\n",
    "print(\"Test Accuracy:\", test_error)"
   ]
  },
  {
   "cell_type": "code",
   "execution_count": null,
   "metadata": {},
   "outputs": [],
   "source": [
    "IMAGE_INDX = 20\n",
    "sample_image_input = digits[\"images\"][IMAGE_INDX].reshape(1, -1)\n",
    "\n",
    "# Предсказание и отображение цифры\n",
    "print(\"Target value:\", digits.target[IMAGE_INDX])\n",
    "print(\"Probabilities:\", grid_search.predict_proba(sample_image_input))\n",
    "print(\"Predicted value:\", grid_search.predict(sample_image_input))\n",
    "plt.imshow(digits.images[IMAGE_INDX])\n",
    "plt.show()"
   ]
  },
  {
   "cell_type": "markdown",
   "metadata": {},
   "source": [
    "## Регрессия"
   ]
  },
  {
   "cell_type": "code",
   "execution_count": null,
   "metadata": {},
   "outputs": [],
   "source": [
    "# TODO"
   ]
  },
  {
   "cell_type": "code",
   "execution_count": null,
   "metadata": {},
   "outputs": [],
   "source": []
  }
 ],
 "metadata": {
  "kernelspec": {
   "display_name": "Python 3",
   "language": "python",
   "name": "python3"
  },
  "language_info": {
   "codemirror_mode": {
    "name": "ipython",
    "version": 3
   },
   "file_extension": ".py",
   "mimetype": "text/x-python",
   "name": "python",
   "nbconvert_exporter": "python",
   "pygments_lexer": "ipython3",
   "version": "3.7.4"
  }
 },
 "nbformat": 4,
 "nbformat_minor": 2
}
